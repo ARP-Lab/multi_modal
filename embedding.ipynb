{
 "cells": [
  {
   "attachments": {},
   "cell_type": "markdown",
   "metadata": {},
   "source": [
    "- [참고 data2vec audio:사용 안하기로함]: https://towhee.io/audio-embedding/data2vec\n",
    "- [참고 data2vec text]: https://huggingface.co/docs/datasets/nlp_load\n",
    "- [참고 data2vec load audio*]:https://huggingface.co/docs/datasets/audio_load\n",
    "- [참고 data2vec embedding]: https://huggingface.co/docs/transformers/model_doc/data2vec#transformers.Data2VecAudioModel\n",
    "- [참고 handling pytorch dataset]:https://stanford.edu/~shervine/blog/pytorch-how-to-generate-data-parallel\n",
    "- [참고 add data to dataset]: https://pypi.org/project/datasets/"
   ]
  },
  {
   "cell_type": "code",
   "execution_count": 140,
   "metadata": {},
   "outputs": [
    {
     "name": "stderr",
     "output_type": "stream",
     "text": [
      "Some weights of the model checkpoint at facebook/data2vec-audio-base-960h were not used when initializing Data2VecAudioModel: ['lm_head.bias', 'lm_head.weight']\n",
      "- This IS expected if you are initializing Data2VecAudioModel from the checkpoint of a model trained on another task or with another architecture (e.g. initializing a BertForSequenceClassification model from a BertForPreTraining model).\n",
      "- This IS NOT expected if you are initializing Data2VecAudioModel from the checkpoint of a model that you expect to be exactly identical (initializing a BertForSequenceClassification model from a BertForSequenceClassification model).\n"
     ]
    }
   ],
   "source": [
    "import torch\n",
    "from transformers import Wav2Vec2Processor, Data2VecAudioModel, AutoFeatureExtractor\n",
    "from datasets import load_dataset, Dataset, Audio, Features\n",
    "from scipy.io import wavfile # to be added\n",
    "from glob import glob\n",
    "\n",
    "processor = Wav2Vec2Processor.from_pretrained(\"facebook/data2vec-audio-base-960h\")\n",
    "model = Data2VecAudioModel.from_pretrained(\"facebook/data2vec-audio-base-960h\")\n"
   ]
  },
  {
   "cell_type": "code",
   "execution_count": 67,
   "metadata": {},
   "outputs": [],
   "source": [
    "# from towhee import pipe, ops, DataCollection # to be added\n",
    "# p = (pipe.input('path')\n",
    "#         .map('path', 'frame', ops.audio_decode.ffmpeg(sample_rate=16000))\n",
    "#         .map('frame', 'vecs', ops.audio_embedding.data2vec(model_name='facebook/data2vec-audio-base-960h'))\n",
    "#         .output('path', 'vecs'))\n",
    "\n",
    "# DataCollection(p('./org_KEMDy20/Session01/Sess01_script01_User001F_001.wav')).show()"
   ]
  },
  {
   "cell_type": "code",
   "execution_count": 68,
   "metadata": {},
   "outputs": [
    {
     "data": {
      "text/plain": [
       "['./org_KEMDy20/Session01/Sess01_script03_User002M_010.wav',\n",
       " './org_KEMDy20/Session01/Sess01_script03_User001F_014.wav',\n",
       " './org_KEMDy20/Session01/Sess01_script05_User002M_001.wav']"
      ]
     },
     "execution_count": 68,
     "metadata": {},
     "output_type": "execute_result"
    }
   ],
   "source": [
    "wav_file_lst = glob('./org_KEMDy20/Session01/*.wav')\n",
    "wav_file_lst[:3]"
   ]
  },
  {
   "cell_type": "code",
   "execution_count": 160,
   "metadata": {},
   "outputs": [
    {
     "data": {
      "text/plain": [
       "{'path': './org_KEMDy20/Session01/Sess01_script03_User002M_010.wav',\n",
       " 'array': array([-0.00018311,  0.00057983,  0.00076294, ...,  0.00259399,\n",
       "         0.00115967,  0.00036621], dtype=float32),\n",
       " 'sampling_rate': 16000}"
      ]
     },
     "execution_count": 160,
     "metadata": {},
     "output_type": "execute_result"
    }
   ],
   "source": [
    "import datasets\n",
    "\n",
    "dataset = Dataset.from_dict({\"wav\": wav_file_lst }).cast_column(\"wav\", Audio())\n",
    "dataset[0][\"wav\"]"
   ]
  },
  {
   "attachments": {},
   "cell_type": "markdown",
   "metadata": {},
   "source": [
    "- dataset에 데이터 더하는 방법 찾아보기"
   ]
  },
  {
   "cell_type": "code",
   "execution_count": 173,
   "metadata": {},
   "outputs": [
    {
     "data": {
      "text/plain": [
       "Dataset({\n",
       "    features: ['wav'],\n",
       "    num_rows: 311\n",
       "})"
      ]
     },
     "execution_count": 173,
     "metadata": {},
     "output_type": "execute_result"
    }
   ],
   "source": [
    "dataset"
   ]
  },
  {
   "cell_type": "code",
   "execution_count": 70,
   "metadata": {},
   "outputs": [],
   "source": [
    "feature_extractor = AutoFeatureExtractor.from_pretrained(\"facebook/data2vec-audio-base-960h\")"
   ]
  },
  {
   "cell_type": "code",
   "execution_count": 149,
   "metadata": {},
   "outputs": [
    {
     "data": {
      "text/plain": [
       "[array([-0.00228672,  0.01021109,  0.01321056, ...,  0.04320529,\n",
       "         0.01970942,  0.0067117 ], dtype=float32),\n",
       " array([-0.13987999, -0.1284736 , -0.1221367 , ..., -0.01567697,\n",
       "        -0.01567697, -0.02454861], dtype=float32),\n",
       " array([ 0.6008278 ,  0.6016405 ,  0.61383116, ..., -0.02495759,\n",
       "        -0.02983384, -0.01926864], dtype=float32)]"
      ]
     },
     "execution_count": 149,
     "metadata": {},
     "output_type": "execute_result"
    }
   ],
   "source": [
    "# audio file is decoded on the fly\n",
    "input_values = []\n",
    "for i in range(len(dataset)):\n",
    "    input = feature_extractor(dataset[i][\"wav\"][\"array\"], sampling_rate=dataset[0]['wav']['sampling_rate'], return_attention_mask=False)\n",
    "    input_values.append(input['input_values'][0])\n",
    "    \n",
    "\n",
    "input_values_feature = Features({'embedded_wav': input_values})\n",
    "input_values_feature['embedded_wav'][:3]"
   ]
  },
  {
   "cell_type": "code",
   "execution_count": 165,
   "metadata": {},
   "outputs": [
    {
     "data": {
      "text/plain": [
       "Dataset({\n",
       "    features: ['wav', 'embedded_wav'],\n",
       "    num_rows: 311\n",
       "})"
      ]
     },
     "execution_count": 165,
     "metadata": {},
     "output_type": "execute_result"
    }
   ],
   "source": [
    "dataset_new = dataset.add_column(name = \"embedded_wav\", column = input_values_feature['embedded_wav'])\n",
    "dataset_new"
   ]
  },
  {
   "cell_type": "code",
   "execution_count": 172,
   "metadata": {},
   "outputs": [
    {
     "data": {
      "text/plain": [
       "311"
      ]
     },
     "execution_count": 172,
     "metadata": {},
     "output_type": "execute_result"
    }
   ],
   "source": [
    "len(dataset_new['embedded_wav'])\n"
   ]
  },
  {
   "cell_type": "code",
   "execution_count": 11,
   "metadata": {},
   "outputs": [
    {
     "data": {
      "text/plain": [
       "['./org_KEMDy20/Session01/Sess01_script06_User002M_009.txt',\n",
       " './org_KEMDy20/Session01/Sess01_script01_User001F_007.txt',\n",
       " './org_KEMDy20/Session01/Sess01_script01_User001F_001.txt']"
      ]
     },
     "execution_count": 11,
     "metadata": {},
     "output_type": "execute_result"
    }
   ],
   "source": [
    "txt_file_lst = glob('./org_KEMDy20/Session01/*.txt')\n",
    "txt_file_lst[:3]"
   ]
  },
  {
   "cell_type": "code",
   "execution_count": 67,
   "metadata": {},
   "outputs": [
    {
     "name": "stderr",
     "output_type": "stream",
     "text": [
      "Resolving data files: 100%|██████████| 248/248 [00:00<00:00, 160152.02it/s]\n",
      "Resolving data files: 100%|██████████| 63/63 [00:00<00:00, 127776.19it/s]\n",
      "2023-03-21 18:02:04,648 - 139945135015744 - builder.py-builder:798 - WARNING: Found cached dataset text (/home/arplab/.cache/huggingface/datasets/text/default-92102c17bfb54e88/0.0.0/cb1e9bd71a82ad27976be3b12b407850fe2837d80c22c5e03a28949843a8ace2)\n",
      "100%|██████████| 2/2 [00:00<00:00, 201.80it/s]\n"
     ]
    },
    {
     "data": {
      "text/plain": [
       "DatasetDict({\n",
       "    train: Dataset({\n",
       "        features: ['text'],\n",
       "        num_rows: 248\n",
       "    })\n",
       "    test: Dataset({\n",
       "        features: ['text'],\n",
       "        num_rows: 63\n",
       "    })\n",
       "})"
      ]
     },
     "execution_count": 67,
     "metadata": {},
     "output_type": "execute_result"
    }
   ],
   "source": [
    "# 참고: https://huggingface.co/docs/datasets/nlp_load\n",
    "# 참고: https://huggingface.co/docs/transformers/v4.27.2/en/model_doc/data2vec#transformers.Data2VecTextModel\n",
    "# text_dataset = load_dataset(\"text\", data_files={\"train\": [\"my_text_1.txt\", \"my_text_2.txt\"], \"test\": \"my_test_file.txt\"})\n",
    "text_dataset = load_dataset(\"text\", data_files={\"train\": txt_file_lst[:int(0.8*len(txt_file_lst))], \"test\": txt_file_lst[int(0.8*len(txt_file_lst)):]})\n",
    "text_dataset"
   ]
  }
 ],
 "metadata": {
  "kernelspec": {
   "display_name": ".venv",
   "language": "python",
   "name": "python3"
  },
  "language_info": {
   "codemirror_mode": {
    "name": "ipython",
    "version": 3
   },
   "file_extension": ".py",
   "mimetype": "text/x-python",
   "name": "python",
   "nbconvert_exporter": "python",
   "pygments_lexer": "ipython3",
   "version": "3.10.4"
  },
  "orig_nbformat": 4,
  "vscode": {
   "interpreter": {
    "hash": "bdc1fd12ca460d5768d71e9df3d9063ef832ce64a62e55a1a523c8c99752868e"
   }
  }
 },
 "nbformat": 4,
 "nbformat_minor": 2
}
