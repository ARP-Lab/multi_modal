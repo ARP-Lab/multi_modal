{
 "cells": [
  {
   "attachments": {},
   "cell_type": "markdown",
   "metadata": {},
   "source": [
    "- [참고 data2vec audio:사용 안하기로함]: https://towhee.io/audio-embedding/data2vec\n",
    "- [참고 data2vec text]: https://huggingface.co/docs/datasets/nlp_load\n",
    "- [참고 data2vec load audio*]:https://huggingface.co/docs/datasets/audio_load\n",
    "- [참고 data2vec embedding]: https://huggingface.co/docs/transformers/model_doc/data2vec#transformers.Data2VecAudioModel\n",
    "- [참고 handling pytorch dataset]:https://stanford.edu/~shervine/blog/pytorch-how-to-generate-data-parallel\n",
    "- [참고 add data to dataset]: https://pypi.org/project/datasets/"
   ]
  },
  {
   "attachments": {},
   "cell_type": "markdown",
   "metadata": {},
   "source": [
    "# Embeddings(Text, Audio) Session 1 \n",
    "- 각세션으로 확대시켜야 함"
   ]
  },
  {
   "cell_type": "code",
   "execution_count": 2,
   "metadata": {},
   "outputs": [
    {
     "name": "stderr",
     "output_type": "stream",
     "text": [
      "/home/arplab/project/lou/multi_modal/.venv/lib/python3.10/site-packages/tqdm/auto.py:21: TqdmWarning: IProgress not found. Please update jupyter and ipywidgets. See https://ipywidgets.readthedocs.io/en/stable/user_install.html\n",
      "  from .autonotebook import tqdm as notebook_tqdm\n"
     ]
    }
   ],
   "source": [
    "import torch\n",
    "from transformers import AutoProcessor, Data2VecAudioModel\n",
    "from datasets import load_dataset, Dataset, Audio, Features\n",
    "from glob import glob\n"
   ]
  },
  {
   "attachments": {},
   "cell_type": "markdown",
   "metadata": {},
   "source": [
    "## Audio Embedding"
   ]
  },
  {
   "cell_type": "code",
   "execution_count": 3,
   "metadata": {},
   "outputs": [],
   "source": [
    "# from towhee import pipe, ops, DataCollection # to be added\n",
    "# p = (pipe.input('path')\n",
    "#         .map('path', 'frame', ops.audio_decode.ffmpeg(sample_rate=16000))\n",
    "#         .map('frame', 'vecs', ops.audio_embedding.data2vec(model_name='facebook/data2vec-audio-base-960h'))\n",
    "#         .output('path', 'vecs'))\n",
    "\n",
    "# DataCollection(p('./org_KEMDy20/Session01/Sess01_script01_User001F_001.wav')).show()"
   ]
  },
  {
   "cell_type": "code",
   "execution_count": 4,
   "metadata": {},
   "outputs": [
    {
     "data": {
      "text/plain": [
       "['./org_KEMDy20/Session01/Sess01_script03_User002M_010.wav',\n",
       " './org_KEMDy20/Session01/Sess01_script03_User001F_014.wav',\n",
       " './org_KEMDy20/Session01/Sess01_script05_User002M_001.wav']"
      ]
     },
     "execution_count": 4,
     "metadata": {},
     "output_type": "execute_result"
    }
   ],
   "source": [
    "wav_file_lst = glob('./org_KEMDy20/Session01/*.wav')\n",
    "wav_file_lst[:3]"
   ]
  },
  {
   "cell_type": "code",
   "execution_count": 5,
   "metadata": {},
   "outputs": [
    {
     "data": {
      "text/plain": [
       "{'path': './org_KEMDy20/Session01/Sess01_script03_User002M_010.wav',\n",
       " 'array': array([-0.00018311,  0.00057983,  0.00076294, ...,  0.00259399,\n",
       "         0.00115967,  0.00036621], dtype=float32),\n",
       " 'sampling_rate': 16000}"
      ]
     },
     "execution_count": 5,
     "metadata": {},
     "output_type": "execute_result"
    }
   ],
   "source": [
    "import datasets\n",
    "\n",
    "dataset = Dataset.from_dict({\"wav\": wav_file_lst }).cast_column(\"wav\", Audio())\n",
    "dataset[0][\"wav\"]"
   ]
  },
  {
   "cell_type": "code",
   "execution_count": 6,
   "metadata": {},
   "outputs": [
    {
     "name": "stderr",
     "output_type": "stream",
     "text": [
      "Some weights of the model checkpoint at facebook/data2vec-audio-base-960h were not used when initializing Data2VecAudioModel: ['lm_head.weight', 'lm_head.bias']\n",
      "- This IS expected if you are initializing Data2VecAudioModel from the checkpoint of a model trained on another task or with another architecture (e.g. initializing a BertForSequenceClassification model from a BertForPreTraining model).\n",
      "- This IS NOT expected if you are initializing Data2VecAudioModel from the checkpoint of a model that you expect to be exactly identical (initializing a BertForSequenceClassification model from a BertForSequenceClassification model).\n"
     ]
    }
   ],
   "source": [
    "check_point_wav_model = 'facebook/data2vec-audio-base-960h'\n",
    "processor = AutoProcessor.from_pretrained(check_point_wav_model)\n",
    "model = Data2VecAudioModel.from_pretrained(check_point_wav_model)"
   ]
  },
  {
   "cell_type": "code",
   "execution_count": 7,
   "metadata": {},
   "outputs": [
    {
     "data": {
      "text/plain": [
       "array([-0.00018311,  0.00057983,  0.00076294, ...,  0.00259399,\n",
       "        0.00115967,  0.00036621], dtype=float32)"
      ]
     },
     "execution_count": 7,
     "metadata": {},
     "output_type": "execute_result"
    }
   ],
   "source": [
    "dataset[0]['wav']['array']"
   ]
  },
  {
   "cell_type": "code",
   "execution_count": 8,
   "metadata": {},
   "outputs": [],
   "source": [
    "# def make_batch(batch_size, dataset, column = None):\n",
    "#     data_lst = []\n",
    "#     if column == None:\n",
    "#         column = 'wav'\n",
    "#     for i in range(batch_size-1):\n",
    "#         data_lst.append(dataset[i]['wav']['array'])\n",
    "#     return data_lst"
   ]
  },
  {
   "cell_type": "code",
   "execution_count": 9,
   "metadata": {},
   "outputs": [],
   "source": [
    "sampling_rate = dataset['wav'][0]['sampling_rate']"
   ]
  },
  {
   "cell_type": "code",
   "execution_count": 10,
   "metadata": {},
   "outputs": [
    {
     "name": "stderr",
     "output_type": "stream",
     "text": [
      "2023-03-27 14:46:10.038042: I tensorflow/core/platform/cpu_feature_guard.cc:193] This TensorFlow binary is optimized with oneAPI Deep Neural Network Library (oneDNN) to use the following CPU instructions in performance-critical operations:  AVX2 FMA\n",
      "To enable them in other operations, rebuild TensorFlow with the appropriate compiler flags.\n",
      "2023-03-27 14:46:11.270795: W tensorflow/compiler/xla/stream_executor/platform/default/dso_loader.cc:64] Could not load dynamic library 'libnvinfer.so.7'; dlerror: libnvinfer.so.7: cannot open shared object file: No such file or directory; LD_LIBRARY_PATH: /usr/local/cuda-11/include:/usr/local/cuda-11/lib64::/usr/local/cuda/extras/CUPTI/lib64\n",
      "2023-03-27 14:46:11.270915: W tensorflow/compiler/xla/stream_executor/platform/default/dso_loader.cc:64] Could not load dynamic library 'libnvinfer_plugin.so.7'; dlerror: libnvinfer_plugin.so.7: cannot open shared object file: No such file or directory; LD_LIBRARY_PATH: /usr/local/cuda-11/include:/usr/local/cuda-11/lib64::/usr/local/cuda/extras/CUPTI/lib64\n",
      "2023-03-27 14:46:11.270925: W tensorflow/compiler/tf2tensorrt/utils/py_utils.cc:38] TF-TRT Warning: Cannot dlopen some TensorRT libraries. If you would like to use Nvidia GPU with TensorRT, please make sure the missing libraries mentioned above are installed properly.\n"
     ]
    },
    {
     "name": "stdout",
     "output_type": "stream",
     "text": [
      "311\n"
     ]
    },
    {
     "data": {
      "text/plain": [
       "[tensor([[[-0.7484,  0.0591, -0.2074,  ...,  0.1284,  0.0253,  0.1848],\n",
       "          [-0.7484,  0.0591, -0.2074,  ...,  0.1284,  0.0253,  0.1848],\n",
       "          [-0.7484,  0.0591, -0.2074,  ...,  0.1284,  0.0253,  0.1848],\n",
       "          ...,\n",
       "          [-1.0762,  0.0578,  0.0159,  ..., -0.0998, -0.1490,  0.0300],\n",
       "          [-1.0765,  0.0587,  0.0153,  ..., -0.0998, -0.1485,  0.0301],\n",
       "          [-1.0873,  0.0756,  0.0079,  ..., -0.1036, -0.1474,  0.0286]]]),\n",
       " tensor([[[-0.9110,  0.1859, -0.2962,  ...,  0.1183,  0.0295,  0.3080],\n",
       "          [-0.9110,  0.1859, -0.2962,  ...,  0.1183,  0.0295,  0.3080],\n",
       "          [-0.9110,  0.1859, -0.2962,  ...,  0.1183,  0.0295,  0.3080],\n",
       "          ...,\n",
       "          [-0.9165,  0.1055, -0.0734,  ..., -0.1464, -0.1688,  0.1187],\n",
       "          [-0.9164,  0.1068, -0.0735,  ..., -0.1464, -0.1669,  0.1192],\n",
       "          [-0.9177,  0.1112, -0.0758,  ..., -0.1466, -0.1632,  0.1201]]]),\n",
       " tensor([[[-0.5680,  0.1276, -0.2977,  ...,  0.2255, -0.0380,  0.2583],\n",
       "          [-0.5680,  0.1276, -0.2977,  ...,  0.2255, -0.0380,  0.2583],\n",
       "          [-0.5680,  0.1276, -0.2977,  ...,  0.2255, -0.0380,  0.2583],\n",
       "          ...,\n",
       "          [-0.9513,  0.0709,  0.0081,  ..., -0.0597, -0.1515,  0.1321],\n",
       "          [-0.9513,  0.0707,  0.0083,  ..., -0.0597, -0.1517,  0.1320],\n",
       "          [-0.9515,  0.0715,  0.0078,  ..., -0.0598, -0.1511,  0.1323]]])]"
      ]
     },
     "execution_count": 10,
     "metadata": {},
     "output_type": "execute_result"
    }
   ],
   "source": [
    "input_values = []\n",
    "for i in range(len(dataset)): \n",
    "    inputs = processor(dataset[i]['wav']['array'], sampling_rate = sampling_rate, return_tensors = 'pt', padding = True, max_length=400)\n",
    "    with torch.no_grad():\n",
    "        output = model(**inputs)\n",
    "    input_values.append(output['last_hidden_state'])\n",
    "\n",
    "print(len(input_values))\n",
    "input_values[:3] # wav embedded data\n"
   ]
  },
  {
   "cell_type": "code",
   "execution_count": 11,
   "metadata": {},
   "outputs": [
    {
     "data": {
      "text/plain": [
       "[tensor([[[-0.7484,  0.0591, -0.2074,  ...,  0.1284,  0.0253,  0.1848],\n",
       "          [-0.7484,  0.0591, -0.2074,  ...,  0.1284,  0.0253,  0.1848],\n",
       "          [-0.7484,  0.0591, -0.2074,  ...,  0.1284,  0.0253,  0.1848],\n",
       "          ...,\n",
       "          [-1.0762,  0.0578,  0.0159,  ..., -0.0998, -0.1490,  0.0300],\n",
       "          [-1.0765,  0.0587,  0.0153,  ..., -0.0998, -0.1485,  0.0301],\n",
       "          [-1.0873,  0.0756,  0.0079,  ..., -0.1036, -0.1474,  0.0286]]]),\n",
       " tensor([[[-0.9110,  0.1859, -0.2962,  ...,  0.1183,  0.0295,  0.3080],\n",
       "          [-0.9110,  0.1859, -0.2962,  ...,  0.1183,  0.0295,  0.3080],\n",
       "          [-0.9110,  0.1859, -0.2962,  ...,  0.1183,  0.0295,  0.3080],\n",
       "          ...,\n",
       "          [-0.9165,  0.1055, -0.0734,  ..., -0.1464, -0.1688,  0.1187],\n",
       "          [-0.9164,  0.1068, -0.0735,  ..., -0.1464, -0.1669,  0.1192],\n",
       "          [-0.9177,  0.1112, -0.0758,  ..., -0.1466, -0.1632,  0.1201]]]),\n",
       " tensor([[[-0.5680,  0.1276, -0.2977,  ...,  0.2255, -0.0380,  0.2583],\n",
       "          [-0.5680,  0.1276, -0.2977,  ...,  0.2255, -0.0380,  0.2583],\n",
       "          [-0.5680,  0.1276, -0.2977,  ...,  0.2255, -0.0380,  0.2583],\n",
       "          ...,\n",
       "          [-0.9513,  0.0709,  0.0081,  ..., -0.0597, -0.1515,  0.1321],\n",
       "          [-0.9513,  0.0707,  0.0083,  ..., -0.0597, -0.1517,  0.1320],\n",
       "          [-0.9515,  0.0715,  0.0078,  ..., -0.0598, -0.1511,  0.1323]]])]"
      ]
     },
     "execution_count": 11,
     "metadata": {},
     "output_type": "execute_result"
    }
   ],
   "source": [
    "# # audio file is decoded on the fly\n",
    "# input_values = []\n",
    "# for i in range(len(dataset)):\n",
    "#     input = feature_extractor(dataset[i][\"wav\"][\"array\"], sampling_rate=dataset[0]['wav']['sampling_rate'], return_attention_mask=False)\n",
    "#     input_values.append(input['input_values'][0])\n",
    "    \n",
    "\n",
    "input_values_feature = Features({'embedded_wav': input_values})\n",
    "input_values_feature['embedded_wav'][:3]"
   ]
  },
  {
   "cell_type": "code",
   "execution_count": 12,
   "metadata": {},
   "outputs": [
    {
     "data": {
      "text/plain": [
       "1"
      ]
     },
     "execution_count": 12,
     "metadata": {},
     "output_type": "execute_result"
    }
   ],
   "source": [
    "len(input_values_feature)"
   ]
  },
  {
   "cell_type": "code",
   "execution_count": 13,
   "metadata": {},
   "outputs": [],
   "source": [
    "# dataset_new = dataset.add_column(name = \"embedded_wav\", column = input_values_feature['embedded_wav'])\n",
    "# dataset_new"
   ]
  },
  {
   "attachments": {},
   "cell_type": "markdown",
   "metadata": {},
   "source": [
    "## Text Embedding\n"
   ]
  },
  {
   "attachments": {},
   "cell_type": "markdown",
   "metadata": {},
   "source": [
    "- 참고: https://huggingface.co/docs/datasets/nlp_load\n",
    "- 참고: https://huggingface.co/docs/transformers/v4.27.2/en/model_doc/data2vec#transformers.Data2VecTextModel\n",
    "- 참고 한국어 pretrained model: https://huggingface.co/Junmai/KR-Data2VecText-v1"
   ]
  },
  {
   "cell_type": "code",
   "execution_count": 14,
   "metadata": {},
   "outputs": [],
   "source": [
    "from transformers import PreTrainedTokenizerFast, BartModel\n",
    "from transformers import AutoModel, AutoTokenizer\n",
    "import pandas as pd\n",
    "\n"
   ]
  },
  {
   "cell_type": "code",
   "execution_count": 15,
   "metadata": {},
   "outputs": [
    {
     "data": {
      "text/plain": [
       "['./org_KEMDy20/Session01/Sess01_script06_User002M_009.txt',\n",
       " './org_KEMDy20/Session01/Sess01_script01_User001F_007.txt',\n",
       " './org_KEMDy20/Session01/Sess01_script01_User001F_001.txt']"
      ]
     },
     "execution_count": 15,
     "metadata": {},
     "output_type": "execute_result"
    }
   ],
   "source": [
    "# text data loading\n",
    "txt_file_lst = glob('./org_KEMDy20/Session01/*.txt')\n",
    "txt_file_lst[:3]"
   ]
  },
  {
   "cell_type": "code",
   "execution_count": 16,
   "metadata": {},
   "outputs": [],
   "source": [
    "# 참고: https://huggingface.co/gogamza/kobart-base-v2\n",
    "# 참고: https://github.com/BM-K/Sentence-Embedding-Is-All-You-Need\n",
    "\n",
    "# model = AutoModel.from_pretrained('gogamza/kobart-base-v2')  # or 'BM-K/KoSimCSE-bert-multitask'\n",
    "# tokenizer = AutoTokenizer.from_pretrained('gogamza/kobart-base-v2')  # or 'BM-K/KoSimCSE-bert-multitask'\n",
    "checkpoint = 'BM-K/KoSimCSE-bert-multitask'\n",
    "model = AutoModel.from_pretrained(checkpoint)  # or 'BM-K/KoSimCSE-bert-multitask'\n",
    "tokenizer = AutoTokenizer.from_pretrained(checkpoint)  # or 'BM-K/KoSimCSE-bert-multitask'\n"
   ]
  },
  {
   "cell_type": "code",
   "execution_count": 19,
   "metadata": {},
   "outputs": [
    {
     "data": {
      "text/plain": [
       "['그것 그것 땜에 당 그거 땜에 당황스러웠던 적은 없었어?',\n",
       " '아니면 어 어.',\n",
       " '그니까 그런 경험이 음 솔직히 거의 없는 거 같은데 약간 명절에 시골에 내려 가면은 약간 큰 아빠?',\n",
       " '그 가영이는 뭐 주변에서 막 이렇게 보고 가영이가 그거 했던 적은 웃겼던 건 적은 없었어?',\n",
       " '근데 내가 만약에 열두시에 연락을 해서 어 저 한시간 정도 더 놀다 갈게요 했는데 그 한시까지 안오잖아?',\n",
       " '이제 그거에 대해서는 어린 나이에도 대표를 다시는 여성분들도 계시는데 굳이 그거를 비율을 맞춰야 되느냐에 대해서 조금 그런 거 같애.',\n",
       " '근데 그거는 굳이 약간 남녀 그런 문제가 아니라 누가 도우려고 하든 간에 내가 도움을 받는 걸 싫어해서 그런 거야.',\n",
       " '어 좀 비슷하게 라고는 말하기 좀 그런데 약간 버스를 타다가 넘어 그니까 되게 급 정차를 해 하는 바람에 버스가 그래서 막.',\n",
       " '내가 혼잣말하거나 전화를 막 하고 있는데 집에서 자기 혼자 네 부르셨나요 막 이러거나 되게 띠링 소리 나다가 자기 혼자 갑자기 노래를 트는 경우가 있어.',\n",
       " '글쎄 일단은 나는 그 말이 살짝 좀 이해가 안 됐어, 약간.',\n",
       " '같은 아파트 내에 있는 어른들이나 그런 사람들한텐 다 인사하고 다녔어.',\n",
       " '말도 말도 안 했는데 그냥 막 떠.',\n",
       " '혹시 여기 무슨 검사 받았 적 있었냐고 나한테 검사받았던 환자시냐고 묻는 거야.',\n",
       " '그 꼰대에 특징을 갖고 있다거나 막 그런 거?',\n",
       " '그런 면에서 되게 아버지가 뭐라 하시거나?',\n",
       " '한 여섯시까지는 들어가야 된다라는 게 있었는데 그거 그 규칙이 불문율이라고 했어야 되나 근데 그거를 오빠가 깨버렸거든.',\n",
       " '어 최근에 어디를 가면?',\n",
       " '물론 같이 공부를 했을 때 똑같은 사람들도 있겠지만.',\n",
       " '우리 집은 되게 자유로워 가지고 솔직히 아빠가 이게 어때라고 하면 본인 생 그니까 가족들 생각이랑 안 맞으면 그냥 자기 주관대로 가거든, 다들.']"
      ]
     },
     "execution_count": 19,
     "metadata": {},
     "output_type": "execute_result"
    }
   ],
   "source": [
    "import re\n",
    "sentences = []\n",
    "\n",
    "for i in txt_file_lst:    \n",
    "    f = open(i, 'r')\n",
    "    line = f.readline()\n",
    "    line = re.sub('l/\\n|c/|b/|n/|l/|u/', '', line)\n",
    "    line = re.sub('  ', ' ', line)\n",
    "    line = line.rstrip().lstrip()\n",
    "    sentences.append(line)\n",
    "    f.close()\n",
    "    \n",
    "    \n",
    "sentences[21:40]"
   ]
  },
  {
   "cell_type": "code",
   "execution_count": 21,
   "metadata": {},
   "outputs": [],
   "source": [
    "# option 1\n",
    "inputs = tokenizer(sentences, padding=True, truncation=True, return_tensors=\"pt\")\n",
    "txt_embeddings, _ = model(**inputs, return_dict=False)\n",
    "\n",
    "# option 2\n",
    "# 참고: https://discuss.huggingface.co/t/get-output-embedding-of-featureextractor/5636\n",
    "\n",
    "# feature_extraction = pipeline('feature-extraction', model= model, tokenizer= tokenizer)\n",
    "# features = feature_extraction(\"i am sentence\")"
   ]
  },
  {
   "cell_type": "code",
   "execution_count": 22,
   "metadata": {},
   "outputs": [
    {
     "data": {
      "text/plain": [
       "311"
      ]
     },
     "execution_count": 22,
     "metadata": {},
     "output_type": "execute_result"
    }
   ],
   "source": [
    "len(txt_embeddings)"
   ]
  }
 ],
 "metadata": {
  "kernelspec": {
   "display_name": ".venv",
   "language": "python",
   "name": "python3"
  },
  "language_info": {
   "codemirror_mode": {
    "name": "ipython",
    "version": 3
   },
   "file_extension": ".py",
   "mimetype": "text/x-python",
   "name": "python",
   "nbconvert_exporter": "python",
   "pygments_lexer": "ipython3",
   "version": "3.10.4"
  },
  "orig_nbformat": 4,
  "vscode": {
   "interpreter": {
    "hash": "bdc1fd12ca460d5768d71e9df3d9063ef832ce64a62e55a1a523c8c99752868e"
   }
  }
 },
 "nbformat": 4,
 "nbformat_minor": 2
}
