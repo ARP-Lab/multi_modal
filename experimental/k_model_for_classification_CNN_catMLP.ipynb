{
 "cells": [
  {
   "attachments": {},
   "cell_type": "markdown",
   "metadata": {},
   "source": [
    "# working model for tensorfusion"
   ]
  },
  {
   "cell_type": "code",
   "execution_count": 1,
   "metadata": {},
   "outputs": [
    {
     "name": "stderr",
     "output_type": "stream",
     "text": [
      "/home/arplab/project/paradeigma/multi_modal/.venv/lib/python3.10/site-packages/tqdm/auto.py:21: TqdmWarning: IProgress not found. Please update jupyter and ipywidgets. See https://ipywidgets.readthedocs.io/en/stable/user_install.html\n",
      "  from .autonotebook import tqdm as notebook_tqdm\n"
     ]
    },
    {
     "name": "stdout",
     "output_type": "stream",
     "text": [
      "1.13.1+cu117\n"
     ]
    }
   ],
   "source": [
    "import pickle\n",
    "import torch\n",
    "from torchmetrics import F1Score\n",
    "import pandas as pd\n",
    "import numpy as np\n",
    "from glob import glob\n",
    "from collections import Counter\n",
    "import torch.nn.functional as F\n",
    "from tqdm import tqdm\n",
    "import os\n",
    "from datasets import Dataset\n",
    "from torch import nn, optim\n",
    "from torch.utils.data import Dataset, DataLoader, random_split, Subset\n",
    "import random\n",
    "from torchsummary import summary as summary\n",
    "\n",
    "print(torch.__version__)"
   ]
  },
  {
   "attachments": {},
   "cell_type": "markdown",
   "metadata": {},
   "source": [
    "## wav, text데이터 불러오기"
   ]
  },
  {
   "cell_type": "code",
   "execution_count": 2,
   "metadata": {},
   "outputs": [
    {
     "data": {
      "text/plain": [
       "['../../../paradeigma/multi_modal/model/data/paradeigma_KEMDY19_annotation_nonmissing.pkl',\n",
       " '../../../paradeigma/multi_modal/model/data/paradeigma_KEMDY19_embedding_for_dataset.pkl',\n",
       " '../../../paradeigma/multi_modal/model/data/paradeigma_KEMDY20_annotation_nonmissing.pkl',\n",
       " '../../../paradeigma/multi_modal/model/data/paradeigma_KEMDY20_embedding_for_dataset.pkl']"
      ]
     },
     "execution_count": 2,
     "metadata": {},
     "output_type": "execute_result"
    }
   ],
   "source": [
    "# wav and text data load\n",
    "dataset_file_lst = ['../../../paradeigma/multi_modal/model/data/paradeigma_KEMDY19_annotation_nonmissing.pkl',\n",
    "                    '../../../paradeigma/multi_modal/model/data/paradeigma_KEMDY19_embedding_for_dataset.pkl',\n",
    "                    '../../../paradeigma/multi_modal/model/data/paradeigma_KEMDY20_annotation_nonmissing.pkl',\n",
    "                    '../../../paradeigma/multi_modal/model/data/paradeigma_KEMDY20_embedding_for_dataset.pkl']\n",
    "dataset_file_lst = sorted(dataset_file_lst)\n",
    "dataset_file_lst"
   ]
  },
  {
   "cell_type": "code",
   "execution_count": 3,
   "metadata": {},
   "outputs": [
    {
     "name": "stdout",
     "output_type": "stream",
     "text": [
      "../../../paradeigma/multi_modal/model/data/paradeigma_KEMDY19_annotation_nonmissing.pkl kemdy19_annot\n",
      "../../../paradeigma/multi_modal/model/data/paradeigma_KEMDY19_embedding_for_dataset.pkl kemdy19_emb\n",
      "../../../paradeigma/multi_modal/model/data/paradeigma_KEMDY20_annotation_nonmissing.pkl kemdy20_annot\n",
      "../../../paradeigma/multi_modal/model/data/paradeigma_KEMDY20_embedding_for_dataset.pkl kemdy20_emb\n"
     ]
    }
   ],
   "source": [
    "\n",
    "var_names = ['kemdy19_annot', 'kemdy19_emb', 'kemdy20_annot', 'kemdy20_emb']\n",
    "for file, var_name in zip(dataset_file_lst, var_names):\n",
    "    print(file, var_name)\n",
    "    with open(file, 'rb') as f:\n",
    "        globals()[var_name] = pickle.load(f)"
   ]
  },
  {
   "attachments": {},
   "cell_type": "markdown",
   "metadata": {},
   "source": [
    "<2020년>\n",
    "'angry;disqust',  'angry;disqust;fear;neutral;sad',  'angry;disqust;neutral', 'angry;happy;neutral', 'angry;neutral', 'disqust;happy;neutral', 'disqust;neutral', 'disqust;neutral;sad', 'fear;happy', 'fear;happy;neutral', 'fear;neutral', 'happy;neutral', 'happy;neutral;surprise', 'happy;sad', 'happy;surprise', 'neutral;sad', 'neutral;surprise'\n",
    "\n",
    "<2019년>\n",
    "'angry;disgust;fear;neutral;surprise', 'angry;fear', 'angry;fear;neutral', 'angry;fear;surprise', 'angry;happy', 'angry;neutral;surprise', 'angry;sad', 'angry;surprise', 'disgust;fear', 'disgust;happy','disgust;neutral;surprise', 'disgust;sad', 'disgust;surprise', 'fear;neutral;surprise', 'fear;sad', 'fear;surprise', 'happy;neutral;sad', 'neutral;sad;surprise', 'sad;surprise'}\n"
   ]
  },
  {
   "cell_type": "code",
   "execution_count": 6,
   "metadata": {},
   "outputs": [],
   "source": [
    "encode_dict = {'angry':0, 'disgust':1, 'fear':2,'happy':3,'neutral':4, 'sad':5, 'surprise':6,  \n",
    "               'neutral;surprise': 450, 'neutral;sad': 460, 'happy;neutral': 340, \n",
    "               'angry;neutral': 40, 'disgust;neutral': 140, 'fear;neutral': 240, \n",
    "               'happy;surprise': 350, 'angry;happy;neutral': 7340, 'angry;disgust': 10, \n",
    "               'happy;neutral;surprise': 3450, 'fear;happy': 230,'fear;happy;neutral': 2340,\n",
    "               'angry;disgust;neutral': 7140, 'disgust;neutral;sad': 1460, \n",
    "               'happy;sad': 360, 'disgust;happy;neutral': 3410, 'angry;fear': 20, 'angry;fear;neutral':7240,\n",
    "               'angry;fear;surprise': 7250, 'angry;happy': 730, 'angry;neutral;surprise':7450, \n",
    "               'angry;sad': 60, 'angry;surprise': 50, 'disgust;fear':120, 'disgust;happy': 130,\n",
    "               'disgust;neutral;surprise':1450, 'disgust;sad': 160, 'disgust;surprise':150, \n",
    "               'fear;neutral;surprise':2450, 'fear;sad': 260, 'fear;surprise':250, 'happy;neutral;sad':3460,\n",
    "               'neutral;sad;surprise':4560, 'sad;surprise': 560,\n",
    "               'angry;disgust;fear;neutral;sad': 10000,'angry;disgust;fear;neutral;surprise':20000}"
   ]
  },
  {
   "cell_type": "code",
   "execution_count": 7,
   "metadata": {},
   "outputs": [
    {
     "name": "stdout",
     "output_type": "stream",
     "text": [
      "{'angry': 0, 'disgust': 1, 'fear': 2, 'happy': 3, 'neutral': 4, 'sad': 5, 'surprise': 6, 'angry;disgust': 10, 'angry;fear': 20, 'angry;neutral': 40, 'angry;surprise': 50, 'angry;sad': 60, 'disgust;fear': 120, 'disgust;happy': 130, 'disgust;neutral': 140, 'disgust;surprise': 150, 'disgust;sad': 160, 'fear;happy': 230, 'fear;neutral': 240, 'fear;surprise': 250, 'fear;sad': 260, 'happy;neutral': 340, 'happy;surprise': 350, 'happy;sad': 360, 'neutral;surprise': 450, 'neutral;sad': 460, 'sad;surprise': 560, 'angry;happy': 730, 'disgust;neutral;surprise': 1450, 'disgust;neutral;sad': 1460, 'fear;happy;neutral': 2340, 'fear;neutral;surprise': 2450, 'disgust;happy;neutral': 3410, 'happy;neutral;surprise': 3450, 'happy;neutral;sad': 3460, 'neutral;sad;surprise': 4560, 'angry;disgust;neutral': 7140, 'angry;fear;neutral': 7240, 'angry;fear;surprise': 7250, 'angry;happy;neutral': 7340, 'angry;neutral;surprise': 7450, 'angry;disgust;fear;neutral;sad': 10000, 'angry;disgust;fear;neutral;surprise': 20000}\n"
     ]
    }
   ],
   "source": [
    "encode_dict = {k: v for k, v in sorted(encode_dict.items(), key=lambda item: item[1])}\n",
    "decode_dict = {b:i for i, b in encode_dict.items()}\n",
    "print(encode_dict, '\\n', decode_dict)"
   ]
  },
  {
   "attachments": {},
   "cell_type": "markdown",
   "metadata": {},
   "source": [
    "## Annotation Encoding"
   ]
  },
  {
   "cell_type": "code",
   "execution_count": 9,
   "metadata": {},
   "outputs": [
    {
     "data": {
      "text/plain": [
       "(0    6\n",
       " 1    2\n",
       " 2    0\n",
       " Name: Emotion, dtype: int64,\n",
       " 0    4\n",
       " 1    4\n",
       " 2    4\n",
       " Name: Emotion, dtype: int64)"
      ]
     },
     "execution_count": 9,
     "metadata": {},
     "output_type": "execute_result"
    }
   ],
   "source": [
    "kemdy19_annot.Emotion = list(kemdy19_annot.Emotion.map(encode_dict))\n",
    "kemdy20_annot.Emotion = list(kemdy20_annot.Emotion.map(encode_dict))\n",
    "kemdy19_annot.Emotion[:3], kemdy20_annot.Emotion[:3]"
   ]
  },
  {
   "attachments": {},
   "cell_type": "markdown",
   "metadata": {},
   "source": [
    "# EDA, TEMP Padding"
   ]
  },
  {
   "cell_type": "code",
   "execution_count": 10,
   "metadata": {},
   "outputs": [],
   "source": [
    "import math\n",
    "def add_padding(pd_series, length = 50):\n",
    "    if isinstance(pd_series, float):\n",
    "        if math.isnan(pd_series):\n",
    "            return np.zeros(10)\n",
    "    if len(pd_series) < length:\n",
    "        pd_series = np.concatenate([pd_series, np.zeros(length - len(pd_series))])\n",
    "        return np.array(pd_series)\n",
    "    elif len(pd_series) == length:\n",
    "        return np.array(pd_series)\n",
    "    elif len(pd_series) > length:\n",
    "        pd_series = pd_series[:length]\n",
    "        return np.array(pd_series)"
   ]
  },
  {
   "cell_type": "code",
   "execution_count": 11,
   "metadata": {},
   "outputs": [
    {
     "data": {
      "text/plain": [
       "count    9008.000000\n",
       "mean       22.596470\n",
       "std        19.693268\n",
       "min         1.000000\n",
       "25%         9.000000\n",
       "50%        17.000000\n",
       "75%        30.000000\n",
       "max       314.000000\n",
       "Name: EDA, dtype: float64"
      ]
     },
     "execution_count": 11,
     "metadata": {},
     "output_type": "execute_result"
    }
   ],
   "source": [
    "kemdy19_annot.EDA.map(len).describe()"
   ]
  },
  {
   "cell_type": "code",
   "execution_count": 12,
   "metadata": {},
   "outputs": [
    {
     "data": {
      "text/plain": [
       "(array([-1.37470392, -0.702349  , -0.57776951,  0.36337337,  0.15086029,\n",
       "         0.23434567,  0.6442029 ,  0.8643034 ,  0.14326694,  0.33301774,\n",
       "         0.55311825, -0.16032486, -0.10719511,  0.09773054,  0.10531797,\n",
       "         0.12809209,  0.40890977,  0.23435159, -0.29694591, -0.36525051,\n",
       "        -0.25140359, -0.46391666, -0.14514408,  0.        ,  0.        ,\n",
       "         0.        ,  0.        ,  0.        ,  0.        ,  0.        ,\n",
       "         0.        ,  0.        ,  0.        ,  0.        ,  0.        ,\n",
       "         0.        ,  0.        ,  0.        ,  0.        ,  0.        ,\n",
       "         0.        ,  0.        ,  0.        ,  0.        ,  0.        ,\n",
       "         0.        ,  0.        ,  0.        ,  0.        ,  0.        ]),\n",
       " array([-0.21123698, -0.18926761, -0.18665215, -0.1861293 , -0.1861293 ,\n",
       "        -0.18874476, -0.20757542, -0.25517533, -0.29074444, -0.29179054,\n",
       "        -0.30434459, -0.24105233, -0.24628284, -0.48480603, -0.52822112,\n",
       "        -0.60860162, -0.77337071, -0.85676544, -0.78562721, -0.72181169,\n",
       "        -0.65747333, -0.89756547, -0.72181169, -0.67891945, -0.63655006,\n",
       "        -0.63602721, -0.62085771, -0.58842731, -0.57796588, -0.59156562,\n",
       "        -0.60725797,  0.        ,  0.        ,  0.        ,  0.        ,\n",
       "         0.        ,  0.        ,  0.        ,  0.        ,  0.        ,\n",
       "         0.        ,  0.        ,  0.        ,  0.        ,  0.        ,\n",
       "         0.        ,  0.        ,  0.        ,  0.        ,  0.        ]),\n",
       " array([-0.96177679, -0.96177679, -0.96177679, -0.96177679, -0.96177679,\n",
       "        -0.96177679, -0.96177679, -0.96177679, -0.96177679, -0.96177679,\n",
       "        -0.96177679, -0.96177679, -0.96177679, -0.96177679, -0.96177679,\n",
       "        -1.15004747, -1.15004747, -1.15004747, -1.15004747, -1.15004747,\n",
       "        -1.15004747, -1.15004747, -1.15004747, -0.96177679, -0.96177679,\n",
       "        -0.96177679, -0.96177679, -1.15004747, -1.15004747, -1.15004747,\n",
       "        -1.15004747, -1.15004747, -1.15004747, -1.15004747, -1.15004747,\n",
       "        -1.15004747, -1.15004747, -1.15004747, -1.15004747, -1.15004747,\n",
       "        -1.15004747, -1.15004747, -1.15004747, -1.33831815, -1.33831815,\n",
       "         0.        ,  0.        ,  0.        ,  0.        ,  0.        ]),\n",
       " array([0.7038299 , 0.7038299 , 0.67438937, 0.67438937, 0.67438937,\n",
       "        0.67438937, 0.67438937, 0.67438937, 0.67438937, 0.67438937,\n",
       "        0.64494885, 0.64494885, 0.64494885, 0.64494885, 0.7038299 ,\n",
       "        0.7038299 , 0.7038299 , 0.7038299 , 0.71855016, 0.71855016,\n",
       "        0.71855016, 0.71855016, 0.7038299 , 0.7038299 , 0.7038299 ,\n",
       "        0.7038299 , 0.67438937, 0.67438937, 0.67438937, 0.67438937,\n",
       "        0.67438937, 0.67438937, 0.67438937, 0.67438937, 0.64494885,\n",
       "        0.64494885, 0.64494885, 0.64494885, 0.67438937, 0.67438937,\n",
       "        0.67438937, 0.67438937, 0.7038299 , 0.7038299 , 0.7038299 ,\n",
       "        0.7038299 , 0.7038299 , 0.7038299 , 0.7038299 , 0.7038299 ]))"
      ]
     },
     "execution_count": 12,
     "metadata": {},
     "output_type": "execute_result"
    }
   ],
   "source": [
    "kemdy19_annot['Scaled EDA'] = kemdy19_annot['Scaled EDA'].apply(add_padding)\n",
    "kemdy20_annot['Scaled EDA'] = kemdy20_annot['Scaled EDA'].apply(add_padding)\n",
    "kemdy19_annot['Scaled TEMP'] = kemdy19_annot['Scaled TEMP'].apply(add_padding)\n",
    "kemdy20_annot['Scaled TEMP'] = kemdy20_annot['Scaled TEMP'].apply(add_padding)\n",
    "# check\n",
    "kemdy20_annot['Scaled EDA'][10], kemdy19_annot['Scaled EDA'][10], kemdy20_annot['Scaled TEMP'][3],kemdy19_annot['Scaled TEMP'][15]"
   ]
  },
  {
   "cell_type": "code",
   "execution_count": 13,
   "metadata": {},
   "outputs": [
    {
     "name": "stdout",
     "output_type": "stream",
     "text": [
      "session 19 length: wav - 9008, txt - 9008\n",
      "session 20 length: wav - 12715, txt - 12715\n"
     ]
    }
   ],
   "source": [
    "length_wav = 0\n",
    "length_txt = 0\n",
    "for i,j in zip(kemdy19_emb[0], kemdy19_emb[1]):\n",
    "    length_wav += len(kemdy19_emb[0][i])\n",
    "    length_txt += len(kemdy19_emb[1][j])\n",
    "    # lengt += len(i)\n",
    "print(f'session 19 length: wav - {length_wav}, txt - {length_txt}')\n",
    "\n",
    "length_wav = 0\n",
    "length_txt = 0\n",
    "for i,j in zip(kemdy20_emb[0], kemdy20_emb[1]):\n",
    "    length_wav += len(kemdy20_emb[0][i])\n",
    "    length_txt += len(kemdy20_emb[1][j])\n",
    "    \n",
    "print(f'session 20 length: wav - {length_wav}, txt - {length_txt}')"
   ]
  },
  {
   "attachments": {},
   "cell_type": "markdown",
   "metadata": {},
   "source": [
    "## Session pick \n",
    "- test(.2), validation(.2), train(.8)"
   ]
  },
  {
   "cell_type": "code",
   "execution_count": 14,
   "metadata": {},
   "outputs": [],
   "source": [
    "def choice_and_remove_list(original_list, k = 8):\n",
    "    removed_new_list = []\n",
    "    chosen_list = random.sample(original_list, k = k)\n",
    "    for session in original_list:\n",
    "        if session in chosen_list:\n",
    "            pass\n",
    "        else:\n",
    "            removed_new_list.append(session) \n",
    "    return sorted(removed_new_list), sorted(chosen_list)"
   ]
  },
  {
   "cell_type": "code",
   "execution_count": 15,
   "metadata": {},
   "outputs": [
    {
     "name": "stdout",
     "output_type": "stream",
     "text": [
      "['Sess01', 'Sess02', 'Sess03', 'Sess04', 'Sess05', 'Sess07', 'Sess09', 'Sess14', 'Sess15', 'Sess16', 'Sess20', 'Sess21', 'Sess23', 'Sess24', 'Sess25', 'Sess27', 'Sess28', 'Sess29', 'Sess32', 'Sess33', 'Sess35', 'Sess38']\n",
      "['Sess10', 'Sess11', 'Sess13', 'Sess18', 'Sess22', 'Sess26', 'Sess31', 'Sess36']\n",
      "['Sess06', 'Sess08', 'Sess19', 'Sess30', 'Sess34', 'Sess37', 'Sess39', 'Sess40']\n",
      "\n",
      "\n",
      "['Sess01', 'Sess02', 'Sess03', 'Sess04', 'Sess05', 'Sess06', 'Sess07', 'Sess08', 'Sess09', 'Sess10', 'Sess11', 'Sess12', 'Sess13', 'Sess14', 'Sess15', 'Sess16', 'Sess17', 'Sess18', 'Sess19', 'Sess20']\n",
      "[]\n",
      "[]\n"
     ]
    }
   ],
   "source": [
    "# session을 train vs test&val로 나눠줌\n",
    "session_20_lst = ['Sess0' + str(i+1) if i < 9 else 'Sess' + str(i+1) for i in range(40)]\n",
    "session_20_lst.remove('Sess12')\n",
    "session_20_lst.remove('Sess17')\n",
    "sessions_20_train_lst, sessions_20_test_lst = choice_and_remove_list(session_20_lst, k = 8)\n",
    "sessions_20_train_lst, sessions_20_val_lst = choice_and_remove_list(sessions_20_train_lst, k = 8)\n",
    "print(sessions_20_train_lst, sessions_20_test_lst, sessions_20_val_lst, sep = '\\n')\n",
    "\n",
    "session_19_lst = ['Sess0' + str(i+1) if i < 9 else 'Sess' + str(i+1) for i in range(20)]\n",
    "sessions_19_train_lst, sessions_19_test_lst = choice_and_remove_list(session_19_lst, k = 0)\n",
    "sessions_19_train_lst, sessions_19_val_lst = choice_and_remove_list(sessions_19_train_lst, k = 0)\n",
    "print('\\n', sessions_19_train_lst,sessions_19_test_lst, sessions_19_val_lst, sep = '\\n')"
   ]
  },
  {
   "attachments": {},
   "cell_type": "markdown",
   "metadata": {},
   "source": [
    "## data reconstruct\n",
    "- dict - session - txt, wav, segment_id"
   ]
  },
  {
   "cell_type": "code",
   "execution_count": 16,
   "metadata": {},
   "outputs": [],
   "source": [
    "kemdy20_emb_new = {}\n",
    "for session in kemdy20_emb[0].keys():\n",
    "    kemdy20_emb_new[session] = {}\n",
    "    kemdy20_emb_new[session]['wav'] = kemdy20_emb[0][session]\n",
    "    kemdy20_emb_new[session]['txt'] = kemdy20_emb[1][session]\n",
    "    kemdy20_emb_new[session]['segment_id'] = kemdy20_annot['Segment ID'][kemdy20_annot['Segment ID'].str.startswith(session)]\n",
    "    # print(session, len(kemdy20_emb_new[session]['wav']), len(kemdy20_emb_new[session]['txt']), len(kemdy20_emb_new[session]['segment_id']))\n",
    "\n",
    "# print('\\n')\n",
    "kemdy19_emb_new = {}\n",
    "for session in kemdy19_emb[0].keys():\n",
    "    kemdy19_emb_new[session] = {}\n",
    "    kemdy19_emb_new[session]['wav'] = kemdy19_emb[0][session]\n",
    "    kemdy19_emb_new[session]['txt'] = kemdy19_emb[1][session]\n",
    "    kemdy19_emb_new[session]['segment_id'] = kemdy19_annot['Segment ID'][kemdy19_annot['Segment ID'].str.startswith(session)]\n",
    "    # print(session, len(kemdy19_emb_new[session]['wav']), len(kemdy19_emb_new[session]['txt']), len(kemdy19_emb_new[session]['segment_id']))\n"
   ]
  },
  {
   "cell_type": "code",
   "execution_count": 17,
   "metadata": {},
   "outputs": [],
   "source": [
    "# 나눠준 세션을 emb(wav, text순), annot set에 적용\n",
    "def get_data_by_session(data, session_lst):\n",
    "    if isinstance(data, pd.DataFrame):\n",
    "        print('dataframe')\n",
    "        for idx, session in enumerate(session_lst):\n",
    "            if idx == 0:\n",
    "                dataframe = data[data['Segment ID'].str.startswith(session)]\n",
    "            else:\n",
    "                dataframe = pd.concat([dataframe, data[data['Segment ID'].str.startswith(session)]])\n",
    "        return dataframe\n",
    "    \n",
    "    elif isinstance(data, dict):\n",
    "        print('dict')\n",
    "        emb_data = {}\n",
    "        emb_data['wav'] = []\n",
    "        emb_data['txt'] = []\n",
    "        emb_data['segment_id'] = []\n",
    "        for session in session_lst:\n",
    "            emb_data['wav'].extend(data[session]['wav'])\n",
    "            emb_data['txt'].extend(data[session]['txt'])\n",
    "            emb_data['segment_id'].extend(data[session]['segment_id'])            \n",
    "        return emb_data"
   ]
  },
  {
   "cell_type": "code",
   "execution_count": 18,
   "metadata": {},
   "outputs": [
    {
     "name": "stdout",
     "output_type": "stream",
     "text": [
      "dataframe\n",
      "dataframe\n",
      "dataframe\n",
      "dataframe\n"
     ]
    }
   ],
   "source": [
    "kemdy19_annot_train = get_data_by_session(kemdy19_annot, sessions_19_train_lst)\n",
    "\n",
    "kemdy20_annot_train = get_data_by_session(kemdy20_annot, sessions_20_train_lst)\n",
    "kemdy20_annot_test = get_data_by_session(kemdy20_annot, sessions_20_test_lst)\n",
    "kemdy20_annot_val = get_data_by_session(kemdy20_annot, sessions_20_val_lst)"
   ]
  },
  {
   "cell_type": "code",
   "execution_count": 19,
   "metadata": {},
   "outputs": [
    {
     "name": "stdout",
     "output_type": "stream",
     "text": [
      "dict\n",
      "dict\n",
      "dict\n",
      "dict\n"
     ]
    }
   ],
   "source": [
    "# session 정보가 없어집니다. \n",
    "kemdy19_emb_train = get_data_by_session(kemdy19_emb_new, sessions_19_train_lst)\n",
    "\n",
    "\n",
    "kemdy20_emb_train = get_data_by_session(kemdy20_emb_new, sessions_20_train_lst)\n",
    "kemdy20_emb_test = get_data_by_session(kemdy20_emb_new, sessions_20_test_lst)\n",
    "kemdy20_emb_val = get_data_by_session(kemdy20_emb_new, sessions_20_val_lst)"
   ]
  },
  {
   "cell_type": "code",
   "execution_count": 20,
   "metadata": {},
   "outputs": [],
   "source": [
    "# # kemdy 19 - 9008이 정상\n",
    "# print(len(kemdy19_emb_train['wav']), len(kemdy19_emb_train['txt']), len(kemdy19_emb_train['segment_id']))\n",
    "# print(len(kemdy19_emb_test['wav']), len(kemdy19_emb_test['txt']), len(kemdy19_emb_test['segment_id']))\n",
    "# print(len(kemdy19_emb_val['wav']), len(kemdy19_emb_val['txt']), len(kemdy19_emb_val['segment_id']))\n",
    "# # print(len(kemdy19_emb_train['wav']) + len(kemdy19_emb_test['wav']) + len(kemdy19_emb_val['wav']))"
   ]
  },
  {
   "cell_type": "code",
   "execution_count": 21,
   "metadata": {},
   "outputs": [
    {
     "name": "stdout",
     "output_type": "stream",
     "text": [
      "7359 7359 7359\n",
      "2427 2427 2427\n",
      "2929 2929 2929\n",
      "12715\n"
     ]
    }
   ],
   "source": [
    "# kemdy 20 - 12715가 정상\n",
    "print(len(kemdy20_emb_train['wav']), len(kemdy20_emb_train['txt']), len(kemdy20_emb_train['segment_id']))\n",
    "print(len(kemdy20_emb_test['wav']), len(kemdy20_emb_test['txt']), len(kemdy20_emb_test['segment_id']))\n",
    "print(len(kemdy20_emb_val['wav']), len(kemdy20_emb_val['txt']), len(kemdy20_emb_val['segment_id']))\n",
    "print(len(kemdy20_emb_train['wav']) + len(kemdy20_emb_test['wav'])+ len(kemdy20_emb_val['wav']))"
   ]
  },
  {
   "cell_type": "code",
   "execution_count": 22,
   "metadata": {},
   "outputs": [],
   "source": [
    "# print(kemdy19_emb_train.keys(), kemdy19_emb_test.keys(), kemdy19_emb_val.keys(),\n",
    "#       kemdy20_emb_train.keys(),kemdy20_emb_test.keys(), kemdy20_emb_val.keys(),sep = '\\n')"
   ]
  },
  {
   "attachments": {},
   "cell_type": "markdown",
   "metadata": {},
   "source": [
    "## Train Data neutral pick하기"
   ]
  },
  {
   "cell_type": "code",
   "execution_count": 23,
   "metadata": {},
   "outputs": [
    {
     "name": "stdout",
     "output_type": "stream",
     "text": [
      "Counter({4: 6192, 3: 545, 340: 182, 6: 95, 0: 92, 40: 51, 5: 39, 460: 37, 1: 33, 450: 29, 140: 22, 2: 22, 240: 8, 350: 7, 10: 2, 7140: 1, 7340: 1, 3410: 1})\n"
     ]
    }
   ],
   "source": [
    "print(Counter(kemdy20_annot_train['Emotion']))"
   ]
  },
  {
   "cell_type": "code",
   "execution_count": 24,
   "metadata": {},
   "outputs": [
    {
     "name": "stdout",
     "output_type": "stream",
     "text": [
      "kemdy19에서 0개, kemdy20에서 6192개 추출\n"
     ]
    }
   ],
   "source": [
    "# 각 데이터 셋에서 몇개 뽑아야 되는지 계산 neutral: 4\n",
    "\n",
    "target_neutral_num = Counter(kemdy20_annot_train['Emotion'])[4]\n",
    "\n",
    "target_neutral_num_19 = 0\n",
    "# target_neutral_num_19 = int(target_neutral_num / (Counter(kemdy19_annot['Emotion'])[4] + Counter(kemdy20_annot['Emotion'])[4]) * Counter(kemdy19_annot['Emotion'])[4])\n",
    "target_neutral_num_20 = target_neutral_num - target_neutral_num_19\n",
    "print(f'kemdy19에서 {target_neutral_num_19}개, kemdy20에서 {target_neutral_num_20}개 추출')"
   ]
  },
  {
   "cell_type": "code",
   "execution_count": 25,
   "metadata": {},
   "outputs": [
    {
     "data": {
      "text/plain": [
       "12896"
      ]
     },
     "execution_count": 25,
     "metadata": {},
     "output_type": "execute_result"
    }
   ],
   "source": [
    "# 각 train dataset에서 뽑아야 되는 갯수만큼 랜덤으로 뽑아옴\n",
    "kemdy19_annot_train_not_neut = kemdy19_annot_train[kemdy19_annot_train['Emotion'] != 4]\n",
    "kemdy20_annot_train_not_neut = kemdy20_annot_train[kemdy20_annot_train['Emotion'] != 4]\n",
    "\n",
    "kemdy19_annot_train_neut = kemdy19_annot_train[kemdy19_annot_train['Emotion'] == 4].sample(target_neutral_num_19)\n",
    "kemdy20_annot_train_neut = kemdy20_annot_train[kemdy20_annot_train['Emotion'] == 4].sample(target_neutral_num_20)\n",
    "len(kemdy19_annot_train_not_neut) + len(kemdy19_annot_train_neut) + len(kemdy20_annot_train_not_neut) + len(kemdy20_annot_train_neut)"
   ]
  },
  {
   "attachments": {},
   "cell_type": "markdown",
   "metadata": {},
   "source": [
    "## embedding, Test and validation dataset 합치기"
   ]
  },
  {
   "cell_type": "code",
   "execution_count": 26,
   "metadata": {},
   "outputs": [
    {
     "name": "stdout",
     "output_type": "stream",
     "text": [
      "2427 2427 2427\n"
     ]
    }
   ],
   "source": [
    "emb_test_final = {}\n",
    "emb_test_final['wav'] = []\n",
    "emb_test_final['txt'] = []\n",
    "emb_test_final['segment_id'] = []\n",
    "\n",
    "# emb_test_final['wav'] = kemdy19_emb_test['wav']\n",
    "emb_test_final['wav'].extend(kemdy20_emb_test['wav'])\n",
    "\n",
    "# emb_test_final['txt'] = kemdy19_emb_test['txt']\n",
    "emb_test_final['txt'].extend(kemdy20_emb_test['txt'])\n",
    "\n",
    "\n",
    "# emb_test_final['segment_id'] = kemdy19_emb_test['segment_id']\n",
    "emb_test_final['segment_id'].extend(kemdy20_emb_test['segment_id'])\n",
    "\n",
    "\n",
    "print(len(emb_test_final['wav']), len(emb_test_final['txt']), len(emb_test_final['segment_id']))"
   ]
  },
  {
   "cell_type": "code",
   "execution_count": 27,
   "metadata": {},
   "outputs": [
    {
     "name": "stdout",
     "output_type": "stream",
     "text": [
      "2929 2929 2929\n"
     ]
    }
   ],
   "source": [
    "emb_val_final = {}\n",
    "emb_val_final['wav'] = []\n",
    "emb_val_final['txt'] = []\n",
    "emb_val_final['segment_id'] = []\n",
    "\n",
    "# emb_val_final['wav'] = kemdy19_emb_val['wav']\n",
    "emb_val_final['wav'].extend(kemdy20_emb_val['wav'])\n",
    "\n",
    "# emb_val_final['txt'] = kemdy19_emb_val['txt']\n",
    "emb_val_final['txt'].extend(kemdy20_emb_val['txt'])\n",
    "\n",
    "# emb_val_final['segment_id'] = kemdy19_emb_val['segment_id']\n",
    "emb_val_final['segment_id'].extend(kemdy20_emb_val['segment_id'])\n",
    "\n",
    "print(len(emb_val_final['wav']), len(emb_val_final['txt']), len(emb_val_final['segment_id']))"
   ]
  },
  {
   "cell_type": "code",
   "execution_count": 28,
   "metadata": {},
   "outputs": [
    {
     "name": "stdout",
     "output_type": "stream",
     "text": [
      "12896 2427 2929\n"
     ]
    }
   ],
   "source": [
    "annot_train_final = pd.concat([kemdy19_annot_train_neut, kemdy20_annot_train_neut, kemdy19_annot_train_not_neut, kemdy20_annot_train_not_neut])\n",
    "# annot_test_final = pd.concat([kemdy19_annot_test, kemdy20_annot_test])\n",
    "# annot_val_final = pd.concat([kemdy19_annot_val, kemdy20_annot_val])\n",
    "\n",
    "annot_test_final = pd.concat([kemdy20_annot_test])\n",
    "annot_val_final = pd.concat([kemdy20_annot_val])\n",
    "\n",
    "\n",
    "annot_train_final.reset_index(drop=True, inplace=True)\n",
    "annot_test_final.reset_index(drop=True, inplace=True)\n",
    "annot_val_final.reset_index(drop=True, inplace=True)\n",
    "\n",
    "print(len(annot_train_final), len(annot_test_final), len(annot_val_final))"
   ]
  },
  {
   "cell_type": "code",
   "execution_count": 29,
   "metadata": {},
   "outputs": [
    {
     "name": "stdout",
     "output_type": "stream",
     "text": [
      "12896 12896 12896\n"
     ]
    }
   ],
   "source": [
    "# train dataset neutral 4000개로 랜덤 뽑은 것 생성\n",
    "emb_train_final = {}\n",
    "emb_train_final['wav'] = []\n",
    "emb_train_final['txt'] = []\n",
    "emb_train_final['segment_id'] = []\n",
    "for segment_annot_id in kemdy19_annot_train_neut['Segment ID']:\n",
    "    for wav, txt, segment_emb_id in zip(kemdy19_emb_train['wav'], kemdy19_emb_train['txt'], kemdy19_emb_train['segment_id']):\n",
    "        if segment_annot_id == segment_emb_id:\n",
    "            emb_train_final['wav'].append(wav)\n",
    "            emb_train_final['txt'].append(txt)\n",
    "            emb_train_final['segment_id'].append(segment_emb_id)\n",
    "            \n",
    "for segment_annot_id in kemdy19_annot_train_not_neut['Segment ID']:\n",
    "    for wav, txt, segment_emb_id in zip(kemdy19_emb_train['wav'], kemdy19_emb_train['txt'], kemdy19_emb_train['segment_id']):\n",
    "        if segment_annot_id == segment_emb_id:\n",
    "            emb_train_final['wav'].append(wav)\n",
    "            emb_train_final['txt'].append(txt)\n",
    "            emb_train_final['segment_id'].append(segment_emb_id)\n",
    "        \n",
    "\n",
    "for segment_annot_id in kemdy20_annot_train_neut['Segment ID']:\n",
    "    for wav, txt, segment_emb_id in zip(kemdy20_emb_train['wav'], kemdy20_emb_train['txt'], kemdy20_emb_train['segment_id']):\n",
    "        if segment_emb_id == segment_annot_id:\n",
    "            emb_train_final['wav'].append(wav)\n",
    "            emb_train_final['txt'].append(txt)\n",
    "            emb_train_final['segment_id'].append(segment_emb_id)\n",
    "        \n",
    "for segment_annot_id in kemdy20_annot_train_not_neut['Segment ID']:\n",
    "    for wav, txt, segment_emb_id in zip(kemdy20_emb_train['wav'], kemdy20_emb_train['txt'], kemdy20_emb_train['segment_id']):\n",
    "        if segment_annot_id == segment_emb_id:\n",
    "            emb_train_final['wav'].append(wav)\n",
    "            emb_train_final['txt'].append(txt)\n",
    "            emb_train_final['segment_id'].append(segment_emb_id)\n",
    "            \n",
    "print(len(emb_train_final['wav']), len(emb_train_final['txt']), len(emb_train_final['segment_id']))"
   ]
  },
  {
   "attachments": {},
   "cell_type": "markdown",
   "metadata": {},
   "source": [
    "# torch dataset 만들기\n",
    "- 참고: https://tutorials.pytorch.kr/beginner/basics/data_tutorial.html"
   ]
  },
  {
   "cell_type": "code",
   "execution_count": 30,
   "metadata": {},
   "outputs": [
    {
     "name": "stdout",
     "output_type": "stream",
     "text": [
      "torch.float32\n"
     ]
    }
   ],
   "source": [
    "torch.set_default_dtype(torch.float32)\n",
    "print(torch.get_default_dtype())"
   ]
  },
  {
   "cell_type": "code",
   "execution_count": 31,
   "metadata": {},
   "outputs": [],
   "source": [
    "class EtriDataset(Dataset):\n",
    "    def __init__(self, file_names, \n",
    "                 text_embeddings, \n",
    "                 wav_embeddings, \n",
    "                 Temp,\n",
    "                 EDA,\n",
    "                 Emotion,\n",
    "                 Emotion_vec, \n",
    "                 Arousal, \n",
    "                 Valence):\n",
    "        self.file_names = file_names\n",
    "        self.text_embeddings = text_embeddings\n",
    "        self.wav_embeddings = wav_embeddings\n",
    "        self.temp = Temp\n",
    "        self.eda = EDA\n",
    "        self.label_emotion = Emotion\n",
    "        self.label_emotion_vec = Emotion_vec\n",
    "        self.label_arousal = Arousal\n",
    "        self.label_valence = Valence\n",
    "        \n",
    "        \n",
    "    def __len__(self):\n",
    "        return len(self.file_names)\n",
    "\n",
    "    def __getitem__(self, idx):\n",
    "        text_embeddings = self.text_embeddings[idx]\n",
    "        wav_embeddings = self.wav_embeddings[idx]\n",
    "        temp = self.temp[idx]\n",
    "        eda = self.eda[idx]\n",
    "        label_emotion = self.label_emotion[idx]\n",
    "        label_emotion_ext = self.label_emotion_vec[idx]\n",
    "        label_arousal = self.label_arousal[idx]\n",
    "        label_valence = self.label_valence[idx]\n",
    "        return text_embeddings, wav_embeddings, temp, eda, label_emotion, label_emotion_ext, label_arousal, label_valence"
   ]
  },
  {
   "cell_type": "code",
   "execution_count": 32,
   "metadata": {},
   "outputs": [
    {
     "data": {
      "text/plain": [
       "Index(['Segment ID', 'Emotion', 'Valence', 'Arousal', 'emotion_vector',\n",
       "       'valence_vector', 'arousal_vector', 'EDA', 'TEMP', 'EDA length',\n",
       "       'TEMP length', 'Scaled EDA', 'Scaled TEMP', 'Scaled EDA length',\n",
       "       'Scaled TEMP length'],\n",
       "      dtype='object')"
      ]
     },
     "execution_count": 32,
     "metadata": {},
     "output_type": "execute_result"
    }
   ],
   "source": [
    "annot_train_final.columns"
   ]
  },
  {
   "cell_type": "code",
   "execution_count": 34,
   "metadata": {},
   "outputs": [
    {
     "name": "stderr",
     "output_type": "stream",
     "text": [
      "/tmp/ipykernel_827615/245938389.py:13: UserWarning: Creating a tensor from a list of numpy.ndarrays is extremely slow. Please consider converting the list to a single numpy.ndarray with numpy.array() before converting to a tensor. (Triggered internally at ../torch/csrc/utils/tensor_new.cpp:230.)\n",
      "  EDA = torch.Tensor(annot_train_final['Scaled EDA']),\n"
     ]
    }
   ],
   "source": [
    "# session을 통합시킨 데이터 셋을 만들었을 때\n",
    "dataset_train = EtriDataset(file_names = annot_train_final['Segment ID'],\n",
    "                      text_embeddings = torch.stack(emb_train_final['txt']),\n",
    "                      wav_embeddings = torch.stack(emb_train_final['wav']),\n",
    "                      Emotion = annot_train_final['Emotion'],\n",
    "                      Arousal = annot_train_final['Arousal'],\n",
    "                      Valence = annot_train_final['Valence'],\n",
    "                      EDA = torch.Tensor(annot_train_final['Scaled EDA']), \n",
    "                      Temp = torch.Tensor(annot_train_final['Scaled TEMP']), \n",
    "                      Emotion_vec = torch.Tensor(annot_train_final['emotion_vector'])) \n",
    "\n",
    "\n",
    "dataset_test = EtriDataset(file_names = annot_test_final['Segment ID'],\n",
    "                      text_embeddings = torch.stack(emb_test_final['txt']),\n",
    "                      wav_embeddings = torch.stack(emb_test_final['wav']),\n",
    "                      Emotion = annot_test_final['Emotion'],\n",
    "                      Arousal = annot_test_final['Arousal'],\n",
    "                      Valence = annot_test_final['Valence'],\n",
    "                      EDA = torch.Tensor(annot_test_final['Scaled EDA']), \n",
    "                      Temp = torch.Tensor(annot_test_final['Scaled TEMP']), \n",
    "                      Emotion_vec = torch.Tensor(annot_test_final['emotion_vector']))\n",
    "\n",
    "dataset_val = EtriDataset(file_names = annot_val_final['Segment ID'],\n",
    "                      text_embeddings = torch.stack(emb_val_final['txt']),\n",
    "                      wav_embeddings = torch.stack(emb_val_final['wav']),\n",
    "                      Emotion = annot_val_final['Emotion'],\n",
    "                      Arousal = annot_val_final['Arousal'],\n",
    "                      Valence = annot_val_final['Valence'],\n",
    "                      EDA = torch.Tensor(annot_val_final['Scaled EDA']), \n",
    "                      Temp = torch.Tensor(annot_val_final['Scaled TEMP']), \n",
    "                      Emotion_vec = torch.Tensor(annot_val_final['emotion_vector'])) \n"
   ]
  },
  {
   "cell_type": "code",
   "execution_count": 35,
   "metadata": {},
   "outputs": [
    {
     "name": "stdout",
     "output_type": "stream",
     "text": [
      "Training Data Size : 12896\n",
      "Validation Data Size : 2929\n",
      "Testing Data Size : 2427\n"
     ]
    }
   ],
   "source": [
    "print(f\"Training Data Size : {len(dataset_train)}\")\n",
    "print(f\"Validation Data Size : {len(dataset_val)}\")\n",
    "print(f\"Testing Data Size : {len(dataset_test)}\")"
   ]
  },
  {
   "cell_type": "code",
   "execution_count": 36,
   "metadata": {},
   "outputs": [],
   "source": [
    "train_dataloader = DataLoader(dataset_train, batch_size=512, shuffle=True, drop_last=True)\n",
    "validation_dataloader = DataLoader(dataset_val, batch_size=128, shuffle=True, drop_last=True)\n",
    "test_dataloader = DataLoader(dataset_test, batch_size=128, shuffle=True, drop_last=True)"
   ]
  },
  {
   "attachments": {},
   "cell_type": "markdown",
   "metadata": {},
   "source": [
    "# NetWork 만들기"
   ]
  },
  {
   "cell_type": "code",
   "execution_count": 37,
   "metadata": {},
   "outputs": [
    {
     "name": "stdout",
     "output_type": "stream",
     "text": [
      "Using cuda device\n"
     ]
    }
   ],
   "source": [
    "device = \"cuda\" if torch.cuda.is_available() else \"cpu\"\n",
    "print(f\"Using {device} device\")\n"
   ]
  },
  {
   "cell_type": "code",
   "execution_count": 38,
   "metadata": {},
   "outputs": [],
   "source": [
    "class MLPNetwork_pre_wt(nn.Module):\n",
    "    def __init__(self, input_length, input_width):\n",
    "        super().__init__()\n",
    "        self.flatten = nn.Flatten()\n",
    "        self.fc1 = nn.Linear(input_length*input_width, 768)\n",
    "        self.gelu1 = nn.GELU()\n",
    "        self.bn1 = nn.BatchNorm1d(768)\n",
    "        self.fc2 = nn.Linear(768, 512)\n",
    "        self.gelu2 = nn.GELU()\n",
    "        self.bn2 = nn.BatchNorm1d(512)\n",
    "        self.fc3 = nn.Linear(512, 32)\n",
    "        self.gelu3 = nn.GELU()\n",
    "\n",
    "    def forward(self, x):\n",
    "        x = self.flatten(x)\n",
    "        x = self.fc1(x)\n",
    "        x = self.gelu1(x)\n",
    "        x = self.bn1(x)\n",
    "        x = self.fc2(x)\n",
    "        x = self.gelu2(x)\n",
    "        x = self.bn2(x)\n",
    "        x = self.fc3(x)\n",
    "        output = self.gelu3(x)\n",
    "        return output\n",
    "    \n",
    "class MLPNetwork_pre_ts(nn.Module):\n",
    "    def __init__(self, input_length):\n",
    "        super().__init__()\n",
    "        self.flatten = nn.Flatten()\n",
    "        self.fc1 = nn.Linear(input_length, 30)\n",
    "        self.gelu1 = nn.GELU()\n",
    "        self.bn1 = nn.BatchNorm1d(30)\n",
    "        self.fc2 = nn.Linear(30, 10)\n",
    "        self.gelu2 = nn.GELU()\n",
    "\n",
    "    def forward(self, x):\n",
    "        x = self.flatten(x)\n",
    "        x = self.fc1(x)\n",
    "        x = self.gelu1(x)\n",
    "        x = self.bn1(x)\n",
    "        x = self.fc2(x)\n",
    "        output = self.gelu2(x)\n",
    "        return output\n",
    "\n",
    "class MLPNetwork_final(nn.Module):\n",
    "    def __init__(self, input_length):\n",
    "        super().__init__()\n",
    "        self.flatten = nn.Flatten()\n",
    "        self.fc1 = nn.Linear(input_length, 32)\n",
    "        self.gelu1 = nn.GELU()\n",
    "        self.bn1 = nn.BatchNorm1d(32)\n",
    "        self.fc2 = nn.Linear(32, 7)\n",
    "        self.gelu2 = nn.GELU()\n",
    "\n",
    "    def forward(self, x):\n",
    "        x = self.flatten(x)\n",
    "        x = self.fc1(x)\n",
    "        x = self.gelu1(x)\n",
    "        x = self.bn1(x)\n",
    "        x = self.fc2(x)\n",
    "        output = self.gelu2(x)\n",
    "        return output"
   ]
  },
  {
   "cell_type": "code",
   "execution_count": 39,
   "metadata": {},
   "outputs": [],
   "source": [
    "class MLP_MIXER(nn.Module):\n",
    "    def __init__(self, ModelA, ModelB, ModelC, ModelD, ModelE):\n",
    "        super().__init__()\n",
    "        self.ModelA = ModelA\n",
    "        self.ModelB = ModelB\n",
    "        self.ModelC = ModelC\n",
    "        self.ModelD = ModelD\n",
    "        self.Model_mlp_final = ModelE\n",
    "        self.softmax = nn.Softmax(dim=1)\n",
    "\n",
    "    def forward(self, x1, x2, x3, x4):\n",
    "        x1 = self.ModelA(x1)\n",
    "        x2 = self.ModelB(x2)\n",
    "        x3 = self.ModelC(x3)\n",
    "        x4 = self.ModelD(x4)\n",
    "        x5 = torch.concat([x1, x2, x3, x4], dim=1)\n",
    "        x = self.Model_mlp_final(x5)\n",
    "        output = self.softmax(x)\n",
    "\n",
    "        return output"
   ]
  },
  {
   "cell_type": "code",
   "execution_count": 41,
   "metadata": {},
   "outputs": [
    {
     "name": "stdout",
     "output_type": "stream",
     "text": [
      "Let's use 4 GPUs!\n",
      "DataParallel(\n",
      "  (module): MLP_MIXER(\n",
      "    (ModelA): MLPNetwork_pre_wt(\n",
      "      (flatten): Flatten(start_dim=1, end_dim=-1)\n",
      "      (fc1): Linear(in_features=61440, out_features=768, bias=True)\n",
      "      (gelu1): GELU(approximate='none')\n",
      "      (bn1): BatchNorm1d(768, eps=1e-05, momentum=0.1, affine=True, track_running_stats=True)\n",
      "      (fc2): Linear(in_features=768, out_features=512, bias=True)\n",
      "      (gelu2): GELU(approximate='none')\n",
      "      (bn2): BatchNorm1d(512, eps=1e-05, momentum=0.1, affine=True, track_running_stats=True)\n",
      "      (fc3): Linear(in_features=512, out_features=32, bias=True)\n",
      "      (gelu3): GELU(approximate='none')\n",
      "    )\n",
      "    (ModelB): MLPNetwork_pre_wt(\n",
      "      (flatten): Flatten(start_dim=1, end_dim=-1)\n",
      "      (fc1): Linear(in_features=152576, out_features=768, bias=True)\n",
      "      (gelu1): GELU(approximate='none')\n",
      "      (bn1): BatchNorm1d(768, eps=1e-05, momentum=0.1, affine=True, track_running_stats=True)\n",
      "      (fc2): Linear(in_features=768, out_features=512, bias=True)\n",
      "      (gelu2): GELU(approximate='none')\n",
      "      (bn2): BatchNorm1d(512, eps=1e-05, momentum=0.1, affine=True, track_running_stats=True)\n",
      "      (fc3): Linear(in_features=512, out_features=32, bias=True)\n",
      "      (gelu3): GELU(approximate='none')\n",
      "    )\n",
      "    (ModelC): MLPNetwork_pre_ts(\n",
      "      (flatten): Flatten(start_dim=1, end_dim=-1)\n",
      "      (fc1): Linear(in_features=50, out_features=30, bias=True)\n",
      "      (gelu1): GELU(approximate='none')\n",
      "      (bn1): BatchNorm1d(30, eps=1e-05, momentum=0.1, affine=True, track_running_stats=True)\n",
      "      (fc2): Linear(in_features=30, out_features=10, bias=True)\n",
      "      (gelu2): GELU(approximate='none')\n",
      "    )\n",
      "    (ModelD): MLPNetwork_pre_ts(\n",
      "      (flatten): Flatten(start_dim=1, end_dim=-1)\n",
      "      (fc1): Linear(in_features=50, out_features=30, bias=True)\n",
      "      (gelu1): GELU(approximate='none')\n",
      "      (bn1): BatchNorm1d(30, eps=1e-05, momentum=0.1, affine=True, track_running_stats=True)\n",
      "      (fc2): Linear(in_features=30, out_features=10, bias=True)\n",
      "      (gelu2): GELU(approximate='none')\n",
      "    )\n",
      "    (Model_mlp_final): MLPNetwork_final(\n",
      "      (flatten): Flatten(start_dim=1, end_dim=-1)\n",
      "      (fc1): Linear(in_features=84, out_features=32, bias=True)\n",
      "      (gelu1): GELU(approximate='none')\n",
      "      (bn1): BatchNorm1d(32, eps=1e-05, momentum=0.1, affine=True, track_running_stats=True)\n",
      "      (fc2): Linear(in_features=32, out_features=7, bias=True)\n",
      "      (gelu2): GELU(approximate='none')\n",
      "    )\n",
      "    (softmax): Softmax(dim=1)\n",
      "  )\n",
      ")\n"
     ]
    }
   ],
   "source": [
    "txt_input_length, txt_input_width = dataset_train.text_embeddings[0].shape\n",
    "wav_input_length, wav_input_width = dataset_train.wav_embeddings[0].shape\n",
    "temp_input_length = dataset_train.temp[0].shape[0]\n",
    "eda_input_length = dataset_train.eda[0].shape[0]\n",
    "\n",
    "txt_input_length, txt_input_width,wav_input_length, wav_input_width,temp_input_length,eda_input_length\n",
    "\n",
    "model_mlp_txt = MLPNetwork_pre_wt(txt_input_length,txt_input_width).to(device)\n",
    "model_mlp_wav = MLPNetwork_pre_wt(wav_input_length,wav_input_width).to(device)\n",
    "\n",
    "model_mlp_temp = MLPNetwork_pre_ts(temp_input_length).to(device)\n",
    "model_mlp_eda = MLPNetwork_pre_ts(eda_input_length).to(device)\n",
    "\n",
    "\n",
    "model_mlp_final = MLPNetwork_final(84).to(device)\n",
    "# 최종 모델 선언\n",
    "model_mlp_only_mixer = MLP_MIXER(ModelA = model_mlp_txt, \n",
    "                                   ModelB = model_mlp_wav,\n",
    "                                   ModelC = model_mlp_temp,\n",
    "                                   ModelD = model_mlp_eda,\n",
    "                                   ModelE = model_mlp_final).to(device)\n",
    "\n",
    "if torch.cuda.device_count() > 1:\n",
    "    print(\"Let's use\", torch.cuda.device_count(), \"GPUs!\")\n",
    "    model_mlp_txt = nn.DataParallel(model_mlp_txt).to(device)\n",
    "    model_mlp_wav = nn.DataParallel(model_mlp_wav).to(device)\n",
    "    model_mlp_temp = nn.DataParallel(model_mlp_temp).to(device)\n",
    "    model_mlp_eda = nn.DataParallel(model_mlp_eda).to(device)\n",
    "    model_mlp_final = nn.DataParallel(model_mlp_final).to(device)\n",
    "    model_mlp_only_mixer = nn.DataParallel(model_mlp_only_mixer).to(device)\n",
    "\n",
    "print(model_mlp_only_mixer)"
   ]
  },
  {
   "attachments": {},
   "cell_type": "markdown",
   "metadata": {},
   "source": [
    "# 학습을 위한 train, test method 만들기"
   ]
  },
  {
   "cell_type": "code",
   "execution_count": 52,
   "metadata": {},
   "outputs": [],
   "source": [
    "def train(dataloader, model, loss_fn, optimizer):\n",
    "    size = len(dataloader.dataset)    \n",
    "    # data 순서: text_embeddings, wav_embeddings, temp, eda, label_emotion, label_emotion_ext, label_arousal, label_valence\n",
    "    for batch, (X_txt, X_wav, X_temp, X_eda, \n",
    "                    label_emotion, label_emotion_vec, label_arousal, label_valence) in enumerate(dataloader): \n",
    "        y = label_emotion_vec # 라벨을 변경하고자 하면 이 변수만 바꿔주면 나머지는 y로 적용\n",
    "        # 예측 오류 계산 \n",
    "        X_txt, X_wav, X_temp, X_eda, y= X_txt.to(device), X_wav.to(device), X_temp.to(device), X_eda.to(device),y.type(torch.float32).to(device)\n",
    "        \n",
    "        X_temp = X_temp.unsqueeze(dim=-1)\n",
    "        X_eda = X_eda.unsqueeze(dim=-1)\n",
    "        \n",
    "        pred = model(X_txt, X_wav, X_temp, X_eda)\n",
    "        y = F.softmax(y, dim = 1)\n",
    "        \n",
    "        loss = loss_fn(pred, y)\n",
    "\n",
    "        # 역전파\n",
    "        optimizer.zero_grad()\n",
    "        loss.mean().backward() # weighted MSE를 사용할 경우 중간에 sum() or mean()을 넣어줌\n",
    "        optimizer.step()\n",
    "        \n",
    "        if batch % 100 == 0:\n",
    "            loss, current = loss.mean().mean().item(), batch * len(X_txt) # weighted MSE를 사용할 경우 중간에 sum() or mean()을 넣어줌\n",
    "            print(f\"loss: {loss:>7f}  [{current:>5d}/{size:>5d}]\")\n",
    "        "
   ]
  },
  {
   "cell_type": "code",
   "execution_count": 53,
   "metadata": {},
   "outputs": [],
   "source": [
    "multi_label_threshold = 0.080\n",
    "def cal_multiple_class(probs, threshold = multi_label_threshold):\n",
    "    values = probs.topk(2)\n",
    "    pred_list = []\n",
    "    # print(values)\n",
    "    diffs = abs(torch.diff(values.values))\n",
    "    for idx,diff in zip(values.indices, diffs):\n",
    "        if diff <= threshold:\n",
    "            sorted, idx = torch.sort(idx)\n",
    "            if sorted[0] == 0:\n",
    "                pred_list.append(100*7 + 10*sorted[1].item())\n",
    "            else:\n",
    "                pred_list.append(100*sorted[0].item() + 10*sorted[1].item())\n",
    "        else:\n",
    "            pred_list.append(idx[0].item())\n",
    "    return torch.Tensor(pred_list).to(device), probs.argmax(1)"
   ]
  },
  {
   "cell_type": "code",
   "execution_count": 54,
   "metadata": {},
   "outputs": [],
   "source": [
    "from copy import deepcopy\n",
    "from sklearn.metrics import f1_score as f1_skearn\n",
    "\n",
    "def test(dataloader, model, loss_fn, mode = 'test'):\n",
    "    size = len(dataloader.dataset)\n",
    "    num_batches = len(dataloader)\n",
    "    model.eval()\n",
    "    test_loss, correct = 0, 0\n",
    "    \n",
    "    f1 = F1Score(task= 'multiclass', num_classes=37, average='weighted').to(device)   \n",
    "    preds = []\n",
    "    targets = []\n",
    "    \n",
    "    with torch.no_grad():\n",
    "        # data 순서: text_embeddings, wav_embeddings, temp, eda, label_emotion, label_emotion_ext, label_arousal, label_valence\n",
    "        for batch, (X_txt, X_wav, X_temp, X_eda, \n",
    "                        label_emotion, label_emotion_vec, label_arousal, label_valence) in enumerate(dataloader): \n",
    "            y = label_emotion_vec # 라벨을 변경하고자 하면 이 변수만 바꿔주면 나머지는 y로 적용\n",
    "            # 예측 오류 계산\n",
    "            X_txt, X_wav, X_temp, X_eda, y= X_txt.to(device), X_wav.to(device), X_temp.to(device), X_eda.to(device),y.type(torch.float32).to(device)\n",
    "            \n",
    "            X_temp = X_temp.unsqueeze(dim=-1)\n",
    "            X_eda = X_eda.unsqueeze(dim=-1)\n",
    "            \n",
    "            pred = model(X_txt, X_wav, X_temp, X_eda)\n",
    "            pred_for_acc, _ = cal_multiple_class(pred)\n",
    "            \n",
    "            preds.append(pred_for_acc)\n",
    "            y = F.softmax(y, dim = 1)\n",
    "\n",
    "            targets.append(label_emotion) # classification을 할 경우 언제나 사용\n",
    " \n",
    "            test_loss += loss_fn(pred, y).mean().item()# weighted MSE를 사용할 경우 중간에 sum() or mean()을 넣어줌 \n",
    "            \n",
    "            correct += (pred_for_acc == label_emotion.to(device)).type(torch.float).sum().item()\n",
    "            # correct += (pred.argmax(1) == label_emotion.to(device)).type(torch.float).sum().item()\n",
    "            \n",
    "    test_loss /= num_batches\n",
    "    correct /= size\n",
    "    # f1_score = f1(torch.cat(preds).to(device), torch.cat(targets).to(device))\n",
    "    f1_score = f1_skearn(torch.cat(preds).detach().cpu().numpy(), torch.cat(targets).detach().cpu().numpy(), average= 'weighted') # test\n",
    "    accuracy = (100*correct)\n",
    "    \n",
    "    if mode == 'test':\n",
    "        print(torch.cat(preds), torch.cat(preds).shape)\n",
    "        print(\"f1 score: \", f1_score)\n",
    "        print(f\"Test Error: Accuracy: {(accuracy):>0.1f}%, Avg loss: {test_loss:>8f}\\n\")\n",
    "    elif mode == 'val':\n",
    "        print(f\"Validation Error: Accuracy: {(accuracy):>0.1f}%, Avg val loss: {test_loss:>8f} \\n\")\n",
    "    \n",
    "    return f1_score, accuracy, test_loss"
   ]
  },
  {
   "attachments": {},
   "cell_type": "markdown",
   "metadata": {},
   "source": [
    "# 학습시키기"
   ]
  },
  {
   "cell_type": "code",
   "execution_count": 55,
   "metadata": {},
   "outputs": [
    {
     "name": "stdout",
     "output_type": "stream",
     "text": [
      "total obs:  11981\n",
      "Counter({4: 6192, 3: 1661, 0: 1633, 6: 1008, 5: 712, 1: 397, 2: 378, 340: 320, 40: 138, 450: 93, 460: 85, 140: 79, 10: 43, 350: 31, 250: 23, 240: 19, 50: 13, 60: 13, 20: 9, 7140: 6, 560: 6, 7340: 4, 260: 3, 150: 3, 730: 3, 7240: 3, 120: 3, 1450: 2, 230: 2, 4560: 2, 7250: 1, 7450: 1, 2450: 1, 3460: 1, 3450: 1, 2340: 1, 1460: 1, 130: 1, 360: 1, 20000: 1, 160: 1, 3410: 1})\n",
      "0 is in single emotion, 1633\n",
      "1 is in single emotion, 397\n",
      "2 is in single emotion, 378\n",
      "3 is in single emotion, 1661\n",
      "4 is in single emotion, 6192\n",
      "5 is in single emotion, 712\n",
      "6 is in single emotion, 1008\n"
     ]
    },
    {
     "data": {
      "text/plain": [
       "tensor([0.8638, 0.9668, 0.9683, 0.8613, 0.4832, 0.9404, 0.9160],\n",
       "       dtype=torch.float16)"
      ]
     },
     "execution_count": 55,
     "metadata": {},
     "output_type": "execute_result"
    }
   ],
   "source": [
    "# weight 계산\n",
    "single_emotion = [0,1,2,3,4,5,6]\n",
    "total_obs = 0\n",
    "for i in single_emotion:\n",
    "    total_obs += Counter(annot_train_final['Emotion'])[i]\n",
    "\n",
    "print('total obs: ', total_obs)\n",
    "print(Counter(annot_train_final['Emotion']))\n",
    "\n",
    "weight_for_class = []\n",
    "for key, value in sorted(Counter(annot_train_final['Emotion']).items()):\n",
    "    if key in single_emotion:\n",
    "        print(f'{key} is in single emotion, {value}')\n",
    "        weight_for_class.append(1 - (value/total_obs))\n",
    "            \n",
    "weight_for_class = torch.Tensor(weight_for_class).type(torch.float16)\n",
    "weight_for_class"
   ]
  },
  {
   "cell_type": "code",
   "execution_count": 56,
   "metadata": {},
   "outputs": [],
   "source": [
    "class weighted_MSELoss(nn.Module):\n",
    "    def __init__(self, weight):\n",
    "        super().__init__()\n",
    "        self.weight = weight.to(device)\n",
    "    def forward(self,inputs,targets):\n",
    "        return ((inputs - targets)**2) * self.weight"
   ]
  },
  {
   "cell_type": "code",
   "execution_count": 49,
   "metadata": {},
   "outputs": [],
   "source": [
    "lr = 1e-4\n",
    "loss_fn = weighted_MSELoss(weight = weight_for_class).to(device)\n",
    "optimizer = optim.Adam(model_mlp_only_mixer.parameters(), lr=lr) "
   ]
  },
  {
   "attachments": {},
   "cell_type": "markdown",
   "metadata": {},
   "source": [
    "## start training mlp fusion mixer"
   ]
  },
  {
   "cell_type": "code",
   "execution_count": 59,
   "metadata": {},
   "outputs": [
    {
     "name": "stdout",
     "output_type": "stream",
     "text": [
      "---------------Epoch 1----------------\n",
      "loss: 0.060222  [    0/12896]\n",
      "Validation Error: Accuracy: 49.6%, Avg val loss: 0.046185 \n",
      "\n",
      "best_acc: 49.607374530556505\n",
      "best_f1: 0.4484733359023132\n",
      "---------------Epoch 2----------------\n",
      "loss: 0.055293  [    0/12896]\n",
      "Validation Error: Accuracy: 52.8%, Avg val loss: 0.043226 \n",
      "\n",
      "best_acc: 52.81666097644248\n",
      "best_f1: 0.49392115535477515\n",
      "---------------Epoch 3----------------\n",
      "loss: 0.053380  [    0/12896]\n",
      "Validation Error: Accuracy: 43.3%, Avg val loss: 0.050138 \n",
      "\n",
      "---------------Epoch 4----------------\n",
      "loss: 0.051113  [    0/12896]\n",
      "Validation Error: Accuracy: 34.9%, Avg val loss: 0.052776 \n",
      "\n",
      "---------------Epoch 5----------------\n",
      "loss: 0.051338  [    0/12896]\n",
      "Validation Error: Accuracy: 29.3%, Avg val loss: 0.058462 \n",
      "\n",
      "---------------Epoch 6----------------\n",
      "loss: 0.043244  [    0/12896]\n",
      "Validation Error: Accuracy: 50.4%, Avg val loss: 0.046017 \n",
      "\n",
      "---------------Epoch 7----------------\n",
      "loss: 0.044235  [    0/12896]\n",
      "Validation Error: Accuracy: 66.7%, Avg val loss: 0.036049 \n",
      "\n",
      "best_acc: 66.67804711505634\n",
      "best_f1: 0.6967613216110812\n",
      "---------------Epoch 8----------------\n",
      "loss: 0.046550  [    0/12896]\n",
      "Validation Error: Accuracy: 30.2%, Avg val loss: 0.058763 \n",
      "\n",
      "---------------Epoch 9----------------\n",
      "loss: 0.036956  [    0/12896]\n",
      "Validation Error: Accuracy: 30.6%, Avg val loss: 0.059688 \n",
      "\n",
      "---------------Epoch 10----------------\n",
      "loss: 0.035869  [    0/12896]\n",
      "Validation Error: Accuracy: 35.5%, Avg val loss: 0.057012 \n",
      "\n",
      "---------------Epoch 11----------------\n",
      "loss: 0.033473  [    0/12896]\n",
      "Validation Error: Accuracy: 18.0%, Avg val loss: 0.063886 \n",
      "\n",
      "---------------Epoch 12----------------\n",
      "loss: 0.033838  [    0/12896]\n",
      "Validation Error: Accuracy: 46.9%, Avg val loss: 0.046806 \n",
      "\n",
      "---------------Epoch 13----------------\n",
      "loss: 0.036804  [    0/12896]\n",
      "Validation Error: Accuracy: 30.7%, Avg val loss: 0.060918 \n",
      "\n",
      "---------------Epoch 14----------------\n",
      "loss: 0.036463  [    0/12896]\n",
      "Validation Error: Accuracy: 36.2%, Avg val loss: 0.058093 \n",
      "\n",
      "---------------Epoch 15----------------\n",
      "loss: 0.032948  [    0/12896]\n",
      "Validation Error: Accuracy: 41.6%, Avg val loss: 0.054492 \n",
      "\n",
      "---------------Epoch 16----------------\n",
      "loss: 0.030222  [    0/12896]\n",
      "Validation Error: Accuracy: 34.8%, Avg val loss: 0.057969 \n",
      "\n",
      "---------------Epoch 17----------------\n",
      "loss: 0.029424  [    0/12896]\n",
      "Validation Error: Accuracy: 31.7%, Avg val loss: 0.059793 \n",
      "\n",
      "---------------Epoch 18----------------\n",
      "loss: 0.027860  [    0/12896]\n",
      "Validation Error: Accuracy: 39.6%, Avg val loss: 0.052636 \n",
      "\n",
      "---------------Epoch 19----------------\n",
      "loss: 0.027803  [    0/12896]\n",
      "Validation Error: Accuracy: 33.8%, Avg val loss: 0.057507 \n",
      "\n",
      "---------------Epoch 20----------------\n",
      "loss: 0.024102  [    0/12896]\n",
      "Validation Error: Accuracy: 35.2%, Avg val loss: 0.056745 \n",
      "\n",
      "---------------Epoch 21----------------\n",
      "loss: 0.027114  [    0/12896]\n",
      "Validation Error: Accuracy: 21.6%, Avg val loss: 0.064940 \n",
      "\n",
      "---------------Epoch 22----------------\n",
      "loss: 0.027092  [    0/12896]\n",
      "Validation Error: Accuracy: 33.5%, Avg val loss: 0.059988 \n",
      "\n",
      "---------------Epoch 23----------------\n",
      "loss: 0.026670  [    0/12896]\n",
      "Validation Error: Accuracy: 29.3%, Avg val loss: 0.060591 \n",
      "\n",
      "---------------Epoch 24----------------\n",
      "loss: 0.025659  [    0/12896]\n",
      "Validation Error: Accuracy: 40.8%, Avg val loss: 0.053146 \n",
      "\n",
      "---------------Epoch 25----------------\n",
      "loss: 0.026032  [    0/12896]\n",
      "Validation Error: Accuracy: 34.9%, Avg val loss: 0.055677 \n",
      "\n",
      "---------------Epoch 26----------------\n",
      "loss: 0.025938  [    0/12896]\n",
      "Validation Error: Accuracy: 30.9%, Avg val loss: 0.059841 \n",
      "\n",
      "---------------Epoch 27----------------\n",
      "loss: 0.029993  [    0/12896]\n",
      "Validation Error: Accuracy: 33.8%, Avg val loss: 0.058195 \n",
      "\n",
      "---------------Epoch 28----------------\n",
      "loss: 0.027282  [    0/12896]\n",
      "Validation Error: Accuracy: 34.4%, Avg val loss: 0.057906 \n",
      "\n",
      "---------------Epoch 29----------------\n",
      "loss: 0.024139  [    0/12896]\n",
      "Validation Error: Accuracy: 34.6%, Avg val loss: 0.057981 \n",
      "\n",
      "---------------Epoch 30----------------\n",
      "loss: 0.028720  [    0/12896]\n",
      "Validation Error: Accuracy: 35.2%, Avg val loss: 0.056952 \n",
      "\n",
      "Done! best f1_score: 0.6967613216110812 | best accuracy: 66.67804711505634\n"
     ]
    }
   ],
   "source": [
    "# Set the Training Parameters\n",
    "from copy import deepcopy\n",
    "epochs = 30\n",
    "loss_list = []\n",
    "acc_list = []\n",
    "best_acc = 0\n",
    "best_f1 = 0\n",
    "best_acc_model = None \n",
    "best_f1_model = None\n",
    "\n",
    "\n",
    "for epoch in range(epochs):\n",
    "    print(f\"---------------Epoch {epoch+1}----------------\")\n",
    "    train(train_dataloader, model_mlp_only_mixer, loss_fn, optimizer)\n",
    "    f1_score, accuracy, loss = test(validation_dataloader, model_mlp_only_mixer, loss_fn, mode = 'val')\n",
    "    if accuracy > best_acc:\n",
    "        best_acc = accuracy\n",
    "        best_acc_model = deepcopy(model_mlp_only_mixer)\n",
    "        print('best_acc:', best_acc)\n",
    "    if f1_score > best_f1:\n",
    "        best_f1 = f1_score\n",
    "        best_f1_model = deepcopy(model_mlp_only_mixer)\n",
    "        print('best_f1:', best_f1)\n",
    "    loss_list.append(loss)\n",
    "    acc_list.append(accuracy)\n",
    "#     wandb.log({'accuracy': accuracy, 'loss': loss, 'f1 score': f1_score})\n",
    "# wandb.finish()\n",
    "print(\"Done!\", f'best f1_score: {best_f1} | best accuracy: {best_acc}')"
   ]
  }
 ],
 "metadata": {
  "kernelspec": {
   "display_name": ".venv",
   "language": "python",
   "name": "python3"
  },
  "language_info": {
   "codemirror_mode": {
    "name": "ipython",
    "version": 3
   },
   "file_extension": ".py",
   "mimetype": "text/x-python",
   "name": "python",
   "nbconvert_exporter": "python",
   "pygments_lexer": "ipython3",
   "version": "3.10.4"
  },
  "orig_nbformat": 4,
  "vscode": {
   "interpreter": {
    "hash": "bdc1fd12ca460d5768d71e9df3d9063ef832ce64a62e55a1a523c8c99752868e"
   }
  }
 },
 "nbformat": 4,
 "nbformat_minor": 2
}
