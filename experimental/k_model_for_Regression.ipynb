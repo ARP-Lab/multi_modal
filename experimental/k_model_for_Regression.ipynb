{
 "cells": [
  {
   "attachments": {},
   "cell_type": "markdown",
   "metadata": {},
   "source": [
    "## Working model for tensorfusion"
   ]
  },
  {
   "cell_type": "code",
   "execution_count": 132,
   "metadata": {},
   "outputs": [
    {
     "name": "stdout",
     "output_type": "stream",
     "text": [
      "1.13.1+cu117\n"
     ]
    }
   ],
   "source": [
    "import pickle\n",
    "import torch\n",
    "from torchmetrics import F1Score\n",
    "import pandas as pd\n",
    "print(torch.__version__)\n"
   ]
  },
  {
   "cell_type": "code",
   "execution_count": 133,
   "metadata": {},
   "outputs": [
    {
     "data": {
      "text/plain": [
       "dict_keys(['file_names', 'text_embeddings', 'wav_embeddings', 'Emotion', 'Arousal', 'Valence'])"
      ]
     },
     "execution_count": 133,
     "metadata": {},
     "output_type": "execute_result"
    }
   ],
   "source": [
    "# data load\n",
    "# Raw dataset의 key는 ['file_names', 'text_embeddings', 'wav_embeddings', 'Emotion', 'Arousal', 'Valence']로 구성\n",
    "\n",
    "with open('../model/data/paradeigma_dataset_1_3.pkl', 'rb') as f:\n",
    "    raw_dataset = pickle.load(f)\n",
    "\n",
    "# with open('../model/data/paradeigma_dataset_1_4.pkl', 'rb') as f:\n",
    "#     raw_dataset = pickle.load(f)\n",
    "    \n",
    "sessions = ['Session01', 'Session02']\n",
    "session = sessions[0]\n",
    "raw_dataset[session].keys()"
   ]
  },
  {
   "cell_type": "code",
   "execution_count": 134,
   "metadata": {},
   "outputs": [
    {
     "data": {
      "text/plain": [
       "24"
      ]
     },
     "execution_count": 134,
     "metadata": {},
     "output_type": "execute_result"
    }
   ],
   "source": [
    "# 40개 세션의 감정 종류는 24개\n",
    "\n",
    "from glob import glob\n",
    "annot_lst = glob('../org_KEMDy20/annotation/*.csv')\n",
    "emotion_list = []\n",
    "for annot_file in annot_lst:\n",
    "    annot = pd.read_csv(annot_file, skiprows=1)\n",
    "    emotion_list.append(annot['Emotion'])\n",
    "emotion_list = list(pd.Series([j for i in emotion_list for j in i]).unique())\n",
    "len(emotion_list)"
   ]
  },
  {
   "cell_type": "code",
   "execution_count": 135,
   "metadata": {},
   "outputs": [
    {
     "data": {
      "text/plain": [
       "0      neutral\n",
       "1      neutral\n",
       "2      neutral\n",
       "3      neutral\n",
       "4      neutral\n",
       "        ...   \n",
       "306    neutral\n",
       "307    neutral\n",
       "308    neutral\n",
       "309    neutral\n",
       "310    neutral\n",
       "Name: Emotion, Length: 311, dtype: object"
      ]
     },
     "execution_count": 135,
     "metadata": {},
     "output_type": "execute_result"
    }
   ],
   "source": [
    "raw_dataset['Session01']['Emotion']"
   ]
  },
  {
   "cell_type": "code",
   "execution_count": 136,
   "metadata": {},
   "outputs": [
    {
     "data": {
      "text/plain": [
       "7"
      ]
     },
     "execution_count": 136,
     "metadata": {},
     "output_type": "execute_result"
    }
   ],
   "source": [
    "# 세션 1,2 의 감정 종류는 7개\n",
    "\n",
    "emotion_lst = []\n",
    "sessions = ['Session01', 'Session02']\n",
    "for session in sessions:\n",
    "    emotion_lst.append(raw_dataset[session]['Emotion'].unique())\n",
    "emotion_lst = [j for i in emotion_lst for j in i]\n",
    "emotion_lst = list(pd.Series(emotion_lst).unique())\n",
    "len(emotion_lst)"
   ]
  },
  {
   "cell_type": "code",
   "execution_count": 137,
   "metadata": {},
   "outputs": [
    {
     "data": {
      "text/plain": [
       "({'happy': 0,\n",
       "  'neutral': 1,\n",
       "  'surprise': 2,\n",
       "  'surprise;neutral': 3,\n",
       "  'sad': 4,\n",
       "  'neutral;sad': 5,\n",
       "  'happy;neutral': 6,\n",
       "  'angry;neutral': 7,\n",
       "  'neutral;disqust': 8,\n",
       "  'angry': 9,\n",
       "  'fear': 10,\n",
       "  'neutral;fear': 11,\n",
       "  'disqust': 12,\n",
       "  'happy;surprise': 13,\n",
       "  'happy;angry;neutral': 14,\n",
       "  'angry;disqust': 15,\n",
       "  'happy;surprise;neutral': 16,\n",
       "  'happy;fear': 17,\n",
       "  'happy;neutral;fear': 18,\n",
       "  'angry;neutral;disqust': 19,\n",
       "  'neutral;disqust;sad': 20,\n",
       "  'angry;neutral;disqust;fear;sad': 21,\n",
       "  'happy;sad': 22,\n",
       "  'happy;neutral;disqust': 23},\n",
       " {0: 'happy',\n",
       "  1: 'neutral',\n",
       "  2: 'surprise',\n",
       "  3: 'surprise;neutral',\n",
       "  4: 'sad',\n",
       "  5: 'neutral;sad',\n",
       "  6: 'happy;neutral',\n",
       "  7: 'angry;neutral',\n",
       "  8: 'neutral;disqust',\n",
       "  9: 'angry',\n",
       "  10: 'fear',\n",
       "  11: 'neutral;fear',\n",
       "  12: 'disqust',\n",
       "  13: 'happy;surprise',\n",
       "  14: 'happy;angry;neutral',\n",
       "  15: 'angry;disqust',\n",
       "  16: 'happy;surprise;neutral',\n",
       "  17: 'happy;fear',\n",
       "  18: 'happy;neutral;fear',\n",
       "  19: 'angry;neutral;disqust',\n",
       "  20: 'neutral;disqust;sad',\n",
       "  21: 'angry;neutral;disqust;fear;sad',\n",
       "  22: 'happy;sad',\n",
       "  23: 'happy;neutral;disqust'})"
      ]
     },
     "execution_count": 137,
     "metadata": {},
     "output_type": "execute_result"
    }
   ],
   "source": [
    "# emotion target에 대한 정수 인코딩, 디코딩\n",
    "\n",
    "encode_dict = {b:i for i, b in enumerate(emotion_list)}\n",
    "decode_dict = {i:b for i, b in enumerate(emotion_list)}\n",
    "encode_dict, decode_dict"
   ]
  },
  {
   "cell_type": "code",
   "execution_count": 138,
   "metadata": {},
   "outputs": [
    {
     "data": {
      "text/plain": [
       "dict_keys(['file_names', 'text_embeddings', 'wav_embeddings', 'Emotion', 'Arousal', 'Valence'])"
      ]
     },
     "execution_count": 138,
     "metadata": {},
     "output_type": "execute_result"
    }
   ],
   "source": [
    "raw_dataset['Session01'].keys()"
   ]
  },
  {
   "cell_type": "code",
   "execution_count": 139,
   "metadata": {},
   "outputs": [
    {
     "data": {
      "text/plain": [
       "dict_keys(['file_names', 'text_embeddings', 'wav_embeddings', 'Emotion', 'Arousal', 'Valence'])"
      ]
     },
     "execution_count": 139,
     "metadata": {},
     "output_type": "execute_result"
    }
   ],
   "source": [
    "## dataset을 합치는 과정\n",
    "## 다시 리뷰해야 할 것\n",
    "\n",
    "merged_dataset = {}\n",
    "for session_key in raw_dataset.keys():\n",
    "    raw_dataset[session_key]['Emotion'] = raw_dataset[session_key]['Emotion'].map(encode_dict)\n",
    "    for data_name in raw_dataset[session_key].keys():\n",
    "        if data_name in merged_dataset.keys():\n",
    "            for data in raw_dataset[session_key][data_name]:\n",
    "                merged_dataset[data_name].append(data)\n",
    "        else:\n",
    "            merged_dataset[data_name] = []\n",
    "            for data in raw_dataset[session_key][data_name]:\n",
    "                merged_dataset[data_name].append(data)\n",
    "    \n",
    "for data_name in merged_dataset.keys():\n",
    "    if data_name == 'text_embeddings' or data_name == 'wav_embeddings':\n",
    "        merged_dataset[data_name] = torch.stack(merged_dataset[data_name])\n",
    "\n",
    "merged_dataset.keys()"
   ]
  },
  {
   "cell_type": "code",
   "execution_count": 140,
   "metadata": {},
   "outputs": [
    {
     "data": {
      "text/plain": [
       "[0, 1, 2, 3, 6, 7, 13]"
      ]
     },
     "execution_count": 140,
     "metadata": {},
     "output_type": "execute_result"
    }
   ],
   "source": [
    "from collections import Counter\n",
    "\n",
    "sorted(Counter(merged_dataset['Emotion']))"
   ]
  },
  {
   "cell_type": "code",
   "execution_count": 141,
   "metadata": {},
   "outputs": [
    {
     "name": "stdout",
     "output_type": "stream",
     "text": [
      "file_names:  576\n",
      "text_embeddings:  576\n",
      "wav_embeddings:  576\n",
      "Emotion:  576\n",
      "Arousal:  576\n",
      "Valence:  576\n"
     ]
    }
   ],
   "source": [
    "for i in merged_dataset.keys():\n",
    "    print(f\"{i}: \", len(merged_dataset[i]))"
   ]
  },
  {
   "attachments": {},
   "cell_type": "markdown",
   "metadata": {},
   "source": [
    "## Torch dataset 만들기\n"
   ]
  },
  {
   "cell_type": "code",
   "execution_count": 142,
   "metadata": {},
   "outputs": [],
   "source": [
    "import os \n",
    "import pandas as pd\n",
    "from datasets import Dataset\n",
    "from torch import nn, optim\n",
    "from torch.utils.data import Dataset, DataLoader, random_split"
   ]
  },
  {
   "cell_type": "code",
   "execution_count": 143,
   "metadata": {},
   "outputs": [],
   "source": [
    "# data load 및 나누기: https://076923.github.io/posts/Python-pytorch-11/\n",
    "\n",
    "class EtriDataset(Dataset):\n",
    "    def __init__(self, file_names, text_embeddings, wave_embeddings, Emotion, Arousal, Valence):\n",
    "        self.file_names = file_names\n",
    "        self.text_embeddings = text_embeddings\n",
    "        self.wav_embeddings = wave_embeddings\n",
    "        self.label_emotion = Emotion\n",
    "        self.label_arousal = Arousal\n",
    "        self.label_valence = Valence\n",
    "        \n",
    "    def __len__(self):\n",
    "        return len(self.file_names)\n",
    "    \n",
    "    def __getitem__(self, idx):\n",
    "        text_embeddings = self.text_embeddings[idx]\n",
    "        wav_embeddings = self.wav_embeddings[idx]\n",
    "        label_emotion = self.label_emotion[idx]\n",
    "        label_arousal = self.label_arousal[idx]\n",
    "        label_valence = self.label_valence[idx]\n",
    "        return text_embeddings, wav_embeddings, label_emotion, label_arousal, label_valence"
   ]
  },
  {
   "cell_type": "code",
   "execution_count": 144,
   "metadata": {},
   "outputs": [],
   "source": [
    "# 개별 session 데이터 셋을 만들었을 때 \n",
    "# dataset = EtriDataset(raw_dataset[session]['file_names'],\n",
    "#                       raw_dataset[session]['text_embeddings'],\n",
    "#                       raw_dataset[session]['wav_embeddings'],\n",
    "#                       raw_dataset[session]['Emotion'],\n",
    "#                       raw_dataset[session]['Arousal'],\n",
    "#                       raw_dataset[session]['Valence'])\n",
    "\n",
    "# session을 통합시킨 데이터 셋을 만들었을 때 \n",
    "dataset = EtriDataset(merged_dataset['file_names'],\n",
    "                      merged_dataset['text_embeddings'],\n",
    "                      merged_dataset['wav_embeddings'],                     \n",
    "                      merged_dataset['Emotion'],\n",
    "                      merged_dataset['Arousal'],\n",
    "                      merged_dataset['Valence'])"
   ]
  },
  {
   "cell_type": "code",
   "execution_count": 145,
   "metadata": {},
   "outputs": [],
   "source": [
    "dataset_size = len(dataset)\n",
    "train_size = int(dataset_size * 0.7)\n",
    "validation_size = int(dataset_size * 0.15)\n",
    "test_size = dataset_size- (train_size + validation_size)"
   ]
  },
  {
   "cell_type": "code",
   "execution_count": 146,
   "metadata": {},
   "outputs": [
    {
     "name": "stdout",
     "output_type": "stream",
     "text": [
      "403 87 86\n",
      "Training Data Size : 403\n",
      "Validation Data Size : 86\n",
      "Testing Data Size : 87\n"
     ]
    }
   ],
   "source": [
    "train_dataset, validation_dataset, test_dataset = random_split(dataset, [train_size, validation_size, test_size])\n",
    "\n",
    "print(train_size, test_size, validation_size)\n",
    "print(f\"Training Data Size : {len(train_dataset)}\")\n",
    "print(f\"Validation Data Size : {len(validation_dataset)}\")\n",
    "print(f\"Testing Data Size : {len(test_dataset)}\")"
   ]
  },
  {
   "cell_type": "code",
   "execution_count": 147,
   "metadata": {},
   "outputs": [],
   "source": [
    "train_dataloader = DataLoader(train_dataset, batch_size = 128, shuffle= True, drop_last = True)\n",
    "validation_dataloader = DataLoader(validation_dataset, batch_size = 32, shuffle= True, drop_last = True)\n",
    "test_dataloader = DataLoader(test_dataset, batch_size = 32, shuffle= True, drop_last = True)"
   ]
  },
  {
   "attachments": {},
   "cell_type": "markdown",
   "metadata": {},
   "source": [
    "## NetWork 만들기"
   ]
  },
  {
   "cell_type": "code",
   "execution_count": 148,
   "metadata": {},
   "outputs": [
    {
     "name": "stdout",
     "output_type": "stream",
     "text": [
      "Using cuda device\n"
     ]
    }
   ],
   "source": [
    "device = 'cuda' if torch.cuda.is_available else 'cpu'\n",
    "print(f'Using {device} device')"
   ]
  },
  {
   "cell_type": "code",
   "execution_count": 149,
   "metadata": {},
   "outputs": [],
   "source": [
    "class MLPNetwork_pre(nn.Module):\n",
    "    def __init__(self, input_length, input_width):\n",
    "        super().__init__()\n",
    "        self.flatten = nn.Flatten()\n",
    "        self.fc1 = nn.Linear(input_length*input_width, 768)\n",
    "        self.gelu1 = nn.GELU()\n",
    "        self.bn1 = nn.BatchNorm1d(768)\n",
    "        self.fc2 = nn.Linear(768, 512)\n",
    "        self.gelu2 = nn.GELU()\n",
    "        self.bn2 = nn.BatchNorm1d(512)\n",
    "        self.fc3 = nn.Linear(512,32)\n",
    "        self.gelu3 = nn.GELU()\n",
    "        \n",
    "    def forward(self, x):\n",
    "        x = self.flatten(x)\n",
    "        x = self.fc1(x)\n",
    "        x = self.gelu1(x)\n",
    "        x = self.bn1(x)\n",
    "        x = self.fc2(x)\n",
    "        x = self.gelu2(x)\n",
    "        x = self.bn2(x)\n",
    "        x = self.fc3(x)\n",
    "        output = self.gelu3(x)\n",
    "        return output\n",
    "    \n",
    "class MLPNetwork_final(nn.Module):\n",
    "    def __init__(self, input_length, input_width):\n",
    "        super().__init__()\n",
    "        self.flatten = nn.Flatten()\n",
    "        self.fc1 = nn.Linear(input_length*input_width, 256)\n",
    "        self.gelu1 = nn.GELU()\n",
    "        self.bn1 = nn.BatchNorm1d(256)\n",
    "        self.fc2 = nn.Linear(256, 64)\n",
    "        self.gelu2 = nn.GELU()\n",
    "        self.bn2 = nn.BatchNorm1d(64)\n",
    "        self.fc3 = nn.Linear(64, 2)\n",
    "        \n",
    "    def forward(self, x):\n",
    "        x = self.flatten(x)\n",
    "        x = self.fc1(x)\n",
    "        x = self.gelu1(x)\n",
    "        x = self.bn1(x)\n",
    "        x = self.fc2(x)\n",
    "        x = self.gelu2(x)\n",
    "        x = self.bn2(x)\n",
    "        output = self.fc3(x)\n",
    "        \n",
    "        return output"
   ]
  },
  {
   "cell_type": "code",
   "execution_count": 150,
   "metadata": {},
   "outputs": [],
   "source": [
    "class TensorFusionMixer(nn.Module):\n",
    "    def __init__(self, ModelA, ModelB):\n",
    "        super().__init__()\n",
    "        self.ModelA = ModelA\n",
    "        self.ModelB = ModelB\n",
    "        self.Model_mlp_final = MLPNetwork_final(32, 32).to(device)\n",
    "        self.softmax = nn.Softmax(dim=1)\n",
    "        \n",
    "    def tensor_fusion(self, batch_arr1, batch_arr2):\n",
    "        fusion_matrix_lst = []\n",
    "        for i, (arr1, arr2) in enumerate(zip(batch_arr1, batch_arr2)):\n",
    "            outer_matrix = torch.outer(arr1, arr2)\n",
    "            l, w = outer_matrix.shape\n",
    "            outer_matrix = outer_matrix.view(1, l, w)\n",
    "            fusion_matrix_lst.append(outer_matrix)\n",
    "        fusion_matrix = torch.concat(fusion_matrix_lst)\n",
    "        \n",
    "        return fusion_matrix\n",
    "    \n",
    "    def forward(self, x1, x2):\n",
    "        x1 = self.ModelA(x1)\n",
    "        x2 = self.ModelB(x2)\n",
    "        fusion_matrix = self.tensor_fusion(x1, x2)\n",
    "        x = self.Model_mlp_final(fusion_matrix)\n",
    "        \n",
    "        return x"
   ]
  },
  {
   "cell_type": "code",
   "execution_count": 151,
   "metadata": {},
   "outputs": [
    {
     "name": "stdout",
     "output_type": "stream",
     "text": [
      "Let's use 4 GPUs!\n",
      "DataParallel(\n",
      "  (module): TensorFusionMixer(\n",
      "    (ModelA): MLPNetwork_pre(\n",
      "      (flatten): Flatten(start_dim=1, end_dim=-1)\n",
      "      (fc1): Linear(in_features=61440, out_features=768, bias=True)\n",
      "      (gelu1): GELU(approximate='none')\n",
      "      (bn1): BatchNorm1d(768, eps=1e-05, momentum=0.1, affine=True, track_running_stats=True)\n",
      "      (fc2): Linear(in_features=768, out_features=512, bias=True)\n",
      "      (gelu2): GELU(approximate='none')\n",
      "      (bn2): BatchNorm1d(512, eps=1e-05, momentum=0.1, affine=True, track_running_stats=True)\n",
      "      (fc3): Linear(in_features=512, out_features=32, bias=True)\n",
      "      (gelu3): GELU(approximate='none')\n",
      "    )\n",
      "    (ModelB): MLPNetwork_pre(\n",
      "      (flatten): Flatten(start_dim=1, end_dim=-1)\n",
      "      (fc1): Linear(in_features=37632, out_features=768, bias=True)\n",
      "      (gelu1): GELU(approximate='none')\n",
      "      (bn1): BatchNorm1d(768, eps=1e-05, momentum=0.1, affine=True, track_running_stats=True)\n",
      "      (fc2): Linear(in_features=768, out_features=512, bias=True)\n",
      "      (gelu2): GELU(approximate='none')\n",
      "      (bn2): BatchNorm1d(512, eps=1e-05, momentum=0.1, affine=True, track_running_stats=True)\n",
      "      (fc3): Linear(in_features=512, out_features=32, bias=True)\n",
      "      (gelu3): GELU(approximate='none')\n",
      "    )\n",
      "    (Model_mlp_final): MLPNetwork_final(\n",
      "      (flatten): Flatten(start_dim=1, end_dim=-1)\n",
      "      (fc1): Linear(in_features=1024, out_features=256, bias=True)\n",
      "      (gelu1): GELU(approximate='none')\n",
      "      (bn1): BatchNorm1d(256, eps=1e-05, momentum=0.1, affine=True, track_running_stats=True)\n",
      "      (fc2): Linear(in_features=256, out_features=64, bias=True)\n",
      "      (gelu2): GELU(approximate='none')\n",
      "      (bn2): BatchNorm1d(64, eps=1e-05, momentum=0.1, affine=True, track_running_stats=True)\n",
      "      (fc3): Linear(in_features=64, out_features=2, bias=True)\n",
      "    )\n",
      "    (softmax): Softmax(dim=1)\n",
      "  )\n",
      ")\n"
     ]
    }
   ],
   "source": [
    "txt_input_length, txt_input_width = merged_dataset['text_embeddings'][0].shape\n",
    "_, wav_input_length, wav_input_width = merged_dataset['wav_embeddings'][0].shape\n",
    "\n",
    "model_mlp_txt = MLPNetwork_pre(txt_input_length,txt_input_width).to(device)\n",
    "model_mlp_wav = MLPNetwork_pre(wav_input_length,wav_input_width).to(device)\n",
    "\n",
    "model_tf_mixer = TensorFusionMixer(ModelA = model_mlp_txt, ModelB = model_mlp_wav).to(device)\n",
    "\n",
    "if torch.cuda.device_count() > 1:\n",
    "    print(\"Let's use\", torch.cuda.device_count(), \"GPUs!\")\n",
    "    model_mlp_txt = nn.DataParallel(model_mlp_txt).to(device)\n",
    "    model_mlp_wav = nn.DataParallel(model_mlp_wav).to(device)\n",
    "    model_tf_mixer = nn.DataParallel(model_tf_mixer).to(device)\n",
    "\n",
    "print(model_tf_mixer)"
   ]
  },
  {
   "cell_type": "code",
   "execution_count": 160,
   "metadata": {},
   "outputs": [],
   "source": [
    "class CCC(nn.Module):\n",
    "    def __init__(self):\n",
    "        super(CCC, self).__init__()\n",
    "        self.mean = torch.mean\n",
    "        self.var = torch.var\n",
    "        self.sum = torch.sum\n",
    "        self.sqrt = torch.sqrt\n",
    "        self.std = torch.std\n",
    "        \n",
    "    def forward(self, pred, target):\n",
    "        mean_gt = self.mean (target, 0)\n",
    "        mean_pred = self.mean (pred, 0)\n",
    "        var_gt = self.var (target, 0)\n",
    "        var_pred = self.var (pred, 0)\n",
    "        v_pred = pred - mean_pred\n",
    "        v_gt = target - mean_gt\n",
    "        cor = self.sum (v_pred * v_gt) / (self.sqrt(self.sum(v_pred ** 2)) * self.sqrt(self.sum(v_gt ** 2)))\n",
    "        sd_gt = self.std(target)\n",
    "        sd_pred = self.std(pred)\n",
    "        numerator = 2 * cor * sd_gt * sd_pred\n",
    "        denominator = var_gt + var_pred + (mean_gt-mean_pred) ** 2\n",
    "        ccc = numerator / denominator\n",
    "        return ccc\n",
    "    \n",
    "ccc = CCC()"
   ]
  },
  {
   "cell_type": "code",
   "execution_count": 163,
   "metadata": {},
   "outputs": [
    {
     "data": {
      "text/plain": [
       "tensor(0.1667)"
      ]
     },
     "execution_count": 163,
     "metadata": {},
     "output_type": "execute_result"
    }
   ],
   "source": [
    "ccc(torch.tensor([1.0,2.0,3.0,4.0,5.0]),torch.tensor([6.0,7.0,8.0,9.0,10.0]))"
   ]
  },
  {
   "cell_type": "code",
   "execution_count": null,
   "metadata": {},
   "outputs": [],
   "source": [
    "regression -> arousal, valence"
   ]
  },
  {
   "cell_type": "code",
   "execution_count": 165,
   "metadata": {},
   "outputs": [],
   "source": [
    "# data 순서: text_embeddings, wav_embeddings, label_emotion, label_arousal, label_valence\n",
    "\n",
    "def train(dataloader, model, loss_fn, optimizer):\n",
    "    \n",
    "    size = len(dataloader.dataset)\n",
    "    for batch, (X_txt, X_wav, _, y_a, y_v) in enumerate(dataloader):\n",
    "\n",
    "        running_ccc_difference = 0.0\n",
    "        X_txt, X_wav, y_a, y_v = X_txt.to(device), X_wav.to(device), y_a.type(torch.FloatTensor).to(device), y_v.type(torch.FloatTensor).to(device)\n",
    "        pred = model(X_txt, X_wav)\n",
    "        # 128,2\n",
    "        \n",
    "        pred_a = pred[:,0]\n",
    "        pred_v = pred[:,1]\n",
    "        \n",
    "        loss_a = loss_fn(pred_a, y_a)\n",
    "        loss_v = loss_fn(pred_v, y_v)\n",
    "        \n",
    "        # ccc: 분모 : 평균2 평균2 표편2 표편2\n",
    "        # ccc([1.1, 2.1], [3.1, 4.1])\n",
    "        \n",
    "        # pred_a : 128\n",
    "        # pred_v : 128\n",
    "        # target_a : 128\n",
    "        # target_v : 128\n",
    "        # 128,2 / 128,2\n",
    "        # ccc( [pred_a, pred_v],[y_a, y_v] )\n",
    "        \n",
    "        # 1번\n",
    "        # 128,1 / 128, 1\n",
    "        pred_ccc = ccc(pred_a, pred_v)\n",
    "        target_ccc = ccc(y_a, y_v)\n",
    "        # : 너희들 arousal valence -가지고 있는 관계성을 맞춰봐 ([1,2,3,.....,128],[1,2,3,.....128])\n",
    "        # : 평균 표준편차 의미가 있는 값?\n",
    "        \n",
    "        # 2번\n",
    "        # 128,1 / 128, 1\n",
    "        # ccc(pred_a, y_a) = 1\n",
    "        # ccc(pred_v, y_v) = 1\n",
    "        # : 너희들 예측 a 실제 a 관계를 1\n",
    "        # : 너희들 예측 v 실제 v 관계를 1 \n",
    "        # : accuracy 대체 \n",
    "        \n",
    "        # 3번\n",
    "        # : 우리가 예측한 a, v와 실제 a, v가 가지고 있는 관계성을 보여봐 ([0.0, 0.0],[0.0, 0.0]) \n",
    "        # : 1이 되기를 바람? \n",
    "        # 2,1 / 2,1\n",
    "        # ccc([pred_a , pred_v], [target_a, target_v])\n",
    "        # : ccc : 하나의 리스트의 평균이랑 표준편차 / 피어슨 상관계수 \n",
    "        \n",
    "        running_ccc_difference += (target_ccc - pred_ccc)\n",
    "\n",
    "        optimizer.zero_grad()\n",
    "        loss_a.backward(retain_graph = True)\n",
    "        loss_v.backward()\n",
    "        optimizer.step()\n",
    "        \n",
    "        if batch % 100 == 0:\n",
    "            loss_a, loss_v, current = loss_a.item(), loss_v.item(), batch * len(X_txt)\n",
    "            print(f\"loss_a: {loss_a:>7f}, loss_b: {loss_v:>7f},  [{current:>5d}/{size:>5d}]\")\n",
    "            print(f\"ccc_difference : {running_ccc_difference}, target_ccc : {target_ccc}, pred_ccc : {pred_ccc}\")"
   ]
  },
  {
   "cell_type": "code",
   "execution_count": 157,
   "metadata": {},
   "outputs": [],
   "source": [
    "def test(dataloader, model, loss_fn, mode = 'test'):\n",
    "    \n",
    "    size = len(dataloader.dataset)\n",
    "    num_batches = len(dataloader)\n",
    "    model.eval()\n",
    "    test_loss_a = 0\n",
    "    test_loss_v = 0\n",
    "    ccc_difference = 0\n",
    "    \n",
    "    preds = []\n",
    "    targets = []\n",
    "    with torch.no_grad():\n",
    "        for batch, (X_txt, X_wav, _, y_a, y_v) in enumerate(dataloader):\n",
    "\n",
    "            X_txt, X_wav, y_a, y_v = X_txt.to(device), X_wav.to(device), y_a.type(torch.FloatTensor).to(device), y_v.type(torch.FloatTensor).to(device)\n",
    "            pred = model(X_txt, X_wav)\n",
    "            \n",
    "            pred_a = pred[:,0]\n",
    "            pred_v = pred[:,1]\n",
    "            \n",
    "            preds.append([pred_a, pred_v])\n",
    "            targets.append([y_a, y_v])\n",
    "            \n",
    "            pred_ccc = ccc(pred_a, pred_v)\n",
    "            target_ccc = ccc(y_a, y_v)\n",
    "            \n",
    "            ccc_difference += target_ccc - pred_ccc\n",
    "            \n",
    "            test_loss_a += loss_fn(pred_a, y_a).item()\n",
    "            test_loss_v += loss_fn(pred_v, y_v).item()\n",
    "            \n",
    "    test_loss_a /= num_batches\n",
    "    test_loss_v /= num_batches\n",
    "    ccc_difference /= num_batches\n",
    "\n",
    "    if mode == 'test':\n",
    "        print(torch.cat(preds), torch.cat(preds).shape)\n",
    "        print(f\"loss_a: {test_loss_a:>7f}, loss_v: {test_loss_v:>7f}\")\n",
    "        print(f\"Tess ccc_difference : {ccc_difference}, target_ccc : {target_ccc}, pred_ccc : {pred_ccc}\")\n",
    "        \n",
    "    elif mode == 'val':\n",
    "        print(f\"loss_a: {test_loss_a:>7f}, loss_v: {test_loss_v:>7f}\")\n",
    "        print(f\"Validation ccc_difference : {ccc_difference}, target_ccc : {target_ccc}, pred_ccc : {pred_ccc}\")    \n",
    " \n",
    "                    "
   ]
  },
  {
   "cell_type": "code",
   "execution_count": 158,
   "metadata": {},
   "outputs": [
    {
     "name": "stderr",
     "output_type": "stream",
     "text": [
      "  0%|          | 0/100 [00:00<?, ?it/s]"
     ]
    },
    {
     "name": "stdout",
     "output_type": "stream",
     "text": [
      "---------------Epoch 1----------------\n",
      "loss_a: 9.169439, loss_b: 9.714881,  [    0/  403]\n",
      "ccc_difference : 0.43770864605903625, target_ccc : 0.43770864605903625, pred_ccc : 5.348805287574976e-10\n"
     ]
    },
    {
     "name": "stderr",
     "output_type": "stream",
     "text": [
      "  1%|          | 1/100 [00:40<1:06:50, 40.51s/it]"
     ]
    },
    {
     "name": "stdout",
     "output_type": "stream",
     "text": [
      "loss_a: 8.762346, loss_v: 9.867057\n",
      "Validation ccc_difference : 0.20948758721351624, target_ccc : -0.2257211059331894, pred_ccc : 8.146208152481904e-10\n",
      "---------------Epoch 2----------------\n",
      "loss_a: 8.913200, loss_b: 9.335247,  [    0/  403]\n",
      "ccc_difference : 0.3181239366531372, target_ccc : 0.3181239366531372, pred_ccc : 5.924124524270269e-10\n"
     ]
    },
    {
     "name": "stderr",
     "output_type": "stream",
     "text": [
      "  2%|▏         | 2/100 [01:18<1:03:35, 38.93s/it]"
     ]
    },
    {
     "name": "stdout",
     "output_type": "stream",
     "text": [
      "loss_a: 8.354021, loss_v: 9.269858\n",
      "Validation ccc_difference : 0.307208776473999, target_ccc : 0.215353325009346, pred_ccc : -5.414180770380028e-10\n",
      "---------------Epoch 3----------------\n",
      "loss_a: 9.110514, loss_b: 9.692461,  [    0/  403]\n",
      "ccc_difference : 0.43866732716560364, target_ccc : 0.43866732716560364, pred_ccc : -1.8045639982311457e-10\n"
     ]
    },
    {
     "name": "stderr",
     "output_type": "stream",
     "text": [
      "  3%|▎         | 3/100 [01:55<1:01:47, 38.22s/it]"
     ]
    },
    {
     "name": "stdout",
     "output_type": "stream",
     "text": [
      "loss_a: 8.455122, loss_v: 9.314874\n",
      "Validation ccc_difference : 0.3379301428794861, target_ccc : 0.44247421622276306, pred_ccc : 1.0403211625487074e-10\n",
      "---------------Epoch 4----------------\n",
      "loss_a: 8.388339, loss_b: 9.120037,  [    0/  403]\n",
      "ccc_difference : 0.4110627770423889, target_ccc : 0.4110627770423889, pred_ccc : 2.9399169210186926e-10\n"
     ]
    },
    {
     "name": "stderr",
     "output_type": "stream",
     "text": [
      "  4%|▍         | 4/100 [02:33<1:00:42, 37.95s/it]"
     ]
    },
    {
     "name": "stdout",
     "output_type": "stream",
     "text": [
      "loss_a: 8.231287, loss_v: 9.258336\n",
      "Validation ccc_difference : 0.4270378649234772, target_ccc : 0.43299296498298645, pred_ccc : -1.0777425618613279e-09\n",
      "---------------Epoch 5----------------\n",
      "loss_a: 8.253743, loss_b: 9.087793,  [    0/  403]\n",
      "ccc_difference : 0.5010652542114258, target_ccc : 0.5010652542114258, pred_ccc : 1.8211594732253644e-10\n"
     ]
    },
    {
     "name": "stderr",
     "output_type": "stream",
     "text": [
      "  5%|▌         | 5/100 [03:10<59:34, 37.62s/it]  "
     ]
    },
    {
     "name": "stdout",
     "output_type": "stream",
     "text": [
      "loss_a: 8.170234, loss_v: 9.128344\n",
      "Validation ccc_difference : 0.3643929064273834, target_ccc : 0.23121632635593414, pred_ccc : 1.5628921767874004e-10\n",
      "---------------Epoch 6----------------\n",
      "loss_a: 8.324615, loss_b: 8.785484,  [    0/  403]\n",
      "ccc_difference : 0.42329829931259155, target_ccc : 0.42329829931259155, pred_ccc : 8.354212321926013e-10\n"
     ]
    },
    {
     "name": "stderr",
     "output_type": "stream",
     "text": [
      "  6%|▌         | 6/100 [03:48<59:25, 37.94s/it]"
     ]
    },
    {
     "name": "stdout",
     "output_type": "stream",
     "text": [
      "loss_a: 7.929512, loss_v: 8.731551\n",
      "Validation ccc_difference : 0.32761210203170776, target_ccc : 0.14969435334205627, pred_ccc : 1.5004492093240174e-09\n",
      "---------------Epoch 7----------------\n",
      "loss_a: 8.001438, loss_b: 8.346936,  [    0/  403]\n",
      "ccc_difference : 0.4727213382720947, target_ccc : 0.4727213382720947, pred_ccc : 5.905387845395182e-10\n"
     ]
    },
    {
     "name": "stderr",
     "output_type": "stream",
     "text": [
      "  7%|▋         | 7/100 [04:28<59:30, 38.39s/it]"
     ]
    },
    {
     "name": "stdout",
     "output_type": "stream",
     "text": [
      "loss_a: 7.747932, loss_v: 8.570105\n",
      "Validation ccc_difference : 0.2848178446292877, target_ccc : 0.4227691888809204, pred_ccc : -4.5275164173297355e-10\n",
      "---------------Epoch 8----------------\n",
      "loss_a: 7.666516, loss_b: 8.003215,  [    0/  403]\n",
      "ccc_difference : 0.2103171944618225, target_ccc : 0.2103171944618225, pred_ccc : 3.795040115495141e-10\n"
     ]
    },
    {
     "name": "stderr",
     "output_type": "stream",
     "text": [
      "  8%|▊         | 8/100 [05:09<1:00:30, 39.46s/it]"
     ]
    },
    {
     "name": "stdout",
     "output_type": "stream",
     "text": [
      "loss_a: 7.588127, loss_v: 8.315894\n",
      "Validation ccc_difference : 0.45772886276245117, target_ccc : 0.4224463105201721, pred_ccc : -3.5113748020343394e-10\n",
      "---------------Epoch 9----------------\n",
      "loss_a: 7.839231, loss_b: 8.511055,  [    0/  403]\n",
      "ccc_difference : 0.5395917296409607, target_ccc : 0.5395917296409607, pred_ccc : 8.045622501562377e-10\n"
     ]
    },
    {
     "name": "stderr",
     "output_type": "stream",
     "text": [
      "  9%|▉         | 9/100 [05:49<59:56, 39.52s/it]  "
     ]
    },
    {
     "name": "stdout",
     "output_type": "stream",
     "text": [
      "loss_a: 7.537785, loss_v: 8.456249\n",
      "Validation ccc_difference : 0.2438962757587433, target_ccc : 0.14307548105716705, pred_ccc : -4.5249623492615854e-10\n",
      "---------------Epoch 10----------------\n",
      "loss_a: 7.187047, loss_b: 7.896741,  [    0/  403]\n",
      "ccc_difference : 0.3192542493343353, target_ccc : 0.3192542493343353, pred_ccc : 1.5805168285254467e-10\n"
     ]
    },
    {
     "name": "stderr",
     "output_type": "stream",
     "text": [
      " 10%|█         | 10/100 [06:26<58:02, 38.70s/it]"
     ]
    },
    {
     "name": "stdout",
     "output_type": "stream",
     "text": [
      "loss_a: 7.465527, loss_v: 8.122511\n",
      "Validation ccc_difference : 0.3180796205997467, target_ccc : 0.17609459161758423, pred_ccc : 4.920876553460296e-11\n",
      "---------------Epoch 11----------------\n",
      "loss_a: 7.465527, loss_b: 7.737986,  [    0/  403]\n",
      "ccc_difference : 0.43477287888526917, target_ccc : 0.43477287888526917, pred_ccc : 3.9628689219028956e-10\n"
     ]
    },
    {
     "name": "stderr",
     "output_type": "stream",
     "text": [
      " 11%|█         | 11/100 [07:01<55:47, 37.61s/it]"
     ]
    },
    {
     "name": "stdout",
     "output_type": "stream",
     "text": [
      "loss_a: 6.921099, loss_v: 7.600821\n",
      "Validation ccc_difference : 0.1555228978395462, target_ccc : -0.034484658390283585, pred_ccc : 1.0497477331838923e-09\n",
      "---------------Epoch 12----------------\n",
      "loss_a: 7.385162, loss_b: 7.829665,  [    0/  403]\n",
      "ccc_difference : 0.3847368359565735, target_ccc : 0.3847368359565735, pred_ccc : -1.0401398492509983e-11\n"
     ]
    },
    {
     "name": "stderr",
     "output_type": "stream",
     "text": [
      " 12%|█▏        | 12/100 [07:34<53:06, 36.21s/it]"
     ]
    },
    {
     "name": "stdout",
     "output_type": "stream",
     "text": [
      "loss_a: 6.869782, loss_v: 7.708582\n",
      "Validation ccc_difference : 0.29184970259666443, target_ccc : 0.18058525025844574, pred_ccc : 1.0723245624788547e-09\n",
      "---------------Epoch 13----------------\n",
      "loss_a: 6.876001, loss_b: 7.693145,  [    0/  403]\n",
      "ccc_difference : 0.408301442861557, target_ccc : 0.408301442861557, pred_ccc : 5.441674333361846e-10\n"
     ]
    },
    {
     "name": "stderr",
     "output_type": "stream",
     "text": [
      " 13%|█▎        | 13/100 [08:06<50:35, 34.89s/it]"
     ]
    },
    {
     "name": "stdout",
     "output_type": "stream",
     "text": [
      "loss_a: 6.786591, loss_v: 7.369337\n",
      "Validation ccc_difference : 0.2952725291252136, target_ccc : 0.3078835904598236, pred_ccc : 1.280898831446109e-09\n",
      "---------------Epoch 14----------------\n",
      "loss_a: 7.060278, loss_b: 7.114509,  [    0/  403]\n",
      "ccc_difference : 0.27256396412849426, target_ccc : 0.27256396412849426, pred_ccc : 5.750649401115027e-10\n"
     ]
    },
    {
     "name": "stderr",
     "output_type": "stream",
     "text": [
      " 14%|█▍        | 14/100 [08:38<48:51, 34.09s/it]"
     ]
    },
    {
     "name": "stdout",
     "output_type": "stream",
     "text": [
      "loss_a: 6.599270, loss_v: 7.184404\n",
      "Validation ccc_difference : 0.31097978353500366, target_ccc : 0.16181492805480957, pred_ccc : 1.3967046408325245e-09\n",
      "---------------Epoch 15----------------\n",
      "loss_a: 6.994340, loss_b: 7.268428,  [    0/  403]\n",
      "ccc_difference : 0.4817069172859192, target_ccc : 0.4817069172859192, pred_ccc : 9.801484068816535e-10\n"
     ]
    },
    {
     "name": "stderr",
     "output_type": "stream",
     "text": [
      " 15%|█▌        | 15/100 [09:11<47:36, 33.60s/it]"
     ]
    },
    {
     "name": "stdout",
     "output_type": "stream",
     "text": [
      "loss_a: 6.577525, loss_v: 7.263390\n",
      "Validation ccc_difference : 0.4137824773788452, target_ccc : 0.38341012597084045, pred_ccc : 5.0508670162985325e-11\n",
      "---------------Epoch 16----------------\n",
      "loss_a: 6.518096, loss_b: 7.156498,  [    0/  403]\n",
      "ccc_difference : 0.40563008189201355, target_ccc : 0.40563008189201355, pred_ccc : 3.1989544346799903e-10\n"
     ]
    },
    {
     "name": "stderr",
     "output_type": "stream",
     "text": [
      " 16%|█▌        | 16/100 [09:42<46:10, 32.98s/it]"
     ]
    },
    {
     "name": "stdout",
     "output_type": "stream",
     "text": [
      "loss_a: 6.450353, loss_v: 6.920825\n",
      "Validation ccc_difference : 0.22613027691841125, target_ccc : 0.22924348711967468, pred_ccc : -9.021932645403297e-10\n",
      "---------------Epoch 17----------------\n",
      "loss_a: 6.532705, loss_b: 7.004730,  [    0/  403]\n",
      "ccc_difference : 0.4144865572452545, target_ccc : 0.4144865572452545, pred_ccc : 1.0311120846040467e-09\n"
     ]
    },
    {
     "name": "stderr",
     "output_type": "stream",
     "text": [
      " 17%|█▋        | 17/100 [10:14<44:57, 32.50s/it]"
     ]
    },
    {
     "name": "stdout",
     "output_type": "stream",
     "text": [
      "loss_a: 6.268719, loss_v: 6.815831\n",
      "Validation ccc_difference : 0.26510798931121826, target_ccc : 0.32243019342422485, pred_ccc : 2.1741936029329167e-10\n",
      "---------------Epoch 18----------------\n",
      "loss_a: 6.212823, loss_b: 6.593468,  [    0/  403]\n",
      "ccc_difference : 0.3224857449531555, target_ccc : 0.3224857449531555, pred_ccc : 7.546320235363169e-10\n"
     ]
    },
    {
     "name": "stderr",
     "output_type": "stream",
     "text": [
      " 18%|█▊        | 18/100 [10:47<44:57, 32.89s/it]"
     ]
    },
    {
     "name": "stdout",
     "output_type": "stream",
     "text": [
      "loss_a: 6.132365, loss_v: 6.940267\n",
      "Validation ccc_difference : 0.30043935775756836, target_ccc : 0.2462378293275833, pred_ccc : 3.600775233536524e-10\n",
      "---------------Epoch 19----------------\n",
      "loss_a: 6.278869, loss_b: 6.585382,  [    0/  403]\n",
      "ccc_difference : 0.40716618299484253, target_ccc : 0.40716618299484253, pred_ccc : 1.3491925354713885e-09\n"
     ]
    },
    {
     "name": "stderr",
     "output_type": "stream",
     "text": [
      " 19%|█▉        | 19/100 [11:20<44:08, 32.69s/it]"
     ]
    },
    {
     "name": "stdout",
     "output_type": "stream",
     "text": [
      "loss_a: 5.964246, loss_v: 6.595139\n",
      "Validation ccc_difference : 0.35826659202575684, target_ccc : 0.3055988550186157, pred_ccc : 1.7797706641786704e-09\n",
      "---------------Epoch 20----------------\n",
      "loss_a: 6.157485, loss_b: 6.360966,  [    0/  403]\n",
      "ccc_difference : 0.4980805516242981, target_ccc : 0.4980805516242981, pred_ccc : 4.5241974055976186e-10\n"
     ]
    },
    {
     "name": "stderr",
     "output_type": "stream",
     "text": [
      " 20%|██        | 20/100 [11:53<44:01, 33.02s/it]"
     ]
    },
    {
     "name": "stdout",
     "output_type": "stream",
     "text": [
      "loss_a: 6.047247, loss_v: 6.646065\n",
      "Validation ccc_difference : 0.29045388102531433, target_ccc : 0.193364679813385, pred_ccc : 7.658964018553149e-10\n",
      "---------------Epoch 21----------------\n",
      "loss_a: 5.989910, loss_b: 6.177861,  [    0/  403]\n",
      "ccc_difference : 0.2574733793735504, target_ccc : 0.2574733793735504, pred_ccc : 2.706947999087106e-09\n"
     ]
    },
    {
     "name": "stderr",
     "output_type": "stream",
     "text": [
      " 21%|██        | 21/100 [12:26<43:12, 32.81s/it]"
     ]
    },
    {
     "name": "stdout",
     "output_type": "stream",
     "text": [
      "loss_a: 5.829348, loss_v: 6.484995\n",
      "Validation ccc_difference : 0.3477116525173187, target_ccc : 0.2824767529964447, pred_ccc : 1.3646009877632537e-09\n",
      "---------------Epoch 22----------------\n",
      "loss_a: 5.905207, loss_b: 6.099062,  [    0/  403]\n",
      "ccc_difference : 0.39353689551353455, target_ccc : 0.39353689551353455, pred_ccc : 1.9714643251234065e-09\n"
     ]
    },
    {
     "name": "stderr",
     "output_type": "stream",
     "text": [
      " 22%|██▏       | 22/100 [12:58<42:25, 32.64s/it]"
     ]
    },
    {
     "name": "stdout",
     "output_type": "stream",
     "text": [
      "loss_a: 5.583491, loss_v: 6.203522\n",
      "Validation ccc_difference : 0.34043678641319275, target_ccc : 0.2385995239019394, pred_ccc : 2.6223940796654688e-09\n",
      "---------------Epoch 23----------------\n",
      "loss_a: 5.668293, loss_b: 5.912434,  [    0/  403]\n",
      "ccc_difference : 0.3218963146209717, target_ccc : 0.3218963146209717, pred_ccc : 2.1716421994000257e-09\n"
     ]
    },
    {
     "name": "stderr",
     "output_type": "stream",
     "text": [
      " 23%|██▎       | 23/100 [13:30<41:42, 32.50s/it]"
     ]
    },
    {
     "name": "stdout",
     "output_type": "stream",
     "text": [
      "loss_a: 5.598763, loss_v: 6.012747\n",
      "Validation ccc_difference : 0.3639889061450958, target_ccc : 0.4363813102245331, pred_ccc : 1.70733993609673e-09\n",
      "---------------Epoch 24----------------\n",
      "loss_a: 5.739466, loss_b: 5.891917,  [    0/  403]\n",
      "ccc_difference : 0.41869547963142395, target_ccc : 0.41869547963142395, pred_ccc : 1.5040124701215518e-09\n"
     ]
    },
    {
     "name": "stderr",
     "output_type": "stream",
     "text": [
      " 24%|██▍       | 24/100 [14:03<41:21, 32.65s/it]"
     ]
    },
    {
     "name": "stdout",
     "output_type": "stream",
     "text": [
      "loss_a: 5.224259, loss_v: 5.918790\n",
      "Validation ccc_difference : 0.3355678915977478, target_ccc : 0.3102310299873352, pred_ccc : 1.5489390881029408e-09\n",
      "---------------Epoch 25----------------\n",
      "loss_a: 5.361723, loss_b: 5.652324,  [    0/  403]\n",
      "ccc_difference : 0.31604743003845215, target_ccc : 0.31604743003845215, pred_ccc : 3.163715733833783e-09\n"
     ]
    },
    {
     "name": "stderr",
     "output_type": "stream",
     "text": [
      " 25%|██▌       | 25/100 [14:36<41:03, 32.85s/it]"
     ]
    },
    {
     "name": "stdout",
     "output_type": "stream",
     "text": [
      "loss_a: 5.245439, loss_v: 5.728725\n",
      "Validation ccc_difference : 0.22981497645378113, target_ccc : 0.08388441056013107, pred_ccc : 3.6266656344707826e-09\n",
      "---------------Epoch 26----------------\n",
      "loss_a: 5.158206, loss_b: 5.606759,  [    0/  403]\n",
      "ccc_difference : 0.4367077052593231, target_ccc : 0.4367077052593231, pred_ccc : 3.195419262524979e-09\n"
     ]
    },
    {
     "name": "stderr",
     "output_type": "stream",
     "text": [
      " 26%|██▌       | 26/100 [15:08<40:01, 32.45s/it]"
     ]
    },
    {
     "name": "stdout",
     "output_type": "stream",
     "text": [
      "loss_a: 5.085083, loss_v: 5.618401\n",
      "Validation ccc_difference : 0.3080058693885803, target_ccc : 0.30139991641044617, pred_ccc : 1.3519426689256875e-09\n",
      "---------------Epoch 27----------------\n",
      "loss_a: 4.930144, loss_b: 5.359853,  [    0/  403]\n",
      "ccc_difference : 0.3664868175983429, target_ccc : 0.3664868175983429, pred_ccc : 3.5545046905838262e-09\n"
     ]
    },
    {
     "name": "stderr",
     "output_type": "stream",
     "text": [
      " 27%|██▋       | 27/100 [15:41<39:35, 32.54s/it]"
     ]
    },
    {
     "name": "stdout",
     "output_type": "stream",
     "text": [
      "loss_a: 4.883347, loss_v: 5.384241\n",
      "Validation ccc_difference : 0.23179131746292114, target_ccc : 0.33076557517051697, pred_ccc : 7.234295940072855e-10\n",
      "---------------Epoch 28----------------\n",
      "loss_a: 4.959178, loss_b: 5.098050,  [    0/  403]\n",
      "ccc_difference : 0.26346123218536377, target_ccc : 0.26346123218536377, pred_ccc : 3.5895606487201803e-09\n"
     ]
    },
    {
     "name": "stderr",
     "output_type": "stream",
     "text": [
      " 28%|██▊       | 28/100 [16:14<39:13, 32.69s/it]"
     ]
    },
    {
     "name": "stdout",
     "output_type": "stream",
     "text": [
      "loss_a: 4.712235, loss_v: 5.169417\n",
      "Validation ccc_difference : 0.3892543315887451, target_ccc : 0.46470075845718384, pred_ccc : 3.1734557204288194e-09\n",
      "---------------Epoch 29----------------\n",
      "loss_a: 4.868326, loss_b: 5.148154,  [    0/  403]\n",
      "ccc_difference : 0.4374321401119232, target_ccc : 0.4374321401119232, pred_ccc : 4.617599191902855e-09\n"
     ]
    },
    {
     "name": "stderr",
     "output_type": "stream",
     "text": [
      " 29%|██▉       | 29/100 [16:46<38:27, 32.51s/it]"
     ]
    },
    {
     "name": "stdout",
     "output_type": "stream",
     "text": [
      "loss_a: 4.606594, loss_v: 5.184172\n",
      "Validation ccc_difference : 0.3717983663082123, target_ccc : 0.39920657873153687, pred_ccc : 2.2279582623241367e-09\n",
      "---------------Epoch 30----------------\n",
      "loss_a: 4.727649, loss_b: 5.105851,  [    0/  403]\n",
      "ccc_difference : 0.46031618118286133, target_ccc : 0.46031618118286133, pred_ccc : 4.757519267428734e-09\n"
     ]
    },
    {
     "name": "stderr",
     "output_type": "stream",
     "text": [
      " 30%|███       | 30/100 [17:18<37:51, 32.45s/it]"
     ]
    },
    {
     "name": "stdout",
     "output_type": "stream",
     "text": [
      "loss_a: 4.491437, loss_v: 5.015171\n",
      "Validation ccc_difference : 0.36245429515838623, target_ccc : 0.46954992413520813, pred_ccc : 8.67599714293732e-10\n",
      "---------------Epoch 31----------------\n",
      "loss_a: 4.558976, loss_b: 4.769160,  [    0/  403]\n",
      "ccc_difference : 0.3599638342857361, target_ccc : 0.3599638342857361, pred_ccc : 3.704462292475341e-09\n"
     ]
    },
    {
     "name": "stderr",
     "output_type": "stream",
     "text": [
      " 31%|███       | 31/100 [17:51<37:28, 32.59s/it]"
     ]
    },
    {
     "name": "stdout",
     "output_type": "stream",
     "text": [
      "loss_a: 4.206474, loss_v: 4.869356\n",
      "Validation ccc_difference : 0.28943419456481934, target_ccc : 0.2402535229921341, pred_ccc : 4.401137676524058e-09\n",
      "---------------Epoch 32----------------\n",
      "loss_a: 4.602508, loss_b: 4.782358,  [    0/  403]\n",
      "ccc_difference : 0.35350027680397034, target_ccc : 0.35350027680397034, pred_ccc : 6.748747782836517e-09\n"
     ]
    },
    {
     "name": "stderr",
     "output_type": "stream",
     "text": [
      " 32%|███▏      | 32/100 [18:24<36:57, 32.61s/it]"
     ]
    },
    {
     "name": "stdout",
     "output_type": "stream",
     "text": [
      "loss_a: 4.243467, loss_v: 4.697847\n",
      "Validation ccc_difference : 0.3304876387119293, target_ccc : 0.342545747756958, pred_ccc : 4.336489833889345e-09\n",
      "---------------Epoch 33----------------\n",
      "loss_a: 4.066803, loss_b: 4.435814,  [    0/  403]\n",
      "ccc_difference : 0.24963967502117157, target_ccc : 0.24963967502117157, pred_ccc : 4.8798582952258585e-09\n"
     ]
    },
    {
     "name": "stderr",
     "output_type": "stream",
     "text": [
      " 33%|███▎      | 33/100 [18:55<36:06, 32.34s/it]"
     ]
    },
    {
     "name": "stdout",
     "output_type": "stream",
     "text": [
      "loss_a: 4.060353, loss_v: 4.450963\n",
      "Validation ccc_difference : 0.2858915627002716, target_ccc : 0.3249031603336334, pred_ccc : 3.0754985225200926e-09\n",
      "---------------Epoch 34----------------\n",
      "loss_a: 4.300117, loss_b: 4.598338,  [    0/  403]\n",
      "ccc_difference : 0.4009631276130676, target_ccc : 0.4009631276130676, pred_ccc : 5.516390011450767e-09\n"
     ]
    },
    {
     "name": "stderr",
     "output_type": "stream",
     "text": [
      " 34%|███▍      | 34/100 [19:28<35:39, 32.41s/it]"
     ]
    },
    {
     "name": "stdout",
     "output_type": "stream",
     "text": [
      "loss_a: 3.853798, loss_v: 4.359765\n",
      "Validation ccc_difference : 0.28304412961006165, target_ccc : 0.2962539494037628, pred_ccc : 6.1663918415888475e-09\n",
      "---------------Epoch 35----------------\n",
      "loss_a: 3.991505, loss_b: 4.284979,  [    0/  403]\n",
      "ccc_difference : 0.43163517117500305, target_ccc : 0.43163517117500305, pred_ccc : 5.304322314714227e-09\n"
     ]
    },
    {
     "name": "stderr",
     "output_type": "stream",
     "text": [
      " 35%|███▌      | 35/100 [20:02<35:41, 32.95s/it]"
     ]
    },
    {
     "name": "stdout",
     "output_type": "stream",
     "text": [
      "loss_a: 3.775126, loss_v: 4.275649\n",
      "Validation ccc_difference : 0.39528703689575195, target_ccc : 0.3735928535461426, pred_ccc : 5.427879035124761e-09\n",
      "---------------Epoch 36----------------\n",
      "loss_a: 3.855751, loss_b: 3.901020,  [    0/  403]\n",
      "ccc_difference : 0.2712081968784332, target_ccc : 0.2712081968784332, pred_ccc : 5.299766847599585e-09\n"
     ]
    },
    {
     "name": "stderr",
     "output_type": "stream",
     "text": [
      " 36%|███▌      | 36/100 [20:36<35:28, 33.25s/it]"
     ]
    },
    {
     "name": "stdout",
     "output_type": "stream",
     "text": [
      "loss_a: 3.647912, loss_v: 4.195737\n",
      "Validation ccc_difference : 0.34874385595321655, target_ccc : 0.5068575143814087, pred_ccc : 5.209514597481757e-09\n",
      "---------------Epoch 37----------------\n",
      "loss_a: 3.761362, loss_b: 3.880053,  [    0/  403]\n",
      "ccc_difference : 0.37892645597457886, target_ccc : 0.37892645597457886, pred_ccc : 6.352272041709739e-09\n"
     ]
    },
    {
     "name": "stderr",
     "output_type": "stream",
     "text": [
      " 37%|███▋      | 37/100 [21:11<35:30, 33.82s/it]"
     ]
    },
    {
     "name": "stdout",
     "output_type": "stream",
     "text": [
      "loss_a: 3.558363, loss_v: 3.991814\n",
      "Validation ccc_difference : 0.3593997359275818, target_ccc : 0.3289683163166046, pred_ccc : 3.692419703327232e-09\n",
      "---------------Epoch 38----------------\n",
      "loss_a: 3.599958, loss_b: 3.741664,  [    0/  403]\n",
      "ccc_difference : 0.22405627369880676, target_ccc : 0.22405627369880676, pred_ccc : 4.817320764516353e-09\n"
     ]
    },
    {
     "name": "stderr",
     "output_type": "stream",
     "text": [
      " 38%|███▊      | 38/100 [21:45<35:03, 33.92s/it]"
     ]
    },
    {
     "name": "stdout",
     "output_type": "stream",
     "text": [
      "loss_a: 3.411463, loss_v: 3.985999\n",
      "Validation ccc_difference : 0.30052319169044495, target_ccc : 0.6133100986480713, pred_ccc : 1.9609254220398498e-09\n",
      "---------------Epoch 39----------------\n",
      "loss_a: 3.615932, loss_b: 3.846076,  [    0/  403]\n",
      "ccc_difference : 0.3672267198562622, target_ccc : 0.3672267198562622, pred_ccc : 6.319206047322723e-09\n"
     ]
    },
    {
     "name": "stderr",
     "output_type": "stream",
     "text": [
      " 39%|███▉      | 39/100 [22:20<34:46, 34.21s/it]"
     ]
    },
    {
     "name": "stdout",
     "output_type": "stream",
     "text": [
      "loss_a: 3.270421, loss_v: 3.787614\n",
      "Validation ccc_difference : 0.3236234188079834, target_ccc : 0.35258474946022034, pred_ccc : 7.442385818734465e-09\n",
      "---------------Epoch 40----------------\n",
      "loss_a: 3.390941, loss_b: 3.739258,  [    0/  403]\n",
      "ccc_difference : 0.41615790128707886, target_ccc : 0.41615790128707886, pred_ccc : 4.802725772634631e-09\n"
     ]
    },
    {
     "name": "stderr",
     "output_type": "stream",
     "text": [
      " 40%|████      | 40/100 [22:52<33:35, 33.59s/it]"
     ]
    },
    {
     "name": "stdout",
     "output_type": "stream",
     "text": [
      "loss_a: 3.099138, loss_v: 3.456399\n",
      "Validation ccc_difference : 0.16801829636096954, target_ccc : 0.4069662094116211, pred_ccc : 7.25227966569264e-09\n",
      "---------------Epoch 41----------------\n",
      "loss_a: 3.216780, loss_b: 3.454055,  [    0/  403]\n",
      "ccc_difference : 0.47015294432640076, target_ccc : 0.47015294432640076, pred_ccc : 7.793606648931473e-09\n"
     ]
    },
    {
     "name": "stderr",
     "output_type": "stream",
     "text": [
      " 41%|████      | 41/100 [23:24<32:30, 33.06s/it]"
     ]
    },
    {
     "name": "stdout",
     "output_type": "stream",
     "text": [
      "loss_a: 2.972997, loss_v: 3.356603\n",
      "Validation ccc_difference : 0.24154937267303467, target_ccc : -0.13621985912322998, pred_ccc : 5.2093409586007056e-09\n",
      "---------------Epoch 42----------------\n",
      "loss_a: 3.189496, loss_b: 3.273251,  [    0/  403]\n",
      "ccc_difference : 0.317903608083725, target_ccc : 0.317903608083725, pred_ccc : 8.344022361939096e-09\n"
     ]
    },
    {
     "name": "stderr",
     "output_type": "stream",
     "text": [
      " 42%|████▏     | 42/100 [23:56<31:40, 32.76s/it]"
     ]
    },
    {
     "name": "stdout",
     "output_type": "stream",
     "text": [
      "loss_a: 2.945480, loss_v: 3.383425\n",
      "Validation ccc_difference : 0.2564389109611511, target_ccc : 0.18978101015090942, pred_ccc : 6.8936900632365905e-09\n",
      "---------------Epoch 43----------------\n",
      "loss_a: 2.998157, loss_b: 3.293179,  [    0/  403]\n",
      "ccc_difference : 0.3074890971183777, target_ccc : 0.3074890971183777, pred_ccc : 8.299795517530129e-09\n"
     ]
    },
    {
     "name": "stderr",
     "output_type": "stream",
     "text": [
      " 43%|████▎     | 43/100 [24:29<30:57, 32.58s/it]"
     ]
    },
    {
     "name": "stdout",
     "output_type": "stream",
     "text": [
      "loss_a: 2.658826, loss_v: 3.065103\n",
      "Validation ccc_difference : 0.341313898563385, target_ccc : 0.42932984232902527, pred_ccc : 5.777333278444985e-09\n",
      "---------------Epoch 44----------------\n",
      "loss_a: 3.025026, loss_b: 3.388822,  [    0/  403]\n",
      "ccc_difference : 0.546899139881134, target_ccc : 0.546899139881134, pred_ccc : 1.1391168897034731e-08\n"
     ]
    },
    {
     "name": "stderr",
     "output_type": "stream",
     "text": [
      " 44%|████▍     | 44/100 [25:03<30:54, 33.11s/it]"
     ]
    },
    {
     "name": "stdout",
     "output_type": "stream",
     "text": [
      "loss_a: 2.687352, loss_v: 3.172379\n",
      "Validation ccc_difference : 0.4122034013271332, target_ccc : 0.3576591908931732, pred_ccc : 1.1177717418320299e-08\n",
      "---------------Epoch 45----------------\n",
      "loss_a: 2.711151, loss_b: 3.052466,  [    0/  403]\n",
      "ccc_difference : 0.4728110730648041, target_ccc : 0.4728110730648041, pred_ccc : 6.605487712363356e-09\n"
     ]
    },
    {
     "name": "stderr",
     "output_type": "stream",
     "text": [
      " 45%|████▌     | 45/100 [25:38<30:50, 33.65s/it]"
     ]
    },
    {
     "name": "stdout",
     "output_type": "stream",
     "text": [
      "loss_a: 2.574551, loss_v: 2.948683\n",
      "Validation ccc_difference : 0.2998347878456116, target_ccc : 0.15909932553768158, pred_ccc : 1.2166593954532345e-08\n",
      "---------------Epoch 46----------------\n",
      "loss_a: 2.597693, loss_b: 2.860219,  [    0/  403]\n",
      "ccc_difference : 0.32801052927970886, target_ccc : 0.32801052927970886, pred_ccc : 1.0491196356099408e-08\n"
     ]
    },
    {
     "name": "stderr",
     "output_type": "stream",
     "text": [
      " 46%|████▌     | 46/100 [26:10<30:01, 33.35s/it]"
     ]
    },
    {
     "name": "stdout",
     "output_type": "stream",
     "text": [
      "loss_a: 2.504112, loss_v: 2.757714\n",
      "Validation ccc_difference : 0.28016525506973267, target_ccc : 0.32176467776298523, pred_ccc : 1.2072735700030535e-08\n",
      "---------------Epoch 47----------------\n",
      "loss_a: 2.600209, loss_b: 2.712638,  [    0/  403]\n",
      "ccc_difference : 0.3856165111064911, target_ccc : 0.3856165111064911, pred_ccc : 9.942734635615125e-09\n"
     ]
    },
    {
     "name": "stderr",
     "output_type": "stream",
     "text": [
      " 47%|████▋     | 47/100 [26:44<29:38, 33.55s/it]"
     ]
    },
    {
     "name": "stdout",
     "output_type": "stream",
     "text": [
      "loss_a: 2.343857, loss_v: 2.572471\n",
      "Validation ccc_difference : 0.2786305546760559, target_ccc : 0.4581505060195923, pred_ccc : 1.0909087855281996e-08\n",
      "---------------Epoch 48----------------\n",
      "loss_a: 2.391956, loss_b: 2.550620,  [    0/  403]\n",
      "ccc_difference : 0.26243388652801514, target_ccc : 0.26243388652801514, pred_ccc : 1.2080488609456097e-08\n"
     ]
    },
    {
     "name": "stderr",
     "output_type": "stream",
     "text": [
      " 48%|████▊     | 48/100 [27:33<33:05, 38.18s/it]"
     ]
    },
    {
     "name": "stdout",
     "output_type": "stream",
     "text": [
      "loss_a: 2.312916, loss_v: 2.541857\n",
      "Validation ccc_difference : 0.28634223341941833, target_ccc : 0.09886417537927628, pred_ccc : 7.13333347945877e-09\n",
      "---------------Epoch 49----------------\n",
      "loss_a: 2.351308, loss_b: 2.447298,  [    0/  403]\n",
      "ccc_difference : 0.36647799611091614, target_ccc : 0.36647799611091614, pred_ccc : 1.3451788127838427e-08\n"
     ]
    },
    {
     "name": "stderr",
     "output_type": "stream",
     "text": [
      " 49%|████▉     | 49/100 [28:30<37:02, 43.58s/it]"
     ]
    },
    {
     "name": "stdout",
     "output_type": "stream",
     "text": [
      "loss_a: 2.133129, loss_v: 2.519861\n",
      "Validation ccc_difference : 0.43379896879196167, target_ccc : 0.3248606324195862, pred_ccc : 1.538019667179924e-08\n",
      "---------------Epoch 50----------------\n",
      "loss_a: 2.234503, loss_b: 2.325861,  [    0/  403]\n",
      "ccc_difference : 0.3774705231189728, target_ccc : 0.3774705231189728, pred_ccc : 1.4395797443000902e-08\n"
     ]
    },
    {
     "name": "stderr",
     "output_type": "stream",
     "text": [
      " 50%|█████     | 50/100 [29:21<38:19, 45.98s/it]"
     ]
    },
    {
     "name": "stdout",
     "output_type": "stream",
     "text": [
      "loss_a: 2.102470, loss_v: 2.454507\n",
      "Validation ccc_difference : 0.30428051948547363, target_ccc : 0.46950554847717285, pred_ccc : 7.237403565341083e-09\n",
      "---------------Epoch 51----------------\n",
      "loss_a: 2.159659, loss_b: 2.424677,  [    0/  403]\n",
      "ccc_difference : 0.4559750556945801, target_ccc : 0.4559750556945801, pred_ccc : 1.1252473619549619e-08\n"
     ]
    },
    {
     "name": "stderr",
     "output_type": "stream",
     "text": [
      " 51%|█████     | 51/100 [30:08<37:45, 46.24s/it]"
     ]
    },
    {
     "name": "stdout",
     "output_type": "stream",
     "text": [
      "loss_a: 1.880828, loss_v: 2.078629\n",
      "Validation ccc_difference : 0.2331346571445465, target_ccc : 0.05836540460586548, pred_ccc : 1.6103346212048564e-08\n",
      "---------------Epoch 52----------------\n",
      "loss_a: 1.933282, loss_b: 2.161713,  [    0/  403]\n",
      "ccc_difference : 0.40121644735336304, target_ccc : 0.40121644735336304, pred_ccc : 1.2169518726068418e-08\n"
     ]
    },
    {
     "name": "stderr",
     "output_type": "stream",
     "text": [
      " 52%|█████▏    | 52/100 [30:51<36:10, 45.21s/it]"
     ]
    },
    {
     "name": "stdout",
     "output_type": "stream",
     "text": [
      "loss_a: 1.863102, loss_v: 2.096402\n",
      "Validation ccc_difference : 0.3903927803039551, target_ccc : 0.5258585810661316, pred_ccc : 1.77395875766706e-08\n",
      "---------------Epoch 53----------------\n",
      "loss_a: 2.095708, loss_b: 2.078761,  [    0/  403]\n",
      "ccc_difference : 0.45261847972869873, target_ccc : 0.45261847972869873, pred_ccc : 9.408140932976039e-09\n"
     ]
    },
    {
     "name": "stderr",
     "output_type": "stream",
     "text": [
      " 53%|█████▎    | 53/100 [31:35<35:13, 44.96s/it]"
     ]
    },
    {
     "name": "stdout",
     "output_type": "stream",
     "text": [
      "loss_a: 1.707366, loss_v: 2.043333\n",
      "Validation ccc_difference : 0.39249709248542786, target_ccc : 0.48587581515312195, pred_ccc : 1.4296864137008924e-08\n",
      "---------------Epoch 54----------------\n",
      "loss_a: 1.791070, loss_b: 1.947016,  [    0/  403]\n",
      "ccc_difference : 0.29238781332969666, target_ccc : 0.29238781332969666, pred_ccc : 1.3526409325947952e-08\n"
     ]
    },
    {
     "name": "stderr",
     "output_type": "stream",
     "text": [
      " 54%|█████▍    | 54/100 [32:13<32:54, 42.92s/it]"
     ]
    },
    {
     "name": "stdout",
     "output_type": "stream",
     "text": [
      "loss_a: 1.706147, loss_v: 1.960884\n",
      "Validation ccc_difference : 0.3075847029685974, target_ccc : 0.10658107697963715, pred_ccc : 2.0828798241723234e-08\n",
      "---------------Epoch 55----------------\n",
      "loss_a: 1.685212, loss_b: 1.692449,  [    0/  403]\n",
      "ccc_difference : 0.30077794194221497, target_ccc : 0.30077797174453735, pred_ccc : 1.7444348188178083e-08\n"
     ]
    },
    {
     "name": "stderr",
     "output_type": "stream",
     "text": [
      " 55%|█████▌    | 55/100 [32:48<30:16, 40.37s/it]"
     ]
    },
    {
     "name": "stdout",
     "output_type": "stream",
     "text": [
      "loss_a: 1.502330, loss_v: 1.705472\n",
      "Validation ccc_difference : 0.19144006073474884, target_ccc : 0.02114926278591156, pred_ccc : 2.005921118097831e-08\n",
      "---------------Epoch 56----------------\n",
      "loss_a: 1.707170, loss_b: 1.735320,  [    0/  403]\n",
      "ccc_difference : 0.3214385509490967, target_ccc : 0.32143858075141907, pred_ccc : 1.4985822360813472e-08\n"
     ]
    },
    {
     "name": "stderr",
     "output_type": "stream",
     "text": [
      " 56%|█████▌    | 56/100 [33:23<28:28, 38.82s/it]"
     ]
    },
    {
     "name": "stdout",
     "output_type": "stream",
     "text": [
      "loss_a: 1.446000, loss_v: 1.744688\n",
      "Validation ccc_difference : 0.2030467391014099, target_ccc : 0.45648694038391113, pred_ccc : 1.5343951886848117e-08\n",
      "---------------Epoch 57----------------\n",
      "loss_a: 1.555572, loss_b: 1.677490,  [    0/  403]\n",
      "ccc_difference : 0.48936066031455994, target_ccc : 0.4893606901168823, pred_ccc : 1.5065786840295914e-08\n"
     ]
    },
    {
     "name": "stderr",
     "output_type": "stream",
     "text": [
      " 57%|█████▋    | 57/100 [33:57<26:47, 37.39s/it]"
     ]
    },
    {
     "name": "stdout",
     "output_type": "stream",
     "text": [
      "loss_a: 1.320561, loss_v: 1.616194\n",
      "Validation ccc_difference : 0.3011164367198944, target_ccc : 0.5494956970214844, pred_ccc : 1.5379802320580893e-08\n",
      "---------------Epoch 58----------------\n",
      "loss_a: 1.524130, loss_b: 1.679453,  [    0/  403]\n",
      "ccc_difference : 0.46068108081817627, target_ccc : 0.46068111062049866, pred_ccc : 1.6242076128492045e-08\n"
     ]
    },
    {
     "name": "stderr",
     "output_type": "stream",
     "text": [
      " 58%|█████▊    | 58/100 [34:32<25:40, 36.68s/it]"
     ]
    },
    {
     "name": "stdout",
     "output_type": "stream",
     "text": [
      "loss_a: 1.236306, loss_v: 1.577814\n",
      "Validation ccc_difference : 0.3089490234851837, target_ccc : 0.47751346230506897, pred_ccc : 1.4260781888708607e-08\n",
      "---------------Epoch 59----------------\n",
      "loss_a: 1.365727, loss_b: 1.430052,  [    0/  403]\n",
      "ccc_difference : 0.29193946719169617, target_ccc : 0.29193949699401855, pred_ccc : 2.6990912616042806e-08\n"
     ]
    },
    {
     "name": "stderr",
     "output_type": "stream",
     "text": [
      " 59%|█████▉    | 59/100 [35:07<24:43, 36.17s/it]"
     ]
    },
    {
     "name": "stdout",
     "output_type": "stream",
     "text": [
      "loss_a: 1.270236, loss_v: 1.599808\n",
      "Validation ccc_difference : 0.38486820459365845, target_ccc : 0.41488808393478394, pred_ccc : 1.7724909540106637e-08\n",
      "---------------Epoch 60----------------\n",
      "loss_a: 1.350882, loss_b: 1.312375,  [    0/  403]\n",
      "ccc_difference : 0.36843565106391907, target_ccc : 0.36843568086624146, pred_ccc : 1.9923254157561132e-08\n"
     ]
    },
    {
     "name": "stderr",
     "output_type": "stream",
     "text": [
      " 60%|██████    | 60/100 [35:42<23:49, 35.73s/it]"
     ]
    },
    {
     "name": "stdout",
     "output_type": "stream",
     "text": [
      "loss_a: 1.175481, loss_v: 1.304363\n",
      "Validation ccc_difference : 0.22982659935951233, target_ccc : 0.1382918804883957, pred_ccc : 2.1953878714953134e-08\n",
      "---------------Epoch 61----------------\n",
      "loss_a: 1.075316, loss_b: 1.288126,  [    0/  403]\n",
      "ccc_difference : 0.40378740429878235, target_ccc : 0.40378740429878235, pred_ccc : 1.4033876283292557e-08\n"
     ]
    },
    {
     "name": "stderr",
     "output_type": "stream",
     "text": [
      " 61%|██████    | 61/100 [36:17<23:04, 35.50s/it]"
     ]
    },
    {
     "name": "stdout",
     "output_type": "stream",
     "text": [
      "loss_a: 1.057664, loss_v: 1.251527\n",
      "Validation ccc_difference : 0.28442901372909546, target_ccc : 0.27518564462661743, pred_ccc : 2.4227016837130577e-08\n",
      "---------------Epoch 62----------------\n",
      "loss_a: 1.206392, loss_b: 1.295248,  [    0/  403]\n",
      "ccc_difference : 0.4310363829135895, target_ccc : 0.43103641271591187, pred_ccc : 2.069854687647421e-08\n"
     ]
    },
    {
     "name": "stderr",
     "output_type": "stream",
     "text": [
      " 62%|██████▏   | 62/100 [36:53<22:37, 35.73s/it]"
     ]
    },
    {
     "name": "stdout",
     "output_type": "stream",
     "text": [
      "loss_a: 1.035663, loss_v: 1.220705\n",
      "Validation ccc_difference : 0.311710923910141, target_ccc : 0.22969043254852295, pred_ccc : 2.971004242624531e-08\n",
      "---------------Epoch 63----------------\n",
      "loss_a: 1.146685, loss_b: 1.138622,  [    0/  403]\n",
      "ccc_difference : 0.31432482600212097, target_ccc : 0.31432485580444336, pred_ccc : 2.6519384022094528e-08\n"
     ]
    },
    {
     "name": "stderr",
     "output_type": "stream",
     "text": [
      " 63%|██████▎   | 63/100 [37:30<22:15, 36.09s/it]"
     ]
    },
    {
     "name": "stdout",
     "output_type": "stream",
     "text": [
      "loss_a: 1.007387, loss_v: 1.261833\n",
      "Validation ccc_difference : 0.34543097019195557, target_ccc : 0.47140392661094666, pred_ccc : 2.4923384245312263e-08\n",
      "---------------Epoch 64----------------\n",
      "loss_a: 1.082135, loss_b: 1.138884,  [    0/  403]\n",
      "ccc_difference : 0.41251417994499207, target_ccc : 0.41251420974731445, pred_ccc : 1.8879443786090633e-08\n"
     ]
    },
    {
     "name": "stderr",
     "output_type": "stream",
     "text": [
      " 64%|██████▍   | 64/100 [38:05<21:31, 35.88s/it]"
     ]
    },
    {
     "name": "stdout",
     "output_type": "stream",
     "text": [
      "loss_a: 0.846702, loss_v: 1.079455\n",
      "Validation ccc_difference : 0.14594954252243042, target_ccc : 0.1446823924779892, pred_ccc : 2.4308096868708162e-08\n",
      "---------------Epoch 65----------------\n",
      "loss_a: 0.920832, loss_b: 0.984537,  [    0/  403]\n",
      "ccc_difference : 0.32319051027297974, target_ccc : 0.3231905400753021, pred_ccc : 2.772724094768364e-08\n"
     ]
    },
    {
     "name": "stderr",
     "output_type": "stream",
     "text": [
      " 65%|██████▌   | 65/100 [38:41<20:54, 35.83s/it]"
     ]
    },
    {
     "name": "stdout",
     "output_type": "stream",
     "text": [
      "loss_a: 0.869264, loss_v: 1.004934\n",
      "Validation ccc_difference : 0.23778018355369568, target_ccc : 0.39694198966026306, pred_ccc : 2.5964402183831226e-08\n",
      "---------------Epoch 66----------------\n",
      "loss_a: 1.101266, loss_b: 0.920299,  [    0/  403]\n",
      "ccc_difference : 0.26834815740585327, target_ccc : 0.26834818720817566, pred_ccc : 2.371796270494997e-08\n"
     ]
    },
    {
     "name": "stderr",
     "output_type": "stream",
     "text": [
      " 66%|██████▌   | 66/100 [39:19<20:40, 36.47s/it]"
     ]
    },
    {
     "name": "stdout",
     "output_type": "stream",
     "text": [
      "loss_a: 0.757845, loss_v: 0.960585\n",
      "Validation ccc_difference : 0.1490817368030548, target_ccc : 0.4365898668766022, pred_ccc : 2.7886517983688464e-08\n",
      "---------------Epoch 67----------------\n",
      "loss_a: 0.932477, loss_b: 0.978794,  [    0/  403]\n",
      "ccc_difference : 0.4067888557910919, target_ccc : 0.4067888855934143, pred_ccc : 3.2739794875169537e-08\n"
     ]
    },
    {
     "name": "stderr",
     "output_type": "stream",
     "text": [
      " 67%|██████▋   | 67/100 [39:55<19:57, 36.29s/it]"
     ]
    },
    {
     "name": "stdout",
     "output_type": "stream",
     "text": [
      "loss_a: 0.791967, loss_v: 0.968005\n",
      "Validation ccc_difference : 0.3082107901573181, target_ccc : 0.3169650733470917, pred_ccc : 2.696021361714429e-08\n",
      "---------------Epoch 68----------------\n",
      "loss_a: 0.855403, loss_b: 0.900162,  [    0/  403]\n",
      "ccc_difference : 0.3061160445213318, target_ccc : 0.3061160743236542, pred_ccc : 2.650334884890526e-08\n"
     ]
    },
    {
     "name": "stderr",
     "output_type": "stream",
     "text": [
      " 68%|██████▊   | 68/100 [40:31<19:16, 36.15s/it]"
     ]
    },
    {
     "name": "stdout",
     "output_type": "stream",
     "text": [
      "loss_a: 0.711053, loss_v: 0.856623\n",
      "Validation ccc_difference : 0.3048571050167084, target_ccc : 0.382841557264328, pred_ccc : 2.916716645984252e-08\n",
      "---------------Epoch 69----------------\n",
      "loss_a: 0.760107, loss_b: 0.843367,  [    0/  403]\n",
      "ccc_difference : 0.3263494372367859, target_ccc : 0.3263494670391083, pred_ccc : 2.3447949359933773e-08\n"
     ]
    },
    {
     "name": "stderr",
     "output_type": "stream",
     "text": [
      " 69%|██████▉   | 69/100 [41:10<19:09, 37.07s/it]"
     ]
    },
    {
     "name": "stdout",
     "output_type": "stream",
     "text": [
      "loss_a: 0.633447, loss_v: 0.746523\n",
      "Validation ccc_difference : 0.24650369584560394, target_ccc : 0.10374587774276733, pred_ccc : 3.374070445261168e-08\n",
      "---------------Epoch 70----------------\n",
      "loss_a: 0.733419, loss_b: 0.715108,  [    0/  403]\n",
      "ccc_difference : 0.2736160457134247, target_ccc : 0.27361607551574707, pred_ccc : 2.9761849873466417e-08\n"
     ]
    },
    {
     "name": "stderr",
     "output_type": "stream",
     "text": [
      " 70%|███████   | 70/100 [41:50<18:58, 37.94s/it]"
     ]
    },
    {
     "name": "stdout",
     "output_type": "stream",
     "text": [
      "loss_a: 0.636806, loss_v: 0.867032\n",
      "Validation ccc_difference : 0.3905324339866638, target_ccc : 0.301156222820282, pred_ccc : 3.319007646496175e-08\n",
      "---------------Epoch 71----------------\n",
      "loss_a: 0.659829, loss_b: 0.736728,  [    0/  403]\n",
      "ccc_difference : 0.4101317226886749, target_ccc : 0.4101317524909973, pred_ccc : 3.2349696255096205e-08\n"
     ]
    },
    {
     "name": "stderr",
     "output_type": "stream",
     "text": [
      " 71%|███████   | 71/100 [42:29<18:33, 38.40s/it]"
     ]
    },
    {
     "name": "stdout",
     "output_type": "stream",
     "text": [
      "loss_a: 0.667509, loss_v: 0.795914\n",
      "Validation ccc_difference : 0.31257447600364685, target_ccc : 0.2356773316860199, pred_ccc : 3.128113590378234e-08\n",
      "---------------Epoch 72----------------\n",
      "loss_a: 0.691535, loss_b: 0.735464,  [    0/  403]\n",
      "ccc_difference : 0.3284876048564911, target_ccc : 0.3284876346588135, pred_ccc : 3.998081155032196e-08\n"
     ]
    },
    {
     "name": "stderr",
     "output_type": "stream",
     "text": [
      " 72%|███████▏  | 72/100 [43:10<18:13, 39.07s/it]"
     ]
    },
    {
     "name": "stdout",
     "output_type": "stream",
     "text": [
      "loss_a: 0.515420, loss_v: 0.628813\n",
      "Validation ccc_difference : 0.1916012465953827, target_ccc : 0.2885836958885193, pred_ccc : 4.0060527339846885e-08\n",
      "---------------Epoch 73----------------\n",
      "loss_a: 0.681204, loss_b: 0.723693,  [    0/  403]\n",
      "ccc_difference : 0.4428975582122803, target_ccc : 0.44289758801460266, pred_ccc : 3.5280574905982576e-08\n"
     ]
    },
    {
     "name": "stderr",
     "output_type": "stream",
     "text": [
      " 73%|███████▎  | 73/100 [43:50<17:43, 39.40s/it]"
     ]
    },
    {
     "name": "stdout",
     "output_type": "stream",
     "text": [
      "loss_a: 0.559553, loss_v: 0.717953\n",
      "Validation ccc_difference : 0.35453930497169495, target_ccc : 0.2954171597957611, pred_ccc : 3.3269138555169775e-08\n",
      "---------------Epoch 74----------------\n",
      "loss_a: 0.661146, loss_b: 0.689025,  [    0/  403]\n",
      "ccc_difference : 0.4134190082550049, target_ccc : 0.41341903805732727, pred_ccc : 3.5930462161104515e-08\n"
     ]
    },
    {
     "name": "stderr",
     "output_type": "stream",
     "text": [
      " 74%|███████▍  | 74/100 [44:31<17:12, 39.72s/it]"
     ]
    },
    {
     "name": "stdout",
     "output_type": "stream",
     "text": [
      "loss_a: 0.500302, loss_v: 0.688107\n",
      "Validation ccc_difference : 0.3406830430030823, target_ccc : 0.30373191833496094, pred_ccc : 4.7528665447771345e-08\n",
      "---------------Epoch 75----------------\n",
      "loss_a: 0.574975, loss_b: 0.648498,  [    0/  403]\n",
      "ccc_difference : 0.4738645851612091, target_ccc : 0.4738646149635315, pred_ccc : 3.9734810997060777e-08\n"
     ]
    },
    {
     "name": "stderr",
     "output_type": "stream",
     "text": [
      " 75%|███████▌  | 75/100 [45:12<16:42, 40.10s/it]"
     ]
    },
    {
     "name": "stdout",
     "output_type": "stream",
     "text": [
      "loss_a: 0.457170, loss_v: 0.616635\n",
      "Validation ccc_difference : 0.39144936203956604, target_ccc : 0.2766609191894531, pred_ccc : 4.740647696621636e-08\n",
      "---------------Epoch 76----------------\n",
      "loss_a: 0.531302, loss_b: 0.653181,  [    0/  403]\n",
      "ccc_difference : 0.45642632246017456, target_ccc : 0.45642635226249695, pred_ccc : 2.570336121721084e-08\n"
     ]
    },
    {
     "name": "stderr",
     "output_type": "stream",
     "text": [
      " 76%|███████▌  | 76/100 [45:49<15:44, 39.35s/it]"
     ]
    },
    {
     "name": "stdout",
     "output_type": "stream",
     "text": [
      "loss_a: 0.400172, loss_v: 0.573126\n",
      "Validation ccc_difference : 0.17605435848236084, target_ccc : 0.08198715001344681, pred_ccc : 2.238522611719418e-08\n",
      "---------------Epoch 77----------------\n",
      "loss_a: 0.478734, loss_b: 0.505763,  [    0/  403]\n",
      "ccc_difference : 0.36436548829078674, target_ccc : 0.36436551809310913, pred_ccc : 3.581266128094285e-08\n"
     ]
    },
    {
     "name": "stderr",
     "output_type": "stream",
     "text": [
      " 77%|███████▋  | 77/100 [46:27<14:51, 38.74s/it]"
     ]
    },
    {
     "name": "stdout",
     "output_type": "stream",
     "text": [
      "loss_a: 0.427432, loss_v: 0.563994\n",
      "Validation ccc_difference : 0.20207715034484863, target_ccc : -0.0021618420723825693, pred_ccc : 3.109925472699615e-08\n",
      "---------------Epoch 78----------------\n",
      "loss_a: 0.469813, loss_b: 0.534740,  [    0/  403]\n",
      "ccc_difference : 0.3919096887111664, target_ccc : 0.39190971851348877, pred_ccc : 4.466266290137355e-08\n"
     ]
    },
    {
     "name": "stderr",
     "output_type": "stream",
     "text": [
      " 78%|███████▊  | 78/100 [47:01<13:46, 37.59s/it]"
     ]
    },
    {
     "name": "stdout",
     "output_type": "stream",
     "text": [
      "loss_a: 0.407236, loss_v: 0.513099\n",
      "Validation ccc_difference : 0.2829679250717163, target_ccc : 0.2880929708480835, pred_ccc : 3.264735326524715e-08\n",
      "---------------Epoch 79----------------\n",
      "loss_a: 0.429116, loss_b: 0.520483,  [    0/  403]\n",
      "ccc_difference : 0.4571126699447632, target_ccc : 0.45711272954940796, pred_ccc : 4.969578881741654e-08\n"
     ]
    },
    {
     "name": "stderr",
     "output_type": "stream",
     "text": [
      " 79%|███████▉  | 79/100 [47:35<12:44, 36.40s/it]"
     ]
    },
    {
     "name": "stdout",
     "output_type": "stream",
     "text": [
      "loss_a: 0.391458, loss_v: 0.512585\n",
      "Validation ccc_difference : 0.3681461811065674, target_ccc : 0.3428463339805603, pred_ccc : 4.280769516640248e-08\n",
      "---------------Epoch 80----------------\n",
      "loss_a: 0.428123, loss_b: 0.413506,  [    0/  403]\n",
      "ccc_difference : 0.32076403498649597, target_ccc : 0.32076409459114075, pred_ccc : 5.3989076320704044e-08\n"
     ]
    },
    {
     "name": "stderr",
     "output_type": "stream",
     "text": [
      " 80%|████████  | 80/100 [48:09<11:53, 35.67s/it]"
     ]
    },
    {
     "name": "stdout",
     "output_type": "stream",
     "text": [
      "loss_a: 0.347595, loss_v: 0.469957\n",
      "Validation ccc_difference : 0.3397195339202881, target_ccc : 0.34982535243034363, pred_ccc : 3.244375079702877e-08\n",
      "---------------Epoch 81----------------\n",
      "loss_a: 0.404407, loss_b: 0.499878,  [    0/  403]\n",
      "ccc_difference : 0.4542674422264099, target_ccc : 0.4542674720287323, pred_ccc : 3.239705037572094e-08\n"
     ]
    },
    {
     "name": "stderr",
     "output_type": "stream",
     "text": [
      " 81%|████████  | 81/100 [48:44<11:13, 35.43s/it]"
     ]
    },
    {
     "name": "stdout",
     "output_type": "stream",
     "text": [
      "loss_a: 0.319845, loss_v: 0.465679\n",
      "Validation ccc_difference : 0.35925859212875366, target_ccc : 0.4445161521434784, pred_ccc : 5.115220957918609e-08\n",
      "---------------Epoch 82----------------\n",
      "loss_a: 0.392835, loss_b: 0.440063,  [    0/  403]\n",
      "ccc_difference : 0.46984410285949707, target_ccc : 0.46984416246414185, pred_ccc : 5.2186113208563256e-08\n"
     ]
    },
    {
     "name": "stderr",
     "output_type": "stream",
     "text": [
      " 82%|████████▏ | 82/100 [49:19<10:35, 35.32s/it]"
     ]
    },
    {
     "name": "stdout",
     "output_type": "stream",
     "text": [
      "loss_a: 0.302870, loss_v: 0.463053\n",
      "Validation ccc_difference : 0.45328348875045776, target_ccc : 0.4039406478404999, pred_ccc : 3.8018939108042105e-08\n",
      "---------------Epoch 83----------------\n",
      "loss_a: 0.391449, loss_b: 0.396827,  [    0/  403]\n",
      "ccc_difference : 0.29764771461486816, target_ccc : 0.29764777421951294, pred_ccc : 6.182892064998669e-08\n"
     ]
    },
    {
     "name": "stderr",
     "output_type": "stream",
     "text": [
      " 83%|████████▎ | 83/100 [49:53<09:53, 34.93s/it]"
     ]
    },
    {
     "name": "stdout",
     "output_type": "stream",
     "text": [
      "loss_a: 0.304799, loss_v: 0.432668\n",
      "Validation ccc_difference : 0.3442249596118927, target_ccc : 0.13670337200164795, pred_ccc : 4.500672190488331e-08\n",
      "---------------Epoch 84----------------\n",
      "loss_a: 0.361971, loss_b: 0.388040,  [    0/  403]\n",
      "ccc_difference : 0.32796719670295715, target_ccc : 0.32796725630760193, pred_ccc : 4.6485155280606705e-08\n"
     ]
    },
    {
     "name": "stderr",
     "output_type": "stream",
     "text": [
      " 84%|████████▍ | 84/100 [50:27<09:16, 34.78s/it]"
     ]
    },
    {
     "name": "stdout",
     "output_type": "stream",
     "text": [
      "loss_a: 0.306763, loss_v: 0.375887\n",
      "Validation ccc_difference : 0.3593612611293793, target_ccc : 0.2472628802061081, pred_ccc : 3.935388548370611e-08\n",
      "---------------Epoch 85----------------\n",
      "loss_a: 0.304407, loss_b: 0.351641,  [    0/  403]\n",
      "ccc_difference : 0.4169018864631653, target_ccc : 0.41690194606781006, pred_ccc : 5.2253881221986376e-08\n"
     ]
    },
    {
     "name": "stderr",
     "output_type": "stream",
     "text": [
      " 85%|████████▌ | 85/100 [51:04<08:48, 35.26s/it]"
     ]
    },
    {
     "name": "stdout",
     "output_type": "stream",
     "text": [
      "loss_a: 0.264297, loss_v: 0.393844\n",
      "Validation ccc_difference : 0.29859986901283264, target_ccc : 0.25991836190223694, pred_ccc : 5.219886034524279e-08\n",
      "---------------Epoch 86----------------\n",
      "loss_a: 0.303681, loss_b: 0.346257,  [    0/  403]\n",
      "ccc_difference : 0.3451147675514221, target_ccc : 0.3451148271560669, pred_ccc : 4.971155576072306e-08\n"
     ]
    },
    {
     "name": "stderr",
     "output_type": "stream",
     "text": [
      " 86%|████████▌ | 86/100 [51:39<08:13, 35.28s/it]"
     ]
    },
    {
     "name": "stdout",
     "output_type": "stream",
     "text": [
      "loss_a: 0.259949, loss_v: 0.384881\n",
      "Validation ccc_difference : 0.31225475668907166, target_ccc : 0.21574412286281586, pred_ccc : 5.15830187453048e-08\n",
      "---------------Epoch 87----------------\n",
      "loss_a: 0.261745, loss_b: 0.293979,  [    0/  403]\n",
      "ccc_difference : 0.2774697542190552, target_ccc : 0.27746978402137756, pred_ccc : 4.2575184266979704e-08\n"
     ]
    },
    {
     "name": "stderr",
     "output_type": "stream",
     "text": [
      " 87%|████████▋ | 87/100 [52:13<07:33, 34.87s/it]"
     ]
    },
    {
     "name": "stdout",
     "output_type": "stream",
     "text": [
      "loss_a: 0.189162, loss_v: 0.323357\n",
      "Validation ccc_difference : 0.2668120861053467, target_ccc : 0.30807602405548096, pred_ccc : 5.999930152711386e-08\n",
      "---------------Epoch 88----------------\n",
      "loss_a: 0.323172, loss_b: 0.343065,  [    0/  403]\n",
      "ccc_difference : 0.3772668242454529, target_ccc : 0.37726685404777527, pred_ccc : 4.305776002411221e-08\n"
     ]
    },
    {
     "name": "stderr",
     "output_type": "stream",
     "text": [
      " 88%|████████▊ | 88/100 [52:46<06:53, 34.43s/it]"
     ]
    },
    {
     "name": "stdout",
     "output_type": "stream",
     "text": [
      "loss_a: 0.223044, loss_v: 0.294690\n",
      "Validation ccc_difference : 0.32825589179992676, target_ccc : 0.30047157406806946, pred_ccc : 3.706835016714649e-08\n",
      "---------------Epoch 89----------------\n",
      "loss_a: 0.282161, loss_b: 0.336502,  [    0/  403]\n",
      "ccc_difference : 0.46424177289009094, target_ccc : 0.46424180269241333, pred_ccc : 4.3031189278508464e-08\n"
     ]
    },
    {
     "name": "stderr",
     "output_type": "stream",
     "text": [
      " 89%|████████▉ | 89/100 [53:20<06:17, 34.28s/it]"
     ]
    },
    {
     "name": "stdout",
     "output_type": "stream",
     "text": [
      "loss_a: 0.187946, loss_v: 0.297123\n",
      "Validation ccc_difference : 0.34500575065612793, target_ccc : 0.1998431533575058, pred_ccc : 4.998680225298813e-08\n",
      "---------------Epoch 90----------------\n",
      "loss_a: 0.248378, loss_b: 0.274570,  [    0/  403]\n",
      "ccc_difference : 0.3144783079624176, target_ccc : 0.3144783675670624, pred_ccc : 4.821905719154529e-08\n"
     ]
    },
    {
     "name": "stderr",
     "output_type": "stream",
     "text": [
      " 90%|█████████ | 90/100 [53:55<05:44, 34.48s/it]"
     ]
    },
    {
     "name": "stdout",
     "output_type": "stream",
     "text": [
      "loss_a: 0.217981, loss_v: 0.353131\n",
      "Validation ccc_difference : 0.40997177362442017, target_ccc : 0.3309944272041321, pred_ccc : 5.505397737692874e-08\n",
      "---------------Epoch 91----------------\n",
      "loss_a: 0.232185, loss_b: 0.263619,  [    0/  403]\n",
      "ccc_difference : 0.3997722268104553, target_ccc : 0.3997722864151001, pred_ccc : 6.118944639865731e-08\n"
     ]
    },
    {
     "name": "stderr",
     "output_type": "stream",
     "text": [
      " 91%|█████████ | 91/100 [54:30<05:10, 34.49s/it]"
     ]
    },
    {
     "name": "stdout",
     "output_type": "stream",
     "text": [
      "loss_a: 0.179155, loss_v: 0.294407\n",
      "Validation ccc_difference : 0.35688555240631104, target_ccc : 0.489657461643219, pred_ccc : 3.60990384251636e-08\n",
      "---------------Epoch 92----------------\n",
      "loss_a: 0.263241, loss_b: 0.302108,  [    0/  403]\n",
      "ccc_difference : 0.39715710282325745, target_ccc : 0.3971571624279022, pred_ccc : 4.717675849974512e-08\n"
     ]
    },
    {
     "name": "stderr",
     "output_type": "stream",
     "text": [
      " 92%|█████████▏| 92/100 [55:04<04:36, 34.53s/it]"
     ]
    },
    {
     "name": "stdout",
     "output_type": "stream",
     "text": [
      "loss_a: 0.213101, loss_v: 0.288264\n",
      "Validation ccc_difference : 0.3143013119697571, target_ccc : 0.3812035620212555, pred_ccc : 5.841750194690576e-08\n",
      "---------------Epoch 93----------------\n",
      "loss_a: 0.269796, loss_b: 0.301273,  [    0/  403]\n",
      "ccc_difference : 0.41835328936576843, target_ccc : 0.4183533489704132, pred_ccc : 6.007081765346811e-08\n"
     ]
    },
    {
     "name": "stderr",
     "output_type": "stream",
     "text": [
      " 93%|█████████▎| 93/100 [55:40<04:02, 34.70s/it]"
     ]
    },
    {
     "name": "stdout",
     "output_type": "stream",
     "text": [
      "loss_a: 0.192699, loss_v: 0.269702\n",
      "Validation ccc_difference : 0.32156234979629517, target_ccc : 0.3005813658237457, pred_ccc : 3.893548594646745e-08\n",
      "---------------Epoch 94----------------\n",
      "loss_a: 0.185861, loss_b: 0.214363,  [    0/  403]\n",
      "ccc_difference : 0.34265777468681335, target_ccc : 0.34265783429145813, pred_ccc : 5.710709416462123e-08\n"
     ]
    },
    {
     "name": "stderr",
     "output_type": "stream",
     "text": [
      " 94%|█████████▍| 94/100 [56:14<03:28, 34.76s/it]"
     ]
    },
    {
     "name": "stdout",
     "output_type": "stream",
     "text": [
      "loss_a: 0.192757, loss_v: 0.288354\n",
      "Validation ccc_difference : 0.45411181449890137, target_ccc : 0.37558987736701965, pred_ccc : 5.380261569598588e-08\n",
      "---------------Epoch 95----------------\n",
      "loss_a: 0.176002, loss_b: 0.250627,  [    0/  403]\n",
      "ccc_difference : 0.3845200538635254, target_ccc : 0.38452011346817017, pred_ccc : 4.559685962135518e-08\n"
     ]
    },
    {
     "name": "stderr",
     "output_type": "stream",
     "text": [
      " 95%|█████████▌| 95/100 [56:49<02:53, 34.65s/it]"
     ]
    },
    {
     "name": "stdout",
     "output_type": "stream",
     "text": [
      "loss_a: 0.175939, loss_v: 0.255658\n",
      "Validation ccc_difference : 0.44436848163604736, target_ccc : 0.4182721972465515, pred_ccc : 4.228153827057213e-08\n",
      "---------------Epoch 96----------------\n",
      "loss_a: 0.166359, loss_b: 0.185800,  [    0/  403]\n",
      "ccc_difference : 0.10868965089321136, target_ccc : 0.10868971794843674, pred_ccc : 6.517413453366316e-08\n"
     ]
    },
    {
     "name": "stderr",
     "output_type": "stream",
     "text": [
      " 96%|█████████▌| 96/100 [57:23<02:17, 34.38s/it]"
     ]
    },
    {
     "name": "stdout",
     "output_type": "stream",
     "text": [
      "loss_a: 0.163327, loss_v: 0.266196\n",
      "Validation ccc_difference : 0.30401793122291565, target_ccc : 0.45226719975471497, pred_ccc : 5.996347596237683e-08\n",
      "---------------Epoch 97----------------\n",
      "loss_a: 0.241484, loss_b: 0.263092,  [    0/  403]\n",
      "ccc_difference : 0.4569769501686096, target_ccc : 0.4569770097732544, pred_ccc : 5.1495007369339874e-08\n"
     ]
    },
    {
     "name": "stderr",
     "output_type": "stream",
     "text": [
      " 97%|█████████▋| 97/100 [57:58<01:43, 34.55s/it]"
     ]
    },
    {
     "name": "stdout",
     "output_type": "stream",
     "text": [
      "loss_a: 0.165627, loss_v: 0.253362\n",
      "Validation ccc_difference : 0.32269173860549927, target_ccc : 0.15873174369335175, pred_ccc : 7.275227176251065e-08\n",
      "---------------Epoch 98----------------\n",
      "loss_a: 0.214336, loss_b: 0.271464,  [    0/  403]\n",
      "ccc_difference : 0.4600484073162079, target_ccc : 0.46004846692085266, pred_ccc : 4.737368541896103e-08\n"
     ]
    },
    {
     "name": "stderr",
     "output_type": "stream",
     "text": [
      " 98%|█████████▊| 98/100 [58:32<01:08, 34.42s/it]"
     ]
    },
    {
     "name": "stdout",
     "output_type": "stream",
     "text": [
      "loss_a: 0.123408, loss_v: 0.211200\n",
      "Validation ccc_difference : 0.29740577936172485, target_ccc : 0.26538974046707153, pred_ccc : 5.703923733335614e-08\n",
      "---------------Epoch 99----------------\n",
      "loss_a: 0.202901, loss_b: 0.263269,  [    0/  403]\n",
      "ccc_difference : 0.42720910906791687, target_ccc : 0.42720916867256165, pred_ccc : 5.9555059550575606e-08\n"
     ]
    },
    {
     "name": "stderr",
     "output_type": "stream",
     "text": [
      " 99%|█████████▉| 99/100 [59:08<00:34, 34.87s/it]"
     ]
    },
    {
     "name": "stdout",
     "output_type": "stream",
     "text": [
      "loss_a: 0.115987, loss_v: 0.224815\n",
      "Validation ccc_difference : 0.15280422568321228, target_ccc : 0.18002726137638092, pred_ccc : 6.541309716112664e-08\n",
      "---------------Epoch 100----------------\n",
      "loss_a: 0.200518, loss_b: 0.240065,  [    0/  403]\n",
      "ccc_difference : 0.44408923387527466, target_ccc : 0.44408929347991943, pred_ccc : 6.371535477001089e-08\n"
     ]
    },
    {
     "name": "stderr",
     "output_type": "stream",
     "text": [
      "100%|██████████| 100/100 [59:41<00:00, 35.82s/it]"
     ]
    },
    {
     "name": "stdout",
     "output_type": "stream",
     "text": [
      "loss_a: 0.161719, loss_v: 0.241569\n",
      "Validation ccc_difference : 0.45064711570739746, target_ccc : 0.47673872113227844, pred_ccc : 6.036155753008643e-08\n",
      "Done!\n"
     ]
    },
    {
     "name": "stderr",
     "output_type": "stream",
     "text": [
      "\n"
     ]
    }
   ],
   "source": [
    "from tqdm import tqdm\n",
    "lr = 1e-3\n",
    "loss_fn = nn.MSELoss().to(device)\n",
    "optimizer = optim.SGD(model_tf_mixer.parameters(), lr=lr)\n",
    "\n",
    "epochs = 100\n",
    "for epoch in tqdm(range(epochs)):\n",
    "    print(f\"---------------Epoch {epoch+1}----------------\")\n",
    "    train(train_dataloader, model_tf_mixer, loss_fn, optimizer)\n",
    "    test(validation_dataloader, model_tf_mixer, loss_fn, mode = 'val')\n",
    "print(\"Done!\")"
   ]
  },
  {
   "cell_type": "code",
   "execution_count": null,
   "metadata": {},
   "outputs": [],
   "source": []
  }
 ],
 "metadata": {
  "kernelspec": {
   "display_name": "Python 3",
   "language": "python",
   "name": "python3"
  },
  "language_info": {
   "codemirror_mode": {
    "name": "ipython",
    "version": 3
   },
   "file_extension": ".py",
   "mimetype": "text/x-python",
   "name": "python",
   "nbconvert_exporter": "python",
   "pygments_lexer": "ipython3",
   "version": "3.10.4 (main, Mar 15 2023, 11:42:05) [GCC 9.4.0]"
  },
  "orig_nbformat": 4,
  "vscode": {
   "interpreter": {
    "hash": "564397ef3f14238fe220c0b968cb968ca820ea6375fbb466d018d4bbc6f32a14"
   }
  }
 },
 "nbformat": 4,
 "nbformat_minor": 2
}
