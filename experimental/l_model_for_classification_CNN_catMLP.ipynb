{
 "cells": [
  {
   "attachments": {},
   "cell_type": "markdown",
   "metadata": {},
   "source": [
    "# working model for tensorfusion"
   ]
  },
  {
   "cell_type": "code",
   "execution_count": 45,
   "metadata": {},
   "outputs": [
    {
     "name": "stdout",
     "output_type": "stream",
     "text": [
      "1.13.1+cu117\n"
     ]
    }
   ],
   "source": [
    "import pickle\n",
    "import torch\n",
    "from torchmetrics import F1Score\n",
    "import pandas as pd\n",
    "import numpy as np\n",
    "from glob import glob\n",
    "from collections import Counter\n",
    "import torch.nn.functional as F\n",
    "from tqdm import tqdm\n",
    "import os\n",
    "from datasets import Dataset\n",
    "from torch import nn, optim\n",
    "from torch.utils.data import Dataset, DataLoader, random_split, Subset\n",
    "import random\n",
    "from torchsummary import summary as summary\n",
    "\n",
    "print(torch.__version__)"
   ]
  },
  {
   "attachments": {},
   "cell_type": "markdown",
   "metadata": {},
   "source": [
    "## wav, text데이터 불러오기"
   ]
  },
  {
   "cell_type": "code",
   "execution_count": 46,
   "metadata": {},
   "outputs": [
    {
     "data": {
      "text/plain": [
       "['../../../paradeigma/multi_modal/model/data/paradeigma_KEMDY19_annotation_nonmissing.pkl',\n",
       " '../../../paradeigma/multi_modal/model/data/paradeigma_KEMDY19_embedding_for_dataset.pkl',\n",
       " '../../../paradeigma/multi_modal/model/data/paradeigma_KEMDY20_annotation_nonmissing.pkl',\n",
       " '../../../paradeigma/multi_modal/model/data/paradeigma_KEMDY20_embedding_for_dataset.pkl']"
      ]
     },
     "execution_count": 46,
     "metadata": {},
     "output_type": "execute_result"
    }
   ],
   "source": [
    "# wav and text data load\n",
    "dataset_file_lst = ['../../../paradeigma/multi_modal/model/data/paradeigma_KEMDY19_annotation_nonmissing.pkl',\n",
    "                    '../../../paradeigma/multi_modal/model/data/paradeigma_KEMDY19_embedding_for_dataset.pkl',\n",
    "                    '../../../paradeigma/multi_modal/model/data/paradeigma_KEMDY20_annotation_nonmissing.pkl',\n",
    "                    '../../../paradeigma/multi_modal/model/data/paradeigma_KEMDY20_embedding_for_dataset.pkl']\n",
    "dataset_file_lst = sorted(dataset_file_lst)\n",
    "dataset_file_lst"
   ]
  },
  {
   "cell_type": "code",
   "execution_count": 47,
   "metadata": {},
   "outputs": [
    {
     "name": "stdout",
     "output_type": "stream",
     "text": [
      "../../../paradeigma/multi_modal/model/data/paradeigma_KEMDY19_annotation_nonmissing.pkl kemdy19_annot\n",
      "../../../paradeigma/multi_modal/model/data/paradeigma_KEMDY19_embedding_for_dataset.pkl kemdy19_emb\n",
      "../../../paradeigma/multi_modal/model/data/paradeigma_KEMDY20_annotation_nonmissing.pkl kemdy20_annot\n",
      "../../../paradeigma/multi_modal/model/data/paradeigma_KEMDY20_embedding_for_dataset.pkl kemdy20_emb\n"
     ]
    }
   ],
   "source": [
    "\n",
    "var_names = ['kemdy19_annot', 'kemdy19_emb', 'kemdy20_annot', 'kemdy20_emb']\n",
    "for file, var_name in zip(dataset_file_lst, var_names):\n",
    "    print(file, var_name)\n",
    "    with open(file, 'rb') as f:\n",
    "        globals()[var_name] = pickle.load(f)"
   ]
  },
  {
   "cell_type": "code",
   "execution_count": 48,
   "metadata": {},
   "outputs": [],
   "source": [
    "#  paradeigma가 섞어놓은 label들..되돌리기\n",
    "# {'neutral': 0, 'happy': 0, 'surprise':0, 'disgust': 0, 'angry': 0, 'sad':0, 'fear': 0}\n",
    "# {'angry': 0, 'disgust': 1, 'fear': 2, 'happy': 3, 'neutral': 4, 'sad': 5, 'surprise': 6}\n",
    "\n",
    "# def change_label_order(lst, new_order = [4, 3, 6, 1, 0, 5, 2]):\n",
    "#     return [lst[i] for i in new_order]\n",
    "\n",
    "# kemdy20_annot['emotion_vector'] = kemdy20_annot['emotion_vector'].apply(change_label_order)\n",
    "# kemdy19_annot['emotion_vector'] = kemdy19_annot['emotion_vector'].apply(change_label_order)"
   ]
  },
  {
   "cell_type": "code",
   "execution_count": 49,
   "metadata": {},
   "outputs": [
    {
     "data": {
      "text/html": [
       "<div>\n",
       "<style scoped>\n",
       "    .dataframe tbody tr th:only-of-type {\n",
       "        vertical-align: middle;\n",
       "    }\n",
       "\n",
       "    .dataframe tbody tr th {\n",
       "        vertical-align: top;\n",
       "    }\n",
       "\n",
       "    .dataframe thead th {\n",
       "        text-align: right;\n",
       "    }\n",
       "</style>\n",
       "<table border=\"1\" class=\"dataframe\">\n",
       "  <thead>\n",
       "    <tr style=\"text-align: right;\">\n",
       "      <th></th>\n",
       "      <th>Segment ID</th>\n",
       "      <th>Emotion</th>\n",
       "      <th>Valence</th>\n",
       "      <th>Arousal</th>\n",
       "      <th>emotion_vector</th>\n",
       "      <th>valence_vector</th>\n",
       "      <th>arousal_vector</th>\n",
       "      <th>EDA</th>\n",
       "      <th>TEMP</th>\n",
       "      <th>EDA length</th>\n",
       "      <th>TEMP length</th>\n",
       "      <th>Scaled EDA</th>\n",
       "      <th>Scaled TEMP</th>\n",
       "      <th>Scaled EDA length</th>\n",
       "      <th>Scaled TEMP length</th>\n",
       "    </tr>\n",
       "  </thead>\n",
       "  <tbody>\n",
       "    <tr>\n",
       "      <th>11999</th>\n",
       "      <td>Sess39_script03_User077F_020</td>\n",
       "      <td>neutral</td>\n",
       "      <td>2.9</td>\n",
       "      <td>3.2</td>\n",
       "      <td>[0, 0, 0, 1, 8, 0, 1]</td>\n",
       "      <td>[0, 1, 9, 0, 0]</td>\n",
       "      <td>[0, 1, 6, 3, 0]</td>\n",
       "      <td>[0.002562999999999982, 0.0012810000000000321, ...</td>\n",
       "      <td>[28.47, 28.47, 28.47, 28.47, 28.47, 28.47, 28....</td>\n",
       "      <td>23</td>\n",
       "      <td>23</td>\n",
       "      <td>[0.9428136516215535, 0.460697158499566, -0.021...</td>\n",
       "      <td>[-0.28821007775647467, -0.28821007775647467, -...</td>\n",
       "      <td>22</td>\n",
       "      <td>23</td>\n",
       "    </tr>\n",
       "    <tr>\n",
       "      <th>2031</th>\n",
       "      <td>Sess07_script03_User014M_005</td>\n",
       "      <td>neutral</td>\n",
       "      <td>3.0</td>\n",
       "      <td>3.1</td>\n",
       "      <td>[0, 0, 0, 0, 10, 0, 0]</td>\n",
       "      <td>[0, 0, 10, 0, 0]</td>\n",
       "      <td>[0, 0, 9, 1, 0]</td>\n",
       "      <td>[-0.01281399999999877, -0.060222000000003106, ...</td>\n",
       "      <td>[33.84, 33.84, 33.84, 33.87, 33.87, 33.87, 33....</td>\n",
       "      <td>8</td>\n",
       "      <td>8</td>\n",
       "      <td>[-0.19628149930184435, -0.769593110636251, 0.0...</td>\n",
       "      <td>[1.3154443144186503, 1.3154443144186503, 1.315...</td>\n",
       "      <td>7</td>\n",
       "      <td>8</td>\n",
       "    </tr>\n",
       "    <tr>\n",
       "      <th>2676</th>\n",
       "      <td>Sess09_script01_User017M_023</td>\n",
       "      <td>neutral</td>\n",
       "      <td>3.6</td>\n",
       "      <td>3.2</td>\n",
       "      <td>[0, 0, 0, 1, 9, 0, 0]</td>\n",
       "      <td>[0, 0, 4, 6, 0]</td>\n",
       "      <td>[0, 1, 6, 3, 0]</td>\n",
       "      <td>[0.05253799999999842, 0.08457200000000142, 0.2...</td>\n",
       "      <td>[34.41, 34.41, 34.43, 34.43, 34.43, 34.43, 34....</td>\n",
       "      <td>8</td>\n",
       "      <td>8</td>\n",
       "      <td>[0.3982586624282355, 0.6415861954946179, 1.741...</td>\n",
       "      <td>[0.7646418646453731, 0.7646418646453731, 1.065...</td>\n",
       "      <td>7</td>\n",
       "      <td>8</td>\n",
       "    </tr>\n",
       "  </tbody>\n",
       "</table>\n",
       "</div>"
      ],
      "text/plain": [
       "                         Segment ID  Emotion  Valence  Arousal  \\\n",
       "11999  Sess39_script03_User077F_020  neutral      2.9      3.2   \n",
       "2031   Sess07_script03_User014M_005  neutral      3.0      3.1   \n",
       "2676   Sess09_script01_User017M_023  neutral      3.6      3.2   \n",
       "\n",
       "               emotion_vector    valence_vector   arousal_vector  \\\n",
       "11999   [0, 0, 0, 1, 8, 0, 1]   [0, 1, 9, 0, 0]  [0, 1, 6, 3, 0]   \n",
       "2031   [0, 0, 0, 0, 10, 0, 0]  [0, 0, 10, 0, 0]  [0, 0, 9, 1, 0]   \n",
       "2676    [0, 0, 0, 1, 9, 0, 0]   [0, 0, 4, 6, 0]  [0, 1, 6, 3, 0]   \n",
       "\n",
       "                                                     EDA  \\\n",
       "11999  [0.002562999999999982, 0.0012810000000000321, ...   \n",
       "2031   [-0.01281399999999877, -0.060222000000003106, ...   \n",
       "2676   [0.05253799999999842, 0.08457200000000142, 0.2...   \n",
       "\n",
       "                                                    TEMP  EDA length  \\\n",
       "11999  [28.47, 28.47, 28.47, 28.47, 28.47, 28.47, 28....          23   \n",
       "2031   [33.84, 33.84, 33.84, 33.87, 33.87, 33.87, 33....           8   \n",
       "2676   [34.41, 34.41, 34.43, 34.43, 34.43, 34.43, 34....           8   \n",
       "\n",
       "       TEMP length                                         Scaled EDA  \\\n",
       "11999           23  [0.9428136516215535, 0.460697158499566, -0.021...   \n",
       "2031             8  [-0.19628149930184435, -0.769593110636251, 0.0...   \n",
       "2676             8  [0.3982586624282355, 0.6415861954946179, 1.741...   \n",
       "\n",
       "                                             Scaled TEMP  Scaled EDA length  \\\n",
       "11999  [-0.28821007775647467, -0.28821007775647467, -...                 22   \n",
       "2031   [1.3154443144186503, 1.3154443144186503, 1.315...                  7   \n",
       "2676   [0.7646418646453731, 0.7646418646453731, 1.065...                  7   \n",
       "\n",
       "       Scaled TEMP length  \n",
       "11999                  23  \n",
       "2031                    8  \n",
       "2676                    8  "
      ]
     },
     "execution_count": 49,
     "metadata": {},
     "output_type": "execute_result"
    }
   ],
   "source": [
    "kemdy20_annot.sample(3)"
   ]
  },
  {
   "attachments": {},
   "cell_type": "markdown",
   "metadata": {},
   "source": [
    "<2020년>\n",
    "'angry;disqust',  'angry;disqust;fear;neutral;sad',  'angry;disqust;neutral', 'angry;happy;neutral', 'angry;neutral', 'disqust;happy;neutral', 'disqust;neutral', 'disqust;neutral;sad', 'fear;happy', 'fear;happy;neutral', 'fear;neutral', 'happy;neutral', 'happy;neutral;surprise', 'happy;sad', 'happy;surprise', 'neutral;sad', 'neutral;surprise'\n",
    "\n",
    "<2019년>\n",
    "'angry;disgust;fear;neutral;surprise', 'angry;fear', 'angry;fear;neutral', 'angry;fear;surprise', 'angry;happy', 'angry;neutral;surprise', 'angry;sad', 'angry;surprise', 'disgust;fear', 'disgust;happy','disgust;neutral;surprise', 'disgust;sad', 'disgust;surprise', 'fear;neutral;surprise', 'fear;sad', 'fear;surprise', 'happy;neutral;sad', 'neutral;sad;surprise', 'sad;surprise'}\n"
   ]
  },
  {
   "cell_type": "code",
   "execution_count": 50,
   "metadata": {},
   "outputs": [],
   "source": [
    "encode_dict = {'angry':0, 'disgust':1, 'fear':2,'happy':3,'neutral':4, 'sad':5, 'surprise':6,  \n",
    "               'neutral;surprise': 450, 'neutral;sad': 460, 'happy;neutral': 340, \n",
    "               'angry;neutral': 40, 'disgust;neutral': 140, 'fear;neutral': 240, \n",
    "               'happy;surprise': 350, 'angry;happy;neutral': 7340, 'angry;disgust': 10, \n",
    "               'happy;neutral;surprise': 3450, 'fear;happy': 230,'fear;happy;neutral': 2340,\n",
    "               'angry;disgust;neutral': 7140, 'disgust;neutral;sad': 1460, \n",
    "               'happy;sad': 360, 'disgust;happy;neutral': 3410, 'angry;fear': 20, 'angry;fear;neutral':7240,\n",
    "               'angry;fear;surprise': 7250, 'angry;happy': 730, 'angry;neutral;surprise':7450, \n",
    "               'angry;sad': 60, 'angry;surprise': 50, 'disgust;fear':120, 'disgust;happy': 130,\n",
    "               'disgust;neutral;surprise':1450, 'disgust;sad': 160, 'disgust;surprise':150, \n",
    "               'fear;neutral;surprise':2450, 'fear;sad': 260, 'fear;surprise':250, 'happy;neutral;sad':3460,\n",
    "               'neutral;sad;surprise':4560, 'sad;surprise': 560,\n",
    "               'angry;disgust;fear;neutral;sad': 10000,'angry;disgust;fear;neutral;surprise':20000}"
   ]
  },
  {
   "cell_type": "code",
   "execution_count": 51,
   "metadata": {},
   "outputs": [
    {
     "name": "stdout",
     "output_type": "stream",
     "text": [
      "{'angry': 0, 'disgust': 1, 'fear': 2, 'happy': 3, 'neutral': 4, 'sad': 5, 'surprise': 6, 'angry;disgust': 10, 'angry;fear': 20, 'angry;neutral': 40, 'angry;surprise': 50, 'angry;sad': 60, 'disgust;fear': 120, 'disgust;happy': 130, 'disgust;neutral': 140, 'disgust;surprise': 150, 'disgust;sad': 160, 'fear;happy': 230, 'fear;neutral': 240, 'fear;surprise': 250, 'fear;sad': 260, 'happy;neutral': 340, 'happy;surprise': 350, 'happy;sad': 360, 'neutral;surprise': 450, 'neutral;sad': 460, 'sad;surprise': 560, 'angry;happy': 730, 'disgust;neutral;surprise': 1450, 'disgust;neutral;sad': 1460, 'fear;happy;neutral': 2340, 'fear;neutral;surprise': 2450, 'disgust;happy;neutral': 3410, 'happy;neutral;surprise': 3450, 'happy;neutral;sad': 3460, 'neutral;sad;surprise': 4560, 'angry;disgust;neutral': 7140, 'angry;fear;neutral': 7240, 'angry;fear;surprise': 7250, 'angry;happy;neutral': 7340, 'angry;neutral;surprise': 7450, 'angry;disgust;fear;neutral;sad': 10000, 'angry;disgust;fear;neutral;surprise': 20000}\n"
     ]
    }
   ],
   "source": [
    "encode_dict = {k: v for k, v in sorted(encode_dict.items(), key=lambda item: item[1])}\n",
    "print(encode_dict)"
   ]
  },
  {
   "cell_type": "code",
   "execution_count": 52,
   "metadata": {},
   "outputs": [
    {
     "name": "stdout",
     "output_type": "stream",
     "text": [
      "{'angry': 0, 'disgust': 1, 'fear': 2, 'happy': 3, 'neutral': 4, 'sad': 5, 'surprise': 6, 'angry;disgust': 10, 'angry;fear': 20, 'angry;neutral': 40, 'angry;surprise': 50, 'angry;sad': 60, 'disgust;fear': 120, 'disgust;happy': 130, 'disgust;neutral': 140, 'disgust;surprise': 150, 'disgust;sad': 160, 'fear;happy': 230, 'fear;neutral': 240, 'fear;surprise': 250, 'fear;sad': 260, 'happy;neutral': 340, 'happy;surprise': 350, 'happy;sad': 360, 'neutral;surprise': 450, 'neutral;sad': 460, 'sad;surprise': 560, 'angry;happy': 730, 'disgust;neutral;surprise': 1450, 'disgust;neutral;sad': 1460, 'fear;happy;neutral': 2340, 'fear;neutral;surprise': 2450, 'disgust;happy;neutral': 3410, 'happy;neutral;surprise': 3450, 'happy;neutral;sad': 3460, 'neutral;sad;surprise': 4560, 'angry;disgust;neutral': 7140, 'angry;fear;neutral': 7240, 'angry;fear;surprise': 7250, 'angry;happy;neutral': 7340, 'angry;neutral;surprise': 7450, 'angry;disgust;fear;neutral;sad': 10000, 'angry;disgust;fear;neutral;surprise': 20000} \n",
      " {0: 'angry', 1: 'disgust', 2: 'fear', 3: 'happy', 4: 'neutral', 5: 'sad', 6: 'surprise', 10: 'angry;disgust', 20: 'angry;fear', 40: 'angry;neutral', 50: 'angry;surprise', 60: 'angry;sad', 120: 'disgust;fear', 130: 'disgust;happy', 140: 'disgust;neutral', 150: 'disgust;surprise', 160: 'disgust;sad', 230: 'fear;happy', 240: 'fear;neutral', 250: 'fear;surprise', 260: 'fear;sad', 340: 'happy;neutral', 350: 'happy;surprise', 360: 'happy;sad', 450: 'neutral;surprise', 460: 'neutral;sad', 560: 'sad;surprise', 730: 'angry;happy', 1450: 'disgust;neutral;surprise', 1460: 'disgust;neutral;sad', 2340: 'fear;happy;neutral', 2450: 'fear;neutral;surprise', 3410: 'disgust;happy;neutral', 3450: 'happy;neutral;surprise', 3460: 'happy;neutral;sad', 4560: 'neutral;sad;surprise', 7140: 'angry;disgust;neutral', 7240: 'angry;fear;neutral', 7250: 'angry;fear;surprise', 7340: 'angry;happy;neutral', 7450: 'angry;neutral;surprise', 10000: 'angry;disgust;fear;neutral;sad', 20000: 'angry;disgust;fear;neutral;surprise'}\n"
     ]
    }
   ],
   "source": [
    "# encoding Emotion for whole data\n",
    "# 사전에 실제로 encoding한 끝 수가 마지막 linear layer의 끝자리랑 맞아야 합니다. 아니면 CUDA error: CUBLAS_STATUS_EXECUTION_FAILED가 나는 것 같아요.\n",
    "# 예를 들어, label이 0~9, 11,13이렇게 12개가 되었어도, 0~13은 14개니까 마지막 레이어에서 14개 unit을 받아야 multiclass classification이 에러없이 진행됩니다!\n",
    "# 데이터에서 정답 라벨 인코딩: ['neutral', 'happy', 'surprise', 'disgust', 'angry', 'sad', 'fear']\n",
    "# 이 순서를 지켜서 라벨링을 해야함\n",
    "decode_dict = {b:i for i, b in encode_dict.items()}\n",
    "print(encode_dict, '\\n', decode_dict)"
   ]
  },
  {
   "attachments": {},
   "cell_type": "markdown",
   "metadata": {},
   "source": [
    "## Annotation Encoding"
   ]
  },
  {
   "cell_type": "code",
   "execution_count": 53,
   "metadata": {},
   "outputs": [
    {
     "data": {
      "text/plain": [
       "(0    6\n",
       " 1    2\n",
       " 2    0\n",
       " Name: Emotion, dtype: int64,\n",
       " 0    4\n",
       " 1    4\n",
       " 2    4\n",
       " Name: Emotion, dtype: int64)"
      ]
     },
     "execution_count": 53,
     "metadata": {},
     "output_type": "execute_result"
    }
   ],
   "source": [
    "kemdy19_annot.Emotion = list(kemdy19_annot.Emotion.map(encode_dict))\n",
    "kemdy20_annot.Emotion = list(kemdy20_annot.Emotion.map(encode_dict))\n",
    "kemdy19_annot.Emotion[:3], kemdy20_annot.Emotion[:3]\n"
   ]
  },
  {
   "attachments": {},
   "cell_type": "markdown",
   "metadata": {},
   "source": [
    "# EDA, TEMP Padding"
   ]
  },
  {
   "cell_type": "code",
   "execution_count": 54,
   "metadata": {},
   "outputs": [],
   "source": [
    "import math\n",
    "def add_padding(pd_series, length = 50):\n",
    "    if isinstance(pd_series, float):\n",
    "        if math.isnan(pd_series):\n",
    "            return np.zeros(10)\n",
    "    if len(pd_series) < length:\n",
    "        pd_series = np.concatenate([pd_series, np.zeros(length - len(pd_series))])\n",
    "        return np.array(pd_series)\n",
    "    elif len(pd_series) == length:\n",
    "        return np.array(pd_series)\n",
    "    elif len(pd_series) > length:\n",
    "        pd_series = pd_series[:length]\n",
    "        return np.array(pd_series)"
   ]
  },
  {
   "cell_type": "code",
   "execution_count": 55,
   "metadata": {},
   "outputs": [
    {
     "data": {
      "text/plain": [
       "count    9008.000000\n",
       "mean       22.596470\n",
       "std        19.693268\n",
       "min         1.000000\n",
       "25%         9.000000\n",
       "50%        17.000000\n",
       "75%        30.000000\n",
       "max       314.000000\n",
       "Name: EDA, dtype: float64"
      ]
     },
     "execution_count": 55,
     "metadata": {},
     "output_type": "execute_result"
    }
   ],
   "source": [
    "kemdy19_annot.EDA.map(len).describe()"
   ]
  },
  {
   "cell_type": "code",
   "execution_count": 56,
   "metadata": {},
   "outputs": [
    {
     "data": {
      "text/plain": [
       "(array([-1.37470392, -0.702349  , -0.57776951,  0.36337337,  0.15086029,\n",
       "         0.23434567,  0.6442029 ,  0.8643034 ,  0.14326694,  0.33301774,\n",
       "         0.55311825, -0.16032486, -0.10719511,  0.09773054,  0.10531797,\n",
       "         0.12809209,  0.40890977,  0.23435159, -0.29694591, -0.36525051,\n",
       "        -0.25140359, -0.46391666, -0.14514408,  0.        ,  0.        ,\n",
       "         0.        ,  0.        ,  0.        ,  0.        ,  0.        ,\n",
       "         0.        ,  0.        ,  0.        ,  0.        ,  0.        ,\n",
       "         0.        ,  0.        ,  0.        ,  0.        ,  0.        ,\n",
       "         0.        ,  0.        ,  0.        ,  0.        ,  0.        ,\n",
       "         0.        ,  0.        ,  0.        ,  0.        ,  0.        ]),\n",
       " array([-0.21123698, -0.18926761, -0.18665215, -0.1861293 , -0.1861293 ,\n",
       "        -0.18874476, -0.20757542, -0.25517533, -0.29074444, -0.29179054,\n",
       "        -0.30434459, -0.24105233, -0.24628284, -0.48480603, -0.52822112,\n",
       "        -0.60860162, -0.77337071, -0.85676544, -0.78562721, -0.72181169,\n",
       "        -0.65747333, -0.89756547, -0.72181169, -0.67891945, -0.63655006,\n",
       "        -0.63602721, -0.62085771, -0.58842731, -0.57796588, -0.59156562,\n",
       "        -0.60725797,  0.        ,  0.        ,  0.        ,  0.        ,\n",
       "         0.        ,  0.        ,  0.        ,  0.        ,  0.        ,\n",
       "         0.        ,  0.        ,  0.        ,  0.        ,  0.        ,\n",
       "         0.        ,  0.        ,  0.        ,  0.        ,  0.        ]),\n",
       " array([-0.96177679, -0.96177679, -0.96177679, -0.96177679, -0.96177679,\n",
       "        -0.96177679, -0.96177679, -0.96177679, -0.96177679, -0.96177679,\n",
       "        -0.96177679, -0.96177679, -0.96177679, -0.96177679, -0.96177679,\n",
       "        -1.15004747, -1.15004747, -1.15004747, -1.15004747, -1.15004747,\n",
       "        -1.15004747, -1.15004747, -1.15004747, -0.96177679, -0.96177679,\n",
       "        -0.96177679, -0.96177679, -1.15004747, -1.15004747, -1.15004747,\n",
       "        -1.15004747, -1.15004747, -1.15004747, -1.15004747, -1.15004747,\n",
       "        -1.15004747, -1.15004747, -1.15004747, -1.15004747, -1.15004747,\n",
       "        -1.15004747, -1.15004747, -1.15004747, -1.33831815, -1.33831815,\n",
       "         0.        ,  0.        ,  0.        ,  0.        ,  0.        ]),\n",
       " array([0.7038299 , 0.7038299 , 0.67438937, 0.67438937, 0.67438937,\n",
       "        0.67438937, 0.67438937, 0.67438937, 0.67438937, 0.67438937,\n",
       "        0.64494885, 0.64494885, 0.64494885, 0.64494885, 0.7038299 ,\n",
       "        0.7038299 , 0.7038299 , 0.7038299 , 0.71855016, 0.71855016,\n",
       "        0.71855016, 0.71855016, 0.7038299 , 0.7038299 , 0.7038299 ,\n",
       "        0.7038299 , 0.67438937, 0.67438937, 0.67438937, 0.67438937,\n",
       "        0.67438937, 0.67438937, 0.67438937, 0.67438937, 0.64494885,\n",
       "        0.64494885, 0.64494885, 0.64494885, 0.67438937, 0.67438937,\n",
       "        0.67438937, 0.67438937, 0.7038299 , 0.7038299 , 0.7038299 ,\n",
       "        0.7038299 , 0.7038299 , 0.7038299 , 0.7038299 , 0.7038299 ]))"
      ]
     },
     "execution_count": 56,
     "metadata": {},
     "output_type": "execute_result"
    }
   ],
   "source": [
    "kemdy19_annot['Scaled EDA'] = kemdy19_annot['Scaled EDA'].apply(add_padding)\n",
    "kemdy20_annot['Scaled EDA'] = kemdy20_annot['Scaled EDA'].apply(add_padding)\n",
    "kemdy19_annot['Scaled TEMP'] = kemdy19_annot['Scaled TEMP'].apply(add_padding)\n",
    "kemdy20_annot['Scaled TEMP'] = kemdy20_annot['Scaled TEMP'].apply(add_padding)\n",
    "# check\n",
    "kemdy20_annot['Scaled EDA'][10], kemdy19_annot['Scaled EDA'][10], kemdy20_annot['Scaled TEMP'][3],kemdy19_annot['Scaled TEMP'][15]"
   ]
  },
  {
   "cell_type": "code",
   "execution_count": 57,
   "metadata": {},
   "outputs": [
    {
     "name": "stdout",
     "output_type": "stream",
     "text": [
      "session 19 length: wav - 9008, txt - 9008\n",
      "session 20 length: wav - 12715, txt - 12715\n"
     ]
    }
   ],
   "source": [
    "length_wav = 0\n",
    "length_txt = 0\n",
    "for i,j in zip(kemdy19_emb[0], kemdy19_emb[1]):\n",
    "    length_wav += len(kemdy19_emb[0][i])\n",
    "    length_txt += len(kemdy19_emb[1][j])\n",
    "    # lengt += len(i)\n",
    "print(f'session 19 length: wav - {length_wav}, txt - {length_txt}')\n",
    "\n",
    "length_wav = 0\n",
    "length_txt = 0\n",
    "for i,j in zip(kemdy20_emb[0], kemdy20_emb[1]):\n",
    "    length_wav += len(kemdy20_emb[0][i])\n",
    "    length_txt += len(kemdy20_emb[1][j])\n",
    "    \n",
    "print(f'session 20 length: wav - {length_wav}, txt - {length_txt}')"
   ]
  },
  {
   "attachments": {},
   "cell_type": "markdown",
   "metadata": {},
   "source": [
    "## Session pick \n",
    "- test(.2), validation(.2), train(.8)"
   ]
  },
  {
   "cell_type": "code",
   "execution_count": 58,
   "metadata": {},
   "outputs": [],
   "source": [
    "def choice_and_remove_list(original_list, k = 8):\n",
    "    removed_new_list = []\n",
    "    chosen_list = random.sample(original_list, k = k)\n",
    "    for session in original_list:\n",
    "        if session in chosen_list:\n",
    "            pass\n",
    "        else:\n",
    "            removed_new_list.append(session) \n",
    "    return sorted(removed_new_list), sorted(chosen_list)"
   ]
  },
  {
   "cell_type": "code",
   "execution_count": 59,
   "metadata": {},
   "outputs": [
    {
     "name": "stdout",
     "output_type": "stream",
     "text": [
      "['Sess02', 'Sess06', 'Sess10', 'Sess11', 'Sess13', 'Sess14', 'Sess16', 'Sess18', 'Sess21', 'Sess22', 'Sess23', 'Sess24', 'Sess25', 'Sess28', 'Sess29', 'Sess30', 'Sess31', 'Sess32', 'Sess34', 'Sess37', 'Sess38', 'Sess40']\n",
      "['Sess01', 'Sess04', 'Sess05', 'Sess07', 'Sess08', 'Sess15', 'Sess33', 'Sess39']\n",
      "['Sess03', 'Sess09', 'Sess19', 'Sess20', 'Sess26', 'Sess27', 'Sess35', 'Sess36']\n",
      "\n",
      "\n",
      "['Sess01', 'Sess02', 'Sess03', 'Sess04', 'Sess05', 'Sess06', 'Sess07', 'Sess08', 'Sess09', 'Sess10', 'Sess11', 'Sess12', 'Sess13', 'Sess14', 'Sess15', 'Sess16', 'Sess17', 'Sess18', 'Sess19', 'Sess20']\n",
      "[]\n",
      "[]\n"
     ]
    }
   ],
   "source": [
    "# session을 train vs test&val로 나눠줌\n",
    "session_20_lst = ['Sess0' + str(i+1) if i < 9 else 'Sess' + str(i+1) for i in range(40)]\n",
    "session_20_lst.remove('Sess12')\n",
    "session_20_lst.remove('Sess17')\n",
    "sessions_20_train_lst, sessions_20_test_lst = choice_and_remove_list(session_20_lst, k = 8)\n",
    "sessions_20_train_lst, sessions_20_val_lst = choice_and_remove_list(sessions_20_train_lst, k = 8)\n",
    "print(sessions_20_train_lst, sessions_20_test_lst, sessions_20_val_lst, sep = '\\n')\n",
    "\n",
    "session_19_lst = ['Sess0' + str(i+1) if i < 9 else 'Sess' + str(i+1) for i in range(20)]\n",
    "sessions_19_train_lst, sessions_19_test_lst = choice_and_remove_list(session_19_lst, k = 0)\n",
    "sessions_19_train_lst, sessions_19_val_lst = choice_and_remove_list(sessions_19_train_lst, k = 0)\n",
    "print('\\n', sessions_19_train_lst,sessions_19_test_lst, sessions_19_val_lst, sep = '\\n')"
   ]
  },
  {
   "attachments": {},
   "cell_type": "markdown",
   "metadata": {},
   "source": [
    "## data reconstruct\n",
    "- dict - session - txt, wav, segment_id"
   ]
  },
  {
   "cell_type": "code",
   "execution_count": 60,
   "metadata": {},
   "outputs": [],
   "source": [
    "kemdy20_emb_new = {}\n",
    "for session in kemdy20_emb[0].keys():\n",
    "    kemdy20_emb_new[session] = {}\n",
    "    kemdy20_emb_new[session]['wav'] = kemdy20_emb[0][session]\n",
    "    kemdy20_emb_new[session]['txt'] = kemdy20_emb[1][session]\n",
    "    kemdy20_emb_new[session]['segment_id'] = kemdy20_annot['Segment ID'][kemdy20_annot['Segment ID'].str.startswith(session)]\n",
    "    # print(session, len(kemdy20_emb_new[session]['wav']), len(kemdy20_emb_new[session]['txt']), len(kemdy20_emb_new[session]['segment_id']))\n",
    "\n",
    "# print('\\n')\n",
    "kemdy19_emb_new = {}\n",
    "for session in kemdy19_emb[0].keys():\n",
    "    kemdy19_emb_new[session] = {}\n",
    "    kemdy19_emb_new[session]['wav'] = kemdy19_emb[0][session]\n",
    "    kemdy19_emb_new[session]['txt'] = kemdy19_emb[1][session]\n",
    "    kemdy19_emb_new[session]['segment_id'] = kemdy19_annot['Segment ID'][kemdy19_annot['Segment ID'].str.startswith(session)]\n",
    "    # print(session, len(kemdy19_emb_new[session]['wav']), len(kemdy19_emb_new[session]['txt']), len(kemdy19_emb_new[session]['segment_id']))\n"
   ]
  },
  {
   "cell_type": "code",
   "execution_count": 61,
   "metadata": {},
   "outputs": [],
   "source": [
    "# 나눠준 세션을 emb(wav, text순), annot set에 적용\n",
    "def get_data_by_session(data, session_lst):\n",
    "    if isinstance(data, pd.DataFrame):\n",
    "        print('dataframe')\n",
    "        for idx, session in enumerate(session_lst):\n",
    "            if idx == 0:\n",
    "                dataframe = data[data['Segment ID'].str.startswith(session)]\n",
    "            else:\n",
    "                dataframe = pd.concat([dataframe, data[data['Segment ID'].str.startswith(session)]])\n",
    "        return dataframe\n",
    "    \n",
    "    elif isinstance(data, dict):\n",
    "        print('dict')\n",
    "        emb_data = {}\n",
    "        emb_data['wav'] = []\n",
    "        emb_data['txt'] = []\n",
    "        emb_data['segment_id'] = []\n",
    "        for session in session_lst:\n",
    "            emb_data['wav'].extend(data[session]['wav'])\n",
    "            emb_data['txt'].extend(data[session]['txt'])\n",
    "            emb_data['segment_id'].extend(data[session]['segment_id'])            \n",
    "        return emb_data"
   ]
  },
  {
   "cell_type": "code",
   "execution_count": 62,
   "metadata": {},
   "outputs": [
    {
     "name": "stdout",
     "output_type": "stream",
     "text": [
      "dataframe\n",
      "dataframe\n",
      "dataframe\n",
      "dataframe\n"
     ]
    }
   ],
   "source": [
    "kemdy19_annot_train = get_data_by_session(kemdy19_annot, sessions_19_train_lst)\n",
    "# kemdy19_annot_test = get_data_by_session(kemdy19_annot, sessions_19_test_lst)\n",
    "# kemdy19_annot_val = get_data_by_session(kemdy19_annot, sessions_19_val_lst)\n",
    "\n",
    "kemdy20_annot_train = get_data_by_session(kemdy20_annot, sessions_20_train_lst)\n",
    "kemdy20_annot_test = get_data_by_session(kemdy20_annot, sessions_20_test_lst)\n",
    "kemdy20_annot_val = get_data_by_session(kemdy20_annot, sessions_20_val_lst)"
   ]
  },
  {
   "cell_type": "code",
   "execution_count": 63,
   "metadata": {},
   "outputs": [
    {
     "name": "stdout",
     "output_type": "stream",
     "text": [
      "dict\n",
      "dict\n",
      "dict\n",
      "dict\n"
     ]
    }
   ],
   "source": [
    "# session 정보가 없어집니다. \n",
    "kemdy19_emb_train = get_data_by_session(kemdy19_emb_new, sessions_19_train_lst)\n",
    "# kemdy19_emb_test = get_data_by_session(kemdy19_emb_new, sessions_19_test_lst)\n",
    "# kemdy19_emb_val = get_data_by_session(kemdy19_emb_new, sessions_19_val_lst)\n",
    "\n",
    "kemdy20_emb_train = get_data_by_session(kemdy20_emb_new, sessions_20_train_lst)\n",
    "kemdy20_emb_test = get_data_by_session(kemdy20_emb_new, sessions_20_test_lst)\n",
    "kemdy20_emb_val = get_data_by_session(kemdy20_emb_new, sessions_20_val_lst)"
   ]
  },
  {
   "cell_type": "code",
   "execution_count": 64,
   "metadata": {},
   "outputs": [],
   "source": [
    "# # kemdy 19 - 9008이 정상\n",
    "# print(len(kemdy19_emb_train['wav']), len(kemdy19_emb_train['txt']), len(kemdy19_emb_train['segment_id']))\n",
    "# print(len(kemdy19_emb_test['wav']), len(kemdy19_emb_test['txt']), len(kemdy19_emb_test['segment_id']))\n",
    "# print(len(kemdy19_emb_val['wav']), len(kemdy19_emb_val['txt']), len(kemdy19_emb_val['segment_id']))\n",
    "# # print(len(kemdy19_emb_train['wav']) + len(kemdy19_emb_test['wav']) + len(kemdy19_emb_val['wav']))"
   ]
  },
  {
   "cell_type": "code",
   "execution_count": 65,
   "metadata": {},
   "outputs": [
    {
     "name": "stdout",
     "output_type": "stream",
     "text": [
      "7358 7358 7358\n",
      "2814 2814 2814\n",
      "2543 2543 2543\n",
      "12715\n"
     ]
    }
   ],
   "source": [
    "# kemdy 20 - 12715가 정상\n",
    "print(len(kemdy20_emb_train['wav']), len(kemdy20_emb_train['txt']), len(kemdy20_emb_train['segment_id']))\n",
    "print(len(kemdy20_emb_test['wav']), len(kemdy20_emb_test['txt']), len(kemdy20_emb_test['segment_id']))\n",
    "print(len(kemdy20_emb_val['wav']), len(kemdy20_emb_val['txt']), len(kemdy20_emb_val['segment_id']))\n",
    "print(len(kemdy20_emb_train['wav']) + len(kemdy20_emb_test['wav'])+ len(kemdy20_emb_val['wav']))"
   ]
  },
  {
   "cell_type": "code",
   "execution_count": 66,
   "metadata": {},
   "outputs": [],
   "source": [
    "# print(kemdy19_emb_train.keys(), kemdy19_emb_test.keys(), kemdy19_emb_val.keys(),\n",
    "#       kemdy20_emb_train.keys(),kemdy20_emb_test.keys(), kemdy20_emb_val.keys(),sep = '\\n')"
   ]
  },
  {
   "attachments": {},
   "cell_type": "markdown",
   "metadata": {},
   "source": [
    "## Train Data neutral pick하기"
   ]
  },
  {
   "cell_type": "code",
   "execution_count": 67,
   "metadata": {},
   "outputs": [
    {
     "name": "stdout",
     "output_type": "stream",
     "text": [
      "Counter({4: 6011, 3: 696, 340: 207, 6: 83, 0: 69, 5: 60, 460: 44, 40: 39, 1: 37, 450: 36, 2: 29, 140: 24, 240: 9, 350: 3, 230: 2, 7140: 2, 1460: 1, 10000: 1, 360: 1, 3450: 1, 7340: 1, 2340: 1, 10: 1})\n"
     ]
    }
   ],
   "source": [
    "print(Counter(kemdy20_annot_train['Emotion']))"
   ]
  },
  {
   "cell_type": "code",
   "execution_count": 68,
   "metadata": {},
   "outputs": [
    {
     "name": "stdout",
     "output_type": "stream",
     "text": [
      "kemdy19에서 0개, kemdy20에서 6011개 추출\n"
     ]
    }
   ],
   "source": [
    "# 각 데이터 셋에서 몇개 뽑아야 되는지 계산 neutral: 4\n",
    "\n",
    "target_neutral_num = Counter(kemdy20_annot_train['Emotion'])[4]\n",
    "\n",
    "target_neutral_num_19 = 0\n",
    "# target_neutral_num_19 = int(target_neutral_num / (Counter(kemdy19_annot['Emotion'])[4] + Counter(kemdy20_annot['Emotion'])[4]) * Counter(kemdy19_annot['Emotion'])[4])\n",
    "target_neutral_num_20 = target_neutral_num - target_neutral_num_19\n",
    "print(f'kemdy19에서 {target_neutral_num_19}개, kemdy20에서 {target_neutral_num_20}개 추출')"
   ]
  },
  {
   "cell_type": "code",
   "execution_count": 69,
   "metadata": {},
   "outputs": [
    {
     "data": {
      "text/plain": [
       "12895"
      ]
     },
     "execution_count": 69,
     "metadata": {},
     "output_type": "execute_result"
    }
   ],
   "source": [
    "# 각 train dataset에서 뽑아야 되는 갯수만큼 랜덤으로 뽑아옴\n",
    "kemdy19_annot_train_not_neut = kemdy19_annot_train[kemdy19_annot_train['Emotion'] != 4]\n",
    "kemdy20_annot_train_not_neut = kemdy20_annot_train[kemdy20_annot_train['Emotion'] != 4]\n",
    "\n",
    "kemdy19_annot_train_neut = kemdy19_annot_train[kemdy19_annot_train['Emotion'] == 4].sample(target_neutral_num_19)\n",
    "kemdy20_annot_train_neut = kemdy20_annot_train[kemdy20_annot_train['Emotion'] == 4].sample(target_neutral_num_20)\n",
    "len(kemdy19_annot_train_not_neut) + len(kemdy19_annot_train_neut) + len(kemdy20_annot_train_not_neut) + len(kemdy20_annot_train_neut)"
   ]
  },
  {
   "attachments": {},
   "cell_type": "markdown",
   "metadata": {},
   "source": [
    "## embedding, Test and validation dataset 합치기"
   ]
  },
  {
   "cell_type": "code",
   "execution_count": 70,
   "metadata": {},
   "outputs": [
    {
     "name": "stdout",
     "output_type": "stream",
     "text": [
      "2814 2814 2814\n"
     ]
    }
   ],
   "source": [
    "emb_test_final = {}\n",
    "emb_test_final['wav'] = []\n",
    "emb_test_final['txt'] = []\n",
    "emb_test_final['segment_id'] = []\n",
    "\n",
    "# emb_test_final['wav'] = kemdy19_emb_test['wav']\n",
    "emb_test_final['wav'].extend(kemdy20_emb_test['wav'])\n",
    "\n",
    "# emb_test_final['txt'] = kemdy19_emb_test['txt']\n",
    "emb_test_final['txt'].extend(kemdy20_emb_test['txt'])\n",
    "\n",
    "\n",
    "# emb_test_final['segment_id'] = kemdy19_emb_test['segment_id']\n",
    "emb_test_final['segment_id'].extend(kemdy20_emb_test['segment_id'])\n",
    "\n",
    "\n",
    "print(len(emb_test_final['wav']), len(emb_test_final['txt']), len(emb_test_final['segment_id']))"
   ]
  },
  {
   "cell_type": "code",
   "execution_count": 71,
   "metadata": {},
   "outputs": [
    {
     "name": "stdout",
     "output_type": "stream",
     "text": [
      "2543 2543 2543\n"
     ]
    }
   ],
   "source": [
    "emb_val_final = {}\n",
    "emb_val_final['wav'] = []\n",
    "emb_val_final['txt'] = []\n",
    "emb_val_final['segment_id'] = []\n",
    "\n",
    "# emb_val_final['wav'] = kemdy19_emb_val['wav']\n",
    "emb_val_final['wav'].extend(kemdy20_emb_val['wav'])\n",
    "\n",
    "# emb_val_final['txt'] = kemdy19_emb_val['txt']\n",
    "emb_val_final['txt'].extend(kemdy20_emb_val['txt'])\n",
    "\n",
    "# emb_val_final['segment_id'] = kemdy19_emb_val['segment_id']\n",
    "emb_val_final['segment_id'].extend(kemdy20_emb_val['segment_id'])\n",
    "\n",
    "print(len(emb_val_final['wav']), len(emb_val_final['txt']), len(emb_val_final['segment_id']))"
   ]
  },
  {
   "cell_type": "code",
   "execution_count": 72,
   "metadata": {},
   "outputs": [
    {
     "name": "stdout",
     "output_type": "stream",
     "text": [
      "12895 2814 2543\n"
     ]
    }
   ],
   "source": [
    "annot_train_final = pd.concat([kemdy19_annot_train_neut, kemdy20_annot_train_neut, kemdy19_annot_train_not_neut, kemdy20_annot_train_not_neut])\n",
    "# annot_test_final = pd.concat([kemdy19_annot_test, kemdy20_annot_test])\n",
    "# annot_val_final = pd.concat([kemdy19_annot_val, kemdy20_annot_val])\n",
    "\n",
    "annot_test_final = pd.concat([kemdy20_annot_test])\n",
    "annot_val_final = pd.concat([kemdy20_annot_val])\n",
    "\n",
    "\n",
    "annot_train_final.reset_index(drop=True, inplace=True)\n",
    "annot_test_final.reset_index(drop=True, inplace=True)\n",
    "annot_val_final.reset_index(drop=True, inplace=True)\n",
    "\n",
    "print(len(annot_train_final), len(annot_test_final), len(annot_val_final))"
   ]
  },
  {
   "cell_type": "code",
   "execution_count": 73,
   "metadata": {},
   "outputs": [
    {
     "name": "stdout",
     "output_type": "stream",
     "text": [
      "12895 12895 12895\n"
     ]
    }
   ],
   "source": [
    "# train dataset neutral 4000개로 랜덤 뽑은 것 생성\n",
    "emb_train_final = {}\n",
    "emb_train_final['wav'] = []\n",
    "emb_train_final['txt'] = []\n",
    "emb_train_final['segment_id'] = []\n",
    "for segment_annot_id in kemdy19_annot_train_neut['Segment ID']:\n",
    "    for wav, txt, segment_emb_id in zip(kemdy19_emb_train['wav'], kemdy19_emb_train['txt'], kemdy19_emb_train['segment_id']):\n",
    "        if segment_annot_id == segment_emb_id:\n",
    "            emb_train_final['wav'].append(wav)\n",
    "            emb_train_final['txt'].append(txt)\n",
    "            emb_train_final['segment_id'].append(segment_emb_id)\n",
    "            \n",
    "for segment_annot_id in kemdy19_annot_train_not_neut['Segment ID']:\n",
    "    for wav, txt, segment_emb_id in zip(kemdy19_emb_train['wav'], kemdy19_emb_train['txt'], kemdy19_emb_train['segment_id']):\n",
    "        if segment_annot_id == segment_emb_id:\n",
    "            emb_train_final['wav'].append(wav)\n",
    "            emb_train_final['txt'].append(txt)\n",
    "            emb_train_final['segment_id'].append(segment_emb_id)\n",
    "        \n",
    "\n",
    "for segment_annot_id in kemdy20_annot_train_neut['Segment ID']:\n",
    "    for wav, txt, segment_emb_id in zip(kemdy20_emb_train['wav'], kemdy20_emb_train['txt'], kemdy20_emb_train['segment_id']):\n",
    "        if segment_emb_id == segment_annot_id:\n",
    "            emb_train_final['wav'].append(wav)\n",
    "            emb_train_final['txt'].append(txt)\n",
    "            emb_train_final['segment_id'].append(segment_emb_id)\n",
    "        \n",
    "for segment_annot_id in kemdy20_annot_train_not_neut['Segment ID']:\n",
    "    for wav, txt, segment_emb_id in zip(kemdy20_emb_train['wav'], kemdy20_emb_train['txt'], kemdy20_emb_train['segment_id']):\n",
    "        if segment_annot_id == segment_emb_id:\n",
    "            emb_train_final['wav'].append(wav)\n",
    "            emb_train_final['txt'].append(txt)\n",
    "            emb_train_final['segment_id'].append(segment_emb_id)\n",
    "            \n",
    "print(len(emb_train_final['wav']), len(emb_train_final['txt']), len(emb_train_final['segment_id']))"
   ]
  },
  {
   "attachments": {},
   "cell_type": "markdown",
   "metadata": {},
   "source": [
    "# torch dataset 만들기\n",
    "- 참고: https://tutorials.pytorch.kr/beginner/basics/data_tutorial.html"
   ]
  },
  {
   "cell_type": "code",
   "execution_count": 74,
   "metadata": {},
   "outputs": [
    {
     "name": "stdout",
     "output_type": "stream",
     "text": [
      "torch.float32\n"
     ]
    }
   ],
   "source": [
    "torch.set_default_dtype(torch.float32)\n",
    "print(torch.get_default_dtype())"
   ]
  },
  {
   "cell_type": "code",
   "execution_count": 75,
   "metadata": {},
   "outputs": [],
   "source": [
    "class EtriDataset(Dataset):\n",
    "    def __init__(self, file_names, \n",
    "                 text_embeddings, \n",
    "                 wav_embeddings, \n",
    "                 Temp,\n",
    "                 EDA,\n",
    "                 Emotion,\n",
    "                 Emotion_vec, \n",
    "                 Arousal, \n",
    "                 Valence):\n",
    "        self.file_names = file_names\n",
    "        self.text_embeddings = text_embeddings\n",
    "        self.wav_embeddings = wav_embeddings\n",
    "        self.temp = Temp\n",
    "        self.eda = EDA\n",
    "        self.label_emotion = Emotion\n",
    "        self.label_emotion_vec = Emotion_vec\n",
    "        self.label_arousal = Arousal\n",
    "        self.label_valence = Valence\n",
    "        \n",
    "        \n",
    "    def __len__(self):\n",
    "        return len(self.file_names)\n",
    "\n",
    "    def __getitem__(self, idx):\n",
    "        text_embeddings = self.text_embeddings[idx]\n",
    "        wav_embeddings = self.wav_embeddings[idx]\n",
    "        temp = self.temp[idx]\n",
    "        eda = self.eda[idx]\n",
    "        label_emotion = self.label_emotion[idx]\n",
    "        label_emotion_ext = self.label_emotion_vec[idx]\n",
    "        label_arousal = self.label_arousal[idx]\n",
    "        label_valence = self.label_valence[idx]\n",
    "        return text_embeddings, wav_embeddings, temp, eda, label_emotion, label_emotion_ext, label_arousal, label_valence"
   ]
  },
  {
   "cell_type": "code",
   "execution_count": 76,
   "metadata": {},
   "outputs": [
    {
     "data": {
      "text/plain": [
       "Index(['Segment ID', 'Emotion', 'Valence', 'Arousal', 'emotion_vector',\n",
       "       'valence_vector', 'arousal_vector', 'EDA', 'TEMP', 'EDA length',\n",
       "       'TEMP length', 'Scaled EDA', 'Scaled TEMP', 'Scaled EDA length',\n",
       "       'Scaled TEMP length'],\n",
       "      dtype='object')"
      ]
     },
     "execution_count": 76,
     "metadata": {},
     "output_type": "execute_result"
    }
   ],
   "source": [
    "annot_train_final.columns"
   ]
  },
  {
   "cell_type": "code",
   "execution_count": 77,
   "metadata": {},
   "outputs": [
    {
     "data": {
      "text/plain": [
       "0        [-0.3718973890409327, 0.014900661274585038, 1....\n",
       "1        [0.010682127917621935, 0.010682127917621935, 0...\n",
       "2        [3.8020642918020253, 4.471577397566199, 5.1410...\n",
       "3        [0.38930773767252186, 0.05062989314501957, -0....\n",
       "4        [0.5435707358200577, 1.0985778077148998, -0.56...\n",
       "                               ...                        \n",
       "12890    [0.21216443981374747, -0.5026723961033908, 0.1...\n",
       "12891    [0.10999935356561173, -0.0941714350207516, -0....\n",
       "12892    [0.21216443981374747, 0.007913959272430075, -0...\n",
       "12893    [-0.7068431846897585, -0.6047577903965768, -0....\n",
       "12894    [0.41641492035506483, -1.0131790595242576, -0....\n",
       "Name: Scaled EDA, Length: 12895, dtype: object"
      ]
     },
     "execution_count": 77,
     "metadata": {},
     "output_type": "execute_result"
    }
   ],
   "source": [
    "annot_train_final['Scaled EDA']"
   ]
  },
  {
   "cell_type": "code",
   "execution_count": 78,
   "metadata": {},
   "outputs": [],
   "source": [
    "# data load 및 나누기: https://076923.github.io/posts/Python-pytorch-11/\n",
    "\n",
    "# annot_train_final, annot_test_final, annot_val_final\n",
    "# emb_train_final, emb_test_final, emb_val_final\n",
    "\n",
    "# session을 통합시킨 데이터 셋을 만들었을 때\n",
    "dataset_train = EtriDataset(file_names = annot_train_final['Segment ID'],\n",
    "                      text_embeddings = torch.stack(emb_train_final['txt']),\n",
    "                      wav_embeddings = torch.stack(emb_train_final['wav']),\n",
    "                      Emotion = annot_train_final['Emotion'],\n",
    "                      Arousal = annot_train_final['Arousal'],\n",
    "                      Valence = annot_train_final['Valence'],\n",
    "                      EDA = torch.Tensor(annot_train_final['Scaled EDA']), \n",
    "                      Temp = torch.Tensor(annot_train_final['Scaled TEMP']), \n",
    "                      Emotion_vec = torch.Tensor(annot_train_final['emotion_vector'])) \n",
    "\n",
    "\n",
    "dataset_test = EtriDataset(file_names = annot_test_final['Segment ID'],\n",
    "                      text_embeddings = torch.stack(emb_test_final['txt']),\n",
    "                      wav_embeddings = torch.stack(emb_test_final['wav']),\n",
    "                      Emotion = annot_test_final['Emotion'],\n",
    "                      Arousal = annot_test_final['Arousal'],\n",
    "                      Valence = annot_test_final['Valence'],\n",
    "                      EDA = torch.Tensor(annot_test_final['Scaled EDA']), \n",
    "                      Temp = torch.Tensor(annot_test_final['Scaled TEMP']), \n",
    "                      Emotion_vec = torch.Tensor(annot_test_final['emotion_vector']))\n",
    "\n",
    "dataset_val = EtriDataset(file_names = annot_val_final['Segment ID'],\n",
    "                      text_embeddings = torch.stack(emb_val_final['txt']),\n",
    "                      wav_embeddings = torch.stack(emb_val_final['wav']),\n",
    "                      Emotion = annot_val_final['Emotion'],\n",
    "                      Arousal = annot_val_final['Arousal'],\n",
    "                      Valence = annot_val_final['Valence'],\n",
    "                      EDA = torch.Tensor(annot_val_final['Scaled EDA']), \n",
    "                      Temp = torch.Tensor(annot_val_final['Scaled TEMP']), \n",
    "                      Emotion_vec = torch.Tensor(annot_val_final['emotion_vector'])) \n"
   ]
  },
  {
   "cell_type": "code",
   "execution_count": 79,
   "metadata": {},
   "outputs": [
    {
     "name": "stdout",
     "output_type": "stream",
     "text": [
      "Training Data Size : 12895\n",
      "Validation Data Size : 2543\n",
      "Testing Data Size : 2814\n"
     ]
    }
   ],
   "source": [
    "print(f\"Training Data Size : {len(dataset_train)}\")\n",
    "print(f\"Validation Data Size : {len(dataset_val)}\")\n",
    "print(f\"Testing Data Size : {len(dataset_test)}\")"
   ]
  },
  {
   "cell_type": "code",
   "execution_count": 80,
   "metadata": {},
   "outputs": [],
   "source": [
    "train_dataloader = DataLoader(dataset_train, batch_size=512, shuffle=True, drop_last=True)\n",
    "validation_dataloader = DataLoader(dataset_val, batch_size=128, shuffle=True, drop_last=True)\n",
    "test_dataloader = DataLoader(dataset_test, batch_size=128, shuffle=True, drop_last=True)"
   ]
  },
  {
   "attachments": {},
   "cell_type": "markdown",
   "metadata": {},
   "source": [
    "# NetWork 만들기"
   ]
  },
  {
   "cell_type": "code",
   "execution_count": 81,
   "metadata": {},
   "outputs": [
    {
     "name": "stdout",
     "output_type": "stream",
     "text": [
      "Using cuda device\n"
     ]
    }
   ],
   "source": [
    "device = \"cuda\" if torch.cuda.is_available() else \"cpu\"\n",
    "print(f\"Using {device} device\")\n"
   ]
  },
  {
   "cell_type": "code",
   "execution_count": 89,
   "metadata": {},
   "outputs": [],
   "source": [
    "class MLPNetwork_pre_wt(nn.Module):\n",
    "    def __init__(self, input_length, input_width):\n",
    "        super().__init__()\n",
    "        self.flatten = nn.Flatten()\n",
    "        self.fc1 = nn.Linear(input_length*input_width, 768)\n",
    "        self.gelu1 = nn.GELU()\n",
    "        self.bn1 = nn.BatchNorm1d(768)\n",
    "        self.fc2 = nn.Linear(768, 512)\n",
    "        self.gelu2 = nn.GELU()\n",
    "        self.bn2 = nn.BatchNorm1d(512)\n",
    "        self.fc3 = nn.Linear(512, 32)\n",
    "        self.gelu3 = nn.GELU()\n",
    "\n",
    "    def forward(self, x):\n",
    "        x = self.flatten(x)\n",
    "        x = self.fc1(x)\n",
    "        x = self.gelu1(x)\n",
    "        x = self.bn1(x)\n",
    "        x = self.fc2(x)\n",
    "        x = self.gelu2(x)\n",
    "        x = self.bn2(x)\n",
    "        x = self.fc3(x)\n",
    "        output = self.gelu3(x)\n",
    "        return output\n",
    "    \n",
    "class MLPNetwork_pre_ts(nn.Module):\n",
    "    def __init__(self, input_length):\n",
    "        super().__init__()\n",
    "        self.flatten = nn.Flatten()\n",
    "        self.fc1 = nn.Linear(input_length, 30)\n",
    "        self.gelu1 = nn.GELU()\n",
    "        self.bn1 = nn.BatchNorm1d(30)\n",
    "        self.fc2 = nn.Linear(30, 10)\n",
    "        self.gelu2 = nn.GELU()\n",
    "\n",
    "    def forward(self, x):\n",
    "        x = self.flatten(x)\n",
    "        x = self.fc1(x)\n",
    "        x = self.gelu1(x)\n",
    "        x = self.bn1(x)\n",
    "        x = self.fc2(x)\n",
    "        output = self.gelu2(x)\n",
    "        return output\n",
    "\n",
    "class MLPNetwork_final(nn.Module):\n",
    "    def __init__(self, input_length):\n",
    "        super().__init__()\n",
    "        self.flatten = nn.Flatten()\n",
    "        self.fc1 = nn.Linear(input_length, 32)\n",
    "        self.gelu1 = nn.GELU()\n",
    "        self.bn1 = nn.BatchNorm1d(32)\n",
    "        self.fc2 = nn.Linear(32, 7)\n",
    "        self.gelu2 = nn.GELU()\n",
    "\n",
    "    def forward(self, x):\n",
    "        x = self.flatten(x)\n",
    "        x = self.fc1(x)\n",
    "        x = self.gelu1(x)\n",
    "        x = self.bn1(x)\n",
    "        x = self.fc2(x)\n",
    "        output = self.gelu2(x)\n",
    "        return output"
   ]
  },
  {
   "cell_type": "code",
   "execution_count": 107,
   "metadata": {},
   "outputs": [],
   "source": [
    "class MLP_MIXER(nn.Module):\n",
    "    def __init__(self, ModelA, ModelB, ModelC, ModelD, ModelE):\n",
    "        super().__init__()\n",
    "        self.ModelA = ModelA\n",
    "        self.ModelB = ModelB\n",
    "        self.ModelC = ModelC\n",
    "        self.ModelD = ModelD\n",
    "        self.Model_mlp_final = ModelE\n",
    "        self.softmax = nn.Softmax(dim=1)\n",
    "\n",
    "    def forward(self, x1, x2, x3, x4):\n",
    "        x1 = self.ModelA(x1)\n",
    "        x2 = self.ModelB(x2)\n",
    "        x3 = self.ModelC(x3)\n",
    "        x4 = self.ModelD(x4)\n",
    "        x5 = torch.concat([x1, x2, x3, x4], dim=1)\n",
    "        x = self.Model_mlp_final(x5)\n",
    "        output = self.softmax(x)\n",
    "\n",
    "        return output"
   ]
  },
  {
   "cell_type": "code",
   "execution_count": 108,
   "metadata": {},
   "outputs": [
    {
     "name": "stdout",
     "output_type": "stream",
     "text": [
      "MLP_MIXER(\n",
      "  (ModelA): MLPNetwork_pre_wt(\n",
      "    (flatten): Flatten(start_dim=1, end_dim=-1)\n",
      "    (fc1): Linear(in_features=61440, out_features=768, bias=True)\n",
      "    (gelu1): GELU(approximate='none')\n",
      "    (bn1): BatchNorm1d(768, eps=1e-05, momentum=0.1, affine=True, track_running_stats=True)\n",
      "    (fc2): Linear(in_features=768, out_features=512, bias=True)\n",
      "    (gelu2): GELU(approximate='none')\n",
      "    (bn2): BatchNorm1d(512, eps=1e-05, momentum=0.1, affine=True, track_running_stats=True)\n",
      "    (fc3): Linear(in_features=512, out_features=32, bias=True)\n",
      "    (gelu3): GELU(approximate='none')\n",
      "  )\n",
      "  (ModelB): MLPNetwork_pre_wt(\n",
      "    (flatten): Flatten(start_dim=1, end_dim=-1)\n",
      "    (fc1): Linear(in_features=152576, out_features=768, bias=True)\n",
      "    (gelu1): GELU(approximate='none')\n",
      "    (bn1): BatchNorm1d(768, eps=1e-05, momentum=0.1, affine=True, track_running_stats=True)\n",
      "    (fc2): Linear(in_features=768, out_features=512, bias=True)\n",
      "    (gelu2): GELU(approximate='none')\n",
      "    (bn2): BatchNorm1d(512, eps=1e-05, momentum=0.1, affine=True, track_running_stats=True)\n",
      "    (fc3): Linear(in_features=512, out_features=32, bias=True)\n",
      "    (gelu3): GELU(approximate='none')\n",
      "  )\n",
      "  (ModelC): MLPNetwork_pre_ts(\n",
      "    (flatten): Flatten(start_dim=1, end_dim=-1)\n",
      "    (fc1): Linear(in_features=50, out_features=30, bias=True)\n",
      "    (gelu1): GELU(approximate='none')\n",
      "    (bn1): BatchNorm1d(30, eps=1e-05, momentum=0.1, affine=True, track_running_stats=True)\n",
      "    (fc2): Linear(in_features=30, out_features=10, bias=True)\n",
      "    (gelu2): GELU(approximate='none')\n",
      "  )\n",
      "  (ModelD): MLPNetwork_pre_ts(\n",
      "    (flatten): Flatten(start_dim=1, end_dim=-1)\n",
      "    (fc1): Linear(in_features=50, out_features=30, bias=True)\n",
      "    (gelu1): GELU(approximate='none')\n",
      "    (bn1): BatchNorm1d(30, eps=1e-05, momentum=0.1, affine=True, track_running_stats=True)\n",
      "    (fc2): Linear(in_features=30, out_features=10, bias=True)\n",
      "    (gelu2): GELU(approximate='none')\n",
      "  )\n",
      "  (Model_mlp_final): MLPNetwork_final(\n",
      "    (flatten): Flatten(start_dim=1, end_dim=-1)\n",
      "    (fc1): Linear(in_features=84, out_features=32, bias=True)\n",
      "    (gelu1): GELU(approximate='none')\n",
      "    (bn1): BatchNorm1d(32, eps=1e-05, momentum=0.1, affine=True, track_running_stats=True)\n",
      "    (fc2): Linear(in_features=32, out_features=7, bias=True)\n",
      "    (gelu2): GELU(approximate='none')\n",
      "  )\n",
      "  (softmax): Softmax(dim=1)\n",
      ")\n"
     ]
    }
   ],
   "source": [
    "txt_input_length, txt_input_width = dataset_train.text_embeddings[0].shape\n",
    "wav_input_length, wav_input_width = dataset_train.wav_embeddings[0].shape\n",
    "temp_input_length = dataset_train.temp[0].shape[0]\n",
    "eda_input_length = dataset_train.eda[0].shape[0]\n",
    "\n",
    "txt_input_length, txt_input_width,wav_input_length, wav_input_width,temp_input_length,eda_input_length\n",
    "\n",
    "model_mlp_txt = MLPNetwork_pre_wt(txt_input_length,txt_input_width).to(device)\n",
    "model_mlp_wav = MLPNetwork_pre_wt(wav_input_length,wav_input_width).to(device)\n",
    "\n",
    "model_mlp_temp = MLPNetwork_pre_ts(temp_input_length).to(device)\n",
    "model_mlp_eda = MLPNetwork_pre_ts(eda_input_length).to(device)\n",
    "\n",
    "\n",
    "model_mlp_final = MLPNetwork_final(84).to(device)\n",
    "# 최종 모델 선언\n",
    "model_mlp_only_mixer = MLP_MIXER(ModelA = model_mlp_txt, \n",
    "                                   ModelB = model_mlp_wav,\n",
    "                                   ModelC = model_mlp_temp,\n",
    "                                   ModelD = model_mlp_eda,\n",
    "                                   ModelE = model_mlp_final).to(device)\n",
    "\n",
    "print(model_mlp_only_mixer)"
   ]
  },
  {
   "attachments": {},
   "cell_type": "markdown",
   "metadata": {},
   "source": [
    "# 학습을 위한 train, test method 만들기"
   ]
  },
  {
   "cell_type": "code",
   "execution_count": 109,
   "metadata": {},
   "outputs": [],
   "source": [
    "def train(dataloader, model, loss_fn, optimizer):\n",
    "    size = len(dataloader.dataset)    \n",
    "    # data 순서: text_embeddings, wav_embeddings, temp, eda, label_emotion, label_emotion_ext, label_arousal, label_valence\n",
    "    for batch, (X_txt, X_wav, X_temp, X_eda, \n",
    "                    label_emotion, label_emotion_vec, label_arousal, label_valence) in enumerate(dataloader): \n",
    "        y = label_emotion_vec # 라벨을 변경하고자 하면 이 변수만 바꿔주면 나머지는 y로 적용\n",
    "        # 예측 오류 계산 \n",
    "        X_txt, X_wav, X_temp, X_eda, y= X_txt.to(device), X_wav.to(device), X_temp.to(device), X_eda.to(device),y.type(torch.float32).to(device)\n",
    "        \n",
    "        X_temp = X_temp.unsqueeze(dim=-1)\n",
    "        X_eda = X_eda.unsqueeze(dim=-1)\n",
    "        \n",
    "        pred = model(X_txt, X_wav, X_temp, X_eda)\n",
    "        y = F.softmax(y, dim = 1)\n",
    "        \n",
    "        loss = loss_fn(pred, y)\n",
    "\n",
    "        # 역전파\n",
    "        optimizer.zero_grad()\n",
    "        loss.mean().backward() # weighted MSE를 사용할 경우 중간에 sum() or mean()을 넣어줌\n",
    "        optimizer.step()\n",
    "        \n",
    "        if batch % 100 == 0:\n",
    "            loss, current = loss.mean().mean().item(), batch * len(X_txt) # weighted MSE를 사용할 경우 중간에 sum() or mean()을 넣어줌\n",
    "            print(f\"loss: {loss:>7f}  [{current:>5d}/{size:>5d}]\")\n",
    "        "
   ]
  },
  {
   "cell_type": "code",
   "execution_count": 110,
   "metadata": {},
   "outputs": [],
   "source": [
    "multi_label_threshold = 0.080\n",
    "def cal_multiple_class(probs, threshold = multi_label_threshold):\n",
    "    values = probs.topk(2)\n",
    "    pred_list = []\n",
    "    # print(values)\n",
    "    diffs = abs(torch.diff(values.values))\n",
    "    for idx,diff in zip(values.indices, diffs):\n",
    "        if diff <= threshold:\n",
    "            sorted, idx = torch.sort(idx)\n",
    "            if sorted[0] == 0:\n",
    "                pred_list.append(100*7 + 10*sorted[1].item())\n",
    "            else:\n",
    "                pred_list.append(100*sorted[0].item() + 10*sorted[1].item())\n",
    "        else:\n",
    "            pred_list.append(idx[0].item())\n",
    "    return torch.Tensor(pred_list).to(device), probs.argmax(1)"
   ]
  },
  {
   "cell_type": "code",
   "execution_count": 111,
   "metadata": {},
   "outputs": [],
   "source": [
    "from copy import deepcopy\n",
    "from sklearn.metrics import f1_score as f1_skearn\n",
    "\n",
    "def test(dataloader, model, loss_fn, mode = 'test'):\n",
    "    size = len(dataloader.dataset)\n",
    "    num_batches = len(dataloader)\n",
    "    model.eval()\n",
    "    test_loss, correct = 0, 0\n",
    "    \n",
    "    f1 = F1Score(task= 'multiclass', num_classes=37, average='weighted').to(device)   \n",
    "    preds = []\n",
    "    targets = []\n",
    "    \n",
    "    with torch.no_grad():\n",
    "        # data 순서: text_embeddings, wav_embeddings, temp, eda, label_emotion, label_emotion_ext, label_arousal, label_valence\n",
    "        for batch, (X_txt, X_wav, X_temp, X_eda, \n",
    "                        label_emotion, label_emotion_vec, label_arousal, label_valence) in enumerate(dataloader): \n",
    "            y = label_emotion_vec # 라벨을 변경하고자 하면 이 변수만 바꿔주면 나머지는 y로 적용\n",
    "            # 예측 오류 계산\n",
    "            X_txt, X_wav, X_temp, X_eda, y= X_txt.to(device), X_wav.to(device), X_temp.to(device), X_eda.to(device),y.type(torch.float32).to(device)\n",
    "            \n",
    "            X_temp = X_temp.unsqueeze(dim=-1)\n",
    "            X_eda = X_eda.unsqueeze(dim=-1)\n",
    "            \n",
    "            pred = model(X_txt, X_wav, X_temp, X_eda)\n",
    "            pred_for_acc, _ = cal_multiple_class(pred)\n",
    "            \n",
    "            preds.append(pred_for_acc)\n",
    "            y = F.softmax(y, dim = 1)\n",
    "            # preds.append(pred.argmax(1)) # multi regression후 classification으로 변환할 경우\n",
    "\n",
    "            targets.append(label_emotion) # classification을 할 경우 언제나 사용\n",
    "            # print('예측라벨분포:',pred[:2], '정답라벨 분포:', label_emotion_ext[:2], '예측정답:', pred.argmax(1)[:2],'정답:', label_emotion[:2])\n",
    "            # print('예측:', pred.argmax(1).tolist()[:2],'\\n', '정답:', label_emotion.tolist()[:2])\n",
    "            # https://discuss.pytorch.org/t/loss-backward-raises-error-grad-can-be-implicitly-created-only-for-scalar-outputs/12152/6\n",
    "            test_loss += loss_fn(pred, y).mean().item()# weighted MSE를 사용할 경우 중간에 sum() or mean()을 넣어줌 \n",
    "            \n",
    "            correct += (pred_for_acc == label_emotion.to(device)).type(torch.float).sum().item()\n",
    "            # correct += (pred.argmax(1) == label_emotion.to(device)).type(torch.float).sum().item()\n",
    "            \n",
    "    test_loss /= num_batches\n",
    "    correct /= size\n",
    "    # f1_score = f1(torch.cat(preds).to(device), torch.cat(targets).to(device))\n",
    "    f1_score = f1_skearn(torch.cat(preds).detach().cpu().numpy(), torch.cat(targets).detach().cpu().numpy(), average= 'weighted') # test\n",
    "    accuracy = (100*correct)\n",
    "    \n",
    "    if mode == 'test':\n",
    "        print(torch.cat(preds), torch.cat(preds).shape)\n",
    "        print(\"f1 score: \", f1_score)\n",
    "        print(f\"Test Error: Accuracy: {(accuracy):>0.1f}%, Avg loss: {test_loss:>8f}\\n\")\n",
    "    elif mode == 'val':\n",
    "        print(f\"Validation Error: Accuracy: {(accuracy):>0.1f}%, Avg val loss: {test_loss:>8f} \\n\")\n",
    "    \n",
    "    return f1_score, accuracy, test_loss"
   ]
  },
  {
   "attachments": {},
   "cell_type": "markdown",
   "metadata": {},
   "source": [
    "# 학습시키기"
   ]
  },
  {
   "cell_type": "code",
   "execution_count": 112,
   "metadata": {},
   "outputs": [
    {
     "name": "stdout",
     "output_type": "stream",
     "text": [
      "total obs:  11948\n",
      "Counter({4: 6011, 3: 1812, 0: 1610, 6: 996, 5: 733, 1: 401, 2: 385, 340: 345, 40: 126, 450: 100, 460: 92, 140: 81, 10: 42, 350: 27, 250: 23, 240: 20, 50: 13, 60: 13, 20: 9, 7140: 7, 560: 6, 7340: 4, 230: 4, 260: 3, 150: 3, 730: 3, 7240: 3, 120: 3, 1450: 2, 4560: 2, 3450: 2, 2340: 2, 1460: 2, 360: 2, 7250: 1, 7450: 1, 2450: 1, 3460: 1, 130: 1, 20000: 1, 160: 1, 10000: 1})\n",
      "0 is in single emotion, 1610\n",
      "1 is in single emotion, 401\n",
      "2 is in single emotion, 385\n",
      "3 is in single emotion, 1812\n",
      "4 is in single emotion, 6011\n",
      "5 is in single emotion, 733\n",
      "6 is in single emotion, 996\n"
     ]
    },
    {
     "data": {
      "text/plain": [
       "tensor([0.8652, 0.9663, 0.9678, 0.8481, 0.4968, 0.9385, 0.9165],\n",
       "       dtype=torch.float16)"
      ]
     },
     "execution_count": 112,
     "metadata": {},
     "output_type": "execute_result"
    }
   ],
   "source": [
    "# weigted loss for imbalance data: https://naadispeaks.wordpress.com/2021/07/31/handling-imbalanced-classes-with-weighted-loss-in-pytorch/\n",
    "# weight 계산\n",
    "single_emotion = [0,1,2,3,4,5,6]\n",
    "total_obs = 0\n",
    "for i in single_emotion:\n",
    "    total_obs += Counter(annot_train_final['Emotion'])[i]\n",
    "\n",
    "print('total obs: ', total_obs)\n",
    "print(Counter(annot_train_final['Emotion']))\n",
    "\n",
    "weight_for_class = []\n",
    "for key, value in sorted(Counter(annot_train_final['Emotion']).items()):\n",
    "    if key in single_emotion:\n",
    "        print(f'{key} is in single emotion, {value}')\n",
    "        weight_for_class.append(1 - (value/total_obs))\n",
    "            \n",
    "weight_for_class = torch.Tensor(weight_for_class).type(torch.float16)\n",
    "weight_for_class"
   ]
  },
  {
   "cell_type": "code",
   "execution_count": 113,
   "metadata": {},
   "outputs": [],
   "source": [
    "class weighted_MSELoss(nn.Module):\n",
    "    def __init__(self, weight):\n",
    "        super().__init__()\n",
    "        self.weight = weight.to(device)\n",
    "    def forward(self,inputs,targets):\n",
    "        return ((inputs - targets)**2) * self.weight"
   ]
  },
  {
   "cell_type": "code",
   "execution_count": null,
   "metadata": {},
   "outputs": [],
   "source": [
    "# # 지난 저장한 모델이 있다면\n",
    "# PATH = './data/test_model.pkl'\n",
    "# model_tf_mixer = torch.load(PATH)"
   ]
  },
  {
   "cell_type": "code",
   "execution_count": 114,
   "metadata": {},
   "outputs": [],
   "source": [
    "# loss_fn = nn.CrossEntropyLoss(weight=weight_for_class).to(device)\n",
    "# loss_fn = nn.CrossEntropyLoss().to(device) # weigth를 주기위해 위의 loss로 임시 변경\n",
    "loss_fn = weighted_MSELoss(weight = weight_for_class).to(device) # multi target regression(감정별로 count 한 타겟)\n",
    "# loss_fn = nn.MSELoss().to(device) "
   ]
  },
  {
   "cell_type": "code",
   "execution_count": 115,
   "metadata": {},
   "outputs": [],
   "source": [
    "lr = 1e-4\n",
    "\n",
    "# optimizer = optim.SGD(model_tf_mixer.parameters(), lr=lr) # classification\n",
    "optimizer = optim.Adam(model_mlp_only_mixer.parameters(), lr=lr) # regression"
   ]
  },
  {
   "attachments": {},
   "cell_type": "markdown",
   "metadata": {},
   "source": [
    "## start training mlp fusion mixer"
   ]
  },
  {
   "cell_type": "code",
   "execution_count": 116,
   "metadata": {},
   "outputs": [
    {
     "name": "stderr",
     "output_type": "stream",
     "text": [
      "\u001b[34m\u001b[1mwandb\u001b[0m: \u001b[33mWARNING\u001b[0m Calling wandb.login() after wandb.init() has no effect.\n"
     ]
    },
    {
     "data": {
      "text/plain": [
       "True"
      ]
     },
     "execution_count": 116,
     "metadata": {},
     "output_type": "execute_result"
    }
   ],
   "source": [
    "import wandb\n",
    "\n",
    "# !wandb login --relogin \"9bccad4ccb69d37aa82b7b6b8e2e2d3c54f79ab1\"\n",
    "wandb.login()"
   ]
  },
  {
   "cell_type": "code",
   "execution_count": 118,
   "metadata": {},
   "outputs": [
    {
     "data": {
      "text/html": [
       "Finishing last run (ID:nm2w25y3) before initializing another..."
      ],
      "text/plain": [
       "<IPython.core.display.HTML object>"
      ]
     },
     "metadata": {},
     "output_type": "display_data"
    },
    {
     "data": {
      "text/html": [
       "Waiting for W&B process to finish... <strong style=\"color:green\">(success).</strong>"
      ],
      "text/plain": [
       "<IPython.core.display.HTML object>"
      ]
     },
     "metadata": {},
     "output_type": "display_data"
    },
    {
     "data": {
      "text/html": [
       " View run <strong style=\"color:#cdcd00\">Experiment Name(Lou)</strong> at: <a href='https://wandb.ai/toez/ETRI-lou-multiclassification-MLP-only/runs/nm2w25y3' target=\"_blank\">https://wandb.ai/toez/ETRI-lou-multiclassification-MLP-only/runs/nm2w25y3</a><br/>Synced 4 W&B file(s), 0 media file(s), 0 artifact file(s) and 0 other file(s)"
      ],
      "text/plain": [
       "<IPython.core.display.HTML object>"
      ]
     },
     "metadata": {},
     "output_type": "display_data"
    },
    {
     "data": {
      "text/html": [
       "Find logs at: <code>./wandb/run-20230412_155435-nm2w25y3/logs</code>"
      ],
      "text/plain": [
       "<IPython.core.display.HTML object>"
      ]
     },
     "metadata": {},
     "output_type": "display_data"
    },
    {
     "data": {
      "text/html": [
       "Successfully finished last run (ID:nm2w25y3). Initializing new run:<br/>"
      ],
      "text/plain": [
       "<IPython.core.display.HTML object>"
      ]
     },
     "metadata": {},
     "output_type": "display_data"
    },
    {
     "data": {
      "text/html": [
       "Tracking run with wandb version 0.14.2"
      ],
      "text/plain": [
       "<IPython.core.display.HTML object>"
      ]
     },
     "metadata": {},
     "output_type": "display_data"
    },
    {
     "data": {
      "text/html": [
       "Run data is saved locally in <code>/home/arplab/project/lou/multi_modal/experimental/wandb/run-20230412_155449-baqzinub</code>"
      ],
      "text/plain": [
       "<IPython.core.display.HTML object>"
      ]
     },
     "metadata": {},
     "output_type": "display_data"
    },
    {
     "data": {
      "text/html": [
       "Syncing run <strong><a href='https://wandb.ai/toez/ETRI-lou-multiclassification-MLP-only/runs/baqzinub' target=\"_blank\">Experiment Name(Lou)</a></strong> to <a href='https://wandb.ai/toez/ETRI-lou-multiclassification-MLP-only' target=\"_blank\">Weights & Biases</a> (<a href='https://wandb.me/run' target=\"_blank\">docs</a>)<br/>"
      ],
      "text/plain": [
       "<IPython.core.display.HTML object>"
      ]
     },
     "metadata": {},
     "output_type": "display_data"
    },
    {
     "data": {
      "text/html": [
       " View project at <a href='https://wandb.ai/toez/ETRI-lou-multiclassification-MLP-only' target=\"_blank\">https://wandb.ai/toez/ETRI-lou-multiclassification-MLP-only</a>"
      ],
      "text/plain": [
       "<IPython.core.display.HTML object>"
      ]
     },
     "metadata": {},
     "output_type": "display_data"
    },
    {
     "data": {
      "text/html": [
       " View run at <a href='https://wandb.ai/toez/ETRI-lou-multiclassification-MLP-only/runs/baqzinub' target=\"_blank\">https://wandb.ai/toez/ETRI-lou-multiclassification-MLP-only/runs/baqzinub</a>"
      ],
      "text/plain": [
       "<IPython.core.display.HTML object>"
      ]
     },
     "metadata": {},
     "output_type": "display_data"
    },
    {
     "data": {
      "text/html": [
       "<button onClick=\"this.nextSibling.style.display='block';this.style.display='none';\">Display W&B run</button><iframe src='https://wandb.ai/toez/ETRI-lou-multiclassification-MLP-only/runs/baqzinub?jupyter=true' style='border:none;width:100%;height:420px;display:none;'></iframe>"
      ],
      "text/plain": [
       "<wandb.sdk.wandb_run.Run at 0x7f3492f57610>"
      ]
     },
     "execution_count": 118,
     "metadata": {},
     "output_type": "execute_result"
    }
   ],
   "source": [
    "#wandb init\n",
    "epochs = 15\n",
    "\n",
    "wandb.init(\n",
    "    # set the wandb project where this run will be logged\n",
    "    project=\"ETRI-lou-multiclassification-MLP-only\",\n",
    "    name = f'Experiment Name(Lou)',\n",
    "    # track hyperparameters and run metadata\n",
    "    config={\n",
    "    \"learning_rate\": lr,\n",
    "    \"architecture\": \"CNN Tensor Fusion Mixer\",\n",
    "    \"dataset\": \"ETRI Kemdy20\",\n",
    "    \"epochs\": epochs,\n",
    "    \"Optimizer\": optimizer.__class__.__name__,\n",
    "    \"Loss\": loss_fn.__class__.__name__,\n",
    "    \"multi label threshold\": multi_label_threshold,\n",
    "    }\n",
    ")"
   ]
  },
  {
   "cell_type": "code",
   "execution_count": 119,
   "metadata": {},
   "outputs": [
    {
     "name": "stdout",
     "output_type": "stream",
     "text": [
      "---------------Epoch 1----------------\n",
      "loss: 0.077912  [    0/12895]\n",
      "Validation Error: Accuracy: 9.7%, Avg val loss: 0.072454 \n",
      "\n",
      "best_acc: 9.712937475422729\n",
      "best_f1: 0.09657185571680958\n",
      "---------------Epoch 2----------------\n",
      "loss: 0.069768  [    0/12895]\n",
      "Validation Error: Accuracy: 54.7%, Avg val loss: 0.047482 \n",
      "\n",
      "best_acc: 54.69917420369642\n",
      "best_f1: 0.5222488473300544\n",
      "---------------Epoch 3----------------\n",
      "loss: 0.056795  [    0/12895]\n",
      "Validation Error: Accuracy: 71.6%, Avg val loss: 0.036321 \n",
      "\n",
      "best_acc: 71.56901297679906\n",
      "best_f1: 0.7786318779904307\n",
      "---------------Epoch 4----------------\n",
      "loss: 0.058152  [    0/12895]\n",
      "Validation Error: Accuracy: 40.7%, Avg val loss: 0.051614 \n",
      "\n",
      "---------------Epoch 5----------------\n",
      "loss: 0.053402  [    0/12895]\n",
      "Validation Error: Accuracy: 36.7%, Avg val loss: 0.052670 \n",
      "\n",
      "---------------Epoch 6----------------\n",
      "loss: 0.052214  [    0/12895]\n",
      "Validation Error: Accuracy: 41.8%, Avg val loss: 0.050486 \n",
      "\n",
      "---------------Epoch 7----------------\n",
      "loss: 0.048194  [    0/12895]\n",
      "Validation Error: Accuracy: 37.6%, Avg val loss: 0.052364 \n",
      "\n",
      "---------------Epoch 8----------------\n",
      "loss: 0.050154  [    0/12895]\n",
      "Validation Error: Accuracy: 30.4%, Avg val loss: 0.054374 \n",
      "\n",
      "---------------Epoch 9----------------\n",
      "loss: 0.049224  [    0/12895]\n",
      "Validation Error: Accuracy: 28.9%, Avg val loss: 0.055107 \n",
      "\n",
      "---------------Epoch 10----------------\n",
      "loss: 0.047436  [    0/12895]\n",
      "Validation Error: Accuracy: 28.0%, Avg val loss: 0.055642 \n",
      "\n",
      "---------------Epoch 11----------------\n",
      "loss: 0.049783  [    0/12895]\n",
      "Validation Error: Accuracy: 50.9%, Avg val loss: 0.043609 \n",
      "\n",
      "---------------Epoch 12----------------\n",
      "loss: 0.043791  [    0/12895]\n",
      "Validation Error: Accuracy: 25.3%, Avg val loss: 0.056578 \n",
      "\n",
      "---------------Epoch 13----------------\n",
      "loss: 0.043543  [    0/12895]\n",
      "Validation Error: Accuracy: 36.9%, Avg val loss: 0.050696 \n",
      "\n",
      "---------------Epoch 14----------------\n",
      "loss: 0.041775  [    0/12895]\n",
      "Validation Error: Accuracy: 50.2%, Avg val loss: 0.044395 \n",
      "\n",
      "---------------Epoch 15----------------\n",
      "loss: 0.044703  [    0/12895]\n",
      "Validation Error: Accuracy: 41.4%, Avg val loss: 0.050413 \n",
      "\n"
     ]
    },
    {
     "data": {
      "text/html": [
       "Waiting for W&B process to finish... <strong style=\"color:green\">(success).</strong>"
      ],
      "text/plain": [
       "<IPython.core.display.HTML object>"
      ]
     },
     "metadata": {},
     "output_type": "display_data"
    },
    {
     "data": {
      "text/html": [
       "<style>\n",
       "    table.wandb td:nth-child(1) { padding: 0 10px; text-align: left ; width: auto;} td:nth-child(2) {text-align: left ; width: 100%}\n",
       "    .wandb-row { display: flex; flex-direction: row; flex-wrap: wrap; justify-content: flex-start; width: 100% }\n",
       "    .wandb-col { display: flex; flex-direction: column; flex-basis: 100%; flex: 1; padding: 10px; }\n",
       "    </style>\n",
       "<div class=\"wandb-row\"><div class=\"wandb-col\"><h3>Run history:</h3><br/><table class=\"wandb\"><tr><td>accuracy</td><td>▁▆█▅▄▅▄▃▃▃▆▃▄▆▅</td></tr><tr><td>f1 score</td><td>▁▅█▃▃▄▃▂▂▂▅▂▃▅▄</td></tr><tr><td>loss</td><td>█▃▁▄▄▄▄▄▅▅▂▅▄▃▄</td></tr></table><br/></div><div class=\"wandb-col\"><h3>Run summary:</h3><br/><table class=\"wandb\"><tr><td>accuracy</td><td>41.36846</td></tr><tr><td>f1 score</td><td>0.34128</td></tr><tr><td>loss</td><td>0.05041</td></tr></table><br/></div></div>"
      ],
      "text/plain": [
       "<IPython.core.display.HTML object>"
      ]
     },
     "metadata": {},
     "output_type": "display_data"
    },
    {
     "data": {
      "text/html": [
       " View run <strong style=\"color:#cdcd00\">Experiment Name(Lou)</strong> at: <a href='https://wandb.ai/toez/ETRI-lou-multiclassification-MLP-only/runs/baqzinub' target=\"_blank\">https://wandb.ai/toez/ETRI-lou-multiclassification-MLP-only/runs/baqzinub</a><br/>Synced 5 W&B file(s), 0 media file(s), 0 artifact file(s) and 0 other file(s)"
      ],
      "text/plain": [
       "<IPython.core.display.HTML object>"
      ]
     },
     "metadata": {},
     "output_type": "display_data"
    },
    {
     "data": {
      "text/html": [
       "Find logs at: <code>./wandb/run-20230412_155449-baqzinub/logs</code>"
      ],
      "text/plain": [
       "<IPython.core.display.HTML object>"
      ]
     },
     "metadata": {},
     "output_type": "display_data"
    },
    {
     "name": "stdout",
     "output_type": "stream",
     "text": [
      "Done! best f1_score: 0.7786318779904307 | best accuracy: 71.56901297679906\n"
     ]
    }
   ],
   "source": [
    "# Set the Training Parameters\n",
    "from copy import deepcopy\n",
    "loss_list = []\n",
    "acc_list = []\n",
    "best_acc = 0\n",
    "best_f1 = 0\n",
    "best_acc_model = None \n",
    "best_f1_model = None\n",
    "\n",
    "\n",
    "for epoch in range(epochs):\n",
    "    print(f\"---------------Epoch {epoch+1}----------------\")\n",
    "    train(train_dataloader, model_mlp_only_mixer, loss_fn, optimizer)\n",
    "    f1_score, accuracy, loss = test(validation_dataloader, model_mlp_only_mixer, loss_fn, mode = 'val')\n",
    "    if accuracy > best_acc:\n",
    "        best_acc = accuracy\n",
    "        best_acc_model = deepcopy(model_mlp_only_mixer)\n",
    "        print('best_acc:', best_acc)\n",
    "    if f1_score > best_f1:\n",
    "        best_f1 = f1_score\n",
    "        best_f1_model = deepcopy(model_mlp_only_mixer)\n",
    "        print('best_f1:', best_f1)\n",
    "    loss_list.append(loss)\n",
    "    acc_list.append(accuracy)\n",
    "    wandb.log({'accuracy': accuracy, 'loss': loss, 'f1 score': f1_score})\n",
    "wandb.finish()\n",
    "print(\"Done!\", f'best f1_score: {best_f1} | best accuracy: {best_acc}')"
   ]
  },
  {
   "cell_type": "code",
   "execution_count": 52,
   "metadata": {},
   "outputs": [],
   "source": [
    "# 실험을 위해 모델의 state dict 저장\n",
    "PATH_f1 = '../model/data/model_multilabel_MLPf1_7786.pkl'\n",
    "torch.save(best_f1_model, PATH_f1)\n",
    "\n",
    "PATH_acc = '../model/data/model_multilabel_MLPacc_7156.pkl'\n",
    "torch.save(best_acc_model, PATH_acc)"
   ]
  },
  {
   "cell_type": "code",
   "execution_count": null,
   "metadata": {},
   "outputs": [],
   "source": [
    "PATH_f1 = '../model/data/model_multilabel_MLPf1_8536.pkl'\n",
    "model_f1 = torch.load(PATH_f1)\n",
    "\n",
    "PATH_acc = '../model/data/model_multilabel_CNNacc_8044.pkl'\n",
    "model_acc = torch.load(PATH_acc)"
   ]
  },
  {
   "cell_type": "code",
   "execution_count": 51,
   "metadata": {},
   "outputs": [
    {
     "data": {
      "text/plain": [
       "DataParallel(\n",
       "  (module): TensorFusionMixer(\n",
       "    (ModelA): MLPNetwork_pre(\n",
       "      (flatten): Flatten(start_dim=1, end_dim=-1)\n",
       "      (fc1): Linear(in_features=61440, out_features=768, bias=True)\n",
       "      (gelu1): GELU(approximate='none')\n",
       "      (bn1): BatchNorm1d(768, eps=1e-05, momentum=0.1, affine=True, track_running_stats=True)\n",
       "      (fc2): Linear(in_features=768, out_features=512, bias=True)\n",
       "      (gelu2): GELU(approximate='none')\n",
       "      (bn2): BatchNorm1d(512, eps=1e-05, momentum=0.1, affine=True, track_running_stats=True)\n",
       "      (fc3): Linear(in_features=512, out_features=32, bias=True)\n",
       "      (gelu3): GELU(approximate='none')\n",
       "    )\n",
       "    (ModelB): MLPNetwork_pre(\n",
       "      (flatten): Flatten(start_dim=1, end_dim=-1)\n",
       "      (fc1): Linear(in_features=152576, out_features=768, bias=True)\n",
       "      (gelu1): GELU(approximate='none')\n",
       "      (bn1): BatchNorm1d(768, eps=1e-05, momentum=0.1, affine=True, track_running_stats=True)\n",
       "      (fc2): Linear(in_features=768, out_features=512, bias=True)\n",
       "      (gelu2): GELU(approximate='none')\n",
       "      (bn2): BatchNorm1d(512, eps=1e-05, momentum=0.1, affine=True, track_running_stats=True)\n",
       "      (fc3): Linear(in_features=512, out_features=32, bias=True)\n",
       "      (gelu3): GELU(approximate='none')\n",
       "    )\n",
       "    (ModelC): ConvNetwork_pre(\n",
       "      (conv1): Conv1d(1, 10, kernel_size=(15,), stride=(1,))\n",
       "      (relu1): ReLU()\n",
       "      (bn1): BatchNorm1d(10, eps=1e-05, momentum=0.1, affine=True, track_running_stats=True)\n",
       "      (drop1): Dropout(p=0.25, inplace=False)\n",
       "      (conv2): Conv1d(10, 1, kernel_size=(15,), stride=(1,))\n",
       "      (relu2): ReLU()\n",
       "    )\n",
       "    (ModelD): ConvNetwork_pre(\n",
       "      (conv1): Conv1d(1, 10, kernel_size=(15,), stride=(1,))\n",
       "      (relu1): ReLU()\n",
       "      (bn1): BatchNorm1d(10, eps=1e-05, momentum=0.1, affine=True, track_running_stats=True)\n",
       "      (drop1): Dropout(p=0.25, inplace=False)\n",
       "      (conv2): Conv1d(10, 1, kernel_size=(15,), stride=(1,))\n",
       "      (relu2): ReLU()\n",
       "    )\n",
       "    (ModelE): ConvNetwork_middle(\n",
       "      (conv1): Conv1d(2, 1, kernel_size=(11,), stride=(1,))\n",
       "      (relu1): ReLU()\n",
       "    )\n",
       "    (Model_cnn_final): ConvNetwork_final(\n",
       "      (conv2d_1): Conv2d(12, 64, kernel_size=(3, 3), stride=(1, 1))\n",
       "      (leakyrelu_1): LeakyReLU(negative_slope=0.01)\n",
       "      (maxpool2d_1): MaxPool2d(kernel_size=2, stride=2, padding=0, dilation=1, ceil_mode=False)\n",
       "      (conv2d_2): Conv2d(64, 32, kernel_size=(3, 3), stride=(1, 1))\n",
       "      (leakyrelu_2): LeakyReLU(negative_slope=0.01)\n",
       "      (maxpool2d_2): MaxPool2d(kernel_size=2, stride=2, padding=0, dilation=1, ceil_mode=False)\n",
       "      (flatten): Flatten(start_dim=1, end_dim=-1)\n",
       "      (fc1): Linear(in_features=1152, out_features=64, bias=True)\n",
       "      (leakyrelu_3): LeakyReLU(negative_slope=0.01)\n",
       "      (bn1): BatchNorm1d(64, eps=1e-05, momentum=0.1, affine=True, track_running_stats=True)\n",
       "      (drop1): Dropout(p=0.25, inplace=False)\n",
       "      (fc2): Linear(in_features=64, out_features=7, bias=True)\n",
       "    )\n",
       "  )\n",
       ")"
      ]
     },
     "execution_count": 51,
     "metadata": {},
     "output_type": "execute_result"
    }
   ],
   "source": [
    "# model 불러오기 state dict의 경우\n",
    "# model을 불러오기 위해서는 동일한 구조의 모델을 불러온 후 state_dict를 load하는 방식\n",
    "PATH_f1 = '../model/data/model_multilabel_CNNf1_8499_state_dict.pkl'\n",
    "PATH_acc = '../model/data/model_multilabel_CNNf1_8180_state_dict.pkl'\n",
    "model = model_tf_cnn_mixer\n",
    "model.load_state_dict(torch.load(PATH_f1))\n",
    "model.eval()"
   ]
  },
  {
   "cell_type": "code",
   "execution_count": 121,
   "metadata": {},
   "outputs": [
    {
     "name": "stdout",
     "output_type": "stream",
     "text": [
      "tensor([340.,   4.,   4.,  ...,   4.,   4.,   4.], device='cuda:0') torch.Size([2688])\n",
      "f1 score:  0.8215248086467739\n",
      "Test Error: Accuracy: 74.8%, Avg loss: 0.034929\n",
      "\n"
     ]
    },
    {
     "data": {
      "text/plain": [
       "(0.8215248086467739, 74.84008528784648, 0.034928659154545696)"
      ]
     },
     "execution_count": 121,
     "metadata": {},
     "output_type": "execute_result"
    }
   ],
   "source": [
    "test(test_dataloader, best_f1_model, loss_fn, mode = 'test')"
   ]
  },
  {
   "cell_type": "code",
   "execution_count": 120,
   "metadata": {},
   "outputs": [
    {
     "name": "stdout",
     "output_type": "stream",
     "text": [
      "+----------------------------+------------+\n",
      "|          Modules           | Parameters |\n",
      "+----------------------------+------------+\n",
      "|     ModelA.fc1.weight      |  47185920  |\n",
      "|      ModelA.fc1.bias       |    768     |\n",
      "|     ModelA.bn1.weight      |    768     |\n",
      "|      ModelA.bn1.bias       |    768     |\n",
      "|     ModelA.fc2.weight      |   393216   |\n",
      "|      ModelA.fc2.bias       |    512     |\n",
      "|     ModelA.bn2.weight      |    512     |\n",
      "|      ModelA.bn2.bias       |    512     |\n",
      "|     ModelA.fc3.weight      |   16384    |\n",
      "|      ModelA.fc3.bias       |     32     |\n",
      "|     ModelB.fc1.weight      | 117178368  |\n",
      "|      ModelB.fc1.bias       |    768     |\n",
      "|     ModelB.bn1.weight      |    768     |\n",
      "|      ModelB.bn1.bias       |    768     |\n",
      "|     ModelB.fc2.weight      |   393216   |\n",
      "|      ModelB.fc2.bias       |    512     |\n",
      "|     ModelB.bn2.weight      |    512     |\n",
      "|      ModelB.bn2.bias       |    512     |\n",
      "|     ModelB.fc3.weight      |   16384    |\n",
      "|      ModelB.fc3.bias       |     32     |\n",
      "|     ModelC.fc1.weight      |    1500    |\n",
      "|      ModelC.fc1.bias       |     30     |\n",
      "|     ModelC.bn1.weight      |     30     |\n",
      "|      ModelC.bn1.bias       |     30     |\n",
      "|     ModelC.fc2.weight      |    300     |\n",
      "|      ModelC.fc2.bias       |     10     |\n",
      "|     ModelD.fc1.weight      |    1500    |\n",
      "|      ModelD.fc1.bias       |     30     |\n",
      "|     ModelD.bn1.weight      |     30     |\n",
      "|      ModelD.bn1.bias       |     30     |\n",
      "|     ModelD.fc2.weight      |    300     |\n",
      "|      ModelD.fc2.bias       |     10     |\n",
      "| Model_mlp_final.fc1.weight |    2688    |\n",
      "|  Model_mlp_final.fc1.bias  |     32     |\n",
      "| Model_mlp_final.bn1.weight |     32     |\n",
      "|  Model_mlp_final.bn1.bias  |     32     |\n",
      "| Model_mlp_final.fc2.weight |    224     |\n",
      "|  Model_mlp_final.fc2.bias  |     7      |\n",
      "+----------------------------+------------+\n",
      "Total Trainable Params: 165198047\n"
     ]
    },
    {
     "data": {
      "text/plain": [
       "165198047"
      ]
     },
     "execution_count": 120,
     "metadata": {},
     "output_type": "execute_result"
    }
   ],
   "source": [
    "# model parameter 선언\n",
    "# 참고: https://discuss.pytorch.org/t/how-do-i-check-the-number-of-parameters-of-a-model/4325/23?page=2\n",
    "from prettytable import PrettyTable\n",
    "\n",
    "def count_parameters(model):\n",
    "    table = PrettyTable([\"Modules\", \"Parameters\"])\n",
    "    total_params = 0\n",
    "    for name, parameter in model.named_parameters():\n",
    "        if not parameter.requires_grad: \n",
    "            continue\n",
    "        param = parameter.numel()\n",
    "        table.add_row([name, param])\n",
    "        total_params+=param\n",
    "    print(table)\n",
    "    print(f\"Total Trainable Params: {total_params}\")\n",
    "    return total_params\n",
    "\n",
    "count_parameters(model_mlp_only_mixer)\n",
    "# 최종 모델 선언\n",
    "# model_mlp_txt, model_mlp_wav, model_conv_temp,model_conv_eda, model_conv_middle, model_cnn_final"
   ]
  },
  {
   "cell_type": "code",
   "execution_count": 56,
   "metadata": {},
   "outputs": [
    {
     "name": "stdout",
     "output_type": "stream",
     "text": [
      "tensor([6, 6, 6, 6, 6, 6, 6, 6, 6, 6, 6, 6, 6, 6, 6, 6, 6, 6, 6, 6, 6, 6, 6, 6,\n",
      "        6, 6, 6, 6, 6, 6, 6, 6, 6, 6, 6, 6, 6, 6, 6, 6, 6, 6, 6, 6, 6, 6, 6, 6,\n",
      "        6, 6, 6, 6, 6, 6, 6, 6, 6, 6, 6, 6, 6, 6, 6, 6, 6, 6, 6, 6, 6, 6, 6, 6,\n",
      "        6, 6, 6, 6, 6, 6, 6, 6, 6, 6, 6, 6, 6, 6, 6, 6, 6, 6, 6, 6, 6, 6, 6, 6,\n",
      "        6, 6, 6, 6, 6, 6, 6, 6, 6, 6, 6, 6, 6, 6, 6, 6, 6, 6, 6, 6, 6, 6, 6, 6,\n",
      "        6, 6, 6, 6, 6, 6, 6, 6], device='cuda:0')\n",
      "torch.return_types.topk(\n",
      "values=tensor([[0.1579, 0.1481],\n",
      "        [0.1575, 0.1474],\n",
      "        [0.1567, 0.1479],\n",
      "        [0.1591, 0.1482],\n",
      "        [0.1564, 0.1472],\n",
      "        [0.1607, 0.1521],\n",
      "        [0.1564, 0.1482],\n",
      "        [0.1627, 0.1531],\n",
      "        [0.1582, 0.1491],\n",
      "        [0.1610, 0.1504],\n",
      "        [0.1581, 0.1471],\n",
      "        [0.1606, 0.1497],\n",
      "        [0.1583, 0.1478],\n",
      "        [0.1581, 0.1475],\n",
      "        [0.1563, 0.1463],\n",
      "        [0.1566, 0.1463],\n",
      "        [0.1623, 0.1530],\n",
      "        [0.1608, 0.1532],\n",
      "        [0.1624, 0.1523],\n",
      "        [0.1566, 0.1467],\n",
      "        [0.1577, 0.1476],\n",
      "        [0.1590, 0.1485],\n",
      "        [0.1592, 0.1494],\n",
      "        [0.1565, 0.1462],\n",
      "        [0.1572, 0.1485],\n",
      "        [0.1581, 0.1482],\n",
      "        [0.1587, 0.1466],\n",
      "        [0.1602, 0.1511],\n",
      "        [0.1590, 0.1497],\n",
      "        [0.1575, 0.1488],\n",
      "        [0.1583, 0.1482],\n",
      "        [0.1561, 0.1462],\n",
      "        [0.1546, 0.1489],\n",
      "        [0.1563, 0.1468],\n",
      "        [0.1569, 0.1478],\n",
      "        [0.1575, 0.1464],\n",
      "        [0.1588, 0.1482],\n",
      "        [0.1569, 0.1466],\n",
      "        [0.1565, 0.1461],\n",
      "        [0.1574, 0.1490],\n",
      "        [0.1570, 0.1471],\n",
      "        [0.1567, 0.1466],\n",
      "        [0.1578, 0.1480],\n",
      "        [0.1572, 0.1479],\n",
      "        [0.1583, 0.1480],\n",
      "        [0.1569, 0.1479],\n",
      "        [0.1583, 0.1510],\n",
      "        [0.1597, 0.1520],\n",
      "        [0.1575, 0.1478],\n",
      "        [0.1574, 0.1472],\n",
      "        [0.1573, 0.1469],\n",
      "        [0.1641, 0.1536],\n",
      "        [0.1644, 0.1564],\n",
      "        [0.1575, 0.1457],\n",
      "        [0.1567, 0.1452],\n",
      "        [0.1584, 0.1491],\n",
      "        [0.1573, 0.1481],\n",
      "        [0.1602, 0.1491],\n",
      "        [0.1622, 0.1516],\n",
      "        [0.1576, 0.1487],\n",
      "        [0.1566, 0.1474],\n",
      "        [0.1567, 0.1476],\n",
      "        [0.1566, 0.1485],\n",
      "        [0.1575, 0.1477],\n",
      "        [0.1555, 0.1479],\n",
      "        [0.1562, 0.1465],\n",
      "        [0.1659, 0.1537],\n",
      "        [0.1571, 0.1470],\n",
      "        [0.1568, 0.1479],\n",
      "        [0.1596, 0.1505],\n",
      "        [0.1586, 0.1489],\n",
      "        [0.1569, 0.1477],\n",
      "        [0.1612, 0.1460],\n",
      "        [0.1571, 0.1482],\n",
      "        [0.1579, 0.1471],\n",
      "        [0.1567, 0.1458],\n",
      "        [0.1576, 0.1492],\n",
      "        [0.1567, 0.1471],\n",
      "        [0.1566, 0.1472],\n",
      "        [0.1582, 0.1491],\n",
      "        [0.1563, 0.1476],\n",
      "        [0.1621, 0.1519],\n",
      "        [0.1560, 0.1475],\n",
      "        [0.1568, 0.1467],\n",
      "        [0.1564, 0.1472],\n",
      "        [0.1640, 0.1513],\n",
      "        [0.1612, 0.1497],\n",
      "        [0.1600, 0.1508],\n",
      "        [0.1572, 0.1476],\n",
      "        [0.1565, 0.1468],\n",
      "        [0.1583, 0.1474],\n",
      "        [0.1628, 0.1522],\n",
      "        [0.1573, 0.1481],\n",
      "        [0.1575, 0.1487],\n",
      "        [0.1550, 0.1455],\n",
      "        [0.1563, 0.1464],\n",
      "        [0.1598, 0.1465],\n",
      "        [0.1585, 0.1509],\n",
      "        [0.1568, 0.1461],\n",
      "        [0.1626, 0.1540],\n",
      "        [0.1588, 0.1488],\n",
      "        [0.1593, 0.1478],\n",
      "        [0.1566, 0.1470],\n",
      "        [0.1562, 0.1467],\n",
      "        [0.1639, 0.1514],\n",
      "        [0.1578, 0.1497],\n",
      "        [0.1589, 0.1497],\n",
      "        [0.1586, 0.1466],\n",
      "        [0.1580, 0.1497],\n",
      "        [0.1579, 0.1465],\n",
      "        [0.1567, 0.1476],\n",
      "        [0.1571, 0.1456],\n",
      "        [0.1565, 0.1471],\n",
      "        [0.1582, 0.1479],\n",
      "        [0.1565, 0.1463],\n",
      "        [0.1568, 0.1463],\n",
      "        [0.1580, 0.1496],\n",
      "        [0.1579, 0.1491],\n",
      "        [0.1567, 0.1470],\n",
      "        [0.1566, 0.1463],\n",
      "        [0.1567, 0.1460],\n",
      "        [0.1577, 0.1493],\n",
      "        [0.1571, 0.1479],\n",
      "        [0.1601, 0.1491],\n",
      "        [0.1568, 0.1471],\n",
      "        [0.1565, 0.1469],\n",
      "        [0.1645, 0.1473],\n",
      "        [0.1567, 0.1474]], device='cuda:0', grad_fn=<TopkBackward0>),\n",
      "indices=tensor([[6, 3],\n",
      "        [6, 3],\n",
      "        [6, 4],\n",
      "        [6, 3],\n",
      "        [6, 3],\n",
      "        [6, 3],\n",
      "        [6, 4],\n",
      "        [6, 3],\n",
      "        [6, 3],\n",
      "        [6, 3],\n",
      "        [6, 0],\n",
      "        [6, 3],\n",
      "        [6, 3],\n",
      "        [6, 3],\n",
      "        [6, 0],\n",
      "        [6, 0],\n",
      "        [6, 3],\n",
      "        [6, 3],\n",
      "        [6, 3],\n",
      "        [6, 3],\n",
      "        [6, 3],\n",
      "        [6, 0],\n",
      "        [6, 3],\n",
      "        [6, 0],\n",
      "        [6, 3],\n",
      "        [6, 3],\n",
      "        [6, 3],\n",
      "        [6, 3],\n",
      "        [6, 3],\n",
      "        [6, 3],\n",
      "        [6, 3],\n",
      "        [6, 3],\n",
      "        [6, 0],\n",
      "        [6, 3],\n",
      "        [6, 3],\n",
      "        [6, 3],\n",
      "        [6, 3],\n",
      "        [6, 3],\n",
      "        [6, 0],\n",
      "        [6, 4],\n",
      "        [6, 3],\n",
      "        [6, 0],\n",
      "        [6, 3],\n",
      "        [6, 4],\n",
      "        [6, 3],\n",
      "        [6, 3],\n",
      "        [6, 3],\n",
      "        [6, 3],\n",
      "        [6, 3],\n",
      "        [6, 0],\n",
      "        [6, 3],\n",
      "        [6, 3],\n",
      "        [6, 3],\n",
      "        [6, 3],\n",
      "        [6, 0],\n",
      "        [6, 3],\n",
      "        [6, 3],\n",
      "        [6, 3],\n",
      "        [6, 3],\n",
      "        [6, 3],\n",
      "        [6, 3],\n",
      "        [6, 3],\n",
      "        [6, 0],\n",
      "        [6, 3],\n",
      "        [6, 4],\n",
      "        [6, 3],\n",
      "        [6, 3],\n",
      "        [6, 3],\n",
      "        [6, 3],\n",
      "        [6, 3],\n",
      "        [6, 3],\n",
      "        [6, 3],\n",
      "        [6, 0],\n",
      "        [6, 3],\n",
      "        [6, 3],\n",
      "        [6, 0],\n",
      "        [6, 3],\n",
      "        [6, 3],\n",
      "        [6, 3],\n",
      "        [6, 3],\n",
      "        [6, 3],\n",
      "        [6, 3],\n",
      "        [6, 3],\n",
      "        [6, 3],\n",
      "        [6, 3],\n",
      "        [6, 3],\n",
      "        [6, 3],\n",
      "        [6, 3],\n",
      "        [6, 3],\n",
      "        [6, 3],\n",
      "        [6, 3],\n",
      "        [6, 3],\n",
      "        [6, 3],\n",
      "        [6, 3],\n",
      "        [6, 0],\n",
      "        [6, 0],\n",
      "        [6, 0],\n",
      "        [6, 3],\n",
      "        [6, 0],\n",
      "        [6, 3],\n",
      "        [6, 3],\n",
      "        [6, 3],\n",
      "        [6, 3],\n",
      "        [6, 0],\n",
      "        [6, 3],\n",
      "        [6, 3],\n",
      "        [6, 3],\n",
      "        [6, 3],\n",
      "        [6, 3],\n",
      "        [6, 0],\n",
      "        [6, 3],\n",
      "        [6, 0],\n",
      "        [6, 3],\n",
      "        [6, 3],\n",
      "        [6, 3],\n",
      "        [6, 0],\n",
      "        [6, 3],\n",
      "        [6, 3],\n",
      "        [6, 3],\n",
      "        [6, 0],\n",
      "        [6, 0],\n",
      "        [6, 3],\n",
      "        [6, 3],\n",
      "        [6, 3],\n",
      "        [6, 3],\n",
      "        [6, 3],\n",
      "        [6, 3],\n",
      "        [6, 3]], device='cuda:0'))\n",
      "[360, 360, 460, 360, 360, 360, 460, 360, 360, 360, 760, 360, 360, 360, 760, 760, 360, 360, 360, 360, 360, 760, 360, 760, 360, 360, 360, 360, 360, 360, 360, 360, 760, 360, 360, 360, 360, 360, 760, 460, 360, 760, 360, 460, 360, 360, 360, 360, 360, 760, 360, 360, 360, 360, 760, 360, 360, 360, 360, 360, 360, 360, 760, 360, 460, 360, 360, 360, 360, 360, 360, 360, 760, 360, 360, 760, 360, 360, 360, 360, 360, 360, 360, 360, 360, 360, 360, 360, 360, 360, 360, 360, 360, 360, 760, 760, 760, 360, 760, 360, 360, 360, 360, 760, 360, 360, 360, 360, 360, 760, 360, 760, 360, 360, 360, 760, 360, 360, 360, 760, 760, 360, 360, 360, 360, 360, 360, 360]\n"
     ]
    }
   ],
   "source": [
    "X_temp_new = X_temp.unsqueeze(dim=-1)\n",
    "X_eda_new = X_eda.unsqueeze(dim=-1)\n",
    "\n",
    "probs = model_tf_cnn_mixer(X_txt.to(device), X_wav.to(device), X_temp_new.to(device), X_eda_new.to(device))\n",
    "\n",
    "print(probs.argmax(1))\n",
    "\n",
    "\n",
    "values = probs.topk(2)\n",
    "pred_list = []\n",
    "print(values)\n",
    "diffs = abs(torch.diff(values.values))\n",
    "for idx,diff in zip(values.indices, diffs):\n",
    "    if diff <= 0.1:\n",
    "        sorted_value, idx = torch.sort(idx)\n",
    "        if sorted_value[0] == 0:\n",
    "            pred_list.append(100*7 + 10*sorted_value[1].item())\n",
    "        else:\n",
    "            pred_list.append(100*sorted_value[0].item() + 10*sorted_value[1].item())\n",
    "    else:\n",
    "        pred_list.append(idx[0].item())\n",
    "print(pred_list)\n",
    "\n"
   ]
  }
 ],
 "metadata": {
  "kernelspec": {
   "display_name": ".venv",
   "language": "python",
   "name": "python3"
  },
  "language_info": {
   "codemirror_mode": {
    "name": "ipython",
    "version": 3
   },
   "file_extension": ".py",
   "mimetype": "text/x-python",
   "name": "python",
   "nbconvert_exporter": "python",
   "pygments_lexer": "ipython3",
   "version": "3.10.4 (main, Mar 15 2023, 11:42:05) [GCC 9.4.0]"
  },
  "orig_nbformat": 4,
  "vscode": {
   "interpreter": {
    "hash": "bdc1fd12ca460d5768d71e9df3d9063ef832ce64a62e55a1a523c8c99752868e"
   }
  }
 },
 "nbformat": 4,
 "nbformat_minor": 2
}
