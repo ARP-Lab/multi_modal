{
 "cells": [
  {
   "attachments": {},
   "cell_type": "markdown",
   "metadata": {},
   "source": [
    "# Embeddings(Text, Audio)\n"
   ]
  },
  {
   "cell_type": "code",
   "execution_count": 6,
   "metadata": {},
   "outputs": [
    {
     "name": "stderr",
     "output_type": "stream",
     "text": [
      "/home/arplab/project/paradeigma/multi_modal/.venv/lib/python3.10/site-packages/tqdm/auto.py:21: TqdmWarning: IProgress not found. Please update jupyter and ipywidgets. See https://ipywidgets.readthedocs.io/en/stable/user_install.html\n",
      "  from .autonotebook import tqdm as notebook_tqdm\n"
     ]
    },
    {
     "name": "stdout",
     "output_type": "stream",
     "text": [
      "1.13.1+cu117\n"
     ]
    }
   ],
   "source": [
    "import torch\n",
    "from transformers import AutoProcessor, Data2VecAudioModel\n",
    "from datasets import load_dataset, Dataset, Audio, Features\n",
    "from glob import glob\n",
    "import numpy as np\n",
    "import pandas as pd\n",
    "from tqdm import tqdm\n",
    "\n",
    "print(torch.__version__)"
   ]
  },
  {
   "cell_type": "code",
   "execution_count": 2,
   "metadata": {},
   "outputs": [],
   "source": [
    "import pickle\n",
    "with open('/home/arplab/project/paradeigma/multi_modal/model/data/paradeigma_KEMDY20_for_embedding.pkl', 'rb') as f:\n",
    "    KEMDY20_dict = pickle.load(f)"
   ]
  },
  {
   "cell_type": "code",
   "execution_count": 3,
   "metadata": {},
   "outputs": [],
   "source": [
    "train_sess = KEMDY20_dict['train_df'][0]\n",
    "val_sess = KEMDY20_dict['val_df'][0]\n",
    "test_sess = KEMDY20_dict['test_df'][0]\n",
    "\n",
    "\n",
    "train_df = KEMDY20_dict['train_df'][1]\n",
    "val_df = KEMDY20_dict['val_df'][1]\n",
    "test_df = KEMDY20_dict['test_df'][1]\n",
    "\n",
    "\n",
    "file_lst_train = train_df['Segment ID']\n",
    "file_lst_val = val_df['Segment ID']\n",
    "file_lst_test = test_df['Segment ID']"
   ]
  },
  {
   "cell_type": "code",
   "execution_count": null,
   "metadata": {},
   "outputs": [],
   "source": []
  },
  {
   "attachments": {},
   "cell_type": "markdown",
   "metadata": {},
   "source": [
    "## Audio Embedding"
   ]
  },
  {
   "cell_type": "code",
   "execution_count": 9,
   "metadata": {},
   "outputs": [
    {
     "data": {
      "text/plain": [
       "(['/home/arplab/project/paradeigma/multi_modal/org_KEMDy20/Session08/Sess08_script01_User015F_001.wav',\n",
       "  '/home/arplab/project/paradeigma/multi_modal/org_KEMDy20/Session08/Sess08_script01_User016F_001.wav',\n",
       "  '/home/arplab/project/paradeigma/multi_modal/org_KEMDy20/Session08/Sess08_script01_User015F_002.wav'],\n",
       " 2580)"
      ]
     },
     "execution_count": 9,
     "metadata": {},
     "output_type": "execute_result"
    }
   ],
   "source": [
    "wav_file_lst_train = []\n",
    "for segment in file_lst_train:\n",
    "    session = segment[4:6]\n",
    "    wav_file_lst_train.append(f'/home/arplab/project/paradeigma/multi_modal/org_KEMDy20/Session{session}/' + segment + '.wav')\n",
    "wav_file_lst_train[:3], len(wav_file_lst_train)\n",
    "\n",
    "wav_file_lst_val = []\n",
    "for segment in file_lst_val:\n",
    "    session = segment[4:6]\n",
    "    wav_file_lst_val.append(f'/home/arplab/project/paradeigma/multi_modal/org_KEMDy20/Session{session}/' + segment + '.wav')\n",
    "wav_file_lst_val[:3], len(wav_file_lst_val)\n",
    "\n",
    "wav_file_lst_test = []\n",
    "for segment in file_lst_test:\n",
    "    session = segment[4:6]\n",
    "    wav_file_lst_test.append(f'/home/arplab/project/paradeigma/multi_modal/org_KEMDy20/Session{session}/' + segment + '.wav')\n",
    "wav_file_lst_test[:3], len(wav_file_lst_test)"
   ]
  },
  {
   "cell_type": "code",
   "execution_count": 6,
   "metadata": {},
   "outputs": [
    {
     "name": "stderr",
     "output_type": "stream",
     "text": [
      "/home/arplab/project/paradeigma/multi_modal/.venv/lib/python3.10/site-packages/torch/cuda/__init__.py:88: UserWarning: CUDA initialization: Unexpected error from cudaGetDeviceCount(). Did you run some cuda functions before calling NumCudaDevices() that might have already set an error? Error 804: forward compatibility was attempted on non supported HW (Triggered internally at ../c10/cuda/CUDAFunctions.cpp:109.)\n",
      "  return torch._C._cuda_getDeviceCount() > 0\n"
     ]
    },
    {
     "data": {
      "text/plain": [
       "False"
      ]
     },
     "execution_count": 6,
     "metadata": {},
     "output_type": "execute_result"
    }
   ],
   "source": [
    "torch.cuda.is_available()"
   ]
  },
  {
   "cell_type": "code",
   "execution_count": null,
   "metadata": {},
   "outputs": [],
   "source": [
    "check_point_wav_model = 'facebook/data2vec-audio-base-960h'\n",
    "processor = AutoProcessor.from_pretrained(check_point_wav_model)\n",
    "model_wav_cuda = Data2VecAudioModel.from_pretrained(check_point_wav_model).cuda()\n",
    "model_wav = Data2VecAudioModel.from_pretrained(check_point_wav_model)"
   ]
  },
  {
   "attachments": {},
   "cell_type": "markdown",
   "metadata": {},
   "source": [
    "### audio embedding method"
   ]
  },
  {
   "cell_type": "code",
   "execution_count": 4,
   "metadata": {},
   "outputs": [],
   "source": [
    "# padding: https://huggingface.co/docs/transformers/pad_truncation\n",
    "def wav_embeddings_func(wav_file_lst, processor, model):\n",
    "    dataset = Dataset.from_dict({\"wav\": wav_file_lst }).cast_column(\"wav\", Audio())\n",
    "    wav_array = [dataset[i]['wav']['array'] for i in range(len(wav_file_lst))]\n",
    "    inputs = processor(wav_array, sampling_rate = sampling_rate, return_tensors = 'pt', padding = 'max_length', max_length= 48000, truncation = True)\n",
    "    with torch.no_grad():\n",
    "        output = model_wav(**inputs)\n",
    "    return output\n",
    "\n",
    "def make_wav_embedding_pickle(file_lst, processor, model, mode, divisor=300):\n",
    "    length = len(file_lst)\n",
    "    quotient = length // divisor\n",
    "    \n",
    "    for i in tqdm(range(quotient+1)):\n",
    "        wav_embeddings = wav_embeddings_func(file_lst[divisor * i: divisor * (i+1)], processor, model)\n",
    "        wav_embeddings = wav_embeddings['last_hidden_state']\n",
    "        with open(f'/home/arplab/project/paradeigma/multi_modal/model/data/embedding/paradeigma_KEMDY20_wav_{mode}_embedding_{i+1}.pkl', 'wb') as f:\n",
    "            pickle.dump(wav_embeddings, f, pickle.HIGHEST_PROTOCOL)\n",
    "            \n",
    "        del wav_embeddings\n",
    "        torch.cuda.empty_cache()\n",
    "        \n",
    "def load_wav_embedding_pickle(path_list):\n",
    "    result = []\n",
    "    for path in path_list:\n",
    "        with open(f'/home/arplab/project/paradeigma/multi_modal/model/data/embedding/{path}', 'rb') as f:\n",
    "            wav_embedding = pickle.load(f)\n",
    "        result.append(wav_embedding)\n",
    "        \n",
    "    return torch.concat(result)"
   ]
  },
  {
   "cell_type": "code",
   "execution_count": null,
   "metadata": {},
   "outputs": [],
   "source": []
  },
  {
   "cell_type": "code",
   "execution_count": 104,
   "metadata": {},
   "outputs": [
    {
     "name": "stderr",
     "output_type": "stream",
     "text": [
      "100%|██████████| 10/10 [08:42<00:00, 52.28s/it]\n",
      "100%|██████████| 9/9 [07:51<00:00, 52.35s/it]\n",
      "100%|██████████| 9/9 [07:51<00:00, 52.37s/it]\n"
     ]
    }
   ],
   "source": [
    "file_lst = [wav_file_lst_train, wav_file_lst_val, wav_file_lst_test]\n",
    "modes = ['train', 'val','test']\n",
    "for i in range(3):\n",
    "    make_wav_embedding_pickle(file_lst[i], processor, model_wav_cuda, modes[i])"
   ]
  },
  {
   "cell_type": "code",
   "execution_count": 13,
   "metadata": {},
   "outputs": [],
   "source": [
    "import os\n",
    "\n",
    "dir_path = '/home/arplab/project/paradeigma/multi_modal/model/data/embedding'\n",
    "file_list = os.listdir(dir_path)\n",
    "train_path_list = sorted([file for file in file_list if 'KEMDY20_wav_train' in file ])\n",
    "val_path_list = sorted([file for file in file_list if 'KEMDY20_wav_val' in file ])\n",
    "test_path_list = sorted([file for file in file_list if 'KEMDY20_wav_test' in file ])\n",
    "\n",
    "embeddings_wav_train = load_wav_embedding_pickle(train_path_list)\n",
    "embeddings_wav_val = load_wav_embedding_pickle(val_path_list)\n",
    "embeddings_wav_test = load_wav_embedding_pickle(test_path_list)"
   ]
  },
  {
   "attachments": {},
   "cell_type": "markdown",
   "metadata": {},
   "source": [
    "## Text Embedding\n",
    "- 참고: https://huggingface.co/docs/datasets/nlp_load\n",
    "- 참고: https://huggingface.co/docs/transformers/v4.27.2/en/model_doc/data2vec#transformers.Data2VecTextModel\n",
    "- 참고 한국어 pretrained model: https://huggingface.co/Junmai/KR-Data2VecText-v1"
   ]
  },
  {
   "cell_type": "code",
   "execution_count": 5,
   "metadata": {},
   "outputs": [],
   "source": [
    "from transformers import PreTrainedTokenizerFast, BartModel\n",
    "from transformers import AutoModel, AutoTokenizer\n",
    "import sentencepiece as spm\n",
    "import pandas as pd\n",
    "import re\n"
   ]
  },
  {
   "cell_type": "code",
   "execution_count": 6,
   "metadata": {},
   "outputs": [
    {
     "data": {
      "text/plain": [
       "['/home/arplab/project/paradeigma/multi_modal/org_KEMDy20/Session04/Sess04_script01_User008F_010.txt',\n",
       " '/home/arplab/project/paradeigma/multi_modal/org_KEMDy20/Session04/Sess04_script01_User007M_009.txt',\n",
       " '/home/arplab/project/paradeigma/multi_modal/org_KEMDy20/Session04/Sess04_script01_User007M_010.txt']"
      ]
     },
     "execution_count": 6,
     "metadata": {},
     "output_type": "execute_result"
    }
   ],
   "source": [
    "# text data loading\n",
    "txt_file_lst_train = []\n",
    "for segment in file_lst_train:\n",
    "    session = segment[4:6]\n",
    "    txt_file_lst_train.append(f'/home/arplab/project/paradeigma/multi_modal/org_KEMDy20/Session{session}/' + segment + '.txt')\n",
    "txt_file_lst_train[:3]\n",
    "\n",
    "txt_file_lst_val = []\n",
    "for segment in file_lst_val:\n",
    "    session = segment[4:6]\n",
    "    txt_file_lst_val.append(f'/home/arplab/project/paradeigma/multi_modal/org_KEMDy20/Session{session}/' + segment + '.txt')\n",
    "txt_file_lst_val[:3]\n",
    "\n",
    "txt_file_lst_test = []\n",
    "for segment in file_lst_test:\n",
    "    session = segment[4:6]\n",
    "    txt_file_lst_test.append(f'/home/arplab/project/paradeigma/multi_modal/org_KEMDy20/Session{session}/' + segment + '.txt')\n",
    "txt_file_lst_test[:3]"
   ]
  },
  {
   "cell_type": "code",
   "execution_count": 9,
   "metadata": {},
   "outputs": [
    {
     "data": {
      "text/plain": [
       "Embedding(35002, 768)"
      ]
     },
     "execution_count": 9,
     "metadata": {},
     "output_type": "execute_result"
    }
   ],
   "source": [
    "checkpoint = 'Junmai/KR-Data2VecText-v1'\n",
    "model_txt = AutoModel.from_pretrained(checkpoint) \n",
    "tokenizer = AutoTokenizer.from_pretrained(checkpoint)\n",
    "\n",
    "model_txt.resize_token_embeddings(len(tokenizer))"
   ]
  },
  {
   "attachments": {},
   "cell_type": "markdown",
   "metadata": {},
   "source": [
    "### text embedding method"
   ]
  },
  {
   "cell_type": "code",
   "execution_count": 15,
   "metadata": {},
   "outputs": [],
   "source": [
    "def text_embeddings_func(txt_file_lst, tokenizer, model):\n",
    "    sentences = []\n",
    "\n",
    "    for i in txt_file_lst:    \n",
    "        f = open(i, 'r')\n",
    "        line = f.readline()\n",
    "        line = re.sub('\\n', '', line)\n",
    "        line = re.sub('  ', ' ', line)\n",
    "        line = line.rstrip().lstrip()\n",
    "        sentences.append(line)\n",
    "        f.close()\n",
    "    \n",
    "    inputs = tokenizer(sentences, padding='max_length', max_length = 80, truncation=True, return_tensors=\"pt\")\n",
    "    with torch.no_grad():\n",
    "        txt_embeddings= model_txt(**inputs)\n",
    "    return txt_embeddings['last_hidden_state']\n",
    "\n",
    "def make_txt_embedding_pickle(file_lst, tokenizer, model, mode, divisor=300):\n",
    "    length = len(file_lst)\n",
    "    quotient = length // divisor\n",
    "    \n",
    "    for i in tqdm(range(quotient+1)):\n",
    "        txt_embeddings = text_embeddings_func(file_lst[divisor * i: divisor * (i+1)], tokenizer, model)\n",
    "        with open(f'/home/arplab/project/paradeigma/multi_modal/model/data/embedding/paradeigma_KEMDY20_txt_{mode}_embedding_{i+1}.pkl', 'wb') as f:\n",
    "            pickle.dump(txt_embeddings, f, pickle.HIGHEST_PROTOCOL)\n",
    "            \n",
    "        del txt_embeddings\n",
    "        torch.cuda.empty_cache()\n",
    "    \n",
    "def load_txt_embedding_pickle(path_list):\n",
    "    result = []\n",
    "    for path in path_list:\n",
    "        with open(f'/home/arplab/project/paradeigma/multi_modal/model/data/embedding/{path}', 'rb') as f:\n",
    "            txt_embedding = pickle.load(f)\n",
    "        result.append(txt_embedding)\n",
    "        \n",
    "    return torch.concat(result)"
   ]
  },
  {
   "cell_type": "code",
   "execution_count": 16,
   "metadata": {},
   "outputs": [
    {
     "name": "stderr",
     "output_type": "stream",
     "text": [
      "100%|██████████| 10/10 [02:30<00:00, 15.07s/it]\n",
      "100%|██████████| 9/9 [02:14<00:00, 15.00s/it]\n",
      "100%|██████████| 9/9 [02:28<00:00, 16.45s/it]\n"
     ]
    }
   ],
   "source": [
    "file_lst = [txt_file_lst_train, txt_file_lst_val, txt_file_lst_test]\n",
    "modes = ['train', 'val','test']\n",
    "for i in range(3):\n",
    "    make_txt_embedding_pickle(file_lst[i], tokenizer, model_txt, modes[i])"
   ]
  },
  {
   "cell_type": "code",
   "execution_count": 16,
   "metadata": {},
   "outputs": [],
   "source": [
    "import os\n",
    "\n",
    "dir_path = '/home/arplab/project/paradeigma/multi_modal/model/data/embedding'\n",
    "file_list = os.listdir(dir_path)\n",
    "train_path_list = sorted([file for file in file_list if 'KEMDY20_txt_train' in file ])\n",
    "val_path_list = sorted([file for file in file_list if 'KEMDY20_txt_val' in file ])\n",
    "test_path_list = sorted([file for file in file_list if 'KEMDY20_txt_test' in file ])\n",
    "\n",
    "embeddings_txt_train = load_txt_embedding_pickle(train_path_list)\n",
    "embeddings_txt_val = load_txt_embedding_pickle(val_path_list)\n",
    "embeddings_txt_test = load_txt_embedding_pickle(test_path_list)"
   ]
  },
  {
   "cell_type": "code",
   "execution_count": 17,
   "metadata": {},
   "outputs": [],
   "source": [
    "dict_for_dataset = [embeddings_wav_train, embeddings_wav_val, embeddings_wav_test,\n",
    "                    embeddings_txt_train, embeddings_txt_val, embeddings_txt_test,\n",
    "                    KEMDY20_dict]"
   ]
  },
  {
   "cell_type": "code",
   "execution_count": 19,
   "metadata": {},
   "outputs": [],
   "source": [
    "import pickle\n",
    "with open('/home/arplab/project/paradeigma/multi_modal/model/data/paradeigma_KEMDY20_for_dataset.pkl', 'wb') as f:\n",
    "    pickle.dump(dict_for_dataset, f, pickle.HIGHEST_PROTOCOL)\n"
   ]
  },
  {
   "cell_type": "code",
   "execution_count": 20,
   "metadata": {},
   "outputs": [],
   "source": [
    "import pickle\n",
    "with open('/home/arplab/project/paradeigma/multi_modal/model/data/paradeigma_KEMDY20_for_dataset.pkl', 'rb') as f:\n",
    "    dict_for_dataset = pickle.load(f)\n"
   ]
  },
  {
   "cell_type": "code",
   "execution_count": null,
   "metadata": {},
   "outputs": [],
   "source": []
  },
  {
   "cell_type": "code",
   "execution_count": null,
   "metadata": {},
   "outputs": [],
   "source": []
  },
  {
   "cell_type": "code",
   "execution_count": null,
   "metadata": {},
   "outputs": [],
   "source": []
  },
  {
   "cell_type": "code",
   "execution_count": null,
   "metadata": {},
   "outputs": [],
   "source": []
  }
 ],
 "metadata": {
  "kernelspec": {
   "display_name": ".venv",
   "language": "python",
   "name": "python3"
  },
  "language_info": {
   "codemirror_mode": {
    "name": "ipython",
    "version": 3
   },
   "file_extension": ".py",
   "mimetype": "text/x-python",
   "name": "python",
   "nbconvert_exporter": "python",
   "pygments_lexer": "ipython3",
   "version": "3.10.4"
  },
  "orig_nbformat": 4,
  "vscode": {
   "interpreter": {
    "hash": "bdc1fd12ca460d5768d71e9df3d9063ef832ce64a62e55a1a523c8c99752868e"
   }
  }
 },
 "nbformat": 4,
 "nbformat_minor": 2
}
