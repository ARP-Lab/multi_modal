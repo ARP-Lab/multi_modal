{
 "cells": [
  {
   "attachments": {},
   "cell_type": "markdown",
   "metadata": {},
   "source": [
    "- [참고 data2vec audio:사용 안하기로함]: https://towhee.io/audio-embedding/data2vec\n",
    "- [참고 data2vec text]: https://huggingface.co/docs/datasets/nlp_load\n",
    "- [참고 data2vec load audio*]:https://huggingface.co/docs/datasets/audio_load\n",
    "- [참고 data2vec embedding]: https://huggingface.co/docs/transformers/model_doc/data2vec#transformers.Data2VecAudioModel\n",
    "- [참고 handling pytorch dataset]:https://stanford.edu/~shervine/blog/pytorch-how-to-generate-data-parallel\n",
    "- [참고 add data to dataset]: https://pypi.org/project/datasets/"
   ]
  },
  {
   "attachments": {},
   "cell_type": "markdown",
   "metadata": {},
   "source": [
    "# Embeddings(Text, Audio) Session 1 \n",
    "- 각세션으로 확대시켜야 함"
   ]
  },
  {
   "cell_type": "code",
   "execution_count": 1,
   "metadata": {},
   "outputs": [
    {
     "name": "stderr",
     "output_type": "stream",
     "text": [
      "/home/arplab/project/paradeigma/multi_modal/.venv/lib/python3.10/site-packages/tqdm/auto.py:21: TqdmWarning: IProgress not found. Please update jupyter and ipywidgets. See https://ipywidgets.readthedocs.io/en/stable/user_install.html\n",
      "  from .autonotebook import tqdm as notebook_tqdm\n"
     ]
    },
    {
     "name": "stdout",
     "output_type": "stream",
     "text": [
      "1.13.1+cu117\n"
     ]
    }
   ],
   "source": [
    "import torch\n",
    "from transformers import AutoProcessor, Data2VecAudioModel\n",
    "from datasets import load_dataset, Dataset, Audio, Features\n",
    "from glob import glob\n",
    "import numpy as np\n",
    "import pandas as pd\n",
    "from tqdm import tqdm\n",
    "\n",
    "print(torch.__version__)"
   ]
  },
  {
   "cell_type": "code",
   "execution_count": 2,
   "metadata": {},
   "outputs": [],
   "source": [
    "import pickle\n",
    "with open('/home/arplab/project/paradeigma/multi_modal/model/data/paradeigma_KEMDY20_for_embedding.pkl', 'rb') as f:\n",
    "    KEMDY20_dict = pickle.load(f)"
   ]
  },
  {
   "cell_type": "code",
   "execution_count": 3,
   "metadata": {},
   "outputs": [],
   "source": [
    "train_sess = KEMDY20_dict['train_df'][0]\n",
    "val_sess = KEMDY20_dict['val_df'][0]\n",
    "test_sess = KEMDY20_dict['test_df'][0]\n",
    "\n",
    "\n",
    "train_df = KEMDY20_dict['train_df'][1]\n",
    "val_df = KEMDY20_dict['val_df'][1]\n",
    "test_df = KEMDY20_dict['test_df'][1]\n",
    "\n",
    "\n",
    "file_lst_train = train_df['Segment ID']\n",
    "file_lst_val = val_df['Segment ID']\n",
    "file_lst_test = test_df['Segment ID']"
   ]
  },
  {
   "cell_type": "code",
   "execution_count": null,
   "metadata": {},
   "outputs": [],
   "source": []
  },
  {
   "attachments": {},
   "cell_type": "markdown",
   "metadata": {},
   "source": [
    "## Audio Embedding"
   ]
  },
  {
   "cell_type": "code",
   "execution_count": 4,
   "metadata": {},
   "outputs": [
    {
     "data": {
      "text/plain": [
       "(['/home/arplab/project/paradeigma/multi_modal/org_KEMDy20/Session08/Sess08_script01_User015F_001.wav',\n",
       "  '/home/arplab/project/paradeigma/multi_modal/org_KEMDy20/Session08/Sess08_script01_User016F_001.wav',\n",
       "  '/home/arplab/project/paradeigma/multi_modal/org_KEMDy20/Session08/Sess08_script01_User015F_002.wav'],\n",
       " 2580)"
      ]
     },
     "execution_count": 4,
     "metadata": {},
     "output_type": "execute_result"
    }
   ],
   "source": [
    "wav_file_lst_train = []\n",
    "for segment in file_lst_train:\n",
    "    session = segment[4:6]\n",
    "    wav_file_lst_train.append(f'/home/arplab/project/paradeigma/multi_modal/org_KEMDy20/Session{session}/' + segment + '.wav')\n",
    "wav_file_lst_train[:3], len(wav_file_lst_train)\n",
    "\n",
    "wav_file_lst_val = []\n",
    "for segment in file_lst_val:\n",
    "    session = segment[4:6]\n",
    "    wav_file_lst_val.append(f'/home/arplab/project/paradeigma/multi_modal/org_KEMDy20/Session{session}/' + segment + '.wav')\n",
    "wav_file_lst_val[:3], len(wav_file_lst_val)\n",
    "\n",
    "wav_file_lst_test = []\n",
    "for segment in file_lst_test:\n",
    "    session = segment[4:6]\n",
    "    wav_file_lst_test.append(f'/home/arplab/project/paradeigma/multi_modal/org_KEMDy20/Session{session}/' + segment + '.wav')\n",
    "wav_file_lst_test[:3], len(wav_file_lst_test)"
   ]
  },
  {
   "cell_type": "code",
   "execution_count": 6,
   "metadata": {},
   "outputs": [
    {
     "name": "stderr",
     "output_type": "stream",
     "text": [
      "/home/arplab/project/paradeigma/multi_modal/.venv/lib/python3.10/site-packages/torch/cuda/__init__.py:88: UserWarning: CUDA initialization: Unexpected error from cudaGetDeviceCount(). Did you run some cuda functions before calling NumCudaDevices() that might have already set an error? Error 804: forward compatibility was attempted on non supported HW (Triggered internally at ../c10/cuda/CUDAFunctions.cpp:109.)\n",
      "  return torch._C._cuda_getDeviceCount() > 0\n"
     ]
    },
    {
     "data": {
      "text/plain": [
       "False"
      ]
     },
     "execution_count": 6,
     "metadata": {},
     "output_type": "execute_result"
    }
   ],
   "source": [
    "torch.cuda.is_available()"
   ]
  },
  {
   "cell_type": "code",
   "execution_count": 5,
   "metadata": {},
   "outputs": [
    {
     "name": "stderr",
     "output_type": "stream",
     "text": [
      "Some weights of the model checkpoint at facebook/data2vec-audio-base-960h were not used when initializing Data2VecAudioModel: ['lm_head.weight', 'lm_head.bias']\n",
      "- This IS expected if you are initializing Data2VecAudioModel from the checkpoint of a model trained on another task or with another architecture (e.g. initializing a BertForSequenceClassification model from a BertForPreTraining model).\n",
      "- This IS NOT expected if you are initializing Data2VecAudioModel from the checkpoint of a model that you expect to be exactly identical (initializing a BertForSequenceClassification model from a BertForSequenceClassification model).\n"
     ]
    },
    {
     "ename": "RuntimeError",
     "evalue": "Unexpected error from cudaGetDeviceCount(). Did you run some cuda functions before calling NumCudaDevices() that might have already set an error? Error 804: forward compatibility was attempted on non supported HW",
     "output_type": "error",
     "traceback": [
      "\u001b[0;31m---------------------------------------------------------------------------\u001b[0m",
      "\u001b[0;31mRuntimeError\u001b[0m                              Traceback (most recent call last)",
      "Cell \u001b[0;32mIn[5], line 3\u001b[0m\n\u001b[1;32m      1\u001b[0m check_point_wav_model \u001b[39m=\u001b[39m \u001b[39m'\u001b[39m\u001b[39mfacebook/data2vec-audio-base-960h\u001b[39m\u001b[39m'\u001b[39m\n\u001b[1;32m      2\u001b[0m processor \u001b[39m=\u001b[39m AutoProcessor\u001b[39m.\u001b[39mfrom_pretrained(check_point_wav_model)\n\u001b[0;32m----> 3\u001b[0m model_wav_cuda \u001b[39m=\u001b[39m Data2VecAudioModel\u001b[39m.\u001b[39;49mfrom_pretrained(check_point_wav_model)\u001b[39m.\u001b[39;49mcuda()\n\u001b[1;32m      4\u001b[0m model_wav \u001b[39m=\u001b[39m Data2VecAudioModel\u001b[39m.\u001b[39mfrom_pretrained(check_point_wav_model)\n",
      "File \u001b[0;32m~/project/paradeigma/multi_modal/.venv/lib/python3.10/site-packages/torch/nn/modules/module.py:749\u001b[0m, in \u001b[0;36mModule.cuda\u001b[0;34m(self, device)\u001b[0m\n\u001b[1;32m    732\u001b[0m \u001b[39mdef\u001b[39;00m \u001b[39mcuda\u001b[39m(\u001b[39mself\u001b[39m: T, device: Optional[Union[\u001b[39mint\u001b[39m, device]] \u001b[39m=\u001b[39m \u001b[39mNone\u001b[39;00m) \u001b[39m-\u001b[39m\u001b[39m>\u001b[39m T:\n\u001b[1;32m    733\u001b[0m \u001b[39m    \u001b[39m\u001b[39mr\u001b[39m\u001b[39m\"\"\"Moves all model parameters and buffers to the GPU.\u001b[39;00m\n\u001b[1;32m    734\u001b[0m \n\u001b[1;32m    735\u001b[0m \u001b[39m    This also makes associated parameters and buffers different objects. So\u001b[39;00m\n\u001b[0;32m   (...)\u001b[0m\n\u001b[1;32m    747\u001b[0m \u001b[39m        Module: self\u001b[39;00m\n\u001b[1;32m    748\u001b[0m \u001b[39m    \"\"\"\u001b[39;00m\n\u001b[0;32m--> 749\u001b[0m     \u001b[39mreturn\u001b[39;00m \u001b[39mself\u001b[39;49m\u001b[39m.\u001b[39;49m_apply(\u001b[39mlambda\u001b[39;49;00m t: t\u001b[39m.\u001b[39;49mcuda(device))\n",
      "File \u001b[0;32m~/project/paradeigma/multi_modal/.venv/lib/python3.10/site-packages/torch/nn/modules/module.py:641\u001b[0m, in \u001b[0;36mModule._apply\u001b[0;34m(self, fn)\u001b[0m\n\u001b[1;32m    639\u001b[0m \u001b[39mdef\u001b[39;00m \u001b[39m_apply\u001b[39m(\u001b[39mself\u001b[39m, fn):\n\u001b[1;32m    640\u001b[0m     \u001b[39mfor\u001b[39;00m module \u001b[39min\u001b[39;00m \u001b[39mself\u001b[39m\u001b[39m.\u001b[39mchildren():\n\u001b[0;32m--> 641\u001b[0m         module\u001b[39m.\u001b[39;49m_apply(fn)\n\u001b[1;32m    643\u001b[0m     \u001b[39mdef\u001b[39;00m \u001b[39mcompute_should_use_set_data\u001b[39m(tensor, tensor_applied):\n\u001b[1;32m    644\u001b[0m         \u001b[39mif\u001b[39;00m torch\u001b[39m.\u001b[39m_has_compatible_shallow_copy_type(tensor, tensor_applied):\n\u001b[1;32m    645\u001b[0m             \u001b[39m# If the new tensor has compatible tensor type as the existing tensor,\u001b[39;00m\n\u001b[1;32m    646\u001b[0m             \u001b[39m# the current behavior is to change the tensor in-place using `.data =`,\u001b[39;00m\n\u001b[0;32m   (...)\u001b[0m\n\u001b[1;32m    651\u001b[0m             \u001b[39m# global flag to let the user control whether they want the future\u001b[39;00m\n\u001b[1;32m    652\u001b[0m             \u001b[39m# behavior of overwriting the existing tensor or not.\u001b[39;00m\n",
      "File \u001b[0;32m~/project/paradeigma/multi_modal/.venv/lib/python3.10/site-packages/torch/nn/modules/module.py:641\u001b[0m, in \u001b[0;36mModule._apply\u001b[0;34m(self, fn)\u001b[0m\n\u001b[1;32m    639\u001b[0m \u001b[39mdef\u001b[39;00m \u001b[39m_apply\u001b[39m(\u001b[39mself\u001b[39m, fn):\n\u001b[1;32m    640\u001b[0m     \u001b[39mfor\u001b[39;00m module \u001b[39min\u001b[39;00m \u001b[39mself\u001b[39m\u001b[39m.\u001b[39mchildren():\n\u001b[0;32m--> 641\u001b[0m         module\u001b[39m.\u001b[39;49m_apply(fn)\n\u001b[1;32m    643\u001b[0m     \u001b[39mdef\u001b[39;00m \u001b[39mcompute_should_use_set_data\u001b[39m(tensor, tensor_applied):\n\u001b[1;32m    644\u001b[0m         \u001b[39mif\u001b[39;00m torch\u001b[39m.\u001b[39m_has_compatible_shallow_copy_type(tensor, tensor_applied):\n\u001b[1;32m    645\u001b[0m             \u001b[39m# If the new tensor has compatible tensor type as the existing tensor,\u001b[39;00m\n\u001b[1;32m    646\u001b[0m             \u001b[39m# the current behavior is to change the tensor in-place using `.data =`,\u001b[39;00m\n\u001b[0;32m   (...)\u001b[0m\n\u001b[1;32m    651\u001b[0m             \u001b[39m# global flag to let the user control whether they want the future\u001b[39;00m\n\u001b[1;32m    652\u001b[0m             \u001b[39m# behavior of overwriting the existing tensor or not.\u001b[39;00m\n",
      "    \u001b[0;31m[... skipping similar frames: Module._apply at line 641 (1 times)]\u001b[0m\n",
      "File \u001b[0;32m~/project/paradeigma/multi_modal/.venv/lib/python3.10/site-packages/torch/nn/modules/module.py:641\u001b[0m, in \u001b[0;36mModule._apply\u001b[0;34m(self, fn)\u001b[0m\n\u001b[1;32m    639\u001b[0m \u001b[39mdef\u001b[39;00m \u001b[39m_apply\u001b[39m(\u001b[39mself\u001b[39m, fn):\n\u001b[1;32m    640\u001b[0m     \u001b[39mfor\u001b[39;00m module \u001b[39min\u001b[39;00m \u001b[39mself\u001b[39m\u001b[39m.\u001b[39mchildren():\n\u001b[0;32m--> 641\u001b[0m         module\u001b[39m.\u001b[39;49m_apply(fn)\n\u001b[1;32m    643\u001b[0m     \u001b[39mdef\u001b[39;00m \u001b[39mcompute_should_use_set_data\u001b[39m(tensor, tensor_applied):\n\u001b[1;32m    644\u001b[0m         \u001b[39mif\u001b[39;00m torch\u001b[39m.\u001b[39m_has_compatible_shallow_copy_type(tensor, tensor_applied):\n\u001b[1;32m    645\u001b[0m             \u001b[39m# If the new tensor has compatible tensor type as the existing tensor,\u001b[39;00m\n\u001b[1;32m    646\u001b[0m             \u001b[39m# the current behavior is to change the tensor in-place using `.data =`,\u001b[39;00m\n\u001b[0;32m   (...)\u001b[0m\n\u001b[1;32m    651\u001b[0m             \u001b[39m# global flag to let the user control whether they want the future\u001b[39;00m\n\u001b[1;32m    652\u001b[0m             \u001b[39m# behavior of overwriting the existing tensor or not.\u001b[39;00m\n",
      "File \u001b[0;32m~/project/paradeigma/multi_modal/.venv/lib/python3.10/site-packages/torch/nn/modules/module.py:664\u001b[0m, in \u001b[0;36mModule._apply\u001b[0;34m(self, fn)\u001b[0m\n\u001b[1;32m    660\u001b[0m \u001b[39m# Tensors stored in modules are graph leaves, and we don't want to\u001b[39;00m\n\u001b[1;32m    661\u001b[0m \u001b[39m# track autograd history of `param_applied`, so we have to use\u001b[39;00m\n\u001b[1;32m    662\u001b[0m \u001b[39m# `with torch.no_grad():`\u001b[39;00m\n\u001b[1;32m    663\u001b[0m \u001b[39mwith\u001b[39;00m torch\u001b[39m.\u001b[39mno_grad():\n\u001b[0;32m--> 664\u001b[0m     param_applied \u001b[39m=\u001b[39m fn(param)\n\u001b[1;32m    665\u001b[0m should_use_set_data \u001b[39m=\u001b[39m compute_should_use_set_data(param, param_applied)\n\u001b[1;32m    666\u001b[0m \u001b[39mif\u001b[39;00m should_use_set_data:\n",
      "File \u001b[0;32m~/project/paradeigma/multi_modal/.venv/lib/python3.10/site-packages/torch/nn/modules/module.py:749\u001b[0m, in \u001b[0;36mModule.cuda.<locals>.<lambda>\u001b[0;34m(t)\u001b[0m\n\u001b[1;32m    732\u001b[0m \u001b[39mdef\u001b[39;00m \u001b[39mcuda\u001b[39m(\u001b[39mself\u001b[39m: T, device: Optional[Union[\u001b[39mint\u001b[39m, device]] \u001b[39m=\u001b[39m \u001b[39mNone\u001b[39;00m) \u001b[39m-\u001b[39m\u001b[39m>\u001b[39m T:\n\u001b[1;32m    733\u001b[0m \u001b[39m    \u001b[39m\u001b[39mr\u001b[39m\u001b[39m\"\"\"Moves all model parameters and buffers to the GPU.\u001b[39;00m\n\u001b[1;32m    734\u001b[0m \n\u001b[1;32m    735\u001b[0m \u001b[39m    This also makes associated parameters and buffers different objects. So\u001b[39;00m\n\u001b[0;32m   (...)\u001b[0m\n\u001b[1;32m    747\u001b[0m \u001b[39m        Module: self\u001b[39;00m\n\u001b[1;32m    748\u001b[0m \u001b[39m    \"\"\"\u001b[39;00m\n\u001b[0;32m--> 749\u001b[0m     \u001b[39mreturn\u001b[39;00m \u001b[39mself\u001b[39m\u001b[39m.\u001b[39m_apply(\u001b[39mlambda\u001b[39;00m t: t\u001b[39m.\u001b[39;49mcuda(device))\n",
      "File \u001b[0;32m~/project/paradeigma/multi_modal/.venv/lib/python3.10/site-packages/torch/cuda/__init__.py:229\u001b[0m, in \u001b[0;36m_lazy_init\u001b[0;34m()\u001b[0m\n\u001b[1;32m    227\u001b[0m \u001b[39mif\u001b[39;00m \u001b[39m'\u001b[39m\u001b[39mCUDA_MODULE_LOADING\u001b[39m\u001b[39m'\u001b[39m \u001b[39mnot\u001b[39;00m \u001b[39min\u001b[39;00m os\u001b[39m.\u001b[39menviron:\n\u001b[1;32m    228\u001b[0m     os\u001b[39m.\u001b[39menviron[\u001b[39m'\u001b[39m\u001b[39mCUDA_MODULE_LOADING\u001b[39m\u001b[39m'\u001b[39m] \u001b[39m=\u001b[39m \u001b[39m'\u001b[39m\u001b[39mLAZY\u001b[39m\u001b[39m'\u001b[39m\n\u001b[0;32m--> 229\u001b[0m torch\u001b[39m.\u001b[39;49m_C\u001b[39m.\u001b[39;49m_cuda_init()\n\u001b[1;32m    230\u001b[0m \u001b[39m# Some of the queued calls may reentrantly call _lazy_init();\u001b[39;00m\n\u001b[1;32m    231\u001b[0m \u001b[39m# we need to just return without initializing in that case.\u001b[39;00m\n\u001b[1;32m    232\u001b[0m \u001b[39m# However, we must not let any *other* threads in!\u001b[39;00m\n\u001b[1;32m    233\u001b[0m _tls\u001b[39m.\u001b[39mis_initializing \u001b[39m=\u001b[39m \u001b[39mTrue\u001b[39;00m\n",
      "\u001b[0;31mRuntimeError\u001b[0m: Unexpected error from cudaGetDeviceCount(). Did you run some cuda functions before calling NumCudaDevices() that might have already set an error? Error 804: forward compatibility was attempted on non supported HW"
     ]
    }
   ],
   "source": [
    "check_point_wav_model = 'facebook/data2vec-audio-base-960h'\n",
    "processor = AutoProcessor.from_pretrained(check_point_wav_model)\n",
    "model_wav_cuda = Data2VecAudioModel.from_pretrained(check_point_wav_model).cuda()\n",
    "model_wav = Data2VecAudioModel.from_pretrained(check_point_wav_model)"
   ]
  },
  {
   "attachments": {},
   "cell_type": "markdown",
   "metadata": {},
   "source": [
    "### audio embedding method"
   ]
  },
  {
   "cell_type": "code",
   "execution_count": 21,
   "metadata": {},
   "outputs": [],
   "source": [
    "# padding: https://huggingface.co/docs/transformers/pad_truncation\n",
    "def wav_embeddings_func(wav_file_lst, processor, model):\n",
    "    dataset = Dataset.from_dict({\"wav\": wav_file_lst }).cast_column(\"wav\", Audio())\n",
    "    wav_array = [dataset[i]['wav']['array'] for i in range(len(wav_file_lst))]\n",
    "    inputs = processor(wav_array, sampling_rate = sampling_rate, return_tensors = 'pt', padding = 'max_length', max_length= 48000, truncation = True)\n",
    "    with torch.no_grad():\n",
    "        output = model_wav(**inputs)\n",
    "    return output\n",
    "\n",
    "def make_wav_embedding_pickle(file_lst, processor, model, mode, divisor=300):\n",
    "    length = len(file_lst)\n",
    "    quotient = length // divisor\n",
    "    \n",
    "    for i in tqdm(range(quotient+1)):\n",
    "        wav_embeddings = wav_embeddings_func(file_lst[divisor * i: divisor * (i+1)], processor, model)\n",
    "        wav_embeddings = wav_embeddings['last_hidden_state']\n",
    "        with open(f'/home/arplab/project/paradeigma/multi_modal/model/data/embedding/paradeigma_KEMDY20_wav_{mode}_embedding_{i+1}.pkl', 'wb') as f:\n",
    "            pickle.dump(wav_embeddings, f, pickle.HIGHEST_PROTOCOL)\n",
    "            \n",
    "        del wav_embeddings\n",
    "        torch.cuda.empty_cache()\n",
    "        \n",
    "def load_wav_embedding_pickle(path_list):\n",
    "    result = []\n",
    "    for path in path_list:\n",
    "        with open(f'/home/arplab/project/paradeigma/multi_modal/model/data/embedding/{path}', 'rb') as f:\n",
    "            wav_embedding = pickle.load(f)\n",
    "        result.append(wav_embedding)\n",
    "        \n",
    "    return torch.concat(result)"
   ]
  },
  {
   "cell_type": "code",
   "execution_count": 104,
   "metadata": {},
   "outputs": [
    {
     "name": "stderr",
     "output_type": "stream",
     "text": [
      "100%|██████████| 10/10 [08:42<00:00, 52.28s/it]\n",
      "100%|██████████| 9/9 [07:51<00:00, 52.35s/it]\n",
      "100%|██████████| 9/9 [07:51<00:00, 52.37s/it]\n"
     ]
    }
   ],
   "source": [
    "file_lst = [wav_file_lst_train, wav_file_lst_val, wav_file_lst_test]\n",
    "modes = ['train', 'val','test']\n",
    "for i in range(3):\n",
    "    make_wav_embedding_pickle(file_lst[i], processor, model_wav_cuda, modes[i])"
   ]
  },
  {
   "cell_type": "code",
   "execution_count": 22,
   "metadata": {},
   "outputs": [
    {
     "ename": "RuntimeError",
     "evalue": "torch.cat(): expected a non-empty list of Tensors",
     "output_type": "error",
     "traceback": [
      "\u001b[0;31m---------------------------------------------------------------------------\u001b[0m",
      "\u001b[0;31mRuntimeError\u001b[0m                              Traceback (most recent call last)",
      "Cell \u001b[0;32mIn[22], line 9\u001b[0m\n\u001b[1;32m      6\u001b[0m val_path_list \u001b[39m=\u001b[39m \u001b[39msorted\u001b[39m([file \u001b[39mfor\u001b[39;00m file \u001b[39min\u001b[39;00m file_list \u001b[39mif\u001b[39;00m \u001b[39m'\u001b[39m\u001b[39mKEMDY20_val\u001b[39m\u001b[39m'\u001b[39m \u001b[39min\u001b[39;00m file ])\n\u001b[1;32m      7\u001b[0m test_path_list \u001b[39m=\u001b[39m \u001b[39msorted\u001b[39m([file \u001b[39mfor\u001b[39;00m file \u001b[39min\u001b[39;00m file_list \u001b[39mif\u001b[39;00m \u001b[39m'\u001b[39m\u001b[39mKEMDY20_test\u001b[39m\u001b[39m'\u001b[39m \u001b[39min\u001b[39;00m file ])\n\u001b[0;32m----> 9\u001b[0m embeddings_wav_train \u001b[39m=\u001b[39m load_wav_embedding_pickle(train_path_list)\n\u001b[1;32m     10\u001b[0m embeddings_wav_val \u001b[39m=\u001b[39m load_wav_embedding_pickle(val_path_list)\n\u001b[1;32m     11\u001b[0m embeddings_wav_test \u001b[39m=\u001b[39m load_wav_embedding_pickle(test_path_list)\n",
      "Cell \u001b[0;32mIn[21], line 30\u001b[0m, in \u001b[0;36mload_wav_embedding_pickle\u001b[0;34m(path_list)\u001b[0m\n\u001b[1;32m     27\u001b[0m         wav_embedding \u001b[39m=\u001b[39m pickle\u001b[39m.\u001b[39mload(f)\n\u001b[1;32m     28\u001b[0m     result\u001b[39m.\u001b[39mappend(wav_embedding)\n\u001b[0;32m---> 30\u001b[0m \u001b[39mreturn\u001b[39;00m torch\u001b[39m.\u001b[39;49mconcat(result)\n",
      "\u001b[0;31mRuntimeError\u001b[0m: torch.cat(): expected a non-empty list of Tensors"
     ]
    }
   ],
   "source": [
    "import os\n",
    "\n",
    "dir_path = '/home/arplab/project/paradeigma/multi_modal/model/data/embedding'\n",
    "file_list = os.listdir(dir_path)\n",
    "train_path_list = sorted([file for file in file_list if 'KEMDY20_train' in file ])\n",
    "val_path_list = sorted([file for file in file_list if 'KEMDY20_val' in file ])\n",
    "test_path_list = sorted([file for file in file_list if 'KEMDY20_test' in file ])\n",
    "\n",
    "embeddings_wav_train = load_wav_embedding_pickle(train_path_list)\n",
    "embeddings_wav_val = load_wav_embedding_pickle(val_path_list)\n",
    "embeddings_wav_test = load_wav_embedding_pickle(test_path_list)"
   ]
  },
  {
   "attachments": {},
   "cell_type": "markdown",
   "metadata": {},
   "source": [
    "## Text Embedding\n",
    "- 참고: https://huggingface.co/docs/datasets/nlp_load\n",
    "- 참고: https://huggingface.co/docs/transformers/v4.27.2/en/model_doc/data2vec#transformers.Data2VecTextModel\n",
    "- 참고 한국어 pretrained model: https://huggingface.co/Junmai/KR-Data2VecText-v1"
   ]
  },
  {
   "cell_type": "code",
   "execution_count": 5,
   "metadata": {},
   "outputs": [],
   "source": [
    "from transformers import PreTrainedTokenizerFast, BartModel\n",
    "from transformers import AutoModel, AutoTokenizer\n",
    "import sentencepiece as spm\n",
    "import pandas as pd\n",
    "import re\n"
   ]
  },
  {
   "cell_type": "code",
   "execution_count": 6,
   "metadata": {},
   "outputs": [
    {
     "data": {
      "text/plain": [
       "['/home/arplab/project/paradeigma/multi_modal/org_KEMDy20/Session04/Sess04_script01_User008F_010.txt',\n",
       " '/home/arplab/project/paradeigma/multi_modal/org_KEMDy20/Session04/Sess04_script01_User007M_009.txt',\n",
       " '/home/arplab/project/paradeigma/multi_modal/org_KEMDy20/Session04/Sess04_script01_User007M_010.txt']"
      ]
     },
     "execution_count": 6,
     "metadata": {},
     "output_type": "execute_result"
    }
   ],
   "source": [
    "# text data loading\n",
    "txt_file_lst_train = []\n",
    "for segment in file_lst_train:\n",
    "    session = segment[4:6]\n",
    "    txt_file_lst_train.append(f'/home/arplab/project/paradeigma/multi_modal/org_KEMDy20/Session{session}/' + segment + '.txt')\n",
    "txt_file_lst_train[:3]\n",
    "\n",
    "txt_file_lst_val = []\n",
    "for segment in file_lst_val:\n",
    "    session = segment[4:6]\n",
    "    txt_file_lst_val.append(f'/home/arplab/project/paradeigma/multi_modal/org_KEMDy20/Session{session}/' + segment + '.txt')\n",
    "txt_file_lst_val[:3]\n",
    "\n",
    "txt_file_lst_test = []\n",
    "for segment in file_lst_test:\n",
    "    session = segment[4:6]\n",
    "    txt_file_lst_test.append(f'/home/arplab/project/paradeigma/multi_modal/org_KEMDy20/Session{session}/' + segment + '.txt')\n",
    "txt_file_lst_test[:3]"
   ]
  },
  {
   "cell_type": "code",
   "execution_count": 9,
   "metadata": {},
   "outputs": [
    {
     "data": {
      "text/plain": [
       "Embedding(35002, 768)"
      ]
     },
     "execution_count": 9,
     "metadata": {},
     "output_type": "execute_result"
    }
   ],
   "source": [
    "checkpoint = 'Junmai/KR-Data2VecText-v1'\n",
    "model_txt = AutoModel.from_pretrained(checkpoint) \n",
    "tokenizer = AutoTokenizer.from_pretrained(checkpoint)\n",
    "\n",
    "model_txt.resize_token_embeddings(len(tokenizer))"
   ]
  },
  {
   "attachments": {},
   "cell_type": "markdown",
   "metadata": {},
   "source": [
    "### text embedding method"
   ]
  },
  {
   "cell_type": "code",
   "execution_count": 23,
   "metadata": {},
   "outputs": [],
   "source": [
    "def text_embeddings_func(txt_file_lst, tokenizer, model):\n",
    "    sentences = []\n",
    "\n",
    "    for i in txt_file_lst:    \n",
    "        f = open(i, 'r')\n",
    "        line = f.readline()\n",
    "        line = re.sub('\\n', '', line)\n",
    "        line = re.sub('  ', ' ', line)\n",
    "        line = line.rstrip().lstrip()\n",
    "        sentences.append(line)\n",
    "        f.close()\n",
    "    \n",
    "    inputs = tokenizer(sentences, padding='max_length', max_length = 80, truncation=True, return_tensors=\"pt\")\n",
    "    with torch.no_grad():\n",
    "        txt_embeddings= model_txt(**inputs)\n",
    "    return txt_embeddings['last_hidden_state']\n",
    "\n",
    "def make_txt_embedding_pickle(file_lst, tokenizer, model, mode, divisor=300):\n",
    "    length = len(file_lst)\n",
    "    quotient = length // divisor\n",
    "    \n",
    "    for i in tqdm(range(quotient+1)):\n",
    "        txt_embeddings = text_embeddings_func(file_lst[divisor * i: divisor * (i+1)], tokenizer, model)\n",
    "        with open(f'/home/arplab/project/paradeigma/multi_modal/model/data/embedding/paradeigma_KEMDY20_txt_{mode}_embedding_{i+1}.pkl', 'wb') as f:\n",
    "            pickle.dump(txt_embeddings, f, pickle.HIGHEST_PROTOCOL)\n",
    "            \n",
    "        del txt_embeddings\n",
    "        torch.cuda.empty_cache()\n",
    "    \n",
    "def load_txt_embedding_pickle(path_list):\n",
    "    result = []\n",
    "    for path in path_list:\n",
    "        with open(f'/home/arplab/project/paradeigma/multi_modal/model/data/embedding/{path}', 'rb') as f:\n",
    "            txt_embedding = pickle.load(f)\n",
    "        result.append(txt_embedding)\n",
    "        \n",
    "    return torch.concat(result)"
   ]
  },
  {
   "cell_type": "code",
   "execution_count": 16,
   "metadata": {},
   "outputs": [
    {
     "name": "stderr",
     "output_type": "stream",
     "text": [
      "100%|██████████| 10/10 [02:30<00:00, 15.07s/it]\n",
      "100%|██████████| 9/9 [02:14<00:00, 15.00s/it]\n",
      "100%|██████████| 9/9 [02:28<00:00, 16.45s/it]\n"
     ]
    }
   ],
   "source": [
    "file_lst = [txt_file_lst_train, txt_file_lst_val, txt_file_lst_test]\n",
    "modes = ['train', 'val','test']\n",
    "for i in range(3):\n",
    "    make_txt_embedding_pickle(file_lst[i], tokenizer, model_txt, modes[i])"
   ]
  },
  {
   "cell_type": "code",
   "execution_count": 18,
   "metadata": {},
   "outputs": [],
   "source": [
    "import os\n",
    "\n",
    "dir_path = '/home/arplab/project/paradeigma/multi_modal/model/data/embedding'\n",
    "file_list = os.listdir(dir_path)\n",
    "train_path_list = sorted([file for file in file_list if 'KEMDY20_txt_train' in file ])\n",
    "val_path_list = sorted([file for file in file_list if 'KEMDY20_txt_val' in file ])\n",
    "test_path_list = sorted([file for file in file_list if 'KEMDY20_txt_test' in file ])\n",
    "\n",
    "embeddings_txt_train = load_txt_embedding_pickle(train_path_list)\n",
    "embeddings_txt_val = load_txt_embedding_pickle(val_path_list)\n",
    "embeddings_txt_test = load_txt_embedding_pickle(test_path_list)"
   ]
  },
  {
   "cell_type": "code",
   "execution_count": null,
   "metadata": {},
   "outputs": [],
   "source": []
  },
  {
   "cell_type": "code",
   "execution_count": null,
   "metadata": {},
   "outputs": [],
   "source": []
  },
  {
   "cell_type": "code",
   "execution_count": null,
   "metadata": {},
   "outputs": [],
   "source": []
  },
  {
   "cell_type": "code",
   "execution_count": null,
   "metadata": {},
   "outputs": [],
   "source": []
  },
  {
   "cell_type": "code",
   "execution_count": null,
   "metadata": {},
   "outputs": [],
   "source": []
  },
  {
   "cell_type": "code",
   "execution_count": null,
   "metadata": {},
   "outputs": [],
   "source": []
  },
  {
   "attachments": {},
   "cell_type": "markdown",
   "metadata": {},
   "source": [
    "# 데이터셋 만들기"
   ]
  },
  {
   "cell_type": "code",
   "execution_count": 15,
   "metadata": {},
   "outputs": [],
   "source": [
    "# file_name_lst = get_file_names(wav_file_lst)\n",
    "# file_name_lst[:5]"
   ]
  },
  {
   "cell_type": "code",
   "execution_count": 16,
   "metadata": {},
   "outputs": [],
   "source": [
    "# # annotation data 가져오기\n",
    "# df_annotation = pd.read_csv('org_KEMDy20/annotation/' + file_name, skiprows=1)\n",
    "# df_annotation.Arousal[:3], df_annotation.Emotion[:3], df_annotation.Valence[:3]"
   ]
  },
  {
   "cell_type": "code",
   "execution_count": 17,
   "metadata": {},
   "outputs": [],
   "source": [
    "def build_dataset(file_name_lst, \n",
    "                  text_embeddings, \n",
    "                  wav_embeddings, \n",
    "                  label_emotion,\n",
    "                  label_arousal,\n",
    "                  label_valence, \n",
    "                  session_name = 'Session01'):\n",
    "    dataset = {'file_names': file_name_lst, \n",
    "         'text_embeddings': text_embeddings, \n",
    "         'wav_embeddings':wav_embeddings,\n",
    "         'Emotion':label_emotion,\n",
    "         'Arousal':label_arousal,\n",
    "         'Valence':label_valence}\n",
    "    return dataset"
   ]
  },
  {
   "cell_type": "code",
   "execution_count": 18,
   "metadata": {},
   "outputs": [
    {
     "data": {
      "text/plain": [
       "(['Session36', 'Session37', 'Session38', 'Session39', 'Session40'],\n",
       " ['Sess36_eval.csv',\n",
       "  'Sess37_eval.csv',\n",
       "  'Sess38_eval.csv',\n",
       "  'Sess39_eval.csv',\n",
       "  'Sess40_eval.csv'])"
      ]
     },
     "execution_count": 18,
     "metadata": {},
     "output_type": "execute_result"
    }
   ],
   "source": [
    "session_num_lst = []\n",
    "annot_num_lst = []\n",
    "for i in range(40):\n",
    "    if i <= 8:\n",
    "        session_num_lst.append('Session0' + str(i+1))\n",
    "        annot_num_lst.append('Sess0' + str(i+1) + '_eval.csv')\n",
    "    else:\n",
    "        session_num_lst.append('Session' + str(i+1))\n",
    "        annot_num_lst.append('Sess' + str(i+1) + '_eval.csv')\n",
    "session_num_lst[-5:], annot_num_lst[-5:]"
   ]
  },
  {
   "cell_type": "code",
   "execution_count": 19,
   "metadata": {},
   "outputs": [
    {
     "name": "stdout",
     "output_type": "stream",
     "text": [
      "Session04번째 작업이 완료 되었습니다.\n",
      "Session05번째 작업이 완료 되었습니다.\n"
     ]
    }
   ],
   "source": [
    "dataset = {}\n",
    "for annot, session in zip(annot_num_lst[3:5], session_num_lst[3:5]):\n",
    "    \n",
    "    df_annotation = pd.read_csv('./org_KEMDy20/annotation/' + annot, skiprows=1)\n",
    "    file_name_lst = df_annotation[' .1']\n",
    "    \n",
    "    txt_file_lst = []\n",
    "    wav_file_lst = []\n",
    "    for file_name in file_name_lst:\n",
    "        txt_file_lst.append('./org_KEMDy20/' + session + '/' + file_name + '.txt')\n",
    "        wav_file_lst.append('./org_KEMDy20/' + session + '/' + file_name + '.wav')\n",
    "    \n",
    "    txt_embeddings = text_embeddings_func(txt_file_lst, tokenizer, model_txt)\n",
    "    wav_embeddings = wav_embeddings_func(wav_file_lst, processor, model_wav_cuda)\n",
    "    \n",
    "    dataset[session] = build_dataset(file_name_lst, \n",
    "                txt_embeddings, \n",
    "                wav_embeddings,  \n",
    "                df_annotation.Emotion, \n",
    "                df_annotation.Arousal, \n",
    "                df_annotation.Valence)\n",
    "    \n",
    "    torch.cuda.empty_cache()\n",
    "    print(f'{session}번째 작업이 완료 되었습니다.')"
   ]
  },
  {
   "cell_type": "code",
   "execution_count": 20,
   "metadata": {},
   "outputs": [
    {
     "data": {
      "text/plain": [
       "torch.Tensor"
      ]
     },
     "execution_count": 20,
     "metadata": {},
     "output_type": "execute_result"
    }
   ],
   "source": [
    "type(dataset['Session05']['text_embeddings'])"
   ]
  },
  {
   "cell_type": "code",
   "execution_count": 1,
   "metadata": {},
   "outputs": [
    {
     "ename": "NameError",
     "evalue": "name 'dataset' is not defined",
     "output_type": "error",
     "traceback": [
      "\u001b[0;31m---------------------------------------------------------------------------\u001b[0m",
      "\u001b[0;31mNameError\u001b[0m                                 Traceback (most recent call last)",
      "Cell \u001b[0;32mIn[1], line 2\u001b[0m\n\u001b[1;32m      1\u001b[0m \u001b[39m# length test\u001b[39;00m\n\u001b[0;32m----> 2\u001b[0m \u001b[39mfor\u001b[39;00m i \u001b[39min\u001b[39;00m dataset[\u001b[39m'\u001b[39m\u001b[39mSession01\u001b[39m\u001b[39m'\u001b[39m]\u001b[39m.\u001b[39mkeys():\n\u001b[1;32m      3\u001b[0m     \u001b[39mprint\u001b[39m(\u001b[39mlen\u001b[39m(dataset[\u001b[39m'\u001b[39m\u001b[39mSession01\u001b[39m\u001b[39m'\u001b[39m][i]), end \u001b[39m=\u001b[39m \u001b[39m'\u001b[39m\u001b[39m \u001b[39m\u001b[39m'\u001b[39m)\n",
      "\u001b[0;31mNameError\u001b[0m: name 'dataset' is not defined"
     ]
    }
   ],
   "source": [
    "# length test\n",
    "for i in dataset['Session01'].keys():\n",
    "    print(len(dataset['Session01'][i]), end = ' ')\n"
   ]
  },
  {
   "attachments": {},
   "cell_type": "markdown",
   "metadata": {},
   "source": [
    "# save dataset"
   ]
  },
  {
   "cell_type": "code",
   "execution_count": 25,
   "metadata": {},
   "outputs": [],
   "source": [
    "import pickle\n",
    "\n",
    "# save data set\n",
    "with open('./model/data/lou_dataset_4_5.pkl', 'wb')as f:\n",
    "    pickle.dump(dataset, f, pickle.HIGHEST_PROTOCOL)"
   ]
  },
  {
   "cell_type": "code",
   "execution_count": 74,
   "metadata": {},
   "outputs": [
    {
     "data": {
      "text/plain": [
       "dict_keys(['file_names', 'text_embeddings', 'wav_embeddings', 'Emotion', 'Arousal', 'Valence'])"
      ]
     },
     "execution_count": 74,
     "metadata": {},
     "output_type": "execute_result"
    }
   ],
   "source": [
    "with open('./model/data/lou_dataset.pkl', 'rb') as f:\n",
    "    dataset = pickle.load(f)\n",
    "dataset['Session01'].keys()"
   ]
  }
 ],
 "metadata": {
  "kernelspec": {
   "display_name": ".venv",
   "language": "python",
   "name": "python3"
  },
  "language_info": {
   "codemirror_mode": {
    "name": "ipython",
    "version": 3
   },
   "file_extension": ".py",
   "mimetype": "text/x-python",
   "name": "python",
   "nbconvert_exporter": "python",
   "pygments_lexer": "ipython3",
   "version": "3.10.4"
  },
  "orig_nbformat": 4,
  "vscode": {
   "interpreter": {
    "hash": "bdc1fd12ca460d5768d71e9df3d9063ef832ce64a62e55a1a523c8c99752868e"
   }
  }
 },
 "nbformat": 4,
 "nbformat_minor": 2
}
