{
 "cells": [
  {
   "cell_type": "code",
   "execution_count": 1,
   "metadata": {},
   "outputs": [],
   "source": [
    "import pickle\n",
    "\n",
    "with open('/home/arplab/project/paradeigma/multi_modal/model/data/paradeigma_ts_20.pkl', 'rb') as f:\n",
    "    annotation_20 = pickle.load(f)"
   ]
  },
  {
   "cell_type": "code",
   "execution_count": 15,
   "metadata": {},
   "outputs": [
    {
     "name": "stderr",
     "output_type": "stream",
     "text": [
      "/home/arplab/project/paradeigma/multi_modal/.venv/lib/python3.10/site-packages/tqdm/auto.py:21: TqdmWarning: IProgress not found. Please update jupyter and ipywidgets. See https://ipywidgets.readthedocs.io/en/stable/user_install.html\n",
      "  from .autonotebook import tqdm as notebook_tqdm\n"
     ]
    }
   ],
   "source": [
    "import torch\n",
    "import sklearn.svm as svm\n",
    "import sklearn.metrics as mt\n",
    "from sklearn.model_selection import train_test_split\n",
    "from sklearn.metrics import f1_score\n",
    "from sklearn.linear_model import LinearRegression\n",
    "from sklearn.naive_bayes import GaussianNB\n",
    "from sklearn.metrics import confusion_matrix, classification_report\n",
    "from sklearn.ensemble import RandomForestClassifier\n",
    "from sklearn.tree import DecisionTreeClassifier\n",
    "from sklearn.preprocessing import MinMaxScaler"
   ]
  },
  {
   "cell_type": "code",
   "execution_count": 54,
   "metadata": {},
   "outputs": [],
   "source": [
    "# 패딩 함수\n",
    "\n",
    "def sequence_padding(ts_list, padding_length = 50, mode = 'constant'):\n",
    "    \n",
    "    padding_value=0\n",
    "    \n",
    "    if (type(ts_list) != type([])) :\n",
    "        ts_list = [padding_value] * padding_length\n",
    "    \n",
    "    elif len(ts_list) >= padding_length :\n",
    "        ts_list = ts_list[0:padding_length]\n",
    "    \n",
    "    elif mode == 'constant':\n",
    "        length = padding_length - len(ts_list)\n",
    "        extend_list = [padding_value] * length\n",
    "        ts_list = ts_list + extend_list    \n",
    "        \n",
    "    elif mode == 'replicate':\n",
    "        \n",
    "        quotient = padding_length // len(ts_list)\n",
    "        remainder = padding_length % len(ts_list)\n",
    "        result = ts_list * quotient\n",
    "        result += ts_list[:remainder]\n",
    "        ts_list = result\n",
    "        \n",
    "    return ts_list \n",
    "\n",
    "def make_emotion_vector(emotion):\n",
    "    emotion_dict = {'neutral': 0, 'happy': 1, 'surprise':2, 'disqust': 3, 'angry': 4, 'sad':5, 'fear': 6}\n",
    "    return emotion_dict[emotion]"
   ]
  },
  {
   "cell_type": "code",
   "execution_count": 55,
   "metadata": {},
   "outputs": [],
   "source": [
    "single_target_lst = []\n",
    "for i, segment in enumerate(range(len(annotation_20))):\n",
    "    if annotation_20['Emotion'][segment].count(';') == 0:\n",
    "        single_target_lst.append(i)"
   ]
  },
  {
   "cell_type": "code",
   "execution_count": 56,
   "metadata": {},
   "outputs": [],
   "source": [
    "train_eda = annotation_20.iloc[single_target_lst]['EDA'].apply(sequence_padding)\n",
    "train_temp = annotation_20.iloc[single_target_lst]['TEMP'].apply(sequence_padding)\n",
    "target_v = annotation_20.iloc[single_target_lst]['Valence']\n",
    "target_a = annotation_20.iloc[single_target_lst]['Arousal']\n",
    "target_e = annotation_20.iloc[single_target_lst]['Emotion'].apply(make_emotion_vector)"
   ]
  },
  {
   "cell_type": "code",
   "execution_count": 57,
   "metadata": {},
   "outputs": [
    {
     "name": "stdout",
     "output_type": "stream",
     "text": [
      "Accuracy: 85.61964146531567%\n",
      "f1_score: 78.98650107045917%\n",
      "              precision    recall  f1-score   support\n",
      "\n",
      "           0       1.00      0.86      0.92      2566\n",
      "           1       0.00      0.00      0.00         0\n",
      "           2       0.00      0.00      0.00         0\n",
      "           3       0.00      0.00      0.00         0\n",
      "           4       0.00      0.00      0.00         0\n",
      "           5       0.00      0.00      0.00         0\n",
      "           6       0.00      0.00      0.00         0\n",
      "\n",
      "    accuracy                           0.86      2566\n",
      "   macro avg       0.14      0.12      0.13      2566\n",
      "weighted avg       1.00      0.86      0.92      2566\n",
      "\n"
     ]
    },
    {
     "name": "stderr",
     "output_type": "stream",
     "text": [
      "/home/arplab/project/paradeigma/multi_modal/.venv/lib/python3.10/site-packages/sklearn/metrics/_classification.py:1344: UndefinedMetricWarning: Recall and F-score are ill-defined and being set to 0.0 in labels with no true samples. Use `zero_division` parameter to control this behavior.\n",
      "  _warn_prf(average, modifier, msg_start, len(result))\n",
      "/home/arplab/project/paradeigma/multi_modal/.venv/lib/python3.10/site-packages/sklearn/metrics/_classification.py:1344: UndefinedMetricWarning: Recall and F-score are ill-defined and being set to 0.0 in labels with no true samples. Use `zero_division` parameter to control this behavior.\n",
      "  _warn_prf(average, modifier, msg_start, len(result))\n",
      "/home/arplab/project/paradeigma/multi_modal/.venv/lib/python3.10/site-packages/sklearn/metrics/_classification.py:1344: UndefinedMetricWarning: Recall and F-score are ill-defined and being set to 0.0 in labels with no true samples. Use `zero_division` parameter to control this behavior.\n",
      "  _warn_prf(average, modifier, msg_start, len(result))\n"
     ]
    }
   ],
   "source": [
    "train = torch.concat([torch.tensor([x for x in train_eda]), torch.tensor([x for x in train_temp])], dim=-1)\n",
    "target_e = torch.tensor(target_e.values)\n",
    "\n",
    "svm_clf = svm.SVC(kernel = 'linear')\n",
    "X_train, X_test, y_train, y_test = train_test_split(train, target_e, test_size = 0.2, random_state=42)\n",
    "svm_clf.fit(X_train, y_train)\n",
    "svm_clf_predictions = svm_clf.predict(X_test)\n",
    "print(\"Accuracy: {}%\".format(svm_clf.score(X_test, y_test) * 100 ))\n",
    "print(\"f1_score: {}%\".format(f1_score(y_test, svm_clf_predictions, average='weighted')*100))\n",
    "print(classification_report(svm_clf_predictions, y_test))"
   ]
  },
  {
   "cell_type": "code",
   "execution_count": 59,
   "metadata": {},
   "outputs": [
    {
     "name": "stdout",
     "output_type": "stream",
     "text": [
      "Accuracy: 85.54169914263446%\n",
      "f1_score: 79.25242960693352%\n",
      "              precision    recall  f1-score   support\n",
      "\n",
      "           0       1.00      0.86      0.92      2555\n",
      "           1       0.01      0.33      0.02         9\n",
      "           2       0.00      0.00      0.00         0\n",
      "           3       0.00      0.00      0.00         0\n",
      "           4       0.00      0.00      0.00         0\n",
      "           5       0.03      0.50      0.06         2\n",
      "           6       0.00      0.00      0.00         0\n",
      "\n",
      "    accuracy                           0.86      2566\n",
      "   macro avg       0.15      0.24      0.14      2566\n",
      "weighted avg       0.99      0.86      0.92      2566\n",
      "\n"
     ]
    },
    {
     "name": "stderr",
     "output_type": "stream",
     "text": [
      "/home/arplab/project/paradeigma/multi_modal/.venv/lib/python3.10/site-packages/sklearn/metrics/_classification.py:1344: UndefinedMetricWarning: Recall and F-score are ill-defined and being set to 0.0 in labels with no true samples. Use `zero_division` parameter to control this behavior.\n",
      "  _warn_prf(average, modifier, msg_start, len(result))\n",
      "/home/arplab/project/paradeigma/multi_modal/.venv/lib/python3.10/site-packages/sklearn/metrics/_classification.py:1344: UndefinedMetricWarning: Recall and F-score are ill-defined and being set to 0.0 in labels with no true samples. Use `zero_division` parameter to control this behavior.\n",
      "  _warn_prf(average, modifier, msg_start, len(result))\n",
      "/home/arplab/project/paradeigma/multi_modal/.venv/lib/python3.10/site-packages/sklearn/metrics/_classification.py:1344: UndefinedMetricWarning: Recall and F-score are ill-defined and being set to 0.0 in labels with no true samples. Use `zero_division` parameter to control this behavior.\n",
      "  _warn_prf(average, modifier, msg_start, len(result))\n"
     ]
    }
   ],
   "source": [
    "svm_clf = svm.SVC(kernel = 'rbf', C = 10.0, gamma=0.1)\n",
    "X_train, X_test, y_train, y_test = train_test_split(train, target_e, test_size = 0.2, random_state=42)\n",
    "svm_clf.fit(X_train, y_train)\n",
    "svm_clf_predictions = svm_clf.predict(X_test)\n",
    "print(\"Accuracy: {}%\".format(svm_clf.score(X_test, y_test) * 100 ))\n",
    "print(\"f1_score: {}%\".format(f1_score(y_test, svm_clf_predictions, average='weighted')*100))\n",
    "print(classification_report(svm_clf_predictions, y_test))"
   ]
  },
  {
   "cell_type": "code",
   "execution_count": 60,
   "metadata": {},
   "outputs": [
    {
     "name": "stdout",
     "output_type": "stream",
     "text": [
      "Accuracy: 0.10795011691348402%\n",
      "f1_score: 0.16569264785475946%\n",
      "              precision    recall  f1-score   support\n",
      "\n",
      "           0       0.87      0.10      0.18      2232\n",
      "           1       0.13      0.08      0.10       226\n",
      "           2       0.02      0.83      0.04        36\n",
      "           3       0.02      0.07      0.03        14\n",
      "           4       0.00      0.00      0.00        24\n",
      "           5       0.02      0.08      0.03        26\n",
      "           6       0.01      0.38      0.01         8\n",
      "\n",
      "    accuracy                           0.11      2566\n",
      "   macro avg       0.15      0.22      0.06      2566\n",
      "weighted avg       0.77      0.11      0.17      2566\n",
      "\n"
     ]
    }
   ],
   "source": [
    "gnb_clf = GaussianNB()\n",
    "X_train, X_test, y_train, y_test = train_test_split(train, target_e, test_size = 0.2, random_state=32)\n",
    "gnb_clf.fit(X_train, y_train)\n",
    "gnb_clf_prediction = gnb_clf.predict(X_test)\n",
    "print(\"Accuracy: {}%\".format(gnb_clf.score(X_test, y_test)))\n",
    "print(\"f1_score: {}%\".format(f1_score(y_test, gnb_clf_prediction, average='weighted')))\n",
    "print(classification_report(y_test, gnb_clf_prediction))"
   ]
  },
  {
   "cell_type": "code",
   "execution_count": 61,
   "metadata": {},
   "outputs": [
    {
     "name": "stdout",
     "output_type": "stream",
     "text": [
      "Accuracy: 0.8565861262665627%\n",
      "f1_score: 0.7908074047821705%\n",
      "              precision    recall  f1-score   support\n",
      "\n",
      "           0       0.86      1.00      0.92      2197\n",
      "           1       1.00      0.00      0.01       268\n",
      "           2       0.00      0.00      0.00        28\n",
      "           3       0.00      0.00      0.00        11\n",
      "           4       0.00      0.00      0.00        27\n",
      "           5       0.00      0.00      0.00        30\n",
      "           6       0.00      0.00      0.00         5\n",
      "\n",
      "    accuracy                           0.86      2566\n",
      "   macro avg       0.27      0.14      0.13      2566\n",
      "weighted avg       0.84      0.86      0.79      2566\n",
      "\n"
     ]
    },
    {
     "name": "stderr",
     "output_type": "stream",
     "text": [
      "/home/arplab/project/paradeigma/multi_modal/.venv/lib/python3.10/site-packages/sklearn/metrics/_classification.py:1344: UndefinedMetricWarning: Precision and F-score are ill-defined and being set to 0.0 in labels with no predicted samples. Use `zero_division` parameter to control this behavior.\n",
      "  _warn_prf(average, modifier, msg_start, len(result))\n",
      "/home/arplab/project/paradeigma/multi_modal/.venv/lib/python3.10/site-packages/sklearn/metrics/_classification.py:1344: UndefinedMetricWarning: Precision and F-score are ill-defined and being set to 0.0 in labels with no predicted samples. Use `zero_division` parameter to control this behavior.\n",
      "  _warn_prf(average, modifier, msg_start, len(result))\n",
      "/home/arplab/project/paradeigma/multi_modal/.venv/lib/python3.10/site-packages/sklearn/metrics/_classification.py:1344: UndefinedMetricWarning: Precision and F-score are ill-defined and being set to 0.0 in labels with no predicted samples. Use `zero_division` parameter to control this behavior.\n",
      "  _warn_prf(average, modifier, msg_start, len(result))\n"
     ]
    }
   ],
   "source": [
    "ran_clf = RandomForestClassifier(n_estimators=64, max_depth=32,random_state=0)\n",
    "X_train, X_test, y_train, y_test = train_test_split(train, target_e, test_size = 0.2, random_state=42)\n",
    "ran_clf.fit(X_train,y_train)\n",
    "ran_clf_prediction = ran_clf.predict(X_test)\n",
    "print(\"Accuracy: {}%\".format(ran_clf.score(X_test, y_test)))\n",
    "print(\"f1_score: {}%\".format(f1_score(y_test, ran_clf_prediction, average='weighted')))\n",
    "print(classification_report(y_test, ran_clf_prediction))"
   ]
  },
  {
   "cell_type": "code",
   "execution_count": 62,
   "metadata": {},
   "outputs": [
    {
     "name": "stdout",
     "output_type": "stream",
     "text": [
      "Accuracy: 0.7470771628994544%\n",
      "f1_score: 0.7503755837689581%\n",
      "              precision    recall  f1-score   support\n",
      "\n",
      "           0       0.86      0.86      0.86      2197\n",
      "           1       0.14      0.13      0.14       268\n",
      "           2       0.03      0.04      0.03        28\n",
      "           3       0.00      0.00      0.00        11\n",
      "           4       0.00      0.00      0.00        27\n",
      "           5       0.00      0.00      0.00        30\n",
      "           6       0.00      0.00      0.00         5\n",
      "\n",
      "    accuracy                           0.75      2566\n",
      "   macro avg       0.15      0.15      0.15      2566\n",
      "weighted avg       0.75      0.75      0.75      2566\n",
      "\n"
     ]
    }
   ],
   "source": [
    "tree_clf = DecisionTreeClassifier()  \n",
    "X_train, X_test, y_train, y_test = train_test_split(train, target_e, test_size = 0.2, random_state=42)\n",
    "tree_clf.fit(X_train,y_train)\n",
    "tree_clf_prediction = tree_clf.predict(X_test)\n",
    "print(\"Accuracy: {}%\".format(tree_clf.score(X_test, y_test)))\n",
    "print(\"f1_score: {}%\".format(f1_score(y_test, tree_clf_prediction, average='weighted')))\n",
    "print(classification_report(y_test, tree_clf_prediction))"
   ]
  },
  {
   "cell_type": "code",
   "execution_count": 63,
   "metadata": {},
   "outputs": [
    {
     "name": "stdout",
     "output_type": "stream",
     "text": [
      "r2_score_Valence :  -0.010923784295159278\n",
      "r2_score_Arousal :  0.12036567706463785\n"
     ]
    }
   ],
   "source": [
    "line_fitter = LinearRegression()\n",
    "X_train, X_test, y_train, y_test = train_test_split(train, target_v, test_size = 0.2, random_state=30)\n",
    "line_fitter.fit(X_train, y_train)\n",
    "line_fitter_predictions = line_fitter.predict(X_test)\n",
    "print(\"r2_score_Valence : \", line_fitter.score(X_test, y_test))\n",
    "X_train, X_test, y_train, y_test = train_test_split(train, target_a, test_size = 0.2, random_state=30)\n",
    "line_fitter.fit(X_train, y_train)\n",
    "line_fitter_predictions = line_fitter.predict(X_test)\n",
    "print(\"r2_score_Arousal : \", line_fitter.score(X_test, y_test))"
   ]
  },
  {
   "cell_type": "code",
   "execution_count": null,
   "metadata": {},
   "outputs": [],
   "source": []
  }
 ],
 "metadata": {
  "kernelspec": {
   "display_name": ".venv",
   "language": "python",
   "name": "python3"
  },
  "language_info": {
   "codemirror_mode": {
    "name": "ipython",
    "version": 3
   },
   "file_extension": ".py",
   "mimetype": "text/x-python",
   "name": "python",
   "nbconvert_exporter": "python",
   "pygments_lexer": "ipython3",
   "version": "3.10.4"
  },
  "orig_nbformat": 4
 },
 "nbformat": 4,
 "nbformat_minor": 2
}
