{
 "cells": [
  {
   "attachments": {},
   "cell_type": "markdown",
   "metadata": {},
   "source": [
    "# Embeddings(Text, Audio)\n"
   ]
  },
  {
   "cell_type": "code",
   "execution_count": 1,
   "metadata": {},
   "outputs": [
    {
     "name": "stderr",
     "output_type": "stream",
     "text": [
      "/home/arplab/project/paradeigma/multi_modal/.venv/lib/python3.10/site-packages/tqdm/auto.py:21: TqdmWarning: IProgress not found. Please update jupyter and ipywidgets. See https://ipywidgets.readthedocs.io/en/stable/user_install.html\n",
      "  from .autonotebook import tqdm as notebook_tqdm\n"
     ]
    },
    {
     "name": "stdout",
     "output_type": "stream",
     "text": [
      "1.13.1+cu117\n"
     ]
    }
   ],
   "source": [
    "import torch\n",
    "from transformers import AutoProcessor, Data2VecAudioModel\n",
    "from datasets import load_dataset, Dataset, Audio, Features\n",
    "from glob import glob\n",
    "import numpy as np\n",
    "import pandas as pd\n",
    "from tqdm import tqdm\n",
    "\n",
    "print(torch.__version__)"
   ]
  },
  {
   "cell_type": "code",
   "execution_count": 2,
   "metadata": {},
   "outputs": [],
   "source": [
    "import pickle\n",
    "# Kemdy19 wav, txt, eda, temp 데이터를 정리한 것\n",
    "with open('/home/arplab/project/paradeigma/multi_modal/model/data/paradeigma_KEMDY19_annotation_nonmissing.pkl', 'rb') as f:\n",
    "    annotation_19_nonmissing = pickle.load(f)"
   ]
  },
  {
   "cell_type": "code",
   "execution_count": 3,
   "metadata": {},
   "outputs": [
    {
     "data": {
      "text/html": [
       "<div>\n",
       "<style scoped>\n",
       "    .dataframe tbody tr th:only-of-type {\n",
       "        vertical-align: middle;\n",
       "    }\n",
       "\n",
       "    .dataframe tbody tr th {\n",
       "        vertical-align: top;\n",
       "    }\n",
       "\n",
       "    .dataframe thead th {\n",
       "        text-align: right;\n",
       "    }\n",
       "</style>\n",
       "<table border=\"1\" class=\"dataframe\">\n",
       "  <thead>\n",
       "    <tr style=\"text-align: right;\">\n",
       "      <th></th>\n",
       "      <th>Segment ID</th>\n",
       "      <th>Emotion</th>\n",
       "      <th>Valence</th>\n",
       "      <th>Arousal</th>\n",
       "      <th>emotion_vector</th>\n",
       "      <th>valence_vector</th>\n",
       "      <th>arousal_vector</th>\n",
       "      <th>EDA</th>\n",
       "      <th>TEMP</th>\n",
       "      <th>EDA length</th>\n",
       "      <th>TEMP length</th>\n",
       "      <th>Scaled EDA</th>\n",
       "      <th>Scaled TEMP</th>\n",
       "    </tr>\n",
       "  </thead>\n",
       "  <tbody>\n",
       "    <tr>\n",
       "      <th>0</th>\n",
       "      <td>Sess01_script01_M001</td>\n",
       "      <td>surprise</td>\n",
       "      <td>1.7</td>\n",
       "      <td>4.0</td>\n",
       "      <td>[0, 0, 9, 0, 0, 0, 1]</td>\n",
       "      <td>[4, 5, 1, 0, 0]</td>\n",
       "      <td>[1, 0, 0, 6, 3]</td>\n",
       "      <td>[4.408951, 4.403825, 4.410233, 4.421767, 4.429...</td>\n",
       "      <td>[34.66, 34.66, 34.66, 34.66, 34.66, 34.68, 34....</td>\n",
       "      <td>33</td>\n",
       "      <td>33</td>\n",
       "      <td>[-0.926455937246618, -0.9285481420682529, -0.9...</td>\n",
       "      <td>[1.6900874192514124, 1.6900874192514124, 1.690...</td>\n",
       "    </tr>\n",
       "    <tr>\n",
       "      <th>1</th>\n",
       "      <td>Sess01_script01_F001</td>\n",
       "      <td>fear</td>\n",
       "      <td>1.5</td>\n",
       "      <td>3.6</td>\n",
       "      <td>[1, 0, 2, 0, 0, 0, 7]</td>\n",
       "      <td>[5, 5, 0, 0, 0]</td>\n",
       "      <td>[1, 0, 2, 6, 1]</td>\n",
       "      <td>[0.145914, 0.140794, 0.144634, 0.145914, 0.140...</td>\n",
       "      <td>[30.69, 30.69, 30.69, 30.69, 30.71, 30.71, 30....</td>\n",
       "      <td>17</td>\n",
       "      <td>17</td>\n",
       "      <td>[-1.407155706494133, -1.4312942323175069, -1.4...</td>\n",
       "      <td>[-1.1135528407658513, -1.1135528407658513, -1....</td>\n",
       "    </tr>\n",
       "    <tr>\n",
       "      <th>2</th>\n",
       "      <td>Sess01_script01_M002</td>\n",
       "      <td>angry</td>\n",
       "      <td>1.3</td>\n",
       "      <td>4.3</td>\n",
       "      <td>[0, 0, 0, 0, 10, 0, 0]</td>\n",
       "      <td>[7, 3, 0, 0, 0]</td>\n",
       "      <td>[1, 0, 0, 3, 6]</td>\n",
       "      <td>[4.478828, 4.396809, 4.334012, 4.322478, 4.346...</td>\n",
       "      <td>[34.61, 34.61, 34.61, 34.61, 34.61, 34.61, 34....</td>\n",
       "      <td>27</td>\n",
       "      <td>27</td>\n",
       "      <td>[-0.8979352590723317, -0.9314117606848334, -0....</td>\n",
       "      <td>[1.6164861115016742, 1.6164861115016742, 1.616...</td>\n",
       "    </tr>\n",
       "    <tr>\n",
       "      <th>3</th>\n",
       "      <td>Sess01_script01_M003</td>\n",
       "      <td>angry</td>\n",
       "      <td>1.5</td>\n",
       "      <td>3.8</td>\n",
       "      <td>[0, 0, 1, 0, 9, 0, 0]</td>\n",
       "      <td>[6, 3, 1, 0, 0]</td>\n",
       "      <td>[1, 0, 0, 8, 1]</td>\n",
       "      <td>[4.746299, 4.733483, 4.716823, 4.702725, 4.692...</td>\n",
       "      <td>[34.55, 34.55, 34.55, 34.55, 34.55, 34.55, 34....</td>\n",
       "      <td>10</td>\n",
       "      <td>10</td>\n",
       "      <td>[-0.7887655134914608, -0.7939964337009954, -0....</td>\n",
       "      <td>[1.5281645422019798, 1.5281645422019798, 1.528...</td>\n",
       "    </tr>\n",
       "    <tr>\n",
       "      <th>4</th>\n",
       "      <td>Sess01_script01_F002</td>\n",
       "      <td>fear</td>\n",
       "      <td>1.6</td>\n",
       "      <td>3.7</td>\n",
       "      <td>[0, 0, 2, 0, 0, 0, 8]</td>\n",
       "      <td>[5, 4, 1, 0, 0]</td>\n",
       "      <td>[1, 0, 1, 7, 1]</td>\n",
       "      <td>[0.134394, 0.135674, 0.134394, 0.134394, 0.133...</td>\n",
       "      <td>[30.69, 30.69, 30.71, 30.71, 30.71, 30.71, 30....</td>\n",
       "      <td>13</td>\n",
       "      <td>13</td>\n",
       "      <td>[-1.461467389596724, -1.4554327581408808, -1.4...</td>\n",
       "      <td>[-1.1135528407658513, -1.1135528407658513, -0....</td>\n",
       "    </tr>\n",
       "    <tr>\n",
       "      <th>...</th>\n",
       "      <td>...</td>\n",
       "      <td>...</td>\n",
       "      <td>...</td>\n",
       "      <td>...</td>\n",
       "      <td>...</td>\n",
       "      <td>...</td>\n",
       "      <td>...</td>\n",
       "      <td>...</td>\n",
       "      <td>...</td>\n",
       "      <td>...</td>\n",
       "      <td>...</td>\n",
       "      <td>...</td>\n",
       "      <td>...</td>\n",
       "    </tr>\n",
       "    <tr>\n",
       "      <th>9003</th>\n",
       "      <td>Sess20_impro04_M018</td>\n",
       "      <td>sad</td>\n",
       "      <td>2.3</td>\n",
       "      <td>2.1</td>\n",
       "      <td>[3, 0, 0, 0, 0, 7, 0]</td>\n",
       "      <td>[2, 4, 3, 1, 0]</td>\n",
       "      <td>[0, 9, 1, 0, 0]</td>\n",
       "      <td>[0.550024, 0.547461, 0.54618, 0.543617, 0.5461...</td>\n",
       "      <td>[31.27, 31.27, 31.27, 31.27, 31.27, 31.27, 31....</td>\n",
       "      <td>31</td>\n",
       "      <td>31</td>\n",
       "      <td>[-1.0596542781342695, -1.091127738705599, -1.1...</td>\n",
       "      <td>[-0.12418082175855716, -0.12418082175855716, -...</td>\n",
       "    </tr>\n",
       "    <tr>\n",
       "      <th>9004</th>\n",
       "      <td>Sess20_impro04_F023</td>\n",
       "      <td>sad</td>\n",
       "      <td>2.5</td>\n",
       "      <td>2.3</td>\n",
       "      <td>[2, 0, 0, 0, 0, 8, 0]</td>\n",
       "      <td>[0, 6, 3, 1, 0]</td>\n",
       "      <td>[1, 5, 4, 0, 0]</td>\n",
       "      <td>[0.216838, 0.220682, 0.221964, 0.223245, 0.221...</td>\n",
       "      <td>[29.77, 29.77, 29.77, 29.77, 29.77, 29.77, 29....</td>\n",
       "      <td>46</td>\n",
       "      <td>46</td>\n",
       "      <td>[-0.8593367498709915, -0.7994211382956963, -0....</td>\n",
       "      <td>[-1.3249127202479716, -1.3249127202479716, -1....</td>\n",
       "    </tr>\n",
       "    <tr>\n",
       "      <th>9005</th>\n",
       "      <td>Sess20_impro04_M019</td>\n",
       "      <td>sad</td>\n",
       "      <td>2.1</td>\n",
       "      <td>1.8</td>\n",
       "      <td>[1, 0, 0, 0, 0, 9, 0]</td>\n",
       "      <td>[4, 2, 3, 1, 0]</td>\n",
       "      <td>[3, 6, 1, 0, 0]</td>\n",
       "      <td>[0.519269, 0.517987, 0.519269, 0.517987, 0.516...</td>\n",
       "      <td>[31.31, 31.31, 31.31, 31.31, 31.29, 31.29, 31....</td>\n",
       "      <td>56</td>\n",
       "      <td>56</td>\n",
       "      <td>[-1.437323525060235, -1.4530663953108964, -1.4...</td>\n",
       "      <td>[0.697453930425023, 0.697453930425023, 0.69745...</td>\n",
       "    </tr>\n",
       "    <tr>\n",
       "      <th>9006</th>\n",
       "      <td>Sess20_impro04_F024</td>\n",
       "      <td>happy</td>\n",
       "      <td>3.9</td>\n",
       "      <td>3.2</td>\n",
       "      <td>[3, 7, 0, 0, 0, 0, 0]</td>\n",
       "      <td>[0, 0, 1, 9, 0]</td>\n",
       "      <td>[0, 1, 6, 3, 0]</td>\n",
       "      <td>[0.207868, 0.207868, 0.210431, 0.211712, 0.212...</td>\n",
       "      <td>[29.73, 29.73, 29.73, 29.73, 29.73, 29.73, 29....</td>\n",
       "      <td>52</td>\n",
       "      <td>52</td>\n",
       "      <td>[-0.9991502347384216, -0.9991502347384216, -0....</td>\n",
       "      <td>[-1.6382728540476073, -1.6382728540476073, -1....</td>\n",
       "    </tr>\n",
       "    <tr>\n",
       "      <th>9007</th>\n",
       "      <td>Sess20_impro04_M020</td>\n",
       "      <td>happy</td>\n",
       "      <td>4.2</td>\n",
       "      <td>4.0</td>\n",
       "      <td>[0, 10, 0, 0, 0, 0, 0]</td>\n",
       "      <td>[0, 0, 2, 4, 4]</td>\n",
       "      <td>[0, 0, 3, 4, 3]</td>\n",
       "      <td>[0.583343, 0.610254, 0.628195, 0.651262, 0.674...</td>\n",
       "      <td>[31.33, 31.33, 31.33, 31.33, 31.37, 31.37, 31....</td>\n",
       "      <td>11</td>\n",
       "      <td>11</td>\n",
       "      <td>[-0.6504992907069812, -0.3200340946730135, -0....</td>\n",
       "      <td>[1.108271306516813, 1.108271306516813, 1.10827...</td>\n",
       "    </tr>\n",
       "  </tbody>\n",
       "</table>\n",
       "<p>9008 rows × 13 columns</p>\n",
       "</div>"
      ],
      "text/plain": [
       "                Segment ID   Emotion  Valence  Arousal  \\\n",
       "0     Sess01_script01_M001  surprise      1.7      4.0   \n",
       "1     Sess01_script01_F001      fear      1.5      3.6   \n",
       "2     Sess01_script01_M002     angry      1.3      4.3   \n",
       "3     Sess01_script01_M003     angry      1.5      3.8   \n",
       "4     Sess01_script01_F002      fear      1.6      3.7   \n",
       "...                    ...       ...      ...      ...   \n",
       "9003   Sess20_impro04_M018       sad      2.3      2.1   \n",
       "9004   Sess20_impro04_F023       sad      2.5      2.3   \n",
       "9005   Sess20_impro04_M019       sad      2.1      1.8   \n",
       "9006   Sess20_impro04_F024     happy      3.9      3.2   \n",
       "9007   Sess20_impro04_M020     happy      4.2      4.0   \n",
       "\n",
       "              emotion_vector   valence_vector   arousal_vector  \\\n",
       "0      [0, 0, 9, 0, 0, 0, 1]  [4, 5, 1, 0, 0]  [1, 0, 0, 6, 3]   \n",
       "1      [1, 0, 2, 0, 0, 0, 7]  [5, 5, 0, 0, 0]  [1, 0, 2, 6, 1]   \n",
       "2     [0, 0, 0, 0, 10, 0, 0]  [7, 3, 0, 0, 0]  [1, 0, 0, 3, 6]   \n",
       "3      [0, 0, 1, 0, 9, 0, 0]  [6, 3, 1, 0, 0]  [1, 0, 0, 8, 1]   \n",
       "4      [0, 0, 2, 0, 0, 0, 8]  [5, 4, 1, 0, 0]  [1, 0, 1, 7, 1]   \n",
       "...                      ...              ...              ...   \n",
       "9003   [3, 0, 0, 0, 0, 7, 0]  [2, 4, 3, 1, 0]  [0, 9, 1, 0, 0]   \n",
       "9004   [2, 0, 0, 0, 0, 8, 0]  [0, 6, 3, 1, 0]  [1, 5, 4, 0, 0]   \n",
       "9005   [1, 0, 0, 0, 0, 9, 0]  [4, 2, 3, 1, 0]  [3, 6, 1, 0, 0]   \n",
       "9006   [3, 7, 0, 0, 0, 0, 0]  [0, 0, 1, 9, 0]  [0, 1, 6, 3, 0]   \n",
       "9007  [0, 10, 0, 0, 0, 0, 0]  [0, 0, 2, 4, 4]  [0, 0, 3, 4, 3]   \n",
       "\n",
       "                                                    EDA  \\\n",
       "0     [4.408951, 4.403825, 4.410233, 4.421767, 4.429...   \n",
       "1     [0.145914, 0.140794, 0.144634, 0.145914, 0.140...   \n",
       "2     [4.478828, 4.396809, 4.334012, 4.322478, 4.346...   \n",
       "3     [4.746299, 4.733483, 4.716823, 4.702725, 4.692...   \n",
       "4     [0.134394, 0.135674, 0.134394, 0.134394, 0.133...   \n",
       "...                                                 ...   \n",
       "9003  [0.550024, 0.547461, 0.54618, 0.543617, 0.5461...   \n",
       "9004  [0.216838, 0.220682, 0.221964, 0.223245, 0.221...   \n",
       "9005  [0.519269, 0.517987, 0.519269, 0.517987, 0.516...   \n",
       "9006  [0.207868, 0.207868, 0.210431, 0.211712, 0.212...   \n",
       "9007  [0.583343, 0.610254, 0.628195, 0.651262, 0.674...   \n",
       "\n",
       "                                                   TEMP  EDA length  \\\n",
       "0     [34.66, 34.66, 34.66, 34.66, 34.66, 34.68, 34....          33   \n",
       "1     [30.69, 30.69, 30.69, 30.69, 30.71, 30.71, 30....          17   \n",
       "2     [34.61, 34.61, 34.61, 34.61, 34.61, 34.61, 34....          27   \n",
       "3     [34.55, 34.55, 34.55, 34.55, 34.55, 34.55, 34....          10   \n",
       "4     [30.69, 30.69, 30.71, 30.71, 30.71, 30.71, 30....          13   \n",
       "...                                                 ...         ...   \n",
       "9003  [31.27, 31.27, 31.27, 31.27, 31.27, 31.27, 31....          31   \n",
       "9004  [29.77, 29.77, 29.77, 29.77, 29.77, 29.77, 29....          46   \n",
       "9005  [31.31, 31.31, 31.31, 31.31, 31.29, 31.29, 31....          56   \n",
       "9006  [29.73, 29.73, 29.73, 29.73, 29.73, 29.73, 29....          52   \n",
       "9007  [31.33, 31.33, 31.33, 31.33, 31.37, 31.37, 31....          11   \n",
       "\n",
       "      TEMP length                                         Scaled EDA  \\\n",
       "0              33  [-0.926455937246618, -0.9285481420682529, -0.9...   \n",
       "1              17  [-1.407155706494133, -1.4312942323175069, -1.4...   \n",
       "2              27  [-0.8979352590723317, -0.9314117606848334, -0....   \n",
       "3              10  [-0.7887655134914608, -0.7939964337009954, -0....   \n",
       "4              13  [-1.461467389596724, -1.4554327581408808, -1.4...   \n",
       "...           ...                                                ...   \n",
       "9003           31  [-1.0596542781342695, -1.091127738705599, -1.1...   \n",
       "9004           46  [-0.8593367498709915, -0.7994211382956963, -0....   \n",
       "9005           56  [-1.437323525060235, -1.4530663953108964, -1.4...   \n",
       "9006           52  [-0.9991502347384216, -0.9991502347384216, -0....   \n",
       "9007           11  [-0.6504992907069812, -0.3200340946730135, -0....   \n",
       "\n",
       "                                            Scaled TEMP  \n",
       "0     [1.6900874192514124, 1.6900874192514124, 1.690...  \n",
       "1     [-1.1135528407658513, -1.1135528407658513, -1....  \n",
       "2     [1.6164861115016742, 1.6164861115016742, 1.616...  \n",
       "3     [1.5281645422019798, 1.5281645422019798, 1.528...  \n",
       "4     [-1.1135528407658513, -1.1135528407658513, -0....  \n",
       "...                                                 ...  \n",
       "9003  [-0.12418082175855716, -0.12418082175855716, -...  \n",
       "9004  [-1.3249127202479716, -1.3249127202479716, -1....  \n",
       "9005  [0.697453930425023, 0.697453930425023, 0.69745...  \n",
       "9006  [-1.6382728540476073, -1.6382728540476073, -1....  \n",
       "9007  [1.108271306516813, 1.108271306516813, 1.10827...  \n",
       "\n",
       "[9008 rows x 13 columns]"
      ]
     },
     "execution_count": 3,
     "metadata": {},
     "output_type": "execute_result"
    }
   ],
   "source": [
    "annotation_19_nonmissing"
   ]
  },
  {
   "cell_type": "code",
   "execution_count": 4,
   "metadata": {},
   "outputs": [],
   "source": [
    "file_lst = annotation_19_nonmissing['Segment ID']"
   ]
  },
  {
   "cell_type": "code",
   "execution_count": 5,
   "metadata": {},
   "outputs": [
    {
     "data": {
      "text/plain": [
       "0       Sess01_script01_M001\n",
       "1       Sess01_script01_F001\n",
       "2       Sess01_script01_M002\n",
       "3       Sess01_script01_M003\n",
       "4       Sess01_script01_F002\n",
       "                ...         \n",
       "9003     Sess20_impro04_M018\n",
       "9004     Sess20_impro04_F023\n",
       "9005     Sess20_impro04_M019\n",
       "9006     Sess20_impro04_F024\n",
       "9007     Sess20_impro04_M020\n",
       "Name: Segment ID, Length: 9008, dtype: object"
      ]
     },
     "execution_count": 5,
     "metadata": {},
     "output_type": "execute_result"
    }
   ],
   "source": [
    "file_lst"
   ]
  },
  {
   "attachments": {},
   "cell_type": "markdown",
   "metadata": {},
   "source": [
    "## Audio Embedding"
   ]
  },
  {
   "cell_type": "code",
   "execution_count": 6,
   "metadata": {},
   "outputs": [],
   "source": [
    "wav_file_lst = []\n",
    "for segment in file_lst:\n",
    "    session, _, _ = segment.split('_')\n",
    "    session = session[-2:]\n",
    "\n",
    "    wav_file_lst.append(f'/home/arplab/project/paradeigma/multi_modal/org_KEMDy19/Session{session}/' + segment + '.wav')\n",
    "wav_file_lst = pd.Series(wav_file_lst)\n",
    "sampling_rate = 16000\n"
   ]
  },
  {
   "cell_type": "code",
   "execution_count": 7,
   "metadata": {},
   "outputs": [
    {
     "data": {
      "text/plain": [
       "True"
      ]
     },
     "execution_count": 7,
     "metadata": {},
     "output_type": "execute_result"
    }
   ],
   "source": [
    "torch.cuda.is_available()"
   ]
  },
  {
   "cell_type": "code",
   "execution_count": 8,
   "metadata": {},
   "outputs": [
    {
     "name": "stderr",
     "output_type": "stream",
     "text": [
      "Some weights of the model checkpoint at facebook/data2vec-audio-large-960h were not used when initializing Data2VecAudioModel: ['lm_head.bias', 'lm_head.weight']\n",
      "- This IS expected if you are initializing Data2VecAudioModel from the checkpoint of a model trained on another task or with another architecture (e.g. initializing a BertForSequenceClassification model from a BertForPreTraining model).\n",
      "- This IS NOT expected if you are initializing Data2VecAudioModel from the checkpoint of a model that you expect to be exactly identical (initializing a BertForSequenceClassification model from a BertForSequenceClassification model).\n",
      "Some weights of the model checkpoint at facebook/data2vec-audio-large-960h were not used when initializing Data2VecAudioModel: ['lm_head.bias', 'lm_head.weight']\n",
      "- This IS expected if you are initializing Data2VecAudioModel from the checkpoint of a model trained on another task or with another architecture (e.g. initializing a BertForSequenceClassification model from a BertForPreTraining model).\n",
      "- This IS NOT expected if you are initializing Data2VecAudioModel from the checkpoint of a model that you expect to be exactly identical (initializing a BertForSequenceClassification model from a BertForSequenceClassification model).\n"
     ]
    }
   ],
   "source": [
    "check_point_wav_model = 'facebook/data2vec-audio-large-960h'\n",
    "processor = AutoProcessor.from_pretrained(check_point_wav_model)\n",
    "model_wav = Data2VecAudioModel.from_pretrained(check_point_wav_model)\n",
    "model_wav_cuda = Data2VecAudioModel.from_pretrained(check_point_wav_model).to('cuda')"
   ]
  },
  {
   "attachments": {},
   "cell_type": "markdown",
   "metadata": {},
   "source": [
    "### audio embedding method"
   ]
  },
  {
   "cell_type": "code",
   "execution_count": 28,
   "metadata": {},
   "outputs": [],
   "source": [
    "def session_check(segment_id, sess):\n",
    "    if sess in segment_id:\n",
    "        return True\n",
    "    \n",
    "    else:\n",
    "        return False\n",
    "\n",
    "# padding: https://huggingface.co/docs/transformers/pad_truncation\n",
    "def wav_embeddings_func(wav_file_lst, processor, model):\n",
    "    dataset = Dataset.from_dict({\"wav\": wav_file_lst }).cast_column(\"wav\", Audio())\n",
    "    wav_array = [dataset[i]['wav']['array'] for i in range(len(wav_file_lst))]\n",
    "    inputs = processor(wav_array, sampling_rate = sampling_rate, return_tensors = 'pt', padding = 'max_length', max_length= 48000, truncation = True)\n",
    "    with torch.no_grad():\n",
    "        output = model_wav(**inputs)\n",
    "    return output\n",
    "\n",
    "def make_wav_embedding_pickle(file_lst, processor, model, sess_lst):\n",
    "    \n",
    "    for session in tqdm(sess_lst):\n",
    "        wav_embeddings = wav_embeddings_func(file_lst[file_lst.apply(session_check, sess=session)], processor, model)\n",
    "        wav_embeddings = wav_embeddings['last_hidden_state']\n",
    "        with open(f'/home/arplab/project/paradeigma/multi_modal/model/data/embedding/KEMDY19/paradeigma_KEMDY19_wav_embedding_{session}.pkl', 'wb') as f:\n",
    "            pickle.dump(wav_embeddings, f, pickle.HIGHEST_PROTOCOL)\n",
    "\n",
    "        del wav_embeddings\n",
    "        torch.cuda.empty_cache()\n",
    "        \n",
    "def load_wav_embedding_pickle(path_list):\n",
    "    result = {}\n",
    "    for path in path_list:\n",
    "        session = path[-10:-4]\n",
    "\n",
    "        with open(f'/home/arplab/project/paradeigma/multi_modal/model/data/embedding/KEMDY19/{path}', 'rb') as f:\n",
    "            wav_embedding = pickle.load(f)\n",
    "            \n",
    "        result[session] = wav_embedding\n",
    "        \n",
    "    return result"
   ]
  },
  {
   "cell_type": "code",
   "execution_count": 36,
   "metadata": {},
   "outputs": [
    {
     "name": "stderr",
     "output_type": "stream",
     "text": [
      "100%|██████████| 20/20 [1:51:14<00:00, 333.71s/it]\n"
     ]
    }
   ],
   "source": [
    "sess_lst = annotation_19_nonmissing['Segment ID'].apply(lambda x: x[:6]).unique()\n",
    "\n",
    "make_wav_embedding_pickle(wav_file_lst, processor, model_wav, sess_lst)"
   ]
  },
  {
   "cell_type": "code",
   "execution_count": 29,
   "metadata": {},
   "outputs": [],
   "source": [
    "import os\n",
    "\n",
    "dir_path = '/home/arplab/project/paradeigma/multi_modal/model/data/embedding/KEMDY19'\n",
    "file_list = os.listdir(dir_path)\n",
    "wav_path_list = sorted([file for file in file_list if 'KEMDY19_wav' in file ])\n",
    "\n",
    "embeddings_wav_dict = load_wav_embedding_pickle(wav_path_list)"
   ]
  },
  {
   "attachments": {},
   "cell_type": "markdown",
   "metadata": {},
   "source": [
    "## Text Embedding\n",
    "- 참고: https://huggingface.co/docs/datasets/nlp_load\n",
    "- 참고: https://huggingface.co/docs/transformers/v4.27.2/en/model_doc/data2vec#transformers.Data2VecTextModel\n",
    "- 참고 한국어 pretrained model: https://huggingface.co/Junmai/KR-Data2VecText-v1"
   ]
  },
  {
   "cell_type": "code",
   "execution_count": 13,
   "metadata": {},
   "outputs": [],
   "source": [
    "from transformers import PreTrainedTokenizerFast, BartModel\n",
    "from transformers import AutoModel, AutoTokenizer\n",
    "import sentencepiece as spm\n",
    "import pandas as pd\n",
    "import re\n"
   ]
  },
  {
   "cell_type": "code",
   "execution_count": 11,
   "metadata": {},
   "outputs": [],
   "source": [
    "# text data loading\n",
    "txt_file_lst = []\n",
    "for segment in file_lst:\n",
    "    session = segment[4:6]\n",
    "    txt_file_lst.append(f'/home/arplab/project/paradeigma/multi_modal/org_KEMDy19/Session{session}/' + segment + '.txt')\n",
    "                        \n",
    "txt_file_lst = pd.Series(txt_file_lst)"
   ]
  },
  {
   "cell_type": "code",
   "execution_count": 16,
   "metadata": {},
   "outputs": [
    {
     "data": {
      "text/plain": [
       "Embedding(35002, 768)"
      ]
     },
     "execution_count": 16,
     "metadata": {},
     "output_type": "execute_result"
    }
   ],
   "source": [
    "checkpoint = 'Junmai/KR-Data2VecText-v1'\n",
    "model_txt = AutoModel.from_pretrained(checkpoint) \n",
    "model_txt_cuda = AutoModel.from_pretrained(checkpoint).to('cuda')\n",
    "tokenizer = AutoTokenizer.from_pretrained(checkpoint)\n",
    "\n",
    "model_txt.resize_token_embeddings(len(tokenizer))"
   ]
  },
  {
   "attachments": {},
   "cell_type": "markdown",
   "metadata": {},
   "source": [
    "### text embedding method"
   ]
  },
  {
   "cell_type": "code",
   "execution_count": 20,
   "metadata": {},
   "outputs": [],
   "source": [
    "def session_check(segment_id, sess):\n",
    "    if sess in segment_id:\n",
    "        return True\n",
    "    \n",
    "    else:\n",
    "        return False\n",
    "\n",
    "def text_embeddings_func(txt_file_lst, tokenizer, model):\n",
    "    sentences = []\n",
    "\n",
    "    for i in txt_file_lst:    \n",
    "        f = open(i, 'r')\n",
    "        line = f.readline()\n",
    "        line = re.sub('\\n', '', line)\n",
    "        line = re.sub('  ', ' ', line)\n",
    "        line = line.rstrip().lstrip()\n",
    "        sentences.append(line)\n",
    "        f.close()\n",
    "    \n",
    "    inputs = tokenizer(sentences, padding='max_length', max_length = 80, truncation=True, return_tensors=\"pt\")\n",
    "    with torch.no_grad():\n",
    "        txt_embeddings= model_txt(**inputs)\n",
    "    return txt_embeddings['last_hidden_state']\n",
    "\n",
    "def make_txt_embedding_pickle(file_lst, tokenizer, model, sess_lst):\n",
    "    \n",
    "    for session in tqdm(sess_lst):\n",
    "        txt_embeddings = text_embeddings_func(file_lst[file_lst.apply(session_check, sess=session)], tokenizer, model)\n",
    "        with open(f'/home/arplab/project/paradeigma/multi_modal/model/data/embedding/KEMDY19/paradeigma_KEMDY19_txt_embedding_{session}.pkl', 'wb') as f:\n",
    "            pickle.dump(txt_embeddings, f, pickle.HIGHEST_PROTOCOL)\n",
    "            \n",
    "        del txt_embeddings\n",
    "        torch.cuda.empty_cache()\n",
    "    \n",
    "def load_txt_embedding_pickle(path_list):\n",
    "    result = {}\n",
    "    for path in path_list:\n",
    "        session = path[-10:-4]\n",
    "        with open(f'/home/arplab/project/paradeigma/multi_modal/model/data/embedding/KEMDY19/{path}', 'rb') as f:\n",
    "            txt_embedding = pickle.load(f)\n",
    "        result[session] = txt_embedding\n",
    "        \n",
    "    return result"
   ]
  },
  {
   "cell_type": "code",
   "execution_count": 21,
   "metadata": {},
   "outputs": [
    {
     "name": "stderr",
     "output_type": "stream",
     "text": [
      "100%|██████████| 20/20 [14:55<00:00, 44.77s/it]\n"
     ]
    }
   ],
   "source": [
    "sess_lst = annotation_19_nonmissing['Segment ID'].apply(lambda x: x[:6]).unique()\n",
    "\n",
    "make_txt_embedding_pickle(txt_file_lst, tokenizer, model_txt_cuda, sess_lst)"
   ]
  },
  {
   "cell_type": "code",
   "execution_count": 24,
   "metadata": {},
   "outputs": [],
   "source": [
    "import os\n",
    "\n",
    "dir_path = '/home/arplab/project/paradeigma/multi_modal/model/data/embedding/KEMDY19'\n",
    "file_list = os.listdir(dir_path)\n",
    "txt_path_list = sorted([file for file in file_list if 'KEMDY19_txt' in file ])\n",
    "\n",
    "embeddings_txt_dict = load_txt_embedding_pickle(txt_path_list)\n"
   ]
  },
  {
   "cell_type": "code",
   "execution_count": 30,
   "metadata": {},
   "outputs": [],
   "source": [
    "embedding_for_dataset = [embeddings_wav_dict, embeddings_txt_dict]"
   ]
  },
  {
   "cell_type": "code",
   "execution_count": 33,
   "metadata": {},
   "outputs": [
    {
     "data": {
      "text/plain": [
       "dict_keys(['Sess01', 'Sess02', 'Sess03', 'Sess04', 'Sess05', 'Sess06', 'Sess07', 'Sess08', 'Sess09', 'Sess10', 'Sess11', 'Sess12', 'Sess13', 'Sess14', 'Sess15', 'Sess16', 'Sess17', 'Sess18', 'Sess19', 'Sess20'])"
      ]
     },
     "execution_count": 33,
     "metadata": {},
     "output_type": "execute_result"
    }
   ],
   "source": []
  },
  {
   "cell_type": "code",
   "execution_count": 65,
   "metadata": {},
   "outputs": [],
   "source": [
    "import pickle\n",
    "# Kemdy 19 임베딩 한 것\n",
    "with open('/home/arplab/project/paradeigma/multi_modal/model/data/paradeigma_KEMDY19_embedding_for_dataset.pkl', 'wb') as f:\n",
    "    pickle.dump(embedding_for_dataset, f, pickle.HIGHEST_PROTOCOL)\n"
   ]
  },
  {
   "cell_type": "code",
   "execution_count": 66,
   "metadata": {},
   "outputs": [],
   "source": [
    "import pickle\n",
    "with open('/home/arplab/project/paradeigma/multi_modal/model/data/paradeigma_KEMDY19_embedding_for_dataset.pkl', 'rb') as f:\n",
    "    embedding_for_dataset = pickle.load(f)\n"
   ]
  },
  {
   "cell_type": "code",
   "execution_count": null,
   "metadata": {},
   "outputs": [],
   "source": []
  }
 ],
 "metadata": {
  "kernelspec": {
   "display_name": ".venv",
   "language": "python",
   "name": "python3"
  },
  "language_info": {
   "codemirror_mode": {
    "name": "ipython",
    "version": 3
   },
   "file_extension": ".py",
   "mimetype": "text/x-python",
   "name": "python",
   "nbconvert_exporter": "python",
   "pygments_lexer": "ipython3",
   "version": "3.10.4"
  },
  "orig_nbformat": 4,
  "vscode": {
   "interpreter": {
    "hash": "bdc1fd12ca460d5768d71e9df3d9063ef832ce64a62e55a1a523c8c99752868e"
   }
  }
 },
 "nbformat": 4,
 "nbformat_minor": 2
}
