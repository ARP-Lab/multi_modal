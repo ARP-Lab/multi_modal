{
 "cells": [
  {
   "cell_type": "code",
   "execution_count": 6,
   "metadata": {},
   "outputs": [
    {
     "ename": "TypeError",
     "evalue": "Pipeline.map() missing 1 required positional argument: 'fn'",
     "output_type": "error",
     "traceback": [
      "\u001b[0;31m---------------------------------------------------------------------------\u001b[0m",
      "\u001b[0;31mTypeError\u001b[0m                                 Traceback (most recent call last)",
      "Cell \u001b[0;32mIn[6], line 5\u001b[0m\n\u001b[1;32m      1\u001b[0m path \u001b[39m=\u001b[39m \u001b[39m\"\u001b[39m\u001b[39morg_KEMDy20/Session01/Sess01Sess01_script01_User001F_001.wav\u001b[39m\u001b[39m\"\u001b[39m\n\u001b[1;32m      3\u001b[0m p \u001b[39m=\u001b[39m (\n\u001b[1;32m      4\u001b[0m     pipe\u001b[39m.\u001b[39;49minput(path)\n\u001b[0;32m----> 5\u001b[0m     \u001b[39m.\u001b[39;49mmap(path,ops\u001b[39m.\u001b[39;49maudio_decode\u001b[39m.\u001b[39;49mffmpeg(sample_rate\u001b[39m=\u001b[39;49m\u001b[39m16000\u001b[39;49m))\n\u001b[1;32m      6\u001b[0m     \u001b[39m.\u001b[39mmap(path,ops\u001b[39m.\u001b[39maudio_embedding\u001b[39m.\u001b[39mdata2vec(model_name\u001b[39m=\u001b[39m\u001b[39m'\u001b[39m\u001b[39mfacebook/data2vec-audio-base-960h\u001b[39m\u001b[39m'\u001b[39m))\n\u001b[1;32m      7\u001b[0m     \u001b[39m.\u001b[39moutput(path)\n\u001b[1;32m      8\u001b[0m     )\n\u001b[1;32m      9\u001b[0m DataCollection(p(\u001b[39m'\u001b[39m\u001b[39mtest.wav\u001b[39m\u001b[39m'\u001b[39m))\u001b[39m.\u001b[39mshow()\n",
      "\u001b[0;31mTypeError\u001b[0m: Pipeline.map() missing 1 required positional argument: 'fn'"
     ]
    }
   ],
   "source": [
    "path = \"org_KEMDy20/Session01/Sess01Sess01_script01_User001F_001\"\n",
    "\n",
    "p = (\n",
    "    pipe.input(path)\n",
    "    .map(path,ops.audio_decode.ffmpeg(sample_rate=16000))\n",
    "    .map(path,ops.audio_embedding.data2vec(model_name='facebook/data2vec-audio-base-960h'))\n",
    "    .output(path)\n",
    "    )\n",
    "DataCollection(p('test.wav')).show()"
   ]
  },
  {
   "cell_type": "code",
   "execution_count": 16,
   "metadata": {},
   "outputs": [
    {
     "name": "stderr",
     "output_type": "stream",
     "text": [
      "2023-03-21 18:09:23,660 - 140485038860096 - builder.py-builder:798 - WARNING: Found cached dataset audiofolder (/home/arplab/.cache/huggingface/datasets/audiofolder/default-22611db89ddbaadb/0.0.0/6cbdd16f8688354c63b4e2a36e1585d05de285023ee6443ffd71c4182055c0fc)\n",
      "100%|██████████| 1/1 [00:00<00:00, 628.83it/s]\n"
     ]
    }
   ],
   "source": [
    "from datasets import load_dataset, Audio\n",
    "path = \"org_KEMDy20/Session01/Sess01_script01_User001F_001.wav\"\n",
    "\n",
    "dataset = load_dataset('audiofolder', data_files=path)\n",
    "dataset = dataset.cast_column('audio', Audio(sampling_rate = 16000))"
   ]
  },
  {
   "cell_type": "code",
   "execution_count": 18,
   "metadata": {},
   "outputs": [
    {
     "ename": "KeyError",
     "evalue": "\"Invalid key: 0. Please first select a split. For example: `my_dataset_dictionary['train'][0]`. Available splits: ['train']\"",
     "output_type": "error",
     "traceback": [
      "\u001b[0;31m---------------------------------------------------------------------------\u001b[0m",
      "\u001b[0;31mKeyError\u001b[0m                                  Traceback (most recent call last)",
      "Cell \u001b[0;32mIn[18], line 1\u001b[0m\n\u001b[0;32m----> 1\u001b[0m dataset[\u001b[39m0\u001b[39;49m][\u001b[39m'\u001b[39m\u001b[39maudio\u001b[39m\u001b[39m'\u001b[39m]\n",
      "File \u001b[0;32m~/project/juwon/multi_modal/.venv/lib/python3.10/site-packages/datasets/dataset_dict.py:64\u001b[0m, in \u001b[0;36mDatasetDict.__getitem__\u001b[0;34m(self, k)\u001b[0m\n\u001b[1;32m     60\u001b[0m available_suggested_splits \u001b[39m=\u001b[39m [\n\u001b[1;32m     61\u001b[0m     split \u001b[39mfor\u001b[39;00m split \u001b[39min\u001b[39;00m (Split\u001b[39m.\u001b[39mTRAIN, Split\u001b[39m.\u001b[39mTEST, Split\u001b[39m.\u001b[39mVALIDATION) \u001b[39mif\u001b[39;00m split \u001b[39min\u001b[39;00m \u001b[39mself\u001b[39m\n\u001b[1;32m     62\u001b[0m ]\n\u001b[1;32m     63\u001b[0m suggested_split \u001b[39m=\u001b[39m available_suggested_splits[\u001b[39m0\u001b[39m] \u001b[39mif\u001b[39;00m available_suggested_splits \u001b[39melse\u001b[39;00m \u001b[39mlist\u001b[39m(\u001b[39mself\u001b[39m)[\u001b[39m0\u001b[39m]\n\u001b[0;32m---> 64\u001b[0m \u001b[39mraise\u001b[39;00m \u001b[39mKeyError\u001b[39;00m(\n\u001b[1;32m     65\u001b[0m     \u001b[39mf\u001b[39m\u001b[39m\"\u001b[39m\u001b[39mInvalid key: \u001b[39m\u001b[39m{\u001b[39;00mk\u001b[39m}\u001b[39;00m\u001b[39m. Please first select a split. For example: \u001b[39m\u001b[39m\"\u001b[39m\n\u001b[1;32m     66\u001b[0m     \u001b[39mf\u001b[39m\u001b[39m\"\u001b[39m\u001b[39m`my_dataset_dictionary[\u001b[39m\u001b[39m'\u001b[39m\u001b[39m{\u001b[39;00msuggested_split\u001b[39m}\u001b[39;00m\u001b[39m'\u001b[39m\u001b[39m][\u001b[39m\u001b[39m{\u001b[39;00mk\u001b[39m}\u001b[39;00m\u001b[39m]`. \u001b[39m\u001b[39m\"\u001b[39m\n\u001b[1;32m     67\u001b[0m     \u001b[39mf\u001b[39m\u001b[39m\"\u001b[39m\u001b[39mAvailable splits: \u001b[39m\u001b[39m{\u001b[39;00m\u001b[39msorted\u001b[39m(\u001b[39mself\u001b[39m)\u001b[39m}\u001b[39;00m\u001b[39m\"\u001b[39m\n\u001b[1;32m     68\u001b[0m )\n",
      "\u001b[0;31mKeyError\u001b[0m: \"Invalid key: 0. Please first select a split. For example: `my_dataset_dictionary['train'][0]`. Available splits: ['train']\""
     ]
    }
   ],
   "source": [
    "dataset[0]['audio']"
   ]
  },
  {
   "cell_type": "code",
   "execution_count": null,
   "metadata": {},
   "outputs": [],
   "source": []
  }
 ],
 "metadata": {
  "kernelspec": {
   "display_name": ".venv",
   "language": "python",
   "name": "python3"
  },
  "language_info": {
   "codemirror_mode": {
    "name": "ipython",
    "version": 3
   },
   "file_extension": ".py",
   "mimetype": "text/x-python",
   "name": "python",
   "nbconvert_exporter": "python",
   "pygments_lexer": "ipython3",
   "version": "3.10.4"
  },
  "orig_nbformat": 4
 },
 "nbformat": 4,
 "nbformat_minor": 2
}
