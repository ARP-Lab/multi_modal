{
 "cells": [
  {
   "attachments": {},
   "cell_type": "markdown",
   "metadata": {},
   "source": [
    "## Working model for tensorfusion"
   ]
  },
  {
   "cell_type": "code",
   "execution_count": 2,
   "metadata": {},
   "outputs": [
    {
     "name": "stdout",
     "output_type": "stream",
     "text": [
      "1.13.1+cu117\n"
     ]
    }
   ],
   "source": [
    "import pickle\n",
    "import torch\n",
    "from torchmetrics import F1Score\n",
    "import pandas as pd\n",
    "print(torch.__version__)\n"
   ]
  },
  {
   "cell_type": "code",
   "execution_count": 3,
   "metadata": {},
   "outputs": [
    {
     "data": {
      "text/plain": [
       "dict_keys(['file_names', 'text_embeddings', 'wav_embeddings', 'Emotion', 'Arousal', 'Valence'])"
      ]
     },
     "execution_count": 3,
     "metadata": {},
     "output_type": "execute_result"
    }
   ],
   "source": [
    "# data load\n",
    "# Raw dataset의 key는 ['file_names', 'text_embeddings', 'wav_embeddings', 'Emotion', 'Arousal', 'Valence']로 구성\n",
    "\n",
    "with open('../model/data/paradeigma_dataset_1_3.pkl', 'rb') as f:\n",
    "    raw_dataset = pickle.load(f)\n",
    "\n",
    "# with open('../model/data/paradeigma_dataset_1_4.pkl', 'rb') as f:\n",
    "#     raw_dataset = pickle.load(f)\n",
    "    \n",
    "sessions = ['Session01', 'Session02']\n",
    "session = sessions[0]\n",
    "raw_dataset[session].keys()"
   ]
  },
  {
   "cell_type": "code",
   "execution_count": 4,
   "metadata": {},
   "outputs": [
    {
     "data": {
      "text/plain": [
       "24"
      ]
     },
     "execution_count": 4,
     "metadata": {},
     "output_type": "execute_result"
    }
   ],
   "source": [
    "# 40개 세션의 감정 종류는 24개\n",
    "\n",
    "from glob import glob\n",
    "annot_lst = glob('../org_KEMDy20/annotation/*.csv')\n",
    "emotion_list = []\n",
    "for annot_file in annot_lst:\n",
    "    annot = pd.read_csv(annot_file, skiprows=1)\n",
    "    emotion_list.append(annot['Emotion'])\n",
    "emotion_list = list(pd.Series([j for i in emotion_list for j in i]).unique())\n",
    "len(emotion_list)"
   ]
  },
  {
   "cell_type": "code",
   "execution_count": 5,
   "metadata": {},
   "outputs": [
    {
     "data": {
      "text/plain": [
       "0      neutral\n",
       "1      neutral\n",
       "2      neutral\n",
       "3      neutral\n",
       "4      neutral\n",
       "        ...   \n",
       "306    neutral\n",
       "307    neutral\n",
       "308    neutral\n",
       "309    neutral\n",
       "310    neutral\n",
       "Name: Emotion, Length: 311, dtype: object"
      ]
     },
     "execution_count": 5,
     "metadata": {},
     "output_type": "execute_result"
    }
   ],
   "source": [
    "raw_dataset['Session01']['Emotion']"
   ]
  },
  {
   "cell_type": "code",
   "execution_count": 6,
   "metadata": {},
   "outputs": [
    {
     "data": {
      "text/plain": [
       "7"
      ]
     },
     "execution_count": 6,
     "metadata": {},
     "output_type": "execute_result"
    }
   ],
   "source": [
    "# 세션 1,2 의 감정 종류는 7개\n",
    "\n",
    "emotion_lst = []\n",
    "sessions = ['Session01', 'Session02']\n",
    "for session in sessions:\n",
    "    emotion_lst.append(raw_dataset[session]['Emotion'].unique())\n",
    "emotion_lst = [j for i in emotion_lst for j in i]\n",
    "emotion_lst = list(pd.Series(emotion_lst).unique())\n",
    "len(emotion_lst)"
   ]
  },
  {
   "cell_type": "code",
   "execution_count": 8,
   "metadata": {},
   "outputs": [
    {
     "data": {
      "text/plain": [
       "({'happy': 0,\n",
       "  'neutral': 1,\n",
       "  'surprise': 2,\n",
       "  'surprise;neutral': 3,\n",
       "  'sad': 4,\n",
       "  'neutral;sad': 5,\n",
       "  'happy;neutral': 6,\n",
       "  'angry;neutral': 7,\n",
       "  'neutral;disqust': 8,\n",
       "  'angry': 9,\n",
       "  'fear': 10,\n",
       "  'neutral;fear': 11,\n",
       "  'disqust': 12,\n",
       "  'happy;surprise': 13,\n",
       "  'happy;angry;neutral': 14,\n",
       "  'angry;disqust': 15,\n",
       "  'happy;surprise;neutral': 16,\n",
       "  'happy;fear': 17,\n",
       "  'happy;neutral;fear': 18,\n",
       "  'angry;neutral;disqust': 19,\n",
       "  'neutral;disqust;sad': 20,\n",
       "  'angry;neutral;disqust;fear;sad': 21,\n",
       "  'happy;sad': 22,\n",
       "  'happy;neutral;disqust': 23},\n",
       " {0: 'happy',\n",
       "  1: 'neutral',\n",
       "  2: 'surprise',\n",
       "  3: 'surprise;neutral',\n",
       "  4: 'sad',\n",
       "  5: 'neutral;sad',\n",
       "  6: 'happy;neutral',\n",
       "  7: 'angry;neutral',\n",
       "  8: 'neutral;disqust',\n",
       "  9: 'angry',\n",
       "  10: 'fear',\n",
       "  11: 'neutral;fear',\n",
       "  12: 'disqust',\n",
       "  13: 'happy;surprise',\n",
       "  14: 'happy;angry;neutral',\n",
       "  15: 'angry;disqust',\n",
       "  16: 'happy;surprise;neutral',\n",
       "  17: 'happy;fear',\n",
       "  18: 'happy;neutral;fear',\n",
       "  19: 'angry;neutral;disqust',\n",
       "  20: 'neutral;disqust;sad',\n",
       "  21: 'angry;neutral;disqust;fear;sad',\n",
       "  22: 'happy;sad',\n",
       "  23: 'happy;neutral;disqust'})"
      ]
     },
     "execution_count": 8,
     "metadata": {},
     "output_type": "execute_result"
    }
   ],
   "source": [
    "# emotion target에 대한 정수 인코딩, 디코딩\n",
    "\n",
    "encode_dict = {b:i for i, b in enumerate(emotion_list)}\n",
    "decode_dict = {i:b for i, b in enumerate(emotion_list)}\n",
    "encode_dict, decode_dict"
   ]
  },
  {
   "cell_type": "code",
   "execution_count": 10,
   "metadata": {},
   "outputs": [
    {
     "data": {
      "text/plain": [
       "dict_keys(['file_names', 'text_embeddings', 'wav_embeddings', 'Emotion', 'Arousal', 'Valence'])"
      ]
     },
     "execution_count": 10,
     "metadata": {},
     "output_type": "execute_result"
    }
   ],
   "source": [
    "raw_dataset['Session01'].keys()"
   ]
  },
  {
   "cell_type": "code",
   "execution_count": 11,
   "metadata": {},
   "outputs": [
    {
     "data": {
      "text/plain": [
       "dict_keys(['file_names', 'text_embeddings', 'wav_embeddings', 'Emotion', 'Arousal', 'Valence'])"
      ]
     },
     "execution_count": 11,
     "metadata": {},
     "output_type": "execute_result"
    }
   ],
   "source": [
    "## dataset을 합치는 과정\n",
    "## 다시 리뷰해야 할 것\n",
    "\n",
    "merged_dataset = {}\n",
    "for session_key in raw_dataset.keys():\n",
    "    raw_dataset[session_key]['Emotion'] = raw_dataset[session_key]['Emotion'].map(encode_dict)\n",
    "    for data_name in raw_dataset[session_key].keys():\n",
    "        if data_name in merged_dataset.keys():\n",
    "            for data in raw_dataset[session_key][data_name]:\n",
    "                merged_dataset[data_name].append(data)\n",
    "        else:\n",
    "            merged_dataset[data_name] = []\n",
    "            for data in raw_dataset[session_key][data_name]:\n",
    "                merged_dataset[data_name].append(data)\n",
    "    \n",
    "for data_name in merged_dataset.keys():\n",
    "    if data_name == 'text_embeddings' or data_name == 'wav_embeddings':\n",
    "        merged_dataset[data_name] = torch.stack(merged_dataset[data_name])\n",
    "\n",
    "merged_dataset.keys()"
   ]
  },
  {
   "cell_type": "code",
   "execution_count": 12,
   "metadata": {},
   "outputs": [
    {
     "data": {
      "text/plain": [
       "[0, 1, 2, 3, 6, 7, 13]"
      ]
     },
     "execution_count": 12,
     "metadata": {},
     "output_type": "execute_result"
    }
   ],
   "source": [
    "from collections import Counter\n",
    "\n",
    "sorted(Counter(merged_dataset['Emotion']))"
   ]
  },
  {
   "cell_type": "code",
   "execution_count": 13,
   "metadata": {},
   "outputs": [
    {
     "name": "stdout",
     "output_type": "stream",
     "text": [
      "file_names:  576\n",
      "text_embeddings:  576\n",
      "wav_embeddings:  576\n",
      "Emotion:  576\n",
      "Arousal:  576\n",
      "Valence:  576\n"
     ]
    }
   ],
   "source": [
    "for i in merged_dataset.keys():\n",
    "    print(f\"{i}: \", len(merged_dataset[i]))"
   ]
  },
  {
   "cell_type": "code",
   "execution_count": 14,
   "metadata": {},
   "outputs": [
    {
     "data": {
      "text/plain": [
       "{'file_names': ['Sess01_script01_User002M_001',\n",
       "  'Sess01_script01_User002M_002',\n",
       "  'Sess01_script01_User002M_003',\n",
       "  'Sess01_script01_User002M_004',\n",
       "  'Sess01_script01_User001F_001',\n",
       "  'Sess01_script01_User002M_005',\n",
       "  'Sess01_script01_User002M_006',\n",
       "  'Sess01_script01_User002M_007',\n",
       "  'Sess01_script01_User002M_008',\n",
       "  'Sess01_script01_User002M_009',\n",
       "  'Sess01_script01_User002M_010',\n",
       "  'Sess01_script01_User002M_011',\n",
       "  'Sess01_script01_User001F_002',\n",
       "  'Sess01_script01_User001F_003',\n",
       "  'Sess01_script01_User002M_012',\n",
       "  'Sess01_script01_User002M_013',\n",
       "  'Sess01_script01_User001F_004',\n",
       "  'Sess01_script01_User002M_014',\n",
       "  'Sess01_script01_User001F_005',\n",
       "  'Sess01_script01_User001F_006',\n",
       "  'Sess01_script01_User001F_007',\n",
       "  'Sess01_script01_User002M_015',\n",
       "  'Sess01_script01_User002M_016',\n",
       "  'Sess01_script01_User002M_017',\n",
       "  'Sess01_script01_User002M_018',\n",
       "  'Sess01_script01_User002M_019',\n",
       "  'Sess01_script01_User002M_020',\n",
       "  'Sess01_script01_User002M_021',\n",
       "  'Sess01_script01_User002M_022',\n",
       "  'Sess01_script01_User002M_023',\n",
       "  'Sess01_script01_User002M_024',\n",
       "  'Sess01_script01_User002M_025',\n",
       "  'Sess01_script01_User001F_008',\n",
       "  'Sess01_script01_User002M_026',\n",
       "  'Sess01_script01_User001F_009',\n",
       "  'Sess01_script01_User002M_027',\n",
       "  'Sess01_script01_User001F_010',\n",
       "  'Sess01_script01_User001F_011',\n",
       "  'Sess01_script01_User002M_028',\n",
       "  'Sess01_script01_User002M_029',\n",
       "  'Sess01_script01_User001F_012',\n",
       "  'Sess01_script01_User001F_013',\n",
       "  'Sess01_script01_User002M_030',\n",
       "  'Sess01_script01_User001F_014',\n",
       "  'Sess01_script01_User002M_031',\n",
       "  'Sess01_script01_User002M_032',\n",
       "  'Sess01_script01_User002M_033',\n",
       "  'Sess01_script01_User002M_034',\n",
       "  'Sess01_script01_User002M_035',\n",
       "  'Sess01_script01_User002M_036',\n",
       "  'Sess01_script01_User001F_015',\n",
       "  'Sess01_script01_User002M_037',\n",
       "  'Sess01_script01_User002M_038',\n",
       "  'Sess01_script01_User002M_039',\n",
       "  'Sess01_script02_User002M_001',\n",
       "  'Sess01_script02_User002M_002',\n",
       "  'Sess01_script02_User002M_003',\n",
       "  'Sess01_script02_User002M_004',\n",
       "  'Sess01_script02_User002M_005',\n",
       "  'Sess01_script02_User002M_006',\n",
       "  'Sess01_script02_User002M_007',\n",
       "  'Sess01_script02_User002M_008',\n",
       "  'Sess01_script02_User001F_001',\n",
       "  'Sess01_script02_User001F_002',\n",
       "  'Sess01_script02_User001F_003',\n",
       "  'Sess01_script02_User001F_004',\n",
       "  'Sess01_script02_User001F_005',\n",
       "  'Sess01_script02_User001F_006',\n",
       "  'Sess01_script02_User002M_009',\n",
       "  'Sess01_script02_User002M_010',\n",
       "  'Sess01_script02_User002M_011',\n",
       "  'Sess01_script02_User002M_012',\n",
       "  'Sess01_script02_User002M_013',\n",
       "  'Sess01_script02_User002M_014',\n",
       "  'Sess01_script02_User002M_015',\n",
       "  'Sess01_script02_User002M_016',\n",
       "  'Sess01_script02_User002M_017',\n",
       "  'Sess01_script02_User002M_018',\n",
       "  'Sess01_script02_User002M_019',\n",
       "  'Sess01_script02_User002M_020',\n",
       "  'Sess01_script02_User001F_007',\n",
       "  'Sess01_script02_User002M_021',\n",
       "  'Sess01_script02_User001F_008',\n",
       "  'Sess01_script02_User001F_009',\n",
       "  'Sess01_script02_User002M_022',\n",
       "  'Sess01_script02_User001F_010',\n",
       "  'Sess01_script02_User002M_023',\n",
       "  'Sess01_script02_User002M_024',\n",
       "  'Sess01_script02_User002M_025',\n",
       "  'Sess01_script02_User002M_026',\n",
       "  'Sess01_script02_User001F_011',\n",
       "  'Sess01_script02_User002M_027',\n",
       "  'Sess01_script02_User002M_028',\n",
       "  'Sess01_script02_User002M_029',\n",
       "  'Sess01_script02_User002M_030',\n",
       "  'Sess01_script02_User001F_012',\n",
       "  'Sess01_script02_User001F_013',\n",
       "  'Sess01_script02_User001F_014',\n",
       "  'Sess01_script02_User002M_031',\n",
       "  'Sess01_script02_User002M_032',\n",
       "  'Sess01_script03_User002M_001',\n",
       "  'Sess01_script03_User002M_002',\n",
       "  'Sess01_script03_User002M_003',\n",
       "  'Sess01_script03_User002M_004',\n",
       "  'Sess01_script03_User002M_005',\n",
       "  'Sess01_script03_User002M_006',\n",
       "  'Sess01_script03_User002M_007',\n",
       "  'Sess01_script03_User002M_008',\n",
       "  'Sess01_script03_User002M_009',\n",
       "  'Sess01_script03_User002M_010',\n",
       "  'Sess01_script03_User002M_011',\n",
       "  'Sess01_script03_User002M_012',\n",
       "  'Sess01_script03_User002M_013',\n",
       "  'Sess01_script03_User002M_014',\n",
       "  'Sess01_script03_User002M_015',\n",
       "  'Sess01_script03_User001F_001',\n",
       "  'Sess01_script03_User002M_016',\n",
       "  'Sess01_script03_User001F_002',\n",
       "  'Sess01_script03_User002M_017',\n",
       "  'Sess01_script03_User001F_003',\n",
       "  'Sess01_script03_User002M_018',\n",
       "  'Sess01_script03_User002M_019',\n",
       "  'Sess01_script03_User001F_004',\n",
       "  'Sess01_script03_User001F_005',\n",
       "  'Sess01_script03_User001F_006',\n",
       "  'Sess01_script03_User002M_020',\n",
       "  'Sess01_script03_User002M_021',\n",
       "  'Sess01_script03_User001F_007',\n",
       "  'Sess01_script03_User001F_008',\n",
       "  'Sess01_script03_User001F_009',\n",
       "  'Sess01_script03_User001F_010',\n",
       "  'Sess01_script03_User002M_022',\n",
       "  'Sess01_script03_User002M_023',\n",
       "  'Sess01_script03_User002M_024',\n",
       "  'Sess01_script03_User001F_011',\n",
       "  'Sess01_script03_User001F_012',\n",
       "  'Sess01_script03_User002M_025',\n",
       "  'Sess01_script03_User002M_026',\n",
       "  'Sess01_script03_User002M_027',\n",
       "  'Sess01_script03_User002M_028',\n",
       "  'Sess01_script03_User001F_013',\n",
       "  'Sess01_script03_User002M_029',\n",
       "  'Sess01_script03_User002M_030',\n",
       "  'Sess01_script03_User001F_014',\n",
       "  'Sess01_script03_User002M_031',\n",
       "  'Sess01_script03_User001F_015',\n",
       "  'Sess01_script03_User002M_032',\n",
       "  'Sess01_script03_User002M_033',\n",
       "  'Sess01_script03_User002M_034',\n",
       "  'Sess01_script03_User002M_035',\n",
       "  'Sess01_script03_User001F_016',\n",
       "  'Sess01_script03_User001F_017',\n",
       "  'Sess01_script03_User001F_018',\n",
       "  'Sess01_script04_User002M_001',\n",
       "  'Sess01_script04_User002M_002',\n",
       "  'Sess01_script04_User001F_001',\n",
       "  'Sess01_script04_User001F_002',\n",
       "  'Sess01_script04_User001F_003',\n",
       "  'Sess01_script04_User001F_004',\n",
       "  'Sess01_script04_User002M_003',\n",
       "  'Sess01_script04_User002M_004',\n",
       "  'Sess01_script04_User002M_005',\n",
       "  'Sess01_script04_User002M_006',\n",
       "  'Sess01_script04_User002M_007',\n",
       "  'Sess01_script04_User002M_008',\n",
       "  'Sess01_script04_User002M_009',\n",
       "  'Sess01_script04_User002M_010',\n",
       "  'Sess01_script04_User001F_005',\n",
       "  'Sess01_script04_User001F_006',\n",
       "  'Sess01_script04_User001F_007',\n",
       "  'Sess01_script04_User002M_011',\n",
       "  'Sess01_script04_User002M_012',\n",
       "  'Sess01_script04_User002M_013',\n",
       "  'Sess01_script04_User002M_014',\n",
       "  'Sess01_script04_User001F_008',\n",
       "  'Sess01_script04_User001F_009',\n",
       "  'Sess01_script04_User002M_015',\n",
       "  'Sess01_script04_User002M_016',\n",
       "  'Sess01_script04_User002M_017',\n",
       "  'Sess01_script04_User002M_018',\n",
       "  'Sess01_script04_User002M_019',\n",
       "  'Sess01_script04_User002M_020',\n",
       "  'Sess01_script04_User001F_010',\n",
       "  'Sess01_script04_User001F_011',\n",
       "  'Sess01_script04_User001F_012',\n",
       "  'Sess01_script04_User002M_021',\n",
       "  'Sess01_script04_User002M_022',\n",
       "  'Sess01_script04_User002M_023',\n",
       "  'Sess01_script04_User002M_024',\n",
       "  'Sess01_script04_User001F_013',\n",
       "  'Sess01_script04_User002M_025',\n",
       "  'Sess01_script04_User001F_014',\n",
       "  'Sess01_script04_User002M_026',\n",
       "  'Sess01_script04_User001F_015',\n",
       "  'Sess01_script04_User002M_027',\n",
       "  'Sess01_script04_User002M_028',\n",
       "  'Sess01_script04_User002M_029',\n",
       "  'Sess01_script05_User002M_001',\n",
       "  'Sess01_script05_User001F_001',\n",
       "  'Sess01_script05_User001F_002',\n",
       "  'Sess01_script05_User002M_002',\n",
       "  'Sess01_script05_User001F_003',\n",
       "  'Sess01_script05_User002M_003',\n",
       "  'Sess01_script05_User002M_004',\n",
       "  'Sess01_script05_User002M_005',\n",
       "  'Sess01_script05_User002M_006',\n",
       "  'Sess01_script05_User002M_007',\n",
       "  'Sess01_script05_User002M_008',\n",
       "  'Sess01_script05_User002M_009',\n",
       "  'Sess01_script05_User002M_010',\n",
       "  'Sess01_script05_User002M_011',\n",
       "  'Sess01_script05_User002M_012',\n",
       "  'Sess01_script05_User002M_013',\n",
       "  'Sess01_script05_User002M_014',\n",
       "  'Sess01_script05_User002M_015',\n",
       "  'Sess01_script05_User001F_004',\n",
       "  'Sess01_script05_User001F_005',\n",
       "  'Sess01_script05_User002M_016',\n",
       "  'Sess01_script05_User002M_017',\n",
       "  'Sess01_script05_User001F_006',\n",
       "  'Sess01_script05_User002M_018',\n",
       "  'Sess01_script05_User002M_019',\n",
       "  'Sess01_script05_User001F_007',\n",
       "  'Sess01_script05_User001F_008',\n",
       "  'Sess01_script05_User001F_009',\n",
       "  'Sess01_script05_User001F_010',\n",
       "  'Sess01_script05_User002M_020',\n",
       "  'Sess01_script05_User002M_021',\n",
       "  'Sess01_script05_User002M_022',\n",
       "  'Sess01_script05_User002M_023',\n",
       "  'Sess01_script05_User001F_011',\n",
       "  'Sess01_script05_User002M_024',\n",
       "  'Sess01_script05_User002M_025',\n",
       "  'Sess01_script05_User002M_026',\n",
       "  'Sess01_script05_User002M_027',\n",
       "  'Sess01_script05_User001F_012',\n",
       "  'Sess01_script05_User001F_013',\n",
       "  'Sess01_script05_User002M_028',\n",
       "  'Sess01_script05_User001F_014',\n",
       "  'Sess01_script05_User002M_029',\n",
       "  'Sess01_script05_User002M_030',\n",
       "  'Sess01_script05_User002M_031',\n",
       "  'Sess01_script05_User002M_032',\n",
       "  'Sess01_script05_User002M_033',\n",
       "  'Sess01_script05_User002M_034',\n",
       "  'Sess01_script05_User002M_035',\n",
       "  'Sess01_script05_User001F_015',\n",
       "  'Sess01_script05_User002M_036',\n",
       "  'Sess01_script05_User002M_037',\n",
       "  'Sess01_script05_User002M_038',\n",
       "  'Sess01_script05_User002M_039',\n",
       "  'Sess01_script06_User002M_001',\n",
       "  'Sess01_script06_User002M_002',\n",
       "  'Sess01_script06_User002M_003',\n",
       "  'Sess01_script06_User002M_004',\n",
       "  'Sess01_script06_User002M_005',\n",
       "  'Sess01_script06_User001F_001',\n",
       "  'Sess01_script06_User001F_002',\n",
       "  'Sess01_script06_User002M_006',\n",
       "  'Sess01_script06_User002M_007',\n",
       "  'Sess01_script06_User001F_003',\n",
       "  'Sess01_script06_User002M_008',\n",
       "  'Sess01_script06_User001F_004',\n",
       "  'Sess01_script06_User002M_009',\n",
       "  'Sess01_script06_User001F_005',\n",
       "  'Sess01_script06_User001F_006',\n",
       "  'Sess01_script06_User001F_007',\n",
       "  'Sess01_script06_User002M_010',\n",
       "  'Sess01_script06_User002M_011',\n",
       "  'Sess01_script06_User001F_008',\n",
       "  'Sess01_script06_User002M_012',\n",
       "  'Sess01_script06_User002M_013',\n",
       "  'Sess01_script06_User002M_014',\n",
       "  'Sess01_script06_User002M_015',\n",
       "  'Sess01_script06_User002M_016',\n",
       "  'Sess01_script06_User002M_017',\n",
       "  'Sess01_script06_User002M_018',\n",
       "  'Sess01_script06_User002M_019',\n",
       "  'Sess01_script06_User002M_020',\n",
       "  'Sess01_script06_User002M_021',\n",
       "  'Sess01_script06_User002M_022',\n",
       "  'Sess01_script06_User002M_023',\n",
       "  'Sess01_script06_User002M_024',\n",
       "  'Sess01_script06_User002M_025',\n",
       "  'Sess01_script06_User002M_026',\n",
       "  'Sess01_script06_User001F_009',\n",
       "  'Sess01_script06_User002M_027',\n",
       "  'Sess01_script06_User002M_028',\n",
       "  'Sess01_script06_User002M_029',\n",
       "  'Sess01_script06_User002M_030',\n",
       "  'Sess01_script06_User002M_031',\n",
       "  'Sess01_script06_User002M_032',\n",
       "  'Sess01_script06_User002M_033',\n",
       "  'Sess01_script06_User001F_010',\n",
       "  'Sess01_script06_User002M_034',\n",
       "  'Sess01_script06_User001F_011',\n",
       "  'Sess01_script06_User002M_035',\n",
       "  'Sess01_script06_User002M_036',\n",
       "  'Sess01_script06_User002M_037',\n",
       "  'Sess01_script06_User001F_012',\n",
       "  'Sess01_script06_User002M_038',\n",
       "  'Sess01_script06_User002M_039',\n",
       "  'Sess01_script06_User001F_013',\n",
       "  'Sess01_script06_User001F_014',\n",
       "  'Sess01_script06_User001F_015',\n",
       "  'Sess01_script06_User002M_040',\n",
       "  'Sess01_script06_User001F_016',\n",
       "  'Sess01_script06_User002M_041',\n",
       "  'Sess01_script06_User002M_042',\n",
       "  'Sess01_script06_User002M_043',\n",
       "  'Sess01_script06_User001F_017',\n",
       "  'Sess02_script01_User004M_001',\n",
       "  'Sess02_script01_User003F_001',\n",
       "  'Sess02_script01_User004M_002',\n",
       "  'Sess02_script01_User004M_003',\n",
       "  'Sess02_script01_User004M_004',\n",
       "  'Sess02_script01_User004M_005',\n",
       "  'Sess02_script01_User004M_006',\n",
       "  'Sess02_script01_User004M_007',\n",
       "  'Sess02_script01_User004M_008',\n",
       "  'Sess02_script01_User004M_009',\n",
       "  'Sess02_script01_User004M_010',\n",
       "  'Sess02_script01_User003F_002',\n",
       "  'Sess02_script01_User004M_011',\n",
       "  'Sess02_script01_User003F_003',\n",
       "  'Sess02_script01_User004M_012',\n",
       "  'Sess02_script01_User004M_013',\n",
       "  'Sess02_script01_User003F_004',\n",
       "  'Sess02_script01_User004M_014',\n",
       "  'Sess02_script01_User003F_005',\n",
       "  'Sess02_script01_User004M_015',\n",
       "  'Sess02_script01_User003F_006',\n",
       "  'Sess02_script01_User004M_016',\n",
       "  'Sess02_script01_User003F_007',\n",
       "  'Sess02_script01_User003F_008',\n",
       "  'Sess02_script01_User003F_009',\n",
       "  'Sess02_script01_User004M_017',\n",
       "  'Sess02_script01_User003F_010',\n",
       "  'Sess02_script01_User003F_011',\n",
       "  'Sess02_script01_User003F_012',\n",
       "  'Sess02_script01_User003F_013',\n",
       "  'Sess02_script01_User004M_018',\n",
       "  'Sess02_script01_User004M_019',\n",
       "  'Sess02_script01_User004M_020',\n",
       "  'Sess02_script01_User004M_021',\n",
       "  'Sess02_script01_User004M_022',\n",
       "  'Sess02_script01_User004M_023',\n",
       "  'Sess02_script01_User004M_024',\n",
       "  'Sess02_script01_User003F_014',\n",
       "  'Sess02_script01_User003F_015',\n",
       "  'Sess02_script01_User004M_025',\n",
       "  'Sess02_script01_User003F_016',\n",
       "  'Sess02_script01_User004M_026',\n",
       "  'Sess02_script01_User003F_017',\n",
       "  'Sess02_script01_User003F_018',\n",
       "  'Sess02_script01_User004M_027',\n",
       "  'Sess02_script01_User003F_019',\n",
       "  'Sess02_script02_User004M_001',\n",
       "  'Sess02_script02_User004M_002',\n",
       "  'Sess02_script02_User004M_003',\n",
       "  'Sess02_script02_User004M_004',\n",
       "  'Sess02_script02_User004M_005',\n",
       "  'Sess02_script02_User004M_006',\n",
       "  'Sess02_script02_User004M_007',\n",
       "  'Sess02_script02_User003F_001',\n",
       "  'Sess02_script02_User003F_002',\n",
       "  'Sess02_script02_User003F_003',\n",
       "  'Sess02_script02_User003F_004',\n",
       "  'Sess02_script02_User003F_005',\n",
       "  'Sess02_script02_User003F_006',\n",
       "  'Sess02_script02_User003F_007',\n",
       "  'Sess02_script02_User003F_008',\n",
       "  'Sess02_script02_User004M_008',\n",
       "  'Sess02_script02_User004M_009',\n",
       "  'Sess02_script02_User004M_010',\n",
       "  'Sess02_script02_User004M_011',\n",
       "  'Sess02_script02_User004M_012',\n",
       "  'Sess02_script02_User004M_013',\n",
       "  'Sess02_script02_User004M_014',\n",
       "  'Sess02_script02_User004M_015',\n",
       "  'Sess02_script02_User003F_009',\n",
       "  'Sess02_script02_User004M_016',\n",
       "  'Sess02_script02_User004M_017',\n",
       "  'Sess02_script02_User003F_010',\n",
       "  'Sess02_script02_User003F_011',\n",
       "  'Sess02_script02_User004M_018',\n",
       "  'Sess02_script02_User003F_012',\n",
       "  'Sess02_script02_User003F_013',\n",
       "  'Sess02_script02_User003F_014',\n",
       "  'Sess02_script02_User003F_015',\n",
       "  'Sess02_script02_User003F_016',\n",
       "  'Sess02_script02_User003F_017',\n",
       "  'Sess02_script03_User003F_001',\n",
       "  'Sess02_script03_User003F_002',\n",
       "  'Sess02_script03_User003F_003',\n",
       "  'Sess02_script03_User003F_004',\n",
       "  'Sess02_script03_User003F_005',\n",
       "  'Sess02_script03_User003F_006',\n",
       "  'Sess02_script03_User003F_007',\n",
       "  'Sess02_script03_User003F_008',\n",
       "  'Sess02_script03_User003F_009',\n",
       "  'Sess02_script03_User003F_010',\n",
       "  'Sess02_script03_User004M_001',\n",
       "  'Sess02_script03_User004M_002',\n",
       "  'Sess02_script03_User004M_003',\n",
       "  'Sess02_script03_User004M_004',\n",
       "  'Sess02_script03_User003F_011',\n",
       "  'Sess02_script03_User004M_005',\n",
       "  'Sess02_script03_User003F_012',\n",
       "  'Sess02_script03_User003F_013',\n",
       "  'Sess02_script03_User003F_014',\n",
       "  'Sess02_script03_User004M_006',\n",
       "  'Sess02_script03_User004M_007',\n",
       "  'Sess02_script03_User003F_015',\n",
       "  'Sess02_script03_User003F_016',\n",
       "  'Sess02_script03_User003F_017',\n",
       "  'Sess02_script03_User003F_018',\n",
       "  'Sess02_script03_User003F_019',\n",
       "  'Sess02_script03_User004M_008',\n",
       "  'Sess02_script03_User003F_020',\n",
       "  'Sess02_script03_User003F_021',\n",
       "  'Sess02_script03_User003F_022',\n",
       "  'Sess02_script03_User003F_023',\n",
       "  'Sess02_script03_User003F_024',\n",
       "  'Sess02_script03_User004M_009',\n",
       "  'Sess02_script03_User004M_010',\n",
       "  'Sess02_script03_User004M_011',\n",
       "  'Sess02_script03_User004M_012',\n",
       "  'Sess02_script03_User004M_013',\n",
       "  'Sess02_script03_User004M_014',\n",
       "  'Sess02_script03_User004M_015',\n",
       "  'Sess02_script03_User004M_016',\n",
       "  'Sess02_script03_User003F_025',\n",
       "  'Sess02_script03_User004M_017',\n",
       "  'Sess02_script03_User003F_026',\n",
       "  'Sess02_script03_User003F_027',\n",
       "  'Sess02_script03_User003F_028',\n",
       "  'Sess02_script03_User003F_029',\n",
       "  'Sess02_script03_User003F_030',\n",
       "  'Sess02_script04_User004M_001',\n",
       "  'Sess02_script04_User004M_002',\n",
       "  'Sess02_script04_User003F_001',\n",
       "  'Sess02_script04_User003F_002',\n",
       "  'Sess02_script04_User003F_003',\n",
       "  'Sess02_script04_User003F_004',\n",
       "  'Sess02_script04_User003F_005',\n",
       "  'Sess02_script04_User004M_003',\n",
       "  'Sess02_script04_User004M_004',\n",
       "  'Sess02_script04_User004M_005',\n",
       "  'Sess02_script04_User003F_006',\n",
       "  'Sess02_script04_User003F_007',\n",
       "  'Sess02_script04_User003F_008',\n",
       "  'Sess02_script04_User003F_009',\n",
       "  'Sess02_script04_User003F_010',\n",
       "  'Sess02_script04_User003F_011',\n",
       "  'Sess02_script04_User003F_012',\n",
       "  'Sess02_script04_User004M_006',\n",
       "  'Sess02_script04_User003F_013',\n",
       "  'Sess02_script04_User004M_007',\n",
       "  'Sess02_script04_User003F_014',\n",
       "  'Sess02_script04_User003F_015',\n",
       "  'Sess02_script04_User003F_016',\n",
       "  'Sess02_script04_User003F_017',\n",
       "  'Sess02_script04_User003F_018',\n",
       "  'Sess02_script04_User004M_008',\n",
       "  'Sess02_script04_User003F_019',\n",
       "  'Sess02_script04_User004M_009',\n",
       "  'Sess02_script04_User004M_010',\n",
       "  'Sess02_script04_User003F_020',\n",
       "  'Sess02_script04_User003F_021',\n",
       "  'Sess02_script04_User003F_022',\n",
       "  'Sess02_script04_User004M_011',\n",
       "  'Sess02_script04_User004M_012',\n",
       "  'Sess02_script04_User004M_013',\n",
       "  'Sess02_script04_User003F_023',\n",
       "  'Sess02_script04_User004M_014',\n",
       "  'Sess02_script04_User003F_024',\n",
       "  'Sess02_script04_User004M_015',\n",
       "  'Sess02_script04_User004M_016',\n",
       "  'Sess02_script04_User004M_017',\n",
       "  'Sess02_script04_User004M_018',\n",
       "  'Sess02_script04_User004M_019',\n",
       "  'Sess02_script04_User003F_025',\n",
       "  'Sess02_script04_User004M_020',\n",
       "  'Sess02_script05_User004M_001',\n",
       "  'Sess02_script05_User004M_002',\n",
       "  'Sess02_script05_User004M_003',\n",
       "  'Sess02_script05_User004M_004',\n",
       "  'Sess02_script05_User003F_001',\n",
       "  'Sess02_script05_User004M_005',\n",
       "  'Sess02_script05_User004M_006',\n",
       "  'Sess02_script05_User004M_007',\n",
       "  'Sess02_script05_User003F_002',\n",
       "  'Sess02_script05_User004M_008',\n",
       "  'Sess02_script05_User003F_003',\n",
       "  'Sess02_script05_User004M_009',\n",
       "  'Sess02_script05_User003F_004',\n",
       "  'Sess02_script05_User004M_010',\n",
       "  'Sess02_script05_User004M_011',\n",
       "  'Sess02_script05_User003F_005',\n",
       "  'Sess02_script05_User004M_012',\n",
       "  'Sess02_script05_User004M_013',\n",
       "  'Sess02_script05_User004M_014',\n",
       "  'Sess02_script05_User003F_006',\n",
       "  'Sess02_script05_User004M_015',\n",
       "  'Sess02_script05_User003F_007',\n",
       "  'Sess02_script05_User003F_008',\n",
       "  'Sess02_script05_User003F_009',\n",
       "  'Sess02_script05_User003F_010',\n",
       "  'Sess02_script05_User003F_011',\n",
       "  'Sess02_script05_User003F_012',\n",
       "  'Sess02_script05_User003F_013',\n",
       "  'Sess02_script05_User003F_014',\n",
       "  'Sess02_script05_User003F_015',\n",
       "  'Sess02_script05_User004M_016',\n",
       "  'Sess02_script05_User004M_017',\n",
       "  'Sess02_script05_User003F_016',\n",
       "  'Sess02_script05_User004M_018',\n",
       "  'Sess02_script05_User004M_019',\n",
       "  'Sess02_script05_User004M_020',\n",
       "  'Sess02_script05_User004M_021',\n",
       "  'Sess02_script05_User004M_022',\n",
       "  'Sess02_script05_User004M_023',\n",
       "  'Sess02_script05_User004M_024',\n",
       "  'Sess02_script05_User004M_025',\n",
       "  'Sess02_script05_User003F_017',\n",
       "  'Sess02_script05_User003F_018',\n",
       "  'Sess02_script05_User004M_026',\n",
       "  'Sess02_script05_User003F_019',\n",
       "  'Sess02_script05_User004M_027',\n",
       "  'Sess02_script05_User003F_020',\n",
       "  'Sess02_script05_User004M_028',\n",
       "  'Sess02_script05_User003F_021',\n",
       "  'Sess02_script05_User003F_022',\n",
       "  'Sess02_script05_User004M_029',\n",
       "  'Sess02_script05_User004M_030',\n",
       "  'Sess02_script05_User004M_031',\n",
       "  'Sess02_script06_User003F_001',\n",
       "  'Sess02_script06_User003F_002',\n",
       "  'Sess02_script06_User003F_003',\n",
       "  'Sess02_script06_User003F_004',\n",
       "  'Sess02_script06_User003F_005',\n",
       "  'Sess02_script06_User003F_006',\n",
       "  'Sess02_script06_User003F_007',\n",
       "  'Sess02_script06_User003F_008',\n",
       "  'Sess02_script06_User003F_009',\n",
       "  'Sess02_script06_User003F_010',\n",
       "  'Sess02_script06_User003F_011',\n",
       "  'Sess02_script06_User003F_012',\n",
       "  'Sess02_script06_User003F_013',\n",
       "  'Sess02_script06_User003F_014',\n",
       "  'Sess02_script06_User003F_015',\n",
       "  'Sess02_script06_User003F_016',\n",
       "  'Sess02_script06_User003F_017',\n",
       "  'Sess02_script06_User003F_018',\n",
       "  'Sess02_script06_User003F_019',\n",
       "  'Sess02_script06_User003F_020',\n",
       "  'Sess02_script06_User003F_021',\n",
       "  'Sess02_script06_User004M_001',\n",
       "  'Sess02_script06_User004M_002',\n",
       "  'Sess02_script06_User004M_003',\n",
       "  'Sess02_script06_User004M_004',\n",
       "  'Sess02_script06_User004M_005',\n",
       "  'Sess02_script06_User004M_006',\n",
       "  'Sess02_script06_User004M_007',\n",
       "  'Sess02_script06_User004M_008',\n",
       "  'Sess02_script06_User003F_022',\n",
       "  'Sess02_script06_User003F_023',\n",
       "  'Sess02_script06_User004M_009',\n",
       "  'Sess02_script06_User003F_024',\n",
       "  'Sess02_script06_User003F_025',\n",
       "  'Sess02_script06_User003F_026',\n",
       "  'Sess02_script06_User003F_027',\n",
       "  'Sess02_script06_User003F_028',\n",
       "  'Sess02_script06_User004M_010',\n",
       "  'Sess02_script06_User004M_011'],\n",
       " 'text_embeddings': tensor([[[ 0.1883, -0.0291, -0.0117,  ..., -0.0931, -0.0109,  0.1308],\n",
       "          [-0.0740, -0.0787, -0.0656,  ..., -0.0323,  0.0825,  0.0826],\n",
       "          [-0.0908,  0.1073, -0.1467,  ..., -0.0191, -0.0405,  0.0479],\n",
       "          ...,\n",
       "          [-0.1111,  0.1112, -0.1535,  ..., -0.0108, -0.0418,  0.0736],\n",
       "          [-0.0947,  0.0485, -0.1209,  ...,  0.0095,  0.0013,  0.1210],\n",
       "          [ 0.2380, -0.0621,  0.0350,  ...,  0.0772, -0.0580,  0.0579]],\n",
       " \n",
       "         [[ 0.1796, -0.0431, -0.0118,  ..., -0.0794, -0.0236,  0.1116],\n",
       "          [-0.0791, -0.0831, -0.0669,  ..., -0.0359,  0.0919,  0.0774],\n",
       "          [-0.1199,  0.0889, -0.1398,  ..., -0.0478, -0.0554,  0.0616],\n",
       "          ...,\n",
       "          [-0.0865,  0.0340, -0.1327,  ..., -0.0668, -0.0287,  0.1769],\n",
       "          [ 0.0054,  0.1212, -0.0730,  ...,  0.0018,  0.0233,  0.1023],\n",
       "          [ 0.2306, -0.0696,  0.0456,  ...,  0.0123, -0.0796,  0.0533]],\n",
       " \n",
       "         [[ 0.1986, -0.0062,  0.0027,  ..., -0.1102, -0.0632,  0.1459],\n",
       "          [-0.1368, -0.0599, -0.1114,  ..., -0.0047,  0.1534, -0.0438],\n",
       "          [-0.1007,  0.0865, -0.0711,  ..., -0.0440, -0.0332,  0.0430],\n",
       "          ...,\n",
       "          [-0.1175, -0.0353, -0.0812,  ...,  0.0270,  0.0794,  0.0586],\n",
       "          [-0.0331,  0.0339, -0.1358,  ..., -0.0711, -0.0504,  0.1099],\n",
       "          [ 0.2426, -0.0632,  0.0424,  ...,  0.0901, -0.0711,  0.0406]],\n",
       " \n",
       "         ...,\n",
       " \n",
       "         [[ 0.2122, -0.1004,  0.0316,  ..., -0.0421, -0.1103,  0.1206],\n",
       "          [-0.1024, -0.1267, -0.0774,  ..., -0.0168,  0.0943,  0.0849],\n",
       "          [-0.1015, -0.1248, -0.0821,  ..., -0.0105,  0.0838,  0.0779],\n",
       "          ...,\n",
       "          [-0.1071, -0.0174, -0.1277,  ...,  0.0335,  0.0476, -0.0598],\n",
       "          [-0.1071, -0.0174, -0.1277,  ...,  0.0335,  0.0476, -0.0598],\n",
       "          [-0.1071, -0.0174, -0.1277,  ...,  0.0335,  0.0476, -0.0598]],\n",
       " \n",
       "         [[ 0.1834, -0.0330,  0.0028,  ..., -0.1070, -0.0359,  0.1487],\n",
       "          [-0.0789, -0.0876, -0.0740,  ..., -0.0336,  0.0846,  0.0714],\n",
       "          [-0.0843, -0.0786, -0.0519,  ..., -0.0165,  0.0766,  0.0732],\n",
       "          ...,\n",
       "          [-0.0740,  0.0640, -0.1092,  ..., -0.0029, -0.0474,  0.0816],\n",
       "          [-0.0089, -0.0019, -0.1253,  ..., -0.1191, -0.0447,  0.1138],\n",
       "          [ 0.2376, -0.0658,  0.0402,  ...,  0.0790, -0.0613,  0.0549]],\n",
       " \n",
       "         [[ 0.1734, -0.0524,  0.0298,  ..., -0.0740, -0.0638,  0.1323],\n",
       "          [-0.0699, -0.0925, -0.0715,  ..., -0.0271,  0.0851,  0.0739],\n",
       "          [-0.1257, -0.0370, -0.0919,  ...,  0.0115,  0.0426,  0.0368],\n",
       "          ...,\n",
       "          [-0.0985, -0.0316, -0.0839,  ...,  0.0205,  0.0308,  0.0793],\n",
       "          [ 0.1724, -0.0458,  0.0359,  ..., -0.0793, -0.0736,  0.1390],\n",
       "          [ 0.2152, -0.0724,  0.0514,  ..., -0.0137, -0.0918,  0.0706]]],\n",
       "        grad_fn=<StackBackward0>),\n",
       " 'wav_embeddings': tensor([[[[-1.0941e+00,  2.6293e-01, -3.5495e-01,  ...,  9.8772e-02,\n",
       "            -4.9532e-04,  1.5103e-01],\n",
       "           [-1.0941e+00,  2.6292e-01, -3.5495e-01,  ...,  9.8772e-02,\n",
       "            -4.9550e-04,  1.5103e-01],\n",
       "           [-1.0941e+00,  2.6293e-01, -3.5495e-01,  ...,  9.8772e-02,\n",
       "            -4.9537e-04,  1.5103e-01],\n",
       "           ...,\n",
       "           [-8.7450e-01, -1.6116e-01,  2.8498e-04,  ..., -5.8811e-02,\n",
       "            -1.2278e-01,  5.4399e-02],\n",
       "           [-8.5496e-01, -1.5714e-01, -1.3282e-02,  ..., -6.8304e-02,\n",
       "            -1.2154e-01,  4.3799e-02],\n",
       "           [-8.5040e-01, -1.5531e-01, -1.3076e-02,  ..., -7.0053e-02,\n",
       "            -1.1463e-01,  4.5091e-02]]],\n",
       " \n",
       " \n",
       "         [[[-9.3005e-01,  2.7211e-01, -3.1737e-01,  ...,  7.9875e-02,\n",
       "             1.5455e-03,  4.4468e-02],\n",
       "           [-9.3005e-01,  2.7211e-01, -3.1737e-01,  ...,  7.9874e-02,\n",
       "             1.5456e-03,  4.4468e-02],\n",
       "           [-9.3005e-01,  2.7211e-01, -3.1738e-01,  ...,  7.9874e-02,\n",
       "             1.5454e-03,  4.4468e-02],\n",
       "           ...,\n",
       "           [-1.0527e+00,  7.7836e-02,  2.1093e-02,  ..., -2.3428e-02,\n",
       "            -1.4964e-01,  1.1163e-01],\n",
       "           [-1.0179e+00,  6.9772e-02,  1.9439e-02,  ..., -2.9070e-02,\n",
       "            -1.5272e-01,  1.0021e-01],\n",
       "           [-1.0082e+00,  7.2498e-02,  2.0572e-02,  ..., -3.0219e-02,\n",
       "            -1.4580e-01,  1.0139e-01]]],\n",
       " \n",
       " \n",
       "         [[[-7.8555e-01, -1.2974e-01, -8.9456e-02,  ...,  1.3200e-01,\n",
       "             2.4252e-02,  2.7378e-01],\n",
       "           [-7.8555e-01, -1.2974e-01, -8.9457e-02,  ...,  1.3200e-01,\n",
       "             2.4252e-02,  2.7378e-01],\n",
       "           [-7.8555e-01, -1.2974e-01, -8.9456e-02,  ...,  1.3200e-01,\n",
       "             2.4252e-02,  2.7378e-01],\n",
       "           ...,\n",
       "           [-1.1330e+00,  6.7581e-02, -1.4438e-03,  ...,  2.8180e-02,\n",
       "            -1.3023e-01,  1.6172e-01],\n",
       "           [-1.0947e+00,  6.0689e-02, -9.9359e-03,  ...,  1.5452e-03,\n",
       "            -1.0030e-01,  1.3752e-01],\n",
       "           [-1.1286e+00,  7.1745e-02, -2.6980e-02,  ...,  1.1089e-02,\n",
       "            -9.2560e-02,  1.5326e-01]]],\n",
       " \n",
       " \n",
       "         ...,\n",
       " \n",
       " \n",
       "         [[[-1.0840e+00,  3.4690e-01, -3.7429e-01,  ..., -2.4309e-03,\n",
       "             9.0861e-02,  2.5140e-01],\n",
       "           [-1.0840e+00,  3.4690e-01, -3.7429e-01,  ..., -2.4312e-03,\n",
       "             9.0860e-02,  2.5140e-01],\n",
       "           [-1.0840e+00,  3.4691e-01, -3.7429e-01,  ..., -2.4310e-03,\n",
       "             9.0860e-02,  2.5140e-01],\n",
       "           ...,\n",
       "           [-9.9384e-01,  6.2006e-02,  3.2220e-02,  ..., -1.2022e-01,\n",
       "            -1.6949e-01,  6.9641e-02],\n",
       "           [-9.9766e-01,  5.9962e-02,  2.8055e-02,  ..., -1.1901e-01,\n",
       "            -1.6844e-01,  6.5452e-02],\n",
       "           [-1.0144e+00,  5.9082e-02,  1.9668e-02,  ..., -1.1748e-01,\n",
       "            -1.8530e-01,  6.3015e-02]]],\n",
       " \n",
       " \n",
       "         [[[-1.0623e+00,  2.7854e-01, -2.6880e-01,  ...,  6.0738e-02,\n",
       "             1.5444e-02,  1.1412e-01],\n",
       "           [-1.0623e+00,  2.7854e-01, -2.6880e-01,  ...,  6.0737e-02,\n",
       "             1.5445e-02,  1.1413e-01],\n",
       "           [-1.0623e+00,  2.7854e-01, -2.6880e-01,  ...,  6.0737e-02,\n",
       "             1.5445e-02,  1.1412e-01],\n",
       "           ...,\n",
       "           [-1.0390e+00,  2.8957e-02,  5.5094e-04,  ..., -3.7542e-02,\n",
       "            -1.5984e-01, -1.4940e-03],\n",
       "           [-1.0350e+00,  2.8297e-02,  3.2825e-03,  ..., -3.7087e-02,\n",
       "            -1.6829e-01, -2.1698e-03],\n",
       "           [-1.0277e+00,  3.0892e-02,  6.3388e-03,  ..., -3.5059e-02,\n",
       "            -1.6928e-01, -2.7867e-03]]],\n",
       " \n",
       " \n",
       "         [[[-1.3035e+00,  1.4883e-01, -2.2773e-01,  ...,  4.0277e-02,\n",
       "            -7.7054e-03,  1.4217e-01],\n",
       "           [-1.3035e+00,  1.4883e-01, -2.2773e-01,  ...,  4.0278e-02,\n",
       "            -7.7053e-03,  1.4217e-01],\n",
       "           [-1.3035e+00,  1.4883e-01, -2.2773e-01,  ...,  4.0278e-02,\n",
       "            -7.7058e-03,  1.4217e-01],\n",
       "           ...,\n",
       "           [-1.0274e+00,  3.8398e-02,  1.3628e-01,  ..., -1.1517e-01,\n",
       "            -1.4074e-01,  9.8295e-02],\n",
       "           [-1.0030e+00,  1.2081e-02,  1.0538e-01,  ..., -1.0719e-01,\n",
       "            -1.3365e-01,  8.1427e-02],\n",
       "           [-1.0023e+00,  9.3043e-03,  9.7594e-02,  ..., -1.0796e-01,\n",
       "            -1.2354e-01,  7.8012e-02]]]]),\n",
       " 'Emotion': [1,\n",
       "  1,\n",
       "  1,\n",
       "  1,\n",
       "  1,\n",
       "  1,\n",
       "  1,\n",
       "  0,\n",
       "  0,\n",
       "  0,\n",
       "  1,\n",
       "  0,\n",
       "  1,\n",
       "  1,\n",
       "  1,\n",
       "  1,\n",
       "  0,\n",
       "  6,\n",
       "  1,\n",
       "  1,\n",
       "  1,\n",
       "  1,\n",
       "  1,\n",
       "  1,\n",
       "  1,\n",
       "  1,\n",
       "  1,\n",
       "  1,\n",
       "  1,\n",
       "  1,\n",
       "  1,\n",
       "  1,\n",
       "  1,\n",
       "  1,\n",
       "  1,\n",
       "  1,\n",
       "  1,\n",
       "  1,\n",
       "  1,\n",
       "  1,\n",
       "  1,\n",
       "  1,\n",
       "  1,\n",
       "  1,\n",
       "  1,\n",
       "  0,\n",
       "  6,\n",
       "  1,\n",
       "  1,\n",
       "  0,\n",
       "  6,\n",
       "  0,\n",
       "  0,\n",
       "  0,\n",
       "  1,\n",
       "  1,\n",
       "  1,\n",
       "  1,\n",
       "  1,\n",
       "  1,\n",
       "  3,\n",
       "  1,\n",
       "  1,\n",
       "  1,\n",
       "  1,\n",
       "  1,\n",
       "  1,\n",
       "  1,\n",
       "  1,\n",
       "  1,\n",
       "  1,\n",
       "  1,\n",
       "  1,\n",
       "  1,\n",
       "  1,\n",
       "  1,\n",
       "  1,\n",
       "  3,\n",
       "  1,\n",
       "  1,\n",
       "  1,\n",
       "  1,\n",
       "  1,\n",
       "  1,\n",
       "  1,\n",
       "  1,\n",
       "  6,\n",
       "  1,\n",
       "  1,\n",
       "  1,\n",
       "  0,\n",
       "  1,\n",
       "  1,\n",
       "  1,\n",
       "  1,\n",
       "  1,\n",
       "  1,\n",
       "  1,\n",
       "  1,\n",
       "  1,\n",
       "  1,\n",
       "  1,\n",
       "  1,\n",
       "  1,\n",
       "  1,\n",
       "  1,\n",
       "  1,\n",
       "  1,\n",
       "  0,\n",
       "  1,\n",
       "  13,\n",
       "  1,\n",
       "  1,\n",
       "  1,\n",
       "  0,\n",
       "  0,\n",
       "  0,\n",
       "  0,\n",
       "  1,\n",
       "  3,\n",
       "  1,\n",
       "  1,\n",
       "  1,\n",
       "  1,\n",
       "  1,\n",
       "  1,\n",
       "  1,\n",
       "  1,\n",
       "  0,\n",
       "  0,\n",
       "  0,\n",
       "  0,\n",
       "  1,\n",
       "  0,\n",
       "  0,\n",
       "  1,\n",
       "  1,\n",
       "  1,\n",
       "  1,\n",
       "  6,\n",
       "  1,\n",
       "  1,\n",
       "  1,\n",
       "  1,\n",
       "  1,\n",
       "  1,\n",
       "  1,\n",
       "  1,\n",
       "  1,\n",
       "  1,\n",
       "  1,\n",
       "  1,\n",
       "  1,\n",
       "  1,\n",
       "  1,\n",
       "  1,\n",
       "  1,\n",
       "  1,\n",
       "  1,\n",
       "  1,\n",
       "  1,\n",
       "  1,\n",
       "  1,\n",
       "  1,\n",
       "  1,\n",
       "  1,\n",
       "  1,\n",
       "  1,\n",
       "  1,\n",
       "  1,\n",
       "  1,\n",
       "  1,\n",
       "  1,\n",
       "  1,\n",
       "  1,\n",
       "  1,\n",
       "  1,\n",
       "  1,\n",
       "  1,\n",
       "  1,\n",
       "  1,\n",
       "  1,\n",
       "  1,\n",
       "  1,\n",
       "  1,\n",
       "  1,\n",
       "  1,\n",
       "  1,\n",
       "  1,\n",
       "  1,\n",
       "  1,\n",
       "  1,\n",
       "  1,\n",
       "  1,\n",
       "  1,\n",
       "  1,\n",
       "  1,\n",
       "  1,\n",
       "  1,\n",
       "  0,\n",
       "  0,\n",
       "  0,\n",
       "  1,\n",
       "  1,\n",
       "  1,\n",
       "  1,\n",
       "  1,\n",
       "  1,\n",
       "  1,\n",
       "  1,\n",
       "  1,\n",
       "  1,\n",
       "  1,\n",
       "  1,\n",
       "  1,\n",
       "  1,\n",
       "  1,\n",
       "  1,\n",
       "  1,\n",
       "  1,\n",
       "  1,\n",
       "  1,\n",
       "  1,\n",
       "  1,\n",
       "  7,\n",
       "  1,\n",
       "  1,\n",
       "  1,\n",
       "  1,\n",
       "  0,\n",
       "  0,\n",
       "  6,\n",
       "  0,\n",
       "  1,\n",
       "  1,\n",
       "  1,\n",
       "  1,\n",
       "  1,\n",
       "  1,\n",
       "  1,\n",
       "  1,\n",
       "  1,\n",
       "  1,\n",
       "  1,\n",
       "  0,\n",
       "  0,\n",
       "  0,\n",
       "  0,\n",
       "  1,\n",
       "  1,\n",
       "  1,\n",
       "  1,\n",
       "  1,\n",
       "  1,\n",
       "  1,\n",
       "  1,\n",
       "  1,\n",
       "  1,\n",
       "  1,\n",
       "  1,\n",
       "  1,\n",
       "  1,\n",
       "  1,\n",
       "  1,\n",
       "  1,\n",
       "  1,\n",
       "  1,\n",
       "  1,\n",
       "  1,\n",
       "  1,\n",
       "  1,\n",
       "  1,\n",
       "  1,\n",
       "  1,\n",
       "  1,\n",
       "  1,\n",
       "  1,\n",
       "  1,\n",
       "  1,\n",
       "  1,\n",
       "  1,\n",
       "  1,\n",
       "  1,\n",
       "  1,\n",
       "  1,\n",
       "  1,\n",
       "  1,\n",
       "  1,\n",
       "  1,\n",
       "  1,\n",
       "  1,\n",
       "  1,\n",
       "  1,\n",
       "  1,\n",
       "  1,\n",
       "  1,\n",
       "  1,\n",
       "  1,\n",
       "  1,\n",
       "  1,\n",
       "  1,\n",
       "  1,\n",
       "  1,\n",
       "  1,\n",
       "  1,\n",
       "  1,\n",
       "  1,\n",
       "  1,\n",
       "  1,\n",
       "  1,\n",
       "  1,\n",
       "  1,\n",
       "  0,\n",
       "  6,\n",
       "  1,\n",
       "  1,\n",
       "  1,\n",
       "  1,\n",
       "  1,\n",
       "  1,\n",
       "  1,\n",
       "  1,\n",
       "  1,\n",
       "  1,\n",
       "  1,\n",
       "  1,\n",
       "  1,\n",
       "  1,\n",
       "  1,\n",
       "  1,\n",
       "  1,\n",
       "  1,\n",
       "  1,\n",
       "  1,\n",
       "  1,\n",
       "  1,\n",
       "  1,\n",
       "  1,\n",
       "  1,\n",
       "  1,\n",
       "  1,\n",
       "  1,\n",
       "  1,\n",
       "  1,\n",
       "  1,\n",
       "  1,\n",
       "  1,\n",
       "  1,\n",
       "  1,\n",
       "  1,\n",
       "  1,\n",
       "  1,\n",
       "  1,\n",
       "  1,\n",
       "  1,\n",
       "  1,\n",
       "  1,\n",
       "  1,\n",
       "  1,\n",
       "  1,\n",
       "  1,\n",
       "  1,\n",
       "  1,\n",
       "  1,\n",
       "  1,\n",
       "  1,\n",
       "  1,\n",
       "  1,\n",
       "  1,\n",
       "  1,\n",
       "  1,\n",
       "  1,\n",
       "  1,\n",
       "  1,\n",
       "  1,\n",
       "  1,\n",
       "  1,\n",
       "  1,\n",
       "  1,\n",
       "  1,\n",
       "  0,\n",
       "  6,\n",
       "  1,\n",
       "  1,\n",
       "  1,\n",
       "  1,\n",
       "  1,\n",
       "  1,\n",
       "  1,\n",
       "  1,\n",
       "  1,\n",
       "  1,\n",
       "  1,\n",
       "  1,\n",
       "  1,\n",
       "  1,\n",
       "  1,\n",
       "  1,\n",
       "  0,\n",
       "  1,\n",
       "  1,\n",
       "  1,\n",
       "  6,\n",
       "  2,\n",
       "  1,\n",
       "  1,\n",
       "  1,\n",
       "  1,\n",
       "  1,\n",
       "  1,\n",
       "  1,\n",
       "  1,\n",
       "  1,\n",
       "  1,\n",
       "  1,\n",
       "  1,\n",
       "  1,\n",
       "  1,\n",
       "  0,\n",
       "  0,\n",
       "  0,\n",
       "  0,\n",
       "  0,\n",
       "  1,\n",
       "  2,\n",
       "  1,\n",
       "  1,\n",
       "  1,\n",
       "  1,\n",
       "  1,\n",
       "  1,\n",
       "  1,\n",
       "  1,\n",
       "  1,\n",
       "  1,\n",
       "  1,\n",
       "  1,\n",
       "  1,\n",
       "  1,\n",
       "  1,\n",
       "  1,\n",
       "  1,\n",
       "  1,\n",
       "  1,\n",
       "  1,\n",
       "  1,\n",
       "  1,\n",
       "  1,\n",
       "  1,\n",
       "  1,\n",
       "  1,\n",
       "  1,\n",
       "  1,\n",
       "  1,\n",
       "  1,\n",
       "  1,\n",
       "  1,\n",
       "  1,\n",
       "  1,\n",
       "  1,\n",
       "  1,\n",
       "  1,\n",
       "  1,\n",
       "  1,\n",
       "  1,\n",
       "  1,\n",
       "  1,\n",
       "  1,\n",
       "  1,\n",
       "  1,\n",
       "  1,\n",
       "  1,\n",
       "  1,\n",
       "  1,\n",
       "  1,\n",
       "  1,\n",
       "  1,\n",
       "  1,\n",
       "  1,\n",
       "  1,\n",
       "  1,\n",
       "  1,\n",
       "  1,\n",
       "  1,\n",
       "  1,\n",
       "  1,\n",
       "  1,\n",
       "  1,\n",
       "  1,\n",
       "  1,\n",
       "  1,\n",
       "  1,\n",
       "  1,\n",
       "  1,\n",
       "  1,\n",
       "  1,\n",
       "  1,\n",
       "  1,\n",
       "  1,\n",
       "  1,\n",
       "  1,\n",
       "  1,\n",
       "  1,\n",
       "  1,\n",
       "  1,\n",
       "  1,\n",
       "  1,\n",
       "  1,\n",
       "  1,\n",
       "  1,\n",
       "  1,\n",
       "  1,\n",
       "  1,\n",
       "  1,\n",
       "  1,\n",
       "  1,\n",
       "  1,\n",
       "  1,\n",
       "  1,\n",
       "  1,\n",
       "  1,\n",
       "  1,\n",
       "  1,\n",
       "  1,\n",
       "  1,\n",
       "  1,\n",
       "  1,\n",
       "  1,\n",
       "  1,\n",
       "  0,\n",
       "  1,\n",
       "  1,\n",
       "  1,\n",
       "  1,\n",
       "  1,\n",
       "  1,\n",
       "  1,\n",
       "  1,\n",
       "  1,\n",
       "  1,\n",
       "  1,\n",
       "  1,\n",
       "  1,\n",
       "  1,\n",
       "  1,\n",
       "  1,\n",
       "  1,\n",
       "  1,\n",
       "  1,\n",
       "  1,\n",
       "  1,\n",
       "  1,\n",
       "  1,\n",
       "  1,\n",
       "  1,\n",
       "  1,\n",
       "  1,\n",
       "  1,\n",
       "  1,\n",
       "  1,\n",
       "  1,\n",
       "  1,\n",
       "  1,\n",
       "  1,\n",
       "  1,\n",
       "  1,\n",
       "  1,\n",
       "  1,\n",
       "  1,\n",
       "  1,\n",
       "  1,\n",
       "  1,\n",
       "  1,\n",
       "  1,\n",
       "  1,\n",
       "  1],\n",
       " 'Arousal': [2.9,\n",
       "  2.9,\n",
       "  3.0,\n",
       "  3.1,\n",
       "  2.8,\n",
       "  3.2,\n",
       "  3.2,\n",
       "  3.3,\n",
       "  3.6,\n",
       "  3.7,\n",
       "  3.4,\n",
       "  3.6,\n",
       "  3.1,\n",
       "  3.1,\n",
       "  3.0,\n",
       "  2.9,\n",
       "  3.1,\n",
       "  3.2,\n",
       "  3.2,\n",
       "  2.9,\n",
       "  3.2,\n",
       "  3.0,\n",
       "  2.7,\n",
       "  2.8,\n",
       "  2.9,\n",
       "  3.0,\n",
       "  3.0,\n",
       "  3.2,\n",
       "  3.0,\n",
       "  2.9,\n",
       "  3.2,\n",
       "  2.5,\n",
       "  3.1,\n",
       "  2.9,\n",
       "  2.7,\n",
       "  3.0,\n",
       "  2.7,\n",
       "  2.6,\n",
       "  3.1,\n",
       "  2.6,\n",
       "  2.8,\n",
       "  3.1,\n",
       "  2.8,\n",
       "  2.9,\n",
       "  3.0,\n",
       "  3.7,\n",
       "  3.4,\n",
       "  3.2,\n",
       "  2.9,\n",
       "  3.4,\n",
       "  3.4,\n",
       "  3.2,\n",
       "  3.5,\n",
       "  3.3,\n",
       "  3.3,\n",
       "  3.2,\n",
       "  3.9,\n",
       "  3.8,\n",
       "  3.5,\n",
       "  3.1,\n",
       "  3.9,\n",
       "  3.3,\n",
       "  3.0,\n",
       "  3.1,\n",
       "  3.0,\n",
       "  2.9,\n",
       "  3.4,\n",
       "  3.2,\n",
       "  3.0,\n",
       "  3.5,\n",
       "  2.9,\n",
       "  3.2,\n",
       "  3.4,\n",
       "  3.5,\n",
       "  3.1,\n",
       "  3.0,\n",
       "  3.2,\n",
       "  4.0,\n",
       "  3.6,\n",
       "  3.0,\n",
       "  2.9,\n",
       "  2.9,\n",
       "  3.0,\n",
       "  3.6,\n",
       "  3.8,\n",
       "  3.5,\n",
       "  3.3,\n",
       "  3.3,\n",
       "  3.2,\n",
       "  3.6,\n",
       "  3.7,\n",
       "  3.3,\n",
       "  3.1,\n",
       "  2.7,\n",
       "  3.3,\n",
       "  2.6,\n",
       "  3.3,\n",
       "  2.7,\n",
       "  3.3,\n",
       "  3.3,\n",
       "  3.5,\n",
       "  3.2,\n",
       "  3.4,\n",
       "  3.0,\n",
       "  3.1,\n",
       "  3.9,\n",
       "  3.5,\n",
       "  3.5,\n",
       "  3.9,\n",
       "  3.4,\n",
       "  4.3,\n",
       "  4.0,\n",
       "  3.4,\n",
       "  3.8,\n",
       "  3.3,\n",
       "  3.8,\n",
       "  3.6,\n",
       "  3.6,\n",
       "  3.6,\n",
       "  2.6,\n",
       "  3.0,\n",
       "  3.0,\n",
       "  3.3,\n",
       "  3.5,\n",
       "  3.1,\n",
       "  3.4,\n",
       "  3.1,\n",
       "  3.6,\n",
       "  3.9,\n",
       "  4.1,\n",
       "  4.0,\n",
       "  3.2,\n",
       "  3.3,\n",
       "  3.2,\n",
       "  3.6,\n",
       "  3.1,\n",
       "  3.1,\n",
       "  3.1,\n",
       "  3.0,\n",
       "  3.4,\n",
       "  2.7,\n",
       "  2.8,\n",
       "  3.1,\n",
       "  2.9,\n",
       "  3.3,\n",
       "  3.2,\n",
       "  3.4,\n",
       "  3.4,\n",
       "  3.2,\n",
       "  3.1,\n",
       "  2.9,\n",
       "  2.9,\n",
       "  3.0,\n",
       "  3.0,\n",
       "  2.6,\n",
       "  2.9,\n",
       "  3.0,\n",
       "  3.3,\n",
       "  3.0,\n",
       "  3.3,\n",
       "  3.1,\n",
       "  3.4,\n",
       "  3.4,\n",
       "  3.2,\n",
       "  3.3,\n",
       "  3.0,\n",
       "  2.6,\n",
       "  3.5,\n",
       "  2.7,\n",
       "  3.1,\n",
       "  3.3,\n",
       "  3.1,\n",
       "  3.4,\n",
       "  3.2,\n",
       "  2.9,\n",
       "  3.0,\n",
       "  3.4,\n",
       "  3.6,\n",
       "  3.6,\n",
       "  3.3,\n",
       "  2.7,\n",
       "  3.1,\n",
       "  3.0,\n",
       "  3.5,\n",
       "  3.0,\n",
       "  3.4,\n",
       "  3.3,\n",
       "  3.0,\n",
       "  3.0,\n",
       "  3.0,\n",
       "  3.2,\n",
       "  3.5,\n",
       "  2.6,\n",
       "  2.9,\n",
       "  3.0,\n",
       "  2.9,\n",
       "  3.6,\n",
       "  3.0,\n",
       "  3.0,\n",
       "  3.4,\n",
       "  3.6,\n",
       "  3.9,\n",
       "  3.6,\n",
       "  3.5,\n",
       "  3.2,\n",
       "  3.6,\n",
       "  3.3,\n",
       "  3.3,\n",
       "  3.4,\n",
       "  3.3,\n",
       "  2.9,\n",
       "  3.1,\n",
       "  3.1,\n",
       "  2.9,\n",
       "  2.8,\n",
       "  2.7,\n",
       "  2.8,\n",
       "  2.8,\n",
       "  3.0,\n",
       "  2.6,\n",
       "  3.4,\n",
       "  2.6,\n",
       "  2.7,\n",
       "  3.7,\n",
       "  3.3,\n",
       "  3.4,\n",
       "  3.5,\n",
       "  3.7,\n",
       "  3.9,\n",
       "  4.3,\n",
       "  4.0,\n",
       "  3.3,\n",
       "  3.8,\n",
       "  3.4,\n",
       "  3.0,\n",
       "  2.8,\n",
       "  3.1,\n",
       "  3.0,\n",
       "  3.2,\n",
       "  2.9,\n",
       "  3.4,\n",
       "  3.4,\n",
       "  4.0,\n",
       "  3.7,\n",
       "  3.7,\n",
       "  4.0,\n",
       "  3.9,\n",
       "  4.1,\n",
       "  2.8,\n",
       "  3.1,\n",
       "  2.9,\n",
       "  3.1,\n",
       "  2.8,\n",
       "  2.8,\n",
       "  3.0,\n",
       "  2.9,\n",
       "  3.1,\n",
       "  3.0,\n",
       "  3.0,\n",
       "  3.1,\n",
       "  2.7,\n",
       "  2.6,\n",
       "  2.7,\n",
       "  2.8,\n",
       "  2.8,\n",
       "  2.8,\n",
       "  2.8,\n",
       "  2.8,\n",
       "  2.8,\n",
       "  2.7,\n",
       "  3.0,\n",
       "  2.9,\n",
       "  2.9,\n",
       "  3.3,\n",
       "  3.1,\n",
       "  3.2,\n",
       "  3.1,\n",
       "  2.7,\n",
       "  3.4,\n",
       "  3.1,\n",
       "  3.0,\n",
       "  2.8,\n",
       "  3.1,\n",
       "  2.9,\n",
       "  3.0,\n",
       "  3.1,\n",
       "  3.2,\n",
       "  3.1,\n",
       "  3.1,\n",
       "  3.5,\n",
       "  3.5,\n",
       "  3.7,\n",
       "  3.5,\n",
       "  2.8,\n",
       "  2.7,\n",
       "  2.8,\n",
       "  2.9,\n",
       "  3.1,\n",
       "  3.0,\n",
       "  2.3,\n",
       "  3.1,\n",
       "  2.8,\n",
       "  3.0,\n",
       "  3.3,\n",
       "  3.6,\n",
       "  2.9,\n",
       "  3.5,\n",
       "  3.1,\n",
       "  2.9,\n",
       "  2.7,\n",
       "  3.4,\n",
       "  3.3,\n",
       "  3.7,\n",
       "  3.5,\n",
       "  3.7,\n",
       "  3.4,\n",
       "  3.2,\n",
       "  3.6,\n",
       "  3.7,\n",
       "  3.1,\n",
       "  2.9,\n",
       "  3.0,\n",
       "  2.4,\n",
       "  2.6,\n",
       "  2.4,\n",
       "  3.0,\n",
       "  2.8,\n",
       "  2.8,\n",
       "  3.0,\n",
       "  3.1,\n",
       "  3.0,\n",
       "  3.1,\n",
       "  2.4,\n",
       "  3.2,\n",
       "  3.1,\n",
       "  3.1,\n",
       "  3.4,\n",
       "  2.9,\n",
       "  2.9,\n",
       "  2.8,\n",
       "  3.1,\n",
       "  3.0,\n",
       "  3.2,\n",
       "  3.1,\n",
       "  3.1,\n",
       "  3.4,\n",
       "  3.1,\n",
       "  2.7,\n",
       "  2.4,\n",
       "  2.6,\n",
       "  3.2,\n",
       "  2.8,\n",
       "  2.8,\n",
       "  3.3,\n",
       "  3.4,\n",
       "  3.0,\n",
       "  2.9,\n",
       "  3.1,\n",
       "  2.8,\n",
       "  2.8,\n",
       "  3.2,\n",
       "  3.4,\n",
       "  3.0,\n",
       "  3.0,\n",
       "  2.6,\n",
       "  3.0,\n",
       "  3.2,\n",
       "  2.4,\n",
       "  2.9,\n",
       "  3.2,\n",
       "  2.9,\n",
       "  2.8,\n",
       "  3.2,\n",
       "  3.5,\n",
       "  3.1,\n",
       "  3.1,\n",
       "  3.4,\n",
       "  3.5,\n",
       "  3.4,\n",
       "  3.2,\n",
       "  3.3,\n",
       "  3.4,\n",
       "  3.2,\n",
       "  2.8,\n",
       "  3.3,\n",
       "  2.9,\n",
       "  2.5,\n",
       "  2.9,\n",
       "  3.0,\n",
       "  2.6,\n",
       "  3.1,\n",
       "  3.1,\n",
       "  2.9,\n",
       "  3.1,\n",
       "  3.9,\n",
       "  3.6,\n",
       "  3.9,\n",
       "  3.9,\n",
       "  3.4,\n",
       "  2.9,\n",
       "  2.5,\n",
       "  3.0,\n",
       "  3.5,\n",
       "  4.2,\n",
       "  3.6,\n",
       "  3.5,\n",
       "  3.0,\n",
       "  3.3,\n",
       "  3.6,\n",
       "  3.4,\n",
       "  3.5,\n",
       "  3.7,\n",
       "  3.5,\n",
       "  3.4,\n",
       "  3.3,\n",
       "  3.6,\n",
       "  3.5,\n",
       "  2.7,\n",
       "  4.2,\n",
       "  4.2,\n",
       "  4.4,\n",
       "  3.9,\n",
       "  4.2,\n",
       "  2.9,\n",
       "  3.2,\n",
       "  3.0,\n",
       "  3.3,\n",
       "  3.4,\n",
       "  3.1,\n",
       "  3.0,\n",
       "  2.7,\n",
       "  3.1,\n",
       "  3.2,\n",
       "  3.2,\n",
       "  3.4,\n",
       "  3.2,\n",
       "  3.2,\n",
       "  3.3,\n",
       "  3.0,\n",
       "  2.5,\n",
       "  2.9,\n",
       "  3.0,\n",
       "  2.8,\n",
       "  2.6,\n",
       "  3.1,\n",
       "  2.8,\n",
       "  3.0,\n",
       "  3.3,\n",
       "  3.1,\n",
       "  3.1,\n",
       "  3.0,\n",
       "  3.3,\n",
       "  3.4,\n",
       "  3.6,\n",
       "  3.0,\n",
       "  3.1,\n",
       "  3.1,\n",
       "  2.4,\n",
       "  3.4,\n",
       "  3.1,\n",
       "  3.4,\n",
       "  3.1,\n",
       "  3.3,\n",
       "  3.7,\n",
       "  2.8,\n",
       "  2.7,\n",
       "  3.4,\n",
       "  2.9,\n",
       "  3.0,\n",
       "  2.8,\n",
       "  2.6,\n",
       "  3.0,\n",
       "  2.9,\n",
       "  3.1,\n",
       "  2.1,\n",
       "  3.2,\n",
       "  2.6,\n",
       "  2.9,\n",
       "  3.4,\n",
       "  3.5,\n",
       "  3.3,\n",
       "  3.3,\n",
       "  2.8,\n",
       "  3.2,\n",
       "  3.1,\n",
       "  2.8,\n",
       "  3.1,\n",
       "  3.0,\n",
       "  2.7,\n",
       "  2.7,\n",
       "  3.0,\n",
       "  3.1,\n",
       "  2.9,\n",
       "  2.8,\n",
       "  3.1,\n",
       "  2.9,\n",
       "  2.4,\n",
       "  2.9,\n",
       "  2.9,\n",
       "  2.4,\n",
       "  2.4,\n",
       "  2.9,\n",
       "  3.1,\n",
       "  2.4,\n",
       "  2.8,\n",
       "  2.9,\n",
       "  2.6,\n",
       "  2.8,\n",
       "  2.7,\n",
       "  2.2,\n",
       "  2.7,\n",
       "  2.8,\n",
       "  2.3,\n",
       "  2.9,\n",
       "  2.2,\n",
       "  2.7,\n",
       "  2.5,\n",
       "  3.2,\n",
       "  3.2,\n",
       "  3.1,\n",
       "  3.0,\n",
       "  3.3,\n",
       "  3.2,\n",
       "  3.2,\n",
       "  2.7,\n",
       "  2.7,\n",
       "  2.4,\n",
       "  2.9,\n",
       "  3.1,\n",
       "  3.6,\n",
       "  3.0,\n",
       "  3.4,\n",
       "  3.0,\n",
       "  3.0,\n",
       "  2.7,\n",
       "  3.3,\n",
       "  3.1,\n",
       "  3.3,\n",
       "  3.2,\n",
       "  3.1,\n",
       "  2.9,\n",
       "  2.8,\n",
       "  2.9,\n",
       "  2.9,\n",
       "  3.1,\n",
       "  2.9,\n",
       "  3.3,\n",
       "  2.9,\n",
       "  2.9,\n",
       "  3.3,\n",
       "  3.2,\n",
       "  3.2,\n",
       "  2.8,\n",
       "  3.3,\n",
       "  3.1,\n",
       "  3.0,\n",
       "  2.6,\n",
       "  2.6,\n",
       "  3.3,\n",
       "  3.2,\n",
       "  3.7,\n",
       "  3.2,\n",
       "  3.5,\n",
       "  3.6,\n",
       "  3.5,\n",
       "  3.5,\n",
       "  3.2,\n",
       "  3.4,\n",
       "  3.3,\n",
       "  3.4,\n",
       "  3.4,\n",
       "  3.6,\n",
       "  3.5,\n",
       "  2.9,\n",
       "  3.3,\n",
       "  3.5],\n",
       " 'Valence': [3.4,\n",
       "  3.1,\n",
       "  3.1,\n",
       "  3.7,\n",
       "  3.8,\n",
       "  3.0,\n",
       "  3.3,\n",
       "  4.0,\n",
       "  3.9,\n",
       "  4.1,\n",
       "  3.7,\n",
       "  4.2,\n",
       "  3.3,\n",
       "  3.3,\n",
       "  3.1,\n",
       "  3.0,\n",
       "  3.6,\n",
       "  3.8,\n",
       "  3.5,\n",
       "  3.0,\n",
       "  3.6,\n",
       "  3.3,\n",
       "  2.9,\n",
       "  3.2,\n",
       "  2.9,\n",
       "  3.1,\n",
       "  3.2,\n",
       "  3.1,\n",
       "  3.1,\n",
       "  3.4,\n",
       "  3.4,\n",
       "  2.8,\n",
       "  3.1,\n",
       "  3.0,\n",
       "  3.0,\n",
       "  3.0,\n",
       "  2.8,\n",
       "  3.0,\n",
       "  3.1,\n",
       "  3.0,\n",
       "  3.0,\n",
       "  3.0,\n",
       "  3.1,\n",
       "  3.0,\n",
       "  3.2,\n",
       "  3.8,\n",
       "  3.8,\n",
       "  3.2,\n",
       "  2.9,\n",
       "  4.1,\n",
       "  3.7,\n",
       "  4.1,\n",
       "  4.2,\n",
       "  3.9,\n",
       "  3.2,\n",
       "  2.7,\n",
       "  3.1,\n",
       "  2.8,\n",
       "  3.0,\n",
       "  2.6,\n",
       "  3.3,\n",
       "  3.3,\n",
       "  3.5,\n",
       "  3.2,\n",
       "  2.8,\n",
       "  3.2,\n",
       "  2.9,\n",
       "  3.2,\n",
       "  2.9,\n",
       "  3.3,\n",
       "  2.9,\n",
       "  3.2,\n",
       "  2.6,\n",
       "  2.7,\n",
       "  2.7,\n",
       "  2.4,\n",
       "  2.6,\n",
       "  3.2,\n",
       "  3.1,\n",
       "  3.4,\n",
       "  3.6,\n",
       "  3.0,\n",
       "  2.9,\n",
       "  3.6,\n",
       "  2.7,\n",
       "  3.4,\n",
       "  4.0,\n",
       "  3.7,\n",
       "  3.3,\n",
       "  3.2,\n",
       "  3.3,\n",
       "  2.5,\n",
       "  2.9,\n",
       "  2.8,\n",
       "  3.0,\n",
       "  2.6,\n",
       "  2.5,\n",
       "  2.6,\n",
       "  2.7,\n",
       "  2.7,\n",
       "  3.1,\n",
       "  3.2,\n",
       "  3.5,\n",
       "  3.0,\n",
       "  3.2,\n",
       "  3.8,\n",
       "  3.6,\n",
       "  3.4,\n",
       "  3.8,\n",
       "  3.4,\n",
       "  4.2,\n",
       "  3.8,\n",
       "  3.6,\n",
       "  3.4,\n",
       "  3.8,\n",
       "  3.3,\n",
       "  4.0,\n",
       "  3.9,\n",
       "  3.7,\n",
       "  3.0,\n",
       "  3.0,\n",
       "  3.4,\n",
       "  3.3,\n",
       "  3.6,\n",
       "  3.4,\n",
       "  3.5,\n",
       "  3.2,\n",
       "  3.8,\n",
       "  3.7,\n",
       "  3.8,\n",
       "  3.7,\n",
       "  3.9,\n",
       "  3.4,\n",
       "  3.5,\n",
       "  3.7,\n",
       "  3.2,\n",
       "  3.0,\n",
       "  3.2,\n",
       "  3.0,\n",
       "  3.8,\n",
       "  3.5,\n",
       "  3.3,\n",
       "  3.4,\n",
       "  3.0,\n",
       "  3.3,\n",
       "  3.8,\n",
       "  3.6,\n",
       "  3.6,\n",
       "  3.6,\n",
       "  3.2,\n",
       "  3.0,\n",
       "  2.7,\n",
       "  3.2,\n",
       "  3.1,\n",
       "  3.0,\n",
       "  2.9,\n",
       "  2.4,\n",
       "  2.4,\n",
       "  2.4,\n",
       "  3.0,\n",
       "  3.1,\n",
       "  3.0,\n",
       "  2.9,\n",
       "  3.0,\n",
       "  2.7,\n",
       "  3.0,\n",
       "  3.0,\n",
       "  3.1,\n",
       "  2.9,\n",
       "  3.3,\n",
       "  3.3,\n",
       "  3.0,\n",
       "  2.8,\n",
       "  2.3,\n",
       "  3.7,\n",
       "  2.3,\n",
       "  2.9,\n",
       "  2.4,\n",
       "  2.8,\n",
       "  2.7,\n",
       "  2.9,\n",
       "  2.9,\n",
       "  2.7,\n",
       "  2.4,\n",
       "  2.5,\n",
       "  3.3,\n",
       "  3.3,\n",
       "  3.3,\n",
       "  2.8,\n",
       "  3.8,\n",
       "  3.2,\n",
       "  2.9,\n",
       "  2.8,\n",
       "  3.3,\n",
       "  2.8,\n",
       "  3.0,\n",
       "  2.3,\n",
       "  3.0,\n",
       "  3.2,\n",
       "  3.5,\n",
       "  4.2,\n",
       "  4.0,\n",
       "  3.4,\n",
       "  3.5,\n",
       "  3.3,\n",
       "  3.2,\n",
       "  3.5,\n",
       "  3.2,\n",
       "  3.1,\n",
       "  3.0,\n",
       "  3.0,\n",
       "  3.2,\n",
       "  3.0,\n",
       "  3.0,\n",
       "  3.2,\n",
       "  3.0,\n",
       "  3.1,\n",
       "  3.0,\n",
       "  3.0,\n",
       "  2.8,\n",
       "  3.2,\n",
       "  3.2,\n",
       "  3.3,\n",
       "  3.1,\n",
       "  2.4,\n",
       "  2.7,\n",
       "  3.0,\n",
       "  3.5,\n",
       "  3.6,\n",
       "  4.5,\n",
       "  4.1,\n",
       "  3.8,\n",
       "  3.7,\n",
       "  3.6,\n",
       "  3.1,\n",
       "  2.9,\n",
       "  3.4,\n",
       "  3.1,\n",
       "  3.2,\n",
       "  3.1,\n",
       "  3.4,\n",
       "  3.0,\n",
       "  3.5,\n",
       "  3.6,\n",
       "  3.9,\n",
       "  4.2,\n",
       "  4.4,\n",
       "  4.3,\n",
       "  3.2,\n",
       "  3.3,\n",
       "  3.2,\n",
       "  2.8,\n",
       "  2.8,\n",
       "  2.6,\n",
       "  2.7,\n",
       "  3.0,\n",
       "  3.4,\n",
       "  3.5,\n",
       "  2.8,\n",
       "  2.9,\n",
       "  3.0,\n",
       "  3.0,\n",
       "  2.7,\n",
       "  3.0,\n",
       "  2.9,\n",
       "  2.8,\n",
       "  2.7,\n",
       "  2.8,\n",
       "  2.3,\n",
       "  2.9,\n",
       "  2.9,\n",
       "  2.9,\n",
       "  2.8,\n",
       "  2.8,\n",
       "  2.4,\n",
       "  2.4,\n",
       "  2.9,\n",
       "  2.8,\n",
       "  2.8,\n",
       "  2.9,\n",
       "  2.0,\n",
       "  2.3,\n",
       "  2.8,\n",
       "  2.9,\n",
       "  2.3,\n",
       "  2.7,\n",
       "  2.6,\n",
       "  2.8,\n",
       "  3.1,\n",
       "  2.9,\n",
       "  2.7,\n",
       "  2.5,\n",
       "  3.3,\n",
       "  3.0,\n",
       "  2.9,\n",
       "  2.9,\n",
       "  2.9,\n",
       "  2.9,\n",
       "  3.0,\n",
       "  3.2,\n",
       "  3.0,\n",
       "  3.0,\n",
       "  2.7,\n",
       "  3.1,\n",
       "  3.6,\n",
       "  3.4,\n",
       "  3.3,\n",
       "  3.3,\n",
       "  3.0,\n",
       "  3.0,\n",
       "  3.0,\n",
       "  3.4,\n",
       "  4.0,\n",
       "  3.8,\n",
       "  3.1,\n",
       "  3.0,\n",
       "  2.8,\n",
       "  2.7,\n",
       "  3.0,\n",
       "  2.4,\n",
       "  2.6,\n",
       "  2.5,\n",
       "  3.0,\n",
       "  2.9,\n",
       "  3.1,\n",
       "  2.4,\n",
       "  2.8,\n",
       "  2.8,\n",
       "  2.6,\n",
       "  2.9,\n",
       "  3.0,\n",
       "  2.6,\n",
       "  3.0,\n",
       "  2.5,\n",
       "  3.7,\n",
       "  3.3,\n",
       "  3.0,\n",
       "  3.0,\n",
       "  2.9,\n",
       "  2.6,\n",
       "  2.8,\n",
       "  2.3,\n",
       "  2.8,\n",
       "  3.1,\n",
       "  3.2,\n",
       "  2.4,\n",
       "  2.7,\n",
       "  3.1,\n",
       "  3.2,\n",
       "  3.1,\n",
       "  3.0,\n",
       "  3.0,\n",
       "  3.0,\n",
       "  2.9,\n",
       "  2.9,\n",
       "  3.0,\n",
       "  3.0,\n",
       "  2.4,\n",
       "  2.8,\n",
       "  2.8,\n",
       "  2.5,\n",
       "  2.5,\n",
       "  2.8,\n",
       "  3.0,\n",
       "  2.4,\n",
       "  2.8,\n",
       "  3.0,\n",
       "  3.0,\n",
       "  2.9,\n",
       "  2.9,\n",
       "  2.9,\n",
       "  3.0,\n",
       "  3.2,\n",
       "  3.1,\n",
       "  2.8,\n",
       "  2.9,\n",
       "  2.7,\n",
       "  2.6,\n",
       "  2.6,\n",
       "  2.8,\n",
       "  3.8,\n",
       "  3.7,\n",
       "  3.1,\n",
       "  2.8,\n",
       "  3.6,\n",
       "  3.0,\n",
       "  2.8,\n",
       "  2.7,\n",
       "  2.3,\n",
       "  3.0,\n",
       "  2.7,\n",
       "  2.9,\n",
       "  3.0,\n",
       "  3.1,\n",
       "  3.1,\n",
       "  3.3,\n",
       "  3.3,\n",
       "  3.2,\n",
       "  3.6,\n",
       "  3.2,\n",
       "  3.1,\n",
       "  3.1,\n",
       "  3.5,\n",
       "  3.9,\n",
       "  3.1,\n",
       "  3.0,\n",
       "  3.0,\n",
       "  3.1,\n",
       "  2.6,\n",
       "  2.4,\n",
       "  2.7,\n",
       "  3.5,\n",
       "  3.4,\n",
       "  2.8,\n",
       "  3.1,\n",
       "  2.9,\n",
       "  2.8,\n",
       "  2.8,\n",
       "  3.8,\n",
       "  4.0,\n",
       "  4.2,\n",
       "  3.8,\n",
       "  4.2,\n",
       "  3.0,\n",
       "  3.0,\n",
       "  3.1,\n",
       "  3.0,\n",
       "  3.0,\n",
       "  3.0,\n",
       "  3.0,\n",
       "  3.0,\n",
       "  3.2,\n",
       "  2.9,\n",
       "  3.0,\n",
       "  3.0,\n",
       "  3.0,\n",
       "  3.0,\n",
       "  2.9,\n",
       "  3.0,\n",
       "  3.3,\n",
       "  3.4,\n",
       "  2.9,\n",
       "  2.9,\n",
       "  2.9,\n",
       "  3.0,\n",
       "  2.5,\n",
       "  2.8,\n",
       "  3.1,\n",
       "  2.7,\n",
       "  2.4,\n",
       "  2.8,\n",
       "  2.6,\n",
       "  2.6,\n",
       "  2.9,\n",
       "  2.8,\n",
       "  2.7,\n",
       "  2.6,\n",
       "  3.1,\n",
       "  2.8,\n",
       "  2.8,\n",
       "  3.0,\n",
       "  3.0,\n",
       "  3.1,\n",
       "  2.9,\n",
       "  2.8,\n",
       "  2.6,\n",
       "  2.8,\n",
       "  2.8,\n",
       "  2.3,\n",
       "  2.8,\n",
       "  2.9,\n",
       "  2.9,\n",
       "  3.1,\n",
       "  3.0,\n",
       "  2.1,\n",
       "  3.1,\n",
       "  2.4,\n",
       "  2.7,\n",
       "  2.9,\n",
       "  2.9,\n",
       "  2.9,\n",
       "  3.2,\n",
       "  3.0,\n",
       "  3.1,\n",
       "  3.1,\n",
       "  3.0,\n",
       "  3.1,\n",
       "  2.7,\n",
       "  3.0,\n",
       "  2.5,\n",
       "  2.4,\n",
       "  2.7,\n",
       "  3.5,\n",
       "  2.4,\n",
       "  3.2,\n",
       "  2.4,\n",
       "  3.0,\n",
       "  2.9,\n",
       "  2.4,\n",
       "  2.8,\n",
       "  2.6,\n",
       "  2.8,\n",
       "  3.0,\n",
       "  3.0,\n",
       "  3.0,\n",
       "  2.9,\n",
       "  2.7,\n",
       "  3.2,\n",
       "  2.9,\n",
       "  2.7,\n",
       "  2.3,\n",
       "  2.7,\n",
       "  2.4,\n",
       "  3.0,\n",
       "  3.0,\n",
       "  3.1,\n",
       "  3.0,\n",
       "  2.8,\n",
       "  2.9,\n",
       "  2.9,\n",
       "  2.7,\n",
       "  3.0,\n",
       "  2.9,\n",
       "  2.9,\n",
       "  3.1,\n",
       "  2.4,\n",
       "  2.4,\n",
       "  2.9,\n",
       "  2.4,\n",
       "  3.7,\n",
       "  2.9,\n",
       "  3.2,\n",
       "  2.6,\n",
       "  2.7,\n",
       "  3.0,\n",
       "  3.2,\n",
       "  3.1,\n",
       "  2.1,\n",
       "  2.3,\n",
       "  2.6,\n",
       "  2.9,\n",
       "  2.0,\n",
       "  2.5,\n",
       "  2.2,\n",
       "  2.8,\n",
       "  2.7,\n",
       "  2.5,\n",
       "  2.8,\n",
       "  2.8,\n",
       "  3.2,\n",
       "  2.8,\n",
       "  2.7,\n",
       "  2.9,\n",
       "  2.9,\n",
       "  2.5,\n",
       "  2.7,\n",
       "  2.9,\n",
       "  2.9,\n",
       "  2.3,\n",
       "  2.8,\n",
       "  3.0,\n",
       "  2.9,\n",
       "  2.4,\n",
       "  2.4,\n",
       "  2.3,\n",
       "  2.2,\n",
       "  2.2,\n",
       "  2.1,\n",
       "  2.7,\n",
       "  2.7,\n",
       "  2.6,\n",
       "  2.2,\n",
       "  2.4,\n",
       "  2.9,\n",
       "  2.9,\n",
       "  2.7]}"
      ]
     },
     "execution_count": 14,
     "metadata": {},
     "output_type": "execute_result"
    }
   ],
   "source": [
    "merged_dataset"
   ]
  },
  {
   "attachments": {},
   "cell_type": "markdown",
   "metadata": {},
   "source": [
    "## Torch dataset 만들기\n"
   ]
  },
  {
   "cell_type": "code",
   "execution_count": 15,
   "metadata": {},
   "outputs": [],
   "source": [
    "import os \n",
    "import pandas as pd\n",
    "from datasets import Dataset\n",
    "from torch import nn, optim\n",
    "from torch.utils.data import Dataset, DataLoader, random_split"
   ]
  },
  {
   "cell_type": "code",
   "execution_count": 16,
   "metadata": {},
   "outputs": [],
   "source": [
    "# data load 및 나누기: https://076923.github.io/posts/Python-pytorch-11/\n",
    "\n",
    "class EtriDataset(Dataset):\n",
    "    def __init__(self, file_names, text_embeddings, wave_embeddings, Emotion, Arousal, Valence):\n",
    "        self.file_names = file_names\n",
    "        self.text_embeddings = text_embeddings\n",
    "        self.wav_embeddings = wave_embeddings\n",
    "        # self.EDA = EDA\n",
    "        # self.Temp = Temp\n",
    "        self.label_emotion = Emotion\n",
    "        self.label_arousal = Arousal\n",
    "        self.label_valence = Valence\n",
    "        \n",
    "    def __len__(self):\n",
    "        return len(self.file_names)\n",
    "    \n",
    "    def __getitem__(self, idx):\n",
    "        text_embeddings = self.text_embeddings[idx]\n",
    "        wav_embeddings = self.wav_embeddings[idx]\n",
    "        # EDA = self.EDA[idx]\n",
    "        # Temp = self.Temp[idx]\n",
    "        label_emotion = self.label_emotion[idx]\n",
    "        label_arousal = self.label_arousal[idx]\n",
    "        label_valence = self.label_valence[idx]\n",
    "        return text_embeddings, wav_embeddings, EDA, Temp, label_emotion, label_arousal, label_valence"
   ]
  },
  {
   "cell_type": "code",
   "execution_count": 17,
   "metadata": {},
   "outputs": [],
   "source": [
    "# 개별 session 데이터 셋을 만들었을 때 \n",
    "# dataset = EtriDataset(raw_dataset[session]['file_names'],\n",
    "#                       raw_dataset[session]['text_embeddings'],\n",
    "#                       raw_dataset[session]['wav_embeddings'],\n",
    "#                       raw_dataset[session]['Emotion'],\n",
    "#                       raw_dataset[session]['Arousal'],\n",
    "#                       raw_dataset[session]['Valence'])\n",
    "\n",
    "# session을 통합시킨 데이터 셋을 만들었을 때 \n",
    "dataset = EtriDataset(merged_dataset['file_names'],\n",
    "                      merged_dataset['text_embeddings'],\n",
    "                      merged_dataset['wav_embeddings'],                     \n",
    "                      merged_dataset['Emotion'],\n",
    "                      merged_dataset['Arousal'],\n",
    "                      merged_dataset['Valence'])"
   ]
  },
  {
   "cell_type": "code",
   "execution_count": 18,
   "metadata": {},
   "outputs": [],
   "source": [
    "dataset_size = len(dataset)\n",
    "train_size = int(dataset_size * 0.7)\n",
    "validation_size = int(dataset_size * 0.15)\n",
    "test_size = dataset_size- (train_size + validation_size)"
   ]
  },
  {
   "cell_type": "code",
   "execution_count": 19,
   "metadata": {},
   "outputs": [
    {
     "name": "stdout",
     "output_type": "stream",
     "text": [
      "403 87 86\n",
      "Training Data Size : 403\n",
      "Validation Data Size : 86\n",
      "Testing Data Size : 87\n"
     ]
    }
   ],
   "source": [
    "train_dataset, validation_dataset, test_dataset = random_split(dataset, [train_size, validation_size, test_size])\n",
    "\n",
    "print(train_size, test_size, validation_size)\n",
    "print(f\"Training Data Size : {len(train_dataset)}\")\n",
    "print(f\"Validation Data Size : {len(validation_dataset)}\")\n",
    "print(f\"Testing Data Size : {len(test_dataset)}\")"
   ]
  },
  {
   "cell_type": "code",
   "execution_count": 21,
   "metadata": {},
   "outputs": [],
   "source": [
    "train_dataloader = DataLoader(train_dataset, batch_size = 128, shuffle= True, drop_last = True)\n",
    "validation_dataloader = DataLoader(validation_dataset, batch_size = 32, shuffle= True, drop_last = True)\n",
    "test_dataloader = DataLoader(test_dataset, batch_size = 32, shuffle= True, drop_last = True)"
   ]
  },
  {
   "attachments": {},
   "cell_type": "markdown",
   "metadata": {},
   "source": [
    "## NetWork 만들기"
   ]
  },
  {
   "cell_type": "code",
   "execution_count": 22,
   "metadata": {},
   "outputs": [
    {
     "name": "stdout",
     "output_type": "stream",
     "text": [
      "Using cuda device\n"
     ]
    }
   ],
   "source": [
    "device = 'cuda' if torch.cuda.is_available else 'cpu'\n",
    "print(f'Using {device} device')"
   ]
  },
  {
   "cell_type": "code",
   "execution_count": 23,
   "metadata": {},
   "outputs": [],
   "source": [
    "class MLPNetwork_pre(nn.Module):\n",
    "    def __init__(self, input_length, input_width):\n",
    "        super().__init__()\n",
    "        self.flatten = nn.Flatten()\n",
    "        self.fc1 = nn.Linear(input_length*input_width, 768)\n",
    "        self.gelu1 = nn.GELU()\n",
    "        self.bn1 = nn.BatchNorm1d(768)\n",
    "        self.fc2 = nn.Linear(768, 512)\n",
    "        self.gelu2 = nn.GELU()\n",
    "        self.bn2 = nn.BatchNorm1d(512)\n",
    "        self.fc3 = nn.Linear(512,32)\n",
    "        self.gelu3 = nn.GELU()\n",
    "        \n",
    "    def forward(self, x):\n",
    "        x = self.flatten(x)\n",
    "        x = self.fc1(x)\n",
    "        x = self.gelu1(x)\n",
    "        x = self.bn1(x)\n",
    "        x = self.fc2(x)\n",
    "        x = self.gelu2(x)\n",
    "        x = self.bn2(x)\n",
    "        x = self.fc3(x)\n",
    "        output = self.gelu3(x)\n",
    "        return output\n",
    "    \n",
    "class MLPNetwork_final(nn.Module):\n",
    "    def __init__(self, input_length, input_width):\n",
    "        super().__init__()\n",
    "        self.flatten = nn.Flatten()\n",
    "        self.fc1 = nn.Linear(input_length*input_width, 256)\n",
    "        self.gelu1 = nn.GELU()\n",
    "        self.bn1 = nn.BatchNorm1d(256)\n",
    "        self.fc2 = nn.Linear(256, 64)\n",
    "        self.gelu2 = nn.GELU()\n",
    "        self.bn2 = nn.BatchNorm1d(64)\n",
    "        self.fc3 = nn.Linear(64, 14)\n",
    "        \n",
    "    def forward(self, x):\n",
    "        x = self.flatten(x)\n",
    "        x = self.fc1(x)\n",
    "        x = self.gelu1(x)\n",
    "        x = self.bn1(x)\n",
    "        x = self.fc2(x)\n",
    "        x = self.gelu2(x)\n",
    "        x = self.bn2(x)\n",
    "        output = self.fc3(x)\n",
    "        \n",
    "        return output"
   ]
  },
  {
   "cell_type": "code",
   "execution_count": 25,
   "metadata": {},
   "outputs": [],
   "source": [
    "class TensorFusionMixer(nn.Module):\n",
    "    def __init__(self, ModelA, ModelB, mode):\n",
    "        super().__init__()\n",
    "        self.ModelA = ModelA\n",
    "        self.ModelB = ModelB\n",
    "        self.Model_mlp_final = MLPNetwork_final(32, 32).to(device)\n",
    "        self.softmax = nn.Softmax(dim=1)\n",
    "        \n",
    "    def tensor_fusion(self, batch_arr1, batch_arr2):\n",
    "        fusion_matrix_lst = []\n",
    "        for i, (arr1, arr2) in enumerate(zip(batch_arr1, batch_arr2)):\n",
    "            outer_matrix = torch.outer(arr1, arr2)\n",
    "            l, w = outer_matrix.shape\n",
    "            outer_matrix = outer_matrix.view(1, l, w)\n",
    "            fusion_matrix_lst.append(outer_matrix)\n",
    "        fusion_matrix = torch.concat(fusion_matrix_lst)\n",
    "        \n",
    "        return fusion_matrix\n",
    "    \n",
    "    def forward(self, x1, x2):\n",
    "        x1 = self.ModelA(x1)\n",
    "        x2 = self.ModelB(x2)\n",
    "        fusion_matrix = self.tensor_fusion(x1, x2)\n",
    "        x = self.Model_mlp_final(fusion_matrix)\n",
    "        output = self.softmax(x)\n",
    "        \n",
    "        return output"
   ]
  },
  {
   "cell_type": "code",
   "execution_count": 80,
   "metadata": {},
   "outputs": [
    {
     "name": "stdout",
     "output_type": "stream",
     "text": [
      "Let's use 4 GPUs!\n",
      "DataParallel(\n",
      "  (module): TensorFusionMixer(\n",
      "    (ModelA): MLPNetwork_pre(\n",
      "      (flatten): Flatten(start_dim=1, end_dim=-1)\n",
      "      (fc1): Linear(in_features=61440, out_features=768, bias=True)\n",
      "      (gelu1): GELU(approximate='none')\n",
      "      (bn1): BatchNorm1d(768, eps=1e-05, momentum=0.1, affine=True, track_running_stats=True)\n",
      "      (fc2): Linear(in_features=768, out_features=512, bias=True)\n",
      "      (gelu2): GELU(approximate='none')\n",
      "      (bn2): BatchNorm1d(512, eps=1e-05, momentum=0.1, affine=True, track_running_stats=True)\n",
      "      (fc3): Linear(in_features=512, out_features=32, bias=True)\n",
      "      (gelu3): GELU(approximate='none')\n",
      "    )\n",
      "    (ModelB): MLPNetwork_pre(\n",
      "      (flatten): Flatten(start_dim=1, end_dim=-1)\n",
      "      (fc1): Linear(in_features=37632, out_features=768, bias=True)\n",
      "      (gelu1): GELU(approximate='none')\n",
      "      (bn1): BatchNorm1d(768, eps=1e-05, momentum=0.1, affine=True, track_running_stats=True)\n",
      "      (fc2): Linear(in_features=768, out_features=512, bias=True)\n",
      "      (gelu2): GELU(approximate='none')\n",
      "      (bn2): BatchNorm1d(512, eps=1e-05, momentum=0.1, affine=True, track_running_stats=True)\n",
      "      (fc3): Linear(in_features=512, out_features=32, bias=True)\n",
      "      (gelu3): GELU(approximate='none')\n",
      "    )\n",
      "    (Model_mlp_final): MLPNetwork_final(\n",
      "      (flatten): Flatten(start_dim=1, end_dim=-1)\n",
      "      (fc1): Linear(in_features=1024, out_features=256, bias=True)\n",
      "      (gelu1): GELU(approximate='none')\n",
      "      (bn1): BatchNorm1d(256, eps=1e-05, momentum=0.1, affine=True, track_running_stats=True)\n",
      "      (fc2): Linear(in_features=256, out_features=64, bias=True)\n",
      "      (gelu2): GELU(approximate='none')\n",
      "      (bn2): BatchNorm1d(64, eps=1e-05, momentum=0.1, affine=True, track_running_stats=True)\n",
      "      (fc3): Linear(in_features=64, out_features=14, bias=True)\n",
      "    )\n",
      "    (softmax): Softmax(dim=1)\n",
      "  )\n",
      ")\n"
     ]
    }
   ],
   "source": [
    "txt_input_length, txt_input_width = merged_dataset['text_embeddings'][0].shape\n",
    "_, wav_input_length, wav_input_width = merged_dataset['wav_embeddings'][0].shape\n",
    "\n",
    "model_mlp_txt = MLPNetwork_pre(txt_input_length,txt_input_width).to(device)\n",
    "model_mlp_wav = MLPNetwork_pre(wav_input_length,wav_input_width).to(device)\n",
    "\n",
    "model_tf_mixer = TensorFusionMixer(ModelA = model_mlp_txt, ModelB = model_mlp_wav).to(device)\n",
    "\n",
    "if torch.cuda.device_count() > 1:\n",
    "    print(\"Let's use\", torch.cuda.device_count(), \"GPUs!\")\n",
    "    model_mlp_txt = nn.DataParallel(model_mlp_txt).to(device)\n",
    "    model_mlp_wav = nn.DataParallel(model_mlp_wav).to(device)\n",
    "    model_tf_mixer = nn.DataParallel(model_tf_mixer).to(device)\n",
    "\n",
    "print(model_tf_mixer)"
   ]
  },
  {
   "cell_type": "code",
   "execution_count": 85,
   "metadata": {},
   "outputs": [],
   "source": [
    "# data 순서: text_embeddings, wav_embeddings, label_emotion, label_arousal, label_valence\n",
    "\n",
    "def train(dataloader, model, loss_fn, optimizer):\n",
    "    \n",
    "    size = len(dataloader.dataset)\n",
    "    for batch, (X_txt, X_wav, y, _, _) in enumerate(dataloader):\n",
    "        \n",
    "        X_txt, X_wav, y = X_txt.to(device), X_wav.to(device), y.type(torch.LongTensor).to(device)\n",
    "        pred = model(X_txt, X_wav)\n",
    "        loss = loss_fn(pred, y)\n",
    "        \n",
    "        optimizer.zero_grad()\n",
    "        loss.backward()\n",
    "        optimizer.step()\n",
    "        \n",
    "        if batch % 100 == 0:\n",
    "            loss, current = loss.item(), batch * len(X_txt)\n",
    "            print(f\"loss: {loss:>7f}  [{current:>5d}/{size:>5d}]\")"
   ]
  },
  {
   "cell_type": "code",
   "execution_count": 95,
   "metadata": {},
   "outputs": [],
   "source": [
    "def test(dataloader, model, loss_fn, mode = 'test'):\n",
    "    \n",
    "    size = len(dataloader.dataset)\n",
    "    num_batches = len(dataloader)\n",
    "    model.eval()\n",
    "    test_loss, correct = 0, 0\n",
    "    \n",
    "    f1 = F1Score(task='multiclass', num_classes=14).to(device)\n",
    "    preds = []\n",
    "    targets = []\n",
    "    with torch.no_grad():\n",
    "        for batch, (X_txt, X_wav, y, _, _) in enumerate(dataloader):\n",
    "            X_txt, X_wav, y = X_txt.to(device), X_wav.to(device),y.type(torch.LongTensor).to(device)\n",
    "            pred = model(X_txt, X_wav)\n",
    "            preds.append(pred)\n",
    "            targets.append(y)\n",
    "            test_loss += loss_fn(pred, y).item()\n",
    "            correct += (pred.argmax(1) == y).type(torch.float).sum().item()\n",
    "            \n",
    "    test_loss /= num_batches\n",
    "    correct /= size\n",
    "    if mode == 'test':\n",
    "        print(torch.cat(preds), torch.cat(preds).shape)\n",
    "        print(\"f1 score: \", f1(torch.cat(preds).to(device), torch.cat(targets).to(device)))\n",
    "        print(f\"Test Error: Accuracy: {(100*correct):>0.1f}%, Avg loss: {test_loss:>8f}\\n\")\n",
    "        \n",
    "    elif mode == 'val':\n",
    "        print(\"Validation f1 score: \", f1(torch.cat(preds).to(device), torch.cat(targets).to(device)))\n",
    "        print(f\"Validation Error: Accuracy: {(100*correct):>0.1f}%, Avg loss: {test_loss:>8f}\\n\")        \n",
    " \n",
    "                    "
   ]
  },
  {
   "cell_type": "code",
   "execution_count": 102,
   "metadata": {},
   "outputs": [
    {
     "name": "stderr",
     "output_type": "stream",
     "text": [
      "  0%|          | 0/100 [00:00<?, ?it/s]"
     ]
    },
    {
     "name": "stdout",
     "output_type": "stream",
     "text": [
      "---------------Epoch 1----------------\n",
      "loss: 2.639893  [    0/  403]\n"
     ]
    },
    {
     "name": "stderr",
     "output_type": "stream",
     "text": [
      "  1%|          | 1/100 [00:22<37:51, 22.94s/it]"
     ]
    },
    {
     "name": "stdout",
     "output_type": "stream",
     "text": [
      "Validation f1 score:  tensor(0., device='cuda:0')\n",
      "Validation Error: Accuracy: 0.0%, Avg loss: 2.639707\n",
      "\n",
      "---------------Epoch 2----------------\n",
      "loss: 2.639782  [    0/  403]\n"
     ]
    },
    {
     "name": "stderr",
     "output_type": "stream",
     "text": [
      "  2%|▏         | 2/100 [00:43<35:37, 21.81s/it]"
     ]
    },
    {
     "name": "stdout",
     "output_type": "stream",
     "text": [
      "Validation f1 score:  tensor(0., device='cuda:0')\n",
      "Validation Error: Accuracy: 0.0%, Avg loss: 2.639687\n",
      "\n",
      "---------------Epoch 3----------------\n",
      "loss: 2.639762  [    0/  403]\n"
     ]
    },
    {
     "name": "stderr",
     "output_type": "stream",
     "text": [
      "  3%|▎         | 3/100 [01:05<34:58, 21.64s/it]"
     ]
    },
    {
     "name": "stdout",
     "output_type": "stream",
     "text": [
      "Validation f1 score:  tensor(0., device='cuda:0')\n",
      "Validation Error: Accuracy: 0.0%, Avg loss: 2.639670\n",
      "\n",
      "---------------Epoch 4----------------\n",
      "loss: 2.639811  [    0/  403]\n"
     ]
    },
    {
     "name": "stderr",
     "output_type": "stream",
     "text": [
      "  4%|▍         | 4/100 [01:26<34:10, 21.36s/it]"
     ]
    },
    {
     "name": "stdout",
     "output_type": "stream",
     "text": [
      "Validation f1 score:  tensor(0., device='cuda:0')\n",
      "Validation Error: Accuracy: 0.0%, Avg loss: 2.639650\n",
      "\n",
      "---------------Epoch 5----------------\n",
      "loss: 2.639706  [    0/  403]\n"
     ]
    },
    {
     "name": "stderr",
     "output_type": "stream",
     "text": [
      "  5%|▌         | 5/100 [01:46<33:06, 20.91s/it]"
     ]
    },
    {
     "name": "stdout",
     "output_type": "stream",
     "text": [
      "Validation f1 score:  tensor(0., device='cuda:0')\n",
      "Validation Error: Accuracy: 0.0%, Avg loss: 2.639633\n",
      "\n",
      "---------------Epoch 6----------------\n",
      "loss: 2.639699  [    0/  403]\n"
     ]
    },
    {
     "name": "stderr",
     "output_type": "stream",
     "text": [
      "  6%|▌         | 6/100 [02:07<33:00, 21.07s/it]"
     ]
    },
    {
     "name": "stdout",
     "output_type": "stream",
     "text": [
      "Validation f1 score:  tensor(0., device='cuda:0')\n",
      "Validation Error: Accuracy: 0.0%, Avg loss: 2.639613\n",
      "\n",
      "---------------Epoch 7----------------\n",
      "loss: 2.639680  [    0/  403]\n"
     ]
    },
    {
     "name": "stderr",
     "output_type": "stream",
     "text": [
      "  7%|▋         | 7/100 [02:25<30:41, 19.80s/it]"
     ]
    },
    {
     "name": "stdout",
     "output_type": "stream",
     "text": [
      "Validation f1 score:  tensor(0., device='cuda:0')\n",
      "Validation Error: Accuracy: 0.0%, Avg loss: 2.639595\n",
      "\n",
      "---------------Epoch 8----------------\n",
      "loss: 2.639775  [    0/  403]\n"
     ]
    },
    {
     "name": "stderr",
     "output_type": "stream",
     "text": [
      "  8%|▊         | 8/100 [02:42<29:23, 19.17s/it]"
     ]
    },
    {
     "name": "stdout",
     "output_type": "stream",
     "text": [
      "Validation f1 score:  tensor(0., device='cuda:0')\n",
      "Validation Error: Accuracy: 0.0%, Avg loss: 2.639574\n",
      "\n",
      "---------------Epoch 9----------------\n",
      "loss: 2.639750  [    0/  403]\n"
     ]
    },
    {
     "name": "stderr",
     "output_type": "stream",
     "text": [
      "  9%|▉         | 9/100 [03:00<28:08, 18.55s/it]"
     ]
    },
    {
     "name": "stdout",
     "output_type": "stream",
     "text": [
      "Validation f1 score:  tensor(0., device='cuda:0')\n",
      "Validation Error: Accuracy: 0.0%, Avg loss: 2.639559\n",
      "\n",
      "---------------Epoch 10----------------\n",
      "loss: 2.639738  [    0/  403]\n"
     ]
    },
    {
     "name": "stderr",
     "output_type": "stream",
     "text": [
      " 10%|█         | 10/100 [03:18<27:40, 18.45s/it]"
     ]
    },
    {
     "name": "stdout",
     "output_type": "stream",
     "text": [
      "Validation f1 score:  tensor(0., device='cuda:0')\n",
      "Validation Error: Accuracy: 0.0%, Avg loss: 2.639538\n",
      "\n",
      "---------------Epoch 11----------------\n",
      "loss: 2.639611  [    0/  403]\n"
     ]
    },
    {
     "name": "stderr",
     "output_type": "stream",
     "text": [
      " 11%|█         | 11/100 [03:36<27:23, 18.47s/it]"
     ]
    },
    {
     "name": "stdout",
     "output_type": "stream",
     "text": [
      "Validation f1 score:  tensor(0., device='cuda:0')\n",
      "Validation Error: Accuracy: 0.0%, Avg loss: 2.639523\n",
      "\n",
      "---------------Epoch 12----------------\n",
      "loss: 2.639579  [    0/  403]\n"
     ]
    },
    {
     "name": "stderr",
     "output_type": "stream",
     "text": [
      " 12%|█▏        | 12/100 [03:55<26:59, 18.41s/it]"
     ]
    },
    {
     "name": "stdout",
     "output_type": "stream",
     "text": [
      "Validation f1 score:  tensor(0., device='cuda:0')\n",
      "Validation Error: Accuracy: 0.0%, Avg loss: 2.639503\n",
      "\n",
      "---------------Epoch 13----------------\n",
      "loss: 2.639614  [    0/  403]\n"
     ]
    },
    {
     "name": "stderr",
     "output_type": "stream",
     "text": [
      " 13%|█▎        | 13/100 [04:12<26:24, 18.21s/it]"
     ]
    },
    {
     "name": "stdout",
     "output_type": "stream",
     "text": [
      "Validation f1 score:  tensor(0., device='cuda:0')\n",
      "Validation Error: Accuracy: 0.0%, Avg loss: 2.639484\n",
      "\n",
      "---------------Epoch 14----------------\n",
      "loss: 2.639633  [    0/  403]\n"
     ]
    },
    {
     "name": "stderr",
     "output_type": "stream",
     "text": [
      " 14%|█▍        | 14/100 [04:30<26:03, 18.18s/it]"
     ]
    },
    {
     "name": "stdout",
     "output_type": "stream",
     "text": [
      "Validation f1 score:  tensor(0., device='cuda:0')\n",
      "Validation Error: Accuracy: 0.0%, Avg loss: 2.639463\n",
      "\n",
      "---------------Epoch 15----------------\n",
      "loss: 2.639571  [    0/  403]\n"
     ]
    },
    {
     "name": "stderr",
     "output_type": "stream",
     "text": [
      " 15%|█▌        | 15/100 [04:49<25:55, 18.30s/it]"
     ]
    },
    {
     "name": "stdout",
     "output_type": "stream",
     "text": [
      "Validation f1 score:  tensor(0., device='cuda:0')\n",
      "Validation Error: Accuracy: 0.0%, Avg loss: 2.639440\n",
      "\n",
      "---------------Epoch 16----------------\n",
      "loss: 2.639532  [    0/  403]\n"
     ]
    },
    {
     "name": "stderr",
     "output_type": "stream",
     "text": [
      " 16%|█▌        | 16/100 [05:06<25:07, 17.95s/it]"
     ]
    },
    {
     "name": "stdout",
     "output_type": "stream",
     "text": [
      "Validation f1 score:  tensor(0., device='cuda:0')\n",
      "Validation Error: Accuracy: 0.0%, Avg loss: 2.639428\n",
      "\n",
      "---------------Epoch 17----------------\n",
      "loss: 2.639489  [    0/  403]\n"
     ]
    },
    {
     "name": "stderr",
     "output_type": "stream",
     "text": [
      " 17%|█▋        | 17/100 [05:24<24:44, 17.89s/it]"
     ]
    },
    {
     "name": "stdout",
     "output_type": "stream",
     "text": [
      "Validation f1 score:  tensor(0., device='cuda:0')\n",
      "Validation Error: Accuracy: 0.0%, Avg loss: 2.639412\n",
      "\n",
      "---------------Epoch 18----------------\n",
      "loss: 2.639467  [    0/  403]\n"
     ]
    },
    {
     "name": "stderr",
     "output_type": "stream",
     "text": [
      " 18%|█▊        | 18/100 [05:42<24:25, 17.87s/it]"
     ]
    },
    {
     "name": "stdout",
     "output_type": "stream",
     "text": [
      "Validation f1 score:  tensor(0., device='cuda:0')\n",
      "Validation Error: Accuracy: 0.0%, Avg loss: 2.639395\n",
      "\n",
      "---------------Epoch 19----------------\n",
      "loss: 2.639505  [    0/  403]\n"
     ]
    },
    {
     "name": "stderr",
     "output_type": "stream",
     "text": [
      " 19%|█▉        | 19/100 [06:00<24:12, 17.93s/it]"
     ]
    },
    {
     "name": "stdout",
     "output_type": "stream",
     "text": [
      "Validation f1 score:  tensor(0., device='cuda:0')\n",
      "Validation Error: Accuracy: 0.0%, Avg loss: 2.639368\n",
      "\n",
      "---------------Epoch 20----------------\n",
      "loss: 2.639438  [    0/  403]\n"
     ]
    },
    {
     "name": "stderr",
     "output_type": "stream",
     "text": [
      " 20%|██        | 20/100 [06:18<23:57, 17.97s/it]"
     ]
    },
    {
     "name": "stdout",
     "output_type": "stream",
     "text": [
      "Validation f1 score:  tensor(0., device='cuda:0')\n",
      "Validation Error: Accuracy: 0.0%, Avg loss: 2.639354\n",
      "\n",
      "---------------Epoch 21----------------\n",
      "loss: 2.639611  [    0/  403]\n"
     ]
    },
    {
     "name": "stderr",
     "output_type": "stream",
     "text": [
      " 21%|██        | 21/100 [06:35<23:27, 17.81s/it]"
     ]
    },
    {
     "name": "stdout",
     "output_type": "stream",
     "text": [
      "Validation f1 score:  tensor(0., device='cuda:0')\n",
      "Validation Error: Accuracy: 0.0%, Avg loss: 2.639330\n",
      "\n",
      "---------------Epoch 22----------------\n",
      "loss: 2.639415  [    0/  403]\n"
     ]
    },
    {
     "name": "stderr",
     "output_type": "stream",
     "text": [
      " 22%|██▏       | 22/100 [06:52<22:50, 17.58s/it]"
     ]
    },
    {
     "name": "stdout",
     "output_type": "stream",
     "text": [
      "Validation f1 score:  tensor(0., device='cuda:0')\n",
      "Validation Error: Accuracy: 0.0%, Avg loss: 2.639321\n",
      "\n",
      "---------------Epoch 23----------------\n",
      "loss: 2.639328  [    0/  403]\n"
     ]
    },
    {
     "name": "stderr",
     "output_type": "stream",
     "text": [
      " 23%|██▎       | 23/100 [07:10<22:44, 17.72s/it]"
     ]
    },
    {
     "name": "stdout",
     "output_type": "stream",
     "text": [
      "Validation f1 score:  tensor(0., device='cuda:0')\n",
      "Validation Error: Accuracy: 0.0%, Avg loss: 2.639298\n",
      "\n",
      "---------------Epoch 24----------------\n",
      "loss: 2.639361  [    0/  403]\n"
     ]
    },
    {
     "name": "stderr",
     "output_type": "stream",
     "text": [
      " 24%|██▍       | 24/100 [07:29<22:37, 17.86s/it]"
     ]
    },
    {
     "name": "stdout",
     "output_type": "stream",
     "text": [
      "Validation f1 score:  tensor(0., device='cuda:0')\n",
      "Validation Error: Accuracy: 0.0%, Avg loss: 2.639273\n",
      "\n",
      "---------------Epoch 25----------------\n",
      "loss: 2.639337  [    0/  403]\n"
     ]
    },
    {
     "name": "stderr",
     "output_type": "stream",
     "text": [
      " 25%|██▌       | 25/100 [07:46<22:00, 17.61s/it]"
     ]
    },
    {
     "name": "stdout",
     "output_type": "stream",
     "text": [
      "Validation f1 score:  tensor(0., device='cuda:0')\n",
      "Validation Error: Accuracy: 0.0%, Avg loss: 2.639267\n",
      "\n",
      "---------------Epoch 26----------------\n",
      "loss: 2.639426  [    0/  403]\n"
     ]
    },
    {
     "name": "stderr",
     "output_type": "stream",
     "text": [
      " 26%|██▌       | 26/100 [08:03<21:38, 17.54s/it]"
     ]
    },
    {
     "name": "stdout",
     "output_type": "stream",
     "text": [
      "Validation f1 score:  tensor(0., device='cuda:0')\n",
      "Validation Error: Accuracy: 0.0%, Avg loss: 2.639235\n",
      "\n",
      "---------------Epoch 27----------------\n",
      "loss: 2.639280  [    0/  403]\n"
     ]
    },
    {
     "name": "stderr",
     "output_type": "stream",
     "text": [
      " 27%|██▋       | 27/100 [08:20<21:08, 17.38s/it]"
     ]
    },
    {
     "name": "stdout",
     "output_type": "stream",
     "text": [
      "Validation f1 score:  tensor(0., device='cuda:0')\n",
      "Validation Error: Accuracy: 0.0%, Avg loss: 2.639229\n",
      "\n",
      "---------------Epoch 28----------------\n",
      "loss: 2.639272  [    0/  403]\n"
     ]
    },
    {
     "name": "stderr",
     "output_type": "stream",
     "text": [
      " 28%|██▊       | 28/100 [08:37<20:55, 17.44s/it]"
     ]
    },
    {
     "name": "stdout",
     "output_type": "stream",
     "text": [
      "Validation f1 score:  tensor(0., device='cuda:0')\n",
      "Validation Error: Accuracy: 0.0%, Avg loss: 2.639210\n",
      "\n",
      "---------------Epoch 29----------------\n",
      "loss: 2.639357  [    0/  403]\n"
     ]
    },
    {
     "name": "stderr",
     "output_type": "stream",
     "text": [
      " 29%|██▉       | 29/100 [08:56<21:10, 17.89s/it]"
     ]
    },
    {
     "name": "stdout",
     "output_type": "stream",
     "text": [
      "Validation f1 score:  tensor(0., device='cuda:0')\n",
      "Validation Error: Accuracy: 0.0%, Avg loss: 2.639185\n",
      "\n",
      "---------------Epoch 30----------------\n",
      "loss: 2.639380  [    0/  403]\n"
     ]
    },
    {
     "name": "stderr",
     "output_type": "stream",
     "text": [
      " 30%|███       | 30/100 [09:15<21:05, 18.07s/it]"
     ]
    },
    {
     "name": "stdout",
     "output_type": "stream",
     "text": [
      "Validation f1 score:  tensor(0., device='cuda:0')\n",
      "Validation Error: Accuracy: 0.0%, Avg loss: 2.639167\n",
      "\n",
      "---------------Epoch 31----------------\n",
      "loss: 2.639366  [    0/  403]\n"
     ]
    },
    {
     "name": "stderr",
     "output_type": "stream",
     "text": [
      " 31%|███       | 31/100 [09:35<21:19, 18.54s/it]"
     ]
    },
    {
     "name": "stdout",
     "output_type": "stream",
     "text": [
      "Validation f1 score:  tensor(0., device='cuda:0')\n",
      "Validation Error: Accuracy: 0.0%, Avg loss: 2.639155\n",
      "\n",
      "---------------Epoch 32----------------\n",
      "loss: 2.639209  [    0/  403]\n"
     ]
    },
    {
     "name": "stderr",
     "output_type": "stream",
     "text": [
      " 32%|███▏      | 32/100 [09:52<20:29, 18.08s/it]"
     ]
    },
    {
     "name": "stdout",
     "output_type": "stream",
     "text": [
      "Validation f1 score:  tensor(0., device='cuda:0')\n",
      "Validation Error: Accuracy: 0.0%, Avg loss: 2.639130\n",
      "\n",
      "---------------Epoch 33----------------\n",
      "loss: 2.639299  [    0/  403]\n"
     ]
    },
    {
     "name": "stderr",
     "output_type": "stream",
     "text": [
      " 33%|███▎      | 33/100 [10:09<19:53, 17.81s/it]"
     ]
    },
    {
     "name": "stdout",
     "output_type": "stream",
     "text": [
      "Validation f1 score:  tensor(0., device='cuda:0')\n",
      "Validation Error: Accuracy: 0.0%, Avg loss: 2.639101\n",
      "\n",
      "---------------Epoch 34----------------\n",
      "loss: 2.639301  [    0/  403]\n"
     ]
    },
    {
     "name": "stderr",
     "output_type": "stream",
     "text": [
      " 34%|███▍      | 34/100 [10:26<19:23, 17.63s/it]"
     ]
    },
    {
     "name": "stdout",
     "output_type": "stream",
     "text": [
      "Validation f1 score:  tensor(0., device='cuda:0')\n",
      "Validation Error: Accuracy: 0.0%, Avg loss: 2.639092\n",
      "\n",
      "---------------Epoch 35----------------\n",
      "loss: 2.639286  [    0/  403]\n"
     ]
    },
    {
     "name": "stderr",
     "output_type": "stream",
     "text": [
      " 35%|███▌      | 35/100 [10:44<19:20, 17.85s/it]"
     ]
    },
    {
     "name": "stdout",
     "output_type": "stream",
     "text": [
      "Validation f1 score:  tensor(0., device='cuda:0')\n",
      "Validation Error: Accuracy: 0.0%, Avg loss: 2.639055\n",
      "\n",
      "---------------Epoch 36----------------\n",
      "loss: 2.639266  [    0/  403]\n"
     ]
    },
    {
     "name": "stderr",
     "output_type": "stream",
     "text": [
      " 36%|███▌      | 36/100 [11:02<18:56, 17.75s/it]"
     ]
    },
    {
     "name": "stdout",
     "output_type": "stream",
     "text": [
      "Validation f1 score:  tensor(0., device='cuda:0')\n",
      "Validation Error: Accuracy: 0.0%, Avg loss: 2.639063\n",
      "\n",
      "---------------Epoch 37----------------\n",
      "loss: 2.639157  [    0/  403]\n"
     ]
    },
    {
     "name": "stderr",
     "output_type": "stream",
     "text": [
      " 37%|███▋      | 37/100 [11:20<18:42, 17.82s/it]"
     ]
    },
    {
     "name": "stdout",
     "output_type": "stream",
     "text": [
      "Validation f1 score:  tensor(0., device='cuda:0')\n",
      "Validation Error: Accuracy: 0.0%, Avg loss: 2.639026\n",
      "\n",
      "---------------Epoch 38----------------\n",
      "loss: 2.639155  [    0/  403]\n"
     ]
    },
    {
     "name": "stderr",
     "output_type": "stream",
     "text": [
      " 38%|███▊      | 38/100 [11:40<18:59, 18.38s/it]"
     ]
    },
    {
     "name": "stdout",
     "output_type": "stream",
     "text": [
      "Validation f1 score:  tensor(0., device='cuda:0')\n",
      "Validation Error: Accuracy: 0.0%, Avg loss: 2.639007\n",
      "\n",
      "---------------Epoch 39----------------\n",
      "loss: 2.639058  [    0/  403]\n"
     ]
    },
    {
     "name": "stderr",
     "output_type": "stream",
     "text": [
      " 39%|███▉      | 39/100 [11:58<18:38, 18.34s/it]"
     ]
    },
    {
     "name": "stdout",
     "output_type": "stream",
     "text": [
      "Validation f1 score:  tensor(0., device='cuda:0')\n",
      "Validation Error: Accuracy: 0.0%, Avg loss: 2.638998\n",
      "\n",
      "---------------Epoch 40----------------\n",
      "loss: 2.639159  [    0/  403]\n"
     ]
    },
    {
     "name": "stderr",
     "output_type": "stream",
     "text": [
      " 40%|████      | 40/100 [12:16<18:24, 18.40s/it]"
     ]
    },
    {
     "name": "stdout",
     "output_type": "stream",
     "text": [
      "Validation f1 score:  tensor(0., device='cuda:0')\n",
      "Validation Error: Accuracy: 0.0%, Avg loss: 2.638968\n",
      "\n",
      "---------------Epoch 41----------------\n",
      "loss: 2.639098  [    0/  403]\n"
     ]
    },
    {
     "name": "stderr",
     "output_type": "stream",
     "text": [
      " 41%|████      | 41/100 [12:35<18:05, 18.40s/it]"
     ]
    },
    {
     "name": "stdout",
     "output_type": "stream",
     "text": [
      "Validation f1 score:  tensor(0., device='cuda:0')\n",
      "Validation Error: Accuracy: 0.0%, Avg loss: 2.638960\n",
      "\n",
      "---------------Epoch 42----------------\n",
      "loss: 2.639122  [    0/  403]\n"
     ]
    },
    {
     "name": "stderr",
     "output_type": "stream",
     "text": [
      " 42%|████▏     | 42/100 [12:54<17:55, 18.54s/it]"
     ]
    },
    {
     "name": "stdout",
     "output_type": "stream",
     "text": [
      "Validation f1 score:  tensor(0., device='cuda:0')\n",
      "Validation Error: Accuracy: 0.0%, Avg loss: 2.638941\n",
      "\n",
      "---------------Epoch 43----------------\n",
      "loss: 2.639039  [    0/  403]\n"
     ]
    },
    {
     "name": "stderr",
     "output_type": "stream",
     "text": [
      " 43%|████▎     | 43/100 [13:13<17:53, 18.83s/it]"
     ]
    },
    {
     "name": "stdout",
     "output_type": "stream",
     "text": [
      "Validation f1 score:  tensor(0., device='cuda:0')\n",
      "Validation Error: Accuracy: 0.0%, Avg loss: 2.638933\n",
      "\n",
      "---------------Epoch 44----------------\n",
      "loss: 2.638990  [    0/  403]\n"
     ]
    },
    {
     "name": "stderr",
     "output_type": "stream",
     "text": [
      " 44%|████▍     | 44/100 [13:32<17:38, 18.90s/it]"
     ]
    },
    {
     "name": "stdout",
     "output_type": "stream",
     "text": [
      "Validation f1 score:  tensor(0., device='cuda:0')\n",
      "Validation Error: Accuracy: 0.0%, Avg loss: 2.638904\n",
      "\n",
      "---------------Epoch 45----------------\n",
      "loss: 2.639019  [    0/  403]\n"
     ]
    },
    {
     "name": "stderr",
     "output_type": "stream",
     "text": [
      " 45%|████▌     | 45/100 [13:51<17:11, 18.75s/it]"
     ]
    },
    {
     "name": "stdout",
     "output_type": "stream",
     "text": [
      "Validation f1 score:  tensor(0., device='cuda:0')\n",
      "Validation Error: Accuracy: 0.0%, Avg loss: 2.638884\n",
      "\n",
      "---------------Epoch 46----------------\n",
      "loss: 2.639005  [    0/  403]\n"
     ]
    },
    {
     "name": "stderr",
     "output_type": "stream",
     "text": [
      " 46%|████▌     | 46/100 [14:08<16:30, 18.34s/it]"
     ]
    },
    {
     "name": "stdout",
     "output_type": "stream",
     "text": [
      "Validation f1 score:  tensor(0., device='cuda:0')\n",
      "Validation Error: Accuracy: 0.0%, Avg loss: 2.638878\n",
      "\n",
      "---------------Epoch 47----------------\n",
      "loss: 2.638958  [    0/  403]\n"
     ]
    },
    {
     "name": "stderr",
     "output_type": "stream",
     "text": [
      " 47%|████▋     | 47/100 [14:25<15:53, 18.00s/it]"
     ]
    },
    {
     "name": "stdout",
     "output_type": "stream",
     "text": [
      "Validation f1 score:  tensor(0., device='cuda:0')\n",
      "Validation Error: Accuracy: 0.0%, Avg loss: 2.638834\n",
      "\n",
      "---------------Epoch 48----------------\n",
      "loss: 2.638975  [    0/  403]\n"
     ]
    },
    {
     "name": "stderr",
     "output_type": "stream",
     "text": [
      " 48%|████▊     | 48/100 [14:43<15:38, 18.04s/it]"
     ]
    },
    {
     "name": "stdout",
     "output_type": "stream",
     "text": [
      "Validation f1 score:  tensor(0., device='cuda:0')\n",
      "Validation Error: Accuracy: 0.0%, Avg loss: 2.638828\n",
      "\n",
      "---------------Epoch 49----------------\n",
      "loss: 2.638954  [    0/  403]\n"
     ]
    },
    {
     "name": "stderr",
     "output_type": "stream",
     "text": [
      " 49%|████▉     | 49/100 [15:03<15:42, 18.48s/it]"
     ]
    },
    {
     "name": "stdout",
     "output_type": "stream",
     "text": [
      "Validation f1 score:  tensor(0., device='cuda:0')\n",
      "Validation Error: Accuracy: 0.0%, Avg loss: 2.638822\n",
      "\n",
      "---------------Epoch 50----------------\n",
      "loss: 2.638982  [    0/  403]\n"
     ]
    },
    {
     "name": "stderr",
     "output_type": "stream",
     "text": [
      " 50%|█████     | 50/100 [15:21<15:25, 18.51s/it]"
     ]
    },
    {
     "name": "stdout",
     "output_type": "stream",
     "text": [
      "Validation f1 score:  tensor(0., device='cuda:0')\n",
      "Validation Error: Accuracy: 0.0%, Avg loss: 2.638790\n",
      "\n",
      "---------------Epoch 51----------------\n",
      "loss: 2.638978  [    0/  403]\n"
     ]
    },
    {
     "name": "stderr",
     "output_type": "stream",
     "text": [
      " 51%|█████     | 51/100 [15:40<15:14, 18.67s/it]"
     ]
    },
    {
     "name": "stdout",
     "output_type": "stream",
     "text": [
      "Validation f1 score:  tensor(0., device='cuda:0')\n",
      "Validation Error: Accuracy: 0.0%, Avg loss: 2.638772\n",
      "\n",
      "---------------Epoch 52----------------\n",
      "loss: 2.638855  [    0/  403]\n"
     ]
    },
    {
     "name": "stderr",
     "output_type": "stream",
     "text": [
      " 52%|█████▏    | 52/100 [15:59<15:00, 18.75s/it]"
     ]
    },
    {
     "name": "stdout",
     "output_type": "stream",
     "text": [
      "Validation f1 score:  tensor(0., device='cuda:0')\n",
      "Validation Error: Accuracy: 0.0%, Avg loss: 2.638752\n",
      "\n",
      "---------------Epoch 53----------------\n",
      "loss: 2.638942  [    0/  403]\n"
     ]
    },
    {
     "name": "stderr",
     "output_type": "stream",
     "text": [
      " 53%|█████▎    | 53/100 [16:18<14:38, 18.70s/it]"
     ]
    },
    {
     "name": "stdout",
     "output_type": "stream",
     "text": [
      "Validation f1 score:  tensor(0., device='cuda:0')\n",
      "Validation Error: Accuracy: 0.0%, Avg loss: 2.638734\n",
      "\n",
      "---------------Epoch 54----------------\n",
      "loss: 2.638909  [    0/  403]\n"
     ]
    },
    {
     "name": "stderr",
     "output_type": "stream",
     "text": [
      " 54%|█████▍    | 54/100 [16:36<14:08, 18.44s/it]"
     ]
    },
    {
     "name": "stdout",
     "output_type": "stream",
     "text": [
      "Validation f1 score:  tensor(0., device='cuda:0')\n",
      "Validation Error: Accuracy: 0.0%, Avg loss: 2.638686\n",
      "\n",
      "---------------Epoch 55----------------\n",
      "loss: 2.638773  [    0/  403]\n"
     ]
    },
    {
     "name": "stderr",
     "output_type": "stream",
     "text": [
      " 55%|█████▌    | 55/100 [16:55<13:54, 18.55s/it]"
     ]
    },
    {
     "name": "stdout",
     "output_type": "stream",
     "text": [
      "Validation f1 score:  tensor(0., device='cuda:0')\n",
      "Validation Error: Accuracy: 0.0%, Avg loss: 2.638666\n",
      "\n",
      "---------------Epoch 56----------------\n",
      "loss: 2.638850  [    0/  403]\n"
     ]
    },
    {
     "name": "stderr",
     "output_type": "stream",
     "text": [
      " 56%|█████▌    | 56/100 [17:13<13:31, 18.45s/it]"
     ]
    },
    {
     "name": "stdout",
     "output_type": "stream",
     "text": [
      "Validation f1 score:  tensor(0., device='cuda:0')\n",
      "Validation Error: Accuracy: 0.0%, Avg loss: 2.638692\n",
      "\n",
      "---------------Epoch 57----------------\n",
      "loss: 2.638825  [    0/  403]\n"
     ]
    },
    {
     "name": "stderr",
     "output_type": "stream",
     "text": [
      " 57%|█████▋    | 57/100 [17:30<12:58, 18.10s/it]"
     ]
    },
    {
     "name": "stdout",
     "output_type": "stream",
     "text": [
      "Validation f1 score:  tensor(0., device='cuda:0')\n",
      "Validation Error: Accuracy: 0.0%, Avg loss: 2.638657\n",
      "\n",
      "---------------Epoch 58----------------\n",
      "loss: 2.638969  [    0/  403]\n"
     ]
    },
    {
     "name": "stderr",
     "output_type": "stream",
     "text": [
      " 58%|█████▊    | 58/100 [17:47<12:30, 17.88s/it]"
     ]
    },
    {
     "name": "stdout",
     "output_type": "stream",
     "text": [
      "Validation f1 score:  tensor(0., device='cuda:0')\n",
      "Validation Error: Accuracy: 0.0%, Avg loss: 2.638624\n",
      "\n",
      "---------------Epoch 59----------------\n",
      "loss: 2.638782  [    0/  403]\n"
     ]
    },
    {
     "name": "stderr",
     "output_type": "stream",
     "text": [
      " 59%|█████▉    | 59/100 [18:05<12:06, 17.71s/it]"
     ]
    },
    {
     "name": "stdout",
     "output_type": "stream",
     "text": [
      "Validation f1 score:  tensor(0., device='cuda:0')\n",
      "Validation Error: Accuracy: 0.0%, Avg loss: 2.638604\n",
      "\n",
      "---------------Epoch 60----------------\n",
      "loss: 2.638685  [    0/  403]\n"
     ]
    },
    {
     "name": "stderr",
     "output_type": "stream",
     "text": [
      " 60%|██████    | 60/100 [18:24<12:12, 18.32s/it]"
     ]
    },
    {
     "name": "stdout",
     "output_type": "stream",
     "text": [
      "Validation f1 score:  tensor(0., device='cuda:0')\n",
      "Validation Error: Accuracy: 0.0%, Avg loss: 2.638600\n",
      "\n",
      "---------------Epoch 61----------------\n",
      "loss: 2.638741  [    0/  403]\n"
     ]
    },
    {
     "name": "stderr",
     "output_type": "stream",
     "text": [
      " 61%|██████    | 61/100 [18:43<11:56, 18.38s/it]"
     ]
    },
    {
     "name": "stdout",
     "output_type": "stream",
     "text": [
      "Validation f1 score:  tensor(0., device='cuda:0')\n",
      "Validation Error: Accuracy: 0.0%, Avg loss: 2.638598\n",
      "\n",
      "---------------Epoch 62----------------\n",
      "loss: 2.638744  [    0/  403]\n"
     ]
    },
    {
     "name": "stderr",
     "output_type": "stream",
     "text": [
      " 62%|██████▏   | 62/100 [19:01<11:37, 18.35s/it]"
     ]
    },
    {
     "name": "stdout",
     "output_type": "stream",
     "text": [
      "Validation f1 score:  tensor(0., device='cuda:0')\n",
      "Validation Error: Accuracy: 0.0%, Avg loss: 2.638546\n",
      "\n",
      "---------------Epoch 63----------------\n",
      "loss: 2.638780  [    0/  403]\n"
     ]
    },
    {
     "name": "stderr",
     "output_type": "stream",
     "text": [
      " 63%|██████▎   | 63/100 [19:18<11:04, 17.96s/it]"
     ]
    },
    {
     "name": "stdout",
     "output_type": "stream",
     "text": [
      "Validation f1 score:  tensor(0., device='cuda:0')\n",
      "Validation Error: Accuracy: 0.0%, Avg loss: 2.638561\n",
      "\n",
      "---------------Epoch 64----------------\n",
      "loss: 2.638822  [    0/  403]\n"
     ]
    },
    {
     "name": "stderr",
     "output_type": "stream",
     "text": [
      " 64%|██████▍   | 64/100 [19:36<10:45, 17.92s/it]"
     ]
    },
    {
     "name": "stdout",
     "output_type": "stream",
     "text": [
      "Validation f1 score:  tensor(0., device='cuda:0')\n",
      "Validation Error: Accuracy: 0.0%, Avg loss: 2.638525\n",
      "\n",
      "---------------Epoch 65----------------\n",
      "loss: 2.638696  [    0/  403]\n"
     ]
    },
    {
     "name": "stderr",
     "output_type": "stream",
     "text": [
      " 65%|██████▌   | 65/100 [19:53<10:19, 17.70s/it]"
     ]
    },
    {
     "name": "stdout",
     "output_type": "stream",
     "text": [
      "Validation f1 score:  tensor(0., device='cuda:0')\n",
      "Validation Error: Accuracy: 0.0%, Avg loss: 2.638505\n",
      "\n",
      "---------------Epoch 66----------------\n",
      "loss: 2.638644  [    0/  403]\n"
     ]
    },
    {
     "name": "stderr",
     "output_type": "stream",
     "text": [
      " 66%|██████▌   | 66/100 [20:11<10:05, 17.82s/it]"
     ]
    },
    {
     "name": "stdout",
     "output_type": "stream",
     "text": [
      "Validation f1 score:  tensor(0., device='cuda:0')\n",
      "Validation Error: Accuracy: 0.0%, Avg loss: 2.638469\n",
      "\n",
      "---------------Epoch 67----------------\n",
      "loss: 2.638599  [    0/  403]\n"
     ]
    },
    {
     "name": "stderr",
     "output_type": "stream",
     "text": [
      " 67%|██████▋   | 67/100 [20:29<09:42, 17.65s/it]"
     ]
    },
    {
     "name": "stdout",
     "output_type": "stream",
     "text": [
      "Validation f1 score:  tensor(0., device='cuda:0')\n",
      "Validation Error: Accuracy: 0.0%, Avg loss: 2.638449\n",
      "\n",
      "---------------Epoch 68----------------\n",
      "loss: 2.638613  [    0/  403]\n"
     ]
    },
    {
     "name": "stderr",
     "output_type": "stream",
     "text": [
      " 68%|██████▊   | 68/100 [20:46<09:21, 17.54s/it]"
     ]
    },
    {
     "name": "stdout",
     "output_type": "stream",
     "text": [
      "Validation f1 score:  tensor(0., device='cuda:0')\n",
      "Validation Error: Accuracy: 0.0%, Avg loss: 2.638466\n",
      "\n",
      "---------------Epoch 69----------------\n",
      "loss: 2.638600  [    0/  403]\n"
     ]
    },
    {
     "name": "stderr",
     "output_type": "stream",
     "text": [
      " 69%|██████▉   | 69/100 [21:04<09:04, 17.56s/it]"
     ]
    },
    {
     "name": "stdout",
     "output_type": "stream",
     "text": [
      "Validation f1 score:  tensor(0., device='cuda:0')\n",
      "Validation Error: Accuracy: 0.0%, Avg loss: 2.638448\n",
      "\n",
      "---------------Epoch 70----------------\n",
      "loss: 2.638782  [    0/  403]\n"
     ]
    },
    {
     "name": "stderr",
     "output_type": "stream",
     "text": [
      " 70%|███████   | 70/100 [21:21<08:46, 17.56s/it]"
     ]
    },
    {
     "name": "stdout",
     "output_type": "stream",
     "text": [
      "Validation f1 score:  tensor(0., device='cuda:0')\n",
      "Validation Error: Accuracy: 0.0%, Avg loss: 2.638429\n",
      "\n",
      "---------------Epoch 71----------------\n",
      "loss: 2.638665  [    0/  403]\n"
     ]
    },
    {
     "name": "stderr",
     "output_type": "stream",
     "text": [
      " 71%|███████   | 71/100 [21:39<08:33, 17.70s/it]"
     ]
    },
    {
     "name": "stdout",
     "output_type": "stream",
     "text": [
      "Validation f1 score:  tensor(0., device='cuda:0')\n",
      "Validation Error: Accuracy: 0.0%, Avg loss: 2.638410\n",
      "\n",
      "---------------Epoch 72----------------\n",
      "loss: 2.638660  [    0/  403]\n"
     ]
    },
    {
     "name": "stderr",
     "output_type": "stream",
     "text": [
      " 72%|███████▏  | 72/100 [21:56<08:12, 17.57s/it]"
     ]
    },
    {
     "name": "stdout",
     "output_type": "stream",
     "text": [
      "Validation f1 score:  tensor(0., device='cuda:0')\n",
      "Validation Error: Accuracy: 0.0%, Avg loss: 2.638333\n",
      "\n",
      "---------------Epoch 73----------------\n",
      "loss: 2.638634  [    0/  403]\n"
     ]
    },
    {
     "name": "stderr",
     "output_type": "stream",
     "text": [
      " 73%|███████▎  | 73/100 [22:13<07:49, 17.38s/it]"
     ]
    },
    {
     "name": "stdout",
     "output_type": "stream",
     "text": [
      "Validation f1 score:  tensor(0., device='cuda:0')\n",
      "Validation Error: Accuracy: 0.0%, Avg loss: 2.638372\n",
      "\n",
      "---------------Epoch 74----------------\n",
      "loss: 2.638705  [    0/  403]\n"
     ]
    },
    {
     "name": "stderr",
     "output_type": "stream",
     "text": [
      " 74%|███████▍  | 74/100 [22:32<07:39, 17.66s/it]"
     ]
    },
    {
     "name": "stdout",
     "output_type": "stream",
     "text": [
      "Validation f1 score:  tensor(0., device='cuda:0')\n",
      "Validation Error: Accuracy: 0.0%, Avg loss: 2.638314\n",
      "\n",
      "---------------Epoch 75----------------\n",
      "loss: 2.638483  [    0/  403]\n"
     ]
    },
    {
     "name": "stderr",
     "output_type": "stream",
     "text": [
      " 75%|███████▌  | 75/100 [22:50<07:26, 17.88s/it]"
     ]
    },
    {
     "name": "stdout",
     "output_type": "stream",
     "text": [
      "Validation f1 score:  tensor(0., device='cuda:0')\n",
      "Validation Error: Accuracy: 0.0%, Avg loss: 2.638314\n",
      "\n",
      "---------------Epoch 76----------------\n",
      "loss: 2.638467  [    0/  403]\n"
     ]
    },
    {
     "name": "stderr",
     "output_type": "stream",
     "text": [
      " 76%|███████▌  | 76/100 [23:08<07:11, 17.98s/it]"
     ]
    },
    {
     "name": "stdout",
     "output_type": "stream",
     "text": [
      "Validation f1 score:  tensor(0., device='cuda:0')\n",
      "Validation Error: Accuracy: 0.0%, Avg loss: 2.638275\n",
      "\n",
      "---------------Epoch 77----------------\n",
      "loss: 2.638571  [    0/  403]\n"
     ]
    },
    {
     "name": "stderr",
     "output_type": "stream",
     "text": [
      " 77%|███████▋  | 77/100 [23:26<06:51, 17.88s/it]"
     ]
    },
    {
     "name": "stdout",
     "output_type": "stream",
     "text": [
      "Validation f1 score:  tensor(0., device='cuda:0')\n",
      "Validation Error: Accuracy: 0.0%, Avg loss: 2.638276\n",
      "\n",
      "---------------Epoch 78----------------\n",
      "loss: 2.638322  [    0/  403]\n"
     ]
    },
    {
     "name": "stderr",
     "output_type": "stream",
     "text": [
      " 78%|███████▊  | 78/100 [23:44<06:35, 17.96s/it]"
     ]
    },
    {
     "name": "stdout",
     "output_type": "stream",
     "text": [
      "Validation f1 score:  tensor(0., device='cuda:0')\n",
      "Validation Error: Accuracy: 0.0%, Avg loss: 2.638278\n",
      "\n",
      "---------------Epoch 79----------------\n",
      "loss: 2.638522  [    0/  403]\n"
     ]
    },
    {
     "name": "stderr",
     "output_type": "stream",
     "text": [
      " 79%|███████▉  | 79/100 [24:03<06:21, 18.17s/it]"
     ]
    },
    {
     "name": "stdout",
     "output_type": "stream",
     "text": [
      "Validation f1 score:  tensor(0., device='cuda:0')\n",
      "Validation Error: Accuracy: 0.0%, Avg loss: 2.638238\n",
      "\n",
      "---------------Epoch 80----------------\n",
      "loss: 2.638435  [    0/  403]\n"
     ]
    },
    {
     "name": "stderr",
     "output_type": "stream",
     "text": [
      " 80%|████████  | 80/100 [24:20<05:58, 17.91s/it]"
     ]
    },
    {
     "name": "stdout",
     "output_type": "stream",
     "text": [
      "Validation f1 score:  tensor(0., device='cuda:0')\n",
      "Validation Error: Accuracy: 0.0%, Avg loss: 2.638218\n",
      "\n",
      "---------------Epoch 81----------------\n",
      "loss: 2.638483  [    0/  403]\n"
     ]
    },
    {
     "name": "stderr",
     "output_type": "stream",
     "text": [
      " 81%|████████  | 81/100 [24:37<05:37, 17.77s/it]"
     ]
    },
    {
     "name": "stdout",
     "output_type": "stream",
     "text": [
      "Validation f1 score:  tensor(0., device='cuda:0')\n",
      "Validation Error: Accuracy: 0.0%, Avg loss: 2.638155\n",
      "\n",
      "---------------Epoch 82----------------\n",
      "loss: 2.638396  [    0/  403]\n"
     ]
    },
    {
     "name": "stderr",
     "output_type": "stream",
     "text": [
      " 82%|████████▏ | 82/100 [24:55<05:17, 17.63s/it]"
     ]
    },
    {
     "name": "stdout",
     "output_type": "stream",
     "text": [
      "Validation f1 score:  tensor(0., device='cuda:0')\n",
      "Validation Error: Accuracy: 0.0%, Avg loss: 2.638158\n",
      "\n",
      "---------------Epoch 83----------------\n",
      "loss: 2.638287  [    0/  403]\n"
     ]
    },
    {
     "name": "stderr",
     "output_type": "stream",
     "text": [
      " 83%|████████▎ | 83/100 [25:12<04:59, 17.60s/it]"
     ]
    },
    {
     "name": "stdout",
     "output_type": "stream",
     "text": [
      "Validation f1 score:  tensor(0., device='cuda:0')\n",
      "Validation Error: Accuracy: 0.0%, Avg loss: 2.638160\n",
      "\n",
      "---------------Epoch 84----------------\n",
      "loss: 2.638240  [    0/  403]\n"
     ]
    },
    {
     "name": "stderr",
     "output_type": "stream",
     "text": [
      " 84%|████████▍ | 84/100 [25:30<04:41, 17.59s/it]"
     ]
    },
    {
     "name": "stdout",
     "output_type": "stream",
     "text": [
      "Validation f1 score:  tensor(0., device='cuda:0')\n",
      "Validation Error: Accuracy: 0.0%, Avg loss: 2.638141\n",
      "\n",
      "---------------Epoch 85----------------\n",
      "loss: 2.638280  [    0/  403]\n"
     ]
    },
    {
     "name": "stderr",
     "output_type": "stream",
     "text": [
      " 85%|████████▌ | 85/100 [25:48<04:27, 17.86s/it]"
     ]
    },
    {
     "name": "stdout",
     "output_type": "stream",
     "text": [
      "Validation f1 score:  tensor(0., device='cuda:0')\n",
      "Validation Error: Accuracy: 0.0%, Avg loss: 2.638123\n",
      "\n",
      "---------------Epoch 86----------------\n",
      "loss: 2.638338  [    0/  403]\n"
     ]
    },
    {
     "name": "stderr",
     "output_type": "stream",
     "text": [
      " 86%|████████▌ | 86/100 [26:07<04:14, 18.20s/it]"
     ]
    },
    {
     "name": "stdout",
     "output_type": "stream",
     "text": [
      "Validation f1 score:  tensor(0., device='cuda:0')\n",
      "Validation Error: Accuracy: 0.0%, Avg loss: 2.638103\n",
      "\n",
      "---------------Epoch 87----------------\n",
      "loss: 2.638386  [    0/  403]\n"
     ]
    },
    {
     "name": "stderr",
     "output_type": "stream",
     "text": [
      " 87%|████████▋ | 87/100 [26:26<03:58, 18.34s/it]"
     ]
    },
    {
     "name": "stdout",
     "output_type": "stream",
     "text": [
      "Validation f1 score:  tensor(0., device='cuda:0')\n",
      "Validation Error: Accuracy: 0.0%, Avg loss: 2.638108\n",
      "\n",
      "---------------Epoch 88----------------\n",
      "loss: 2.638323  [    0/  403]\n"
     ]
    },
    {
     "name": "stderr",
     "output_type": "stream",
     "text": [
      " 88%|████████▊ | 88/100 [26:45<03:40, 18.41s/it]"
     ]
    },
    {
     "name": "stdout",
     "output_type": "stream",
     "text": [
      "Validation f1 score:  tensor(0., device='cuda:0')\n",
      "Validation Error: Accuracy: 0.0%, Avg loss: 2.638041\n",
      "\n",
      "---------------Epoch 89----------------\n",
      "loss: 2.638193  [    0/  403]\n"
     ]
    },
    {
     "name": "stderr",
     "output_type": "stream",
     "text": [
      " 89%|████████▉ | 89/100 [27:03<03:23, 18.49s/it]"
     ]
    },
    {
     "name": "stdout",
     "output_type": "stream",
     "text": [
      "Validation f1 score:  tensor(0., device='cuda:0')\n",
      "Validation Error: Accuracy: 0.0%, Avg loss: 2.638045\n",
      "\n",
      "---------------Epoch 90----------------\n",
      "loss: 2.638239  [    0/  403]\n"
     ]
    },
    {
     "name": "stderr",
     "output_type": "stream",
     "text": [
      " 90%|█████████ | 90/100 [27:22<03:04, 18.47s/it]"
     ]
    },
    {
     "name": "stdout",
     "output_type": "stream",
     "text": [
      "Validation f1 score:  tensor(0., device='cuda:0')\n",
      "Validation Error: Accuracy: 0.0%, Avg loss: 2.638001\n",
      "\n",
      "---------------Epoch 91----------------\n",
      "loss: 2.638245  [    0/  403]\n"
     ]
    },
    {
     "name": "stderr",
     "output_type": "stream",
     "text": [
      " 91%|█████████ | 91/100 [27:40<02:44, 18.33s/it]"
     ]
    },
    {
     "name": "stdout",
     "output_type": "stream",
     "text": [
      "Validation f1 score:  tensor(0., device='cuda:0')\n",
      "Validation Error: Accuracy: 0.0%, Avg loss: 2.638006\n",
      "\n",
      "---------------Epoch 92----------------\n",
      "loss: 2.638149  [    0/  403]\n"
     ]
    },
    {
     "name": "stderr",
     "output_type": "stream",
     "text": [
      " 92%|█████████▏| 92/100 [27:57<02:25, 18.13s/it]"
     ]
    },
    {
     "name": "stdout",
     "output_type": "stream",
     "text": [
      "Validation f1 score:  tensor(0., device='cuda:0')\n",
      "Validation Error: Accuracy: 0.0%, Avg loss: 2.638012\n",
      "\n",
      "---------------Epoch 93----------------\n",
      "loss: 2.638120  [    0/  403]\n"
     ]
    },
    {
     "name": "stderr",
     "output_type": "stream",
     "text": [
      " 93%|█████████▎| 93/100 [28:15<02:06, 18.11s/it]"
     ]
    },
    {
     "name": "stdout",
     "output_type": "stream",
     "text": [
      "Validation f1 score:  tensor(0., device='cuda:0')\n",
      "Validation Error: Accuracy: 0.0%, Avg loss: 2.637943\n",
      "\n",
      "---------------Epoch 94----------------\n",
      "loss: 2.638123  [    0/  403]\n"
     ]
    },
    {
     "name": "stderr",
     "output_type": "stream",
     "text": [
      " 94%|█████████▍| 94/100 [28:34<01:48, 18.10s/it]"
     ]
    },
    {
     "name": "stdout",
     "output_type": "stream",
     "text": [
      "Validation f1 score:  tensor(0., device='cuda:0')\n",
      "Validation Error: Accuracy: 0.0%, Avg loss: 2.637923\n",
      "\n",
      "---------------Epoch 95----------------\n",
      "loss: 2.638150  [    0/  403]\n"
     ]
    },
    {
     "name": "stderr",
     "output_type": "stream",
     "text": [
      " 95%|█████████▌| 95/100 [28:52<01:30, 18.18s/it]"
     ]
    },
    {
     "name": "stdout",
     "output_type": "stream",
     "text": [
      "Validation f1 score:  tensor(0., device='cuda:0')\n",
      "Validation Error: Accuracy: 0.0%, Avg loss: 2.637903\n",
      "\n",
      "---------------Epoch 96----------------\n",
      "loss: 2.638137  [    0/  403]\n"
     ]
    },
    {
     "name": "stderr",
     "output_type": "stream",
     "text": [
      " 96%|█████████▌| 96/100 [29:11<01:13, 18.35s/it]"
     ]
    },
    {
     "name": "stdout",
     "output_type": "stream",
     "text": [
      "Validation f1 score:  tensor(0., device='cuda:0')\n",
      "Validation Error: Accuracy: 0.0%, Avg loss: 2.637884\n",
      "\n",
      "---------------Epoch 97----------------\n",
      "loss: 2.638130  [    0/  403]\n"
     ]
    },
    {
     "name": "stderr",
     "output_type": "stream",
     "text": [
      " 97%|█████████▋| 97/100 [29:29<00:55, 18.36s/it]"
     ]
    },
    {
     "name": "stdout",
     "output_type": "stream",
     "text": [
      "Validation f1 score:  tensor(0., device='cuda:0')\n",
      "Validation Error: Accuracy: 0.0%, Avg loss: 2.637890\n",
      "\n",
      "---------------Epoch 98----------------\n",
      "loss: 2.638055  [    0/  403]\n"
     ]
    },
    {
     "name": "stderr",
     "output_type": "stream",
     "text": [
      " 98%|█████████▊| 98/100 [29:47<00:36, 18.15s/it]"
     ]
    },
    {
     "name": "stdout",
     "output_type": "stream",
     "text": [
      "Validation f1 score:  tensor(0., device='cuda:0')\n",
      "Validation Error: Accuracy: 0.0%, Avg loss: 2.637871\n",
      "\n",
      "---------------Epoch 99----------------\n",
      "loss: 2.638055  [    0/  403]\n"
     ]
    },
    {
     "name": "stderr",
     "output_type": "stream",
     "text": [
      " 99%|█████████▉| 99/100 [30:04<00:17, 17.98s/it]"
     ]
    },
    {
     "name": "stdout",
     "output_type": "stream",
     "text": [
      "Validation f1 score:  tensor(0., device='cuda:0')\n",
      "Validation Error: Accuracy: 0.0%, Avg loss: 2.637825\n",
      "\n",
      "---------------Epoch 100----------------\n",
      "loss: 2.638124  [    0/  403]\n"
     ]
    },
    {
     "name": "stderr",
     "output_type": "stream",
     "text": [
      "100%|██████████| 100/100 [30:22<00:00, 18.22s/it]"
     ]
    },
    {
     "name": "stdout",
     "output_type": "stream",
     "text": [
      "Validation f1 score:  tensor(0., device='cuda:0')\n",
      "Validation Error: Accuracy: 0.0%, Avg loss: 2.637832\n",
      "\n",
      "Done!\n"
     ]
    },
    {
     "name": "stderr",
     "output_type": "stream",
     "text": [
      "\n"
     ]
    }
   ],
   "source": [
    "from tqdm import tqdm\n",
    "lr = 1e-3\n",
    "loss_fn = nn.CrossEntropyLoss().to(device)\n",
    "optimizer = optim.SGD(model_tf_mixer.parameters(), lr=lr)\n",
    "\n",
    "epochs = 100\n",
    "for epoch in tqdm(range(epochs)):\n",
    "    print(f\"---------------Epoch {epoch+1}----------------\")\n",
    "    train(train_dataloader, model_tf_mixer, loss_fn, optimizer)\n",
    "    test(validation_dataloader, model_tf_mixer, loss_fn, mode = 'val')\n",
    "print(\"Done!\")"
   ]
  },
  {
   "cell_type": "code",
   "execution_count": null,
   "metadata": {},
   "outputs": [],
   "source": []
  }
 ],
 "metadata": {
  "kernelspec": {
   "display_name": ".venv",
   "language": "python",
   "name": "python3"
  },
  "language_info": {
   "codemirror_mode": {
    "name": "ipython",
    "version": 3
   },
   "file_extension": ".py",
   "mimetype": "text/x-python",
   "name": "python",
   "nbconvert_exporter": "python",
   "pygments_lexer": "ipython3",
   "version": "3.10.4"
  },
  "orig_nbformat": 4,
  "vscode": {
   "interpreter": {
    "hash": "20807e8adcbd42114165e2664a1949a43ef9aa8599fa0cbc30f37819eb44d659"
   }
  }
 },
 "nbformat": 4,
 "nbformat_minor": 2
}
