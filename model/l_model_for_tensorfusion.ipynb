{
 "cells": [
  {
   "attachments": {},
   "cell_type": "markdown",
   "metadata": {},
   "source": [
    "# working model for tensorfusion"
   ]
  },
  {
   "cell_type": "code",
   "execution_count": 66,
   "metadata": {},
   "outputs": [
    {
     "name": "stdout",
     "output_type": "stream",
     "text": [
      "1.13.1+cu117\n"
     ]
    }
   ],
   "source": [
    "import pickle\n",
    "import torch\n",
    "from torchmetrics import F1Score\n",
    "import pandas as pd\n",
    "print(torch.__version__)"
   ]
  },
  {
   "cell_type": "code",
   "execution_count": 67,
   "metadata": {},
   "outputs": [
    {
     "data": {
      "text/plain": [
       "dict_keys(['file_names', 'text_embeddings', 'wav_embeddings', 'Emotion', 'Arousal', 'Valence'])"
      ]
     },
     "execution_count": 67,
     "metadata": {},
     "output_type": "execute_result"
    }
   ],
   "source": [
    "# data load\n",
    "with open('./data/lou_dataset_1_3.pkl', 'rb') as f:\n",
    "    raw_dataset = pickle.load(f)\n",
    "session = 'Session01'\n",
    "raw_dataset[session].keys()"
   ]
  },
  {
   "cell_type": "code",
   "execution_count": 68,
   "metadata": {},
   "outputs": [
    {
     "data": {
      "text/plain": [
       "24"
      ]
     },
     "execution_count": 68,
     "metadata": {},
     "output_type": "execute_result"
    }
   ],
   "source": [
    "from glob import glob\n",
    "annot_lst = glob('../org_KEMDy20/annotation/*.csv')\n",
    "emotion_list = []\n",
    "for annot_file in annot_lst:\n",
    "    annot = pd.read_csv(annot_file, skiprows=1)\n",
    "    emotion_list.append(annot['Emotion'])\n",
    "emotion_list = list(pd.Series([j for i in emotion_list for j in i]).unique())\n",
    "len(emotion_list)\n"
   ]
  },
  {
   "cell_type": "code",
   "execution_count": 69,
   "metadata": {},
   "outputs": [
    {
     "data": {
      "text/plain": [
       "12"
      ]
     },
     "execution_count": 69,
     "metadata": {},
     "output_type": "execute_result"
    }
   ],
   "source": [
    "### \n",
    "emotion_lst = []\n",
    "sessions = ['Session01', 'Session02', 'Session03']\n",
    "for session in sessions:\n",
    "    emotion_lst.append(raw_dataset[session]['Emotion'].unique())\n",
    "emotion_lst = [j for i in emotion_lst for j in i]\n",
    "emotion_lst = list(pd.Series(emotion_lst).unique())\n",
    "len(emotion_lst)\n"
   ]
  },
  {
   "cell_type": "code",
   "execution_count": 70,
   "metadata": {},
   "outputs": [
    {
     "data": {
      "text/plain": [
       "({'happy': 0,\n",
       "  'neutral': 1,\n",
       "  'surprise': 2,\n",
       "  'surprise;neutral': 3,\n",
       "  'sad': 4,\n",
       "  'neutral;sad': 5,\n",
       "  'happy;neutral': 6,\n",
       "  'angry;neutral': 7,\n",
       "  'neutral;disqust': 8,\n",
       "  'angry': 9,\n",
       "  'fear': 10,\n",
       "  'neutral;fear': 11,\n",
       "  'disqust': 12,\n",
       "  'happy;surprise': 13,\n",
       "  'happy;angry;neutral': 14,\n",
       "  'angry;disqust': 15,\n",
       "  'happy;surprise;neutral': 16,\n",
       "  'happy;fear': 17,\n",
       "  'happy;neutral;fear': 18,\n",
       "  'angry;neutral;disqust': 19,\n",
       "  'neutral;disqust;sad': 20,\n",
       "  'angry;neutral;disqust;fear;sad': 21,\n",
       "  'happy;sad': 22,\n",
       "  'happy;neutral;disqust': 23},\n",
       " {0: 'happy',\n",
       "  1: 'neutral',\n",
       "  2: 'surprise',\n",
       "  3: 'surprise;neutral',\n",
       "  4: 'sad',\n",
       "  5: 'neutral;sad',\n",
       "  6: 'happy;neutral',\n",
       "  7: 'angry;neutral',\n",
       "  8: 'neutral;disqust',\n",
       "  9: 'angry',\n",
       "  10: 'fear',\n",
       "  11: 'neutral;fear',\n",
       "  12: 'disqust',\n",
       "  13: 'happy;surprise',\n",
       "  14: 'happy;angry;neutral',\n",
       "  15: 'angry;disqust',\n",
       "  16: 'happy;surprise;neutral',\n",
       "  17: 'happy;fear',\n",
       "  18: 'happy;neutral;fear',\n",
       "  19: 'angry;neutral;disqust',\n",
       "  20: 'neutral;disqust;sad',\n",
       "  21: 'angry;neutral;disqust;fear;sad',\n",
       "  22: 'happy;sad',\n",
       "  23: 'happy;neutral;disqust'})"
      ]
     },
     "execution_count": 70,
     "metadata": {},
     "output_type": "execute_result"
    }
   ],
   "source": [
    "# encoding Emotion for whole data\n",
    "encode_dict = {b:i for i, b in enumerate(emotion_list)}\n",
    "decode_dict = {i:b for i, b in enumerate(emotion_list)}\n",
    "encode_dict, decode_dict"
   ]
  },
  {
   "cell_type": "code",
   "execution_count": 71,
   "metadata": {},
   "outputs": [
    {
     "data": {
      "text/plain": [
       "dict_keys(['file_names', 'text_embeddings', 'wav_embeddings', 'Emotion', 'Arousal', 'Valence'])"
      ]
     },
     "execution_count": 71,
     "metadata": {},
     "output_type": "execute_result"
    }
   ],
   "source": [
    "merged_dataset = {}\n",
    "for session_key in raw_dataset.keys():\n",
    "    raw_dataset[session_key]['Emotion'] = raw_dataset[session_key]['Emotion'].map(encode_dict)\n",
    "    for data_name in raw_dataset[session_key].keys():\n",
    "        if data_name in merged_dataset.keys():\n",
    "            for data in raw_dataset[session_key][data_name]:\n",
    "                merged_dataset[data_name].append(data)\n",
    "        else:\n",
    "            merged_dataset[data_name] = []\n",
    "            for data in raw_dataset[session_key][data_name]:\n",
    "                merged_dataset[data_name].append(data)\n",
    "    \n",
    "for data_name in merged_dataset.keys():\n",
    "    if data_name == 'text_embeddings' or data_name == 'wav_embeddings':\n",
    "        merged_dataset[data_name] = torch.stack(merged_dataset[data_name])\n",
    "\n",
    "merged_dataset.keys()"
   ]
  },
  {
   "cell_type": "code",
   "execution_count": 72,
   "metadata": {},
   "outputs": [
    {
     "data": {
      "text/plain": [
       "[0, 1, 2, 3, 4, 5, 6, 7, 8, 9, 12, 13]"
      ]
     },
     "execution_count": 72,
     "metadata": {},
     "output_type": "execute_result"
    }
   ],
   "source": [
    "from collections import Counter\n",
    "sorted(Counter(merged_dataset['Emotion']))"
   ]
  },
  {
   "cell_type": "code",
   "execution_count": 73,
   "metadata": {},
   "outputs": [
    {
     "name": "stdout",
     "output_type": "stream",
     "text": [
      "file_names:  917\n",
      "text_embeddings:  917\n",
      "wav_embeddings:  917\n",
      "Emotion:  917\n",
      "Arousal:  917\n",
      "Valence:  917\n"
     ]
    }
   ],
   "source": [
    "# check the length of each data column\n",
    "for i in merged_dataset.keys():\n",
    "    print(f\"{i}: \", len(merged_dataset[i]))"
   ]
  },
  {
   "attachments": {},
   "cell_type": "markdown",
   "metadata": {},
   "source": [
    "# torch dataset 만들기\n",
    "- 참고: https://tutorials.pytorch.kr/beginner/basics/data_tutorial.html"
   ]
  },
  {
   "cell_type": "code",
   "execution_count": 74,
   "metadata": {},
   "outputs": [],
   "source": [
    "import os\n",
    "import pandas as pd\n",
    "from datasets import Dataset\n",
    "from torch import nn, optim\n",
    "from torch.utils.data import Dataset, DataLoader, random_split"
   ]
  },
  {
   "cell_type": "code",
   "execution_count": 75,
   "metadata": {},
   "outputs": [],
   "source": [
    "class EtriDataset(Dataset):\n",
    "    def __init__(self, file_names, text_embeddings, wav_embeddings, Emotion, Arousal, Valence):\n",
    "        self.file_names = file_names\n",
    "        self.text_embeddings = text_embeddings\n",
    "        self.wav_embeddings = wav_embeddings\n",
    "        self.label_emotion = Emotion\n",
    "        self.label_arousal = Arousal\n",
    "        self.label_valence = Valence\n",
    "        \n",
    "    def __len__(self):\n",
    "        return len(self.file_names)\n",
    "\n",
    "    def __getitem__(self, idx):\n",
    "        text_embeddings = self.text_embeddings[idx]\n",
    "        wav_embeddings = self.wav_embeddings[idx]\n",
    "        label_emotion = self.label_emotion[idx]\n",
    "        label_arousal = self.label_arousal[idx]\n",
    "        label_valence = self.label_valence[idx]\n",
    "        return text_embeddings, wav_embeddings, label_emotion, label_arousal, label_valence"
   ]
  },
  {
   "cell_type": "code",
   "execution_count": 76,
   "metadata": {},
   "outputs": [],
   "source": [
    "# data load 및 나누기: https://076923.github.io/posts/Python-pytorch-11/\n",
    "\n",
    "# 개별 session 데이터 셋을 만들었을 때 \n",
    "# dataset = EtriDataset(raw_dataset[session]['file_names'],\n",
    "#                       raw_dataset[session]['text_embeddings'],\n",
    "#                       raw_dataset[session]['wav_embeddings'],\n",
    "#                       raw_dataset[session]['Emotion'],\n",
    "#                       raw_dataset[session]['Arousal'],\n",
    "#                       raw_dataset[session]['Valence'])\n",
    "\n",
    "# session을 통합시킨 데이터 셋을 만들었을 때 \n",
    "dataset = EtriDataset(merged_dataset['file_names'],\n",
    "                      merged_dataset['text_embeddings'],\n",
    "                      merged_dataset['wav_embeddings'],\n",
    "                      merged_dataset['Emotion'],\n",
    "                      merged_dataset['Arousal'],\n",
    "                      merged_dataset['Valence'])\n"
   ]
  },
  {
   "cell_type": "code",
   "execution_count": 77,
   "metadata": {},
   "outputs": [
    {
     "name": "stdout",
     "output_type": "stream",
     "text": [
      "641 139 137\n",
      "Training Data Size : 641\n",
      "Validation Data Size : 137\n",
      "Testing Data Size : 139\n"
     ]
    }
   ],
   "source": [
    "dataset_size = len(dataset)\n",
    "train_size = int(dataset_size * 0.7)\n",
    "validation_size = int(dataset_size * 0.15)\n",
    "test_size = dataset_size - train_size - validation_size\n",
    "\n",
    "train_dataset, validation_dataset, test_dataset = random_split(dataset, [train_size, validation_size, test_size])\n",
    "\n",
    "print(train_size, test_size, validation_size)\n",
    "print(f\"Training Data Size : {len(train_dataset)}\")\n",
    "print(f\"Validation Data Size : {len(validation_dataset)}\")\n",
    "print(f\"Testing Data Size : {len(test_dataset)}\")"
   ]
  },
  {
   "cell_type": "code",
   "execution_count": 78,
   "metadata": {},
   "outputs": [
    {
     "data": {
      "text/plain": [
       "torch.Size([1, 49, 768])"
      ]
     },
     "execution_count": 78,
     "metadata": {},
     "output_type": "execute_result"
    }
   ],
   "source": [
    "# data size\n",
    "merged_dataset['wav_embeddings'][0].shape \n",
    "# raw_dataset[session]['wav_embeddings'][0].shape\n"
   ]
  },
  {
   "cell_type": "code",
   "execution_count": 79,
   "metadata": {},
   "outputs": [],
   "source": [
    "train_dataloader = DataLoader(train_dataset, batch_size=128, shuffle=True, drop_last=True)\n",
    "validation_dataloader = DataLoader(validation_dataset, batch_size=32, shuffle=True, drop_last=True)\n",
    "test_dataloader = DataLoader(test_dataset, batch_size=32, shuffle=True, drop_last=True)"
   ]
  },
  {
   "attachments": {},
   "cell_type": "markdown",
   "metadata": {},
   "source": [
    "# NetWork 만들기"
   ]
  },
  {
   "cell_type": "code",
   "execution_count": 80,
   "metadata": {},
   "outputs": [
    {
     "name": "stdout",
     "output_type": "stream",
     "text": [
      "Using cuda device\n"
     ]
    }
   ],
   "source": [
    "device = \"cuda\" if torch.cuda.is_available() else \"cpu\"\n",
    "print(f\"Using {device} device\")"
   ]
  },
  {
   "cell_type": "code",
   "execution_count": 81,
   "metadata": {},
   "outputs": [],
   "source": [
    "class MLPNetwork_pre(nn.Module):\n",
    "    def __init__(self, input_length, input_width):\n",
    "        super().__init__()\n",
    "        self.flatten = nn.Flatten()\n",
    "        self.fc1 = nn.Linear(input_length*input_width, 768)\n",
    "        self.gelu1 = nn.GELU()\n",
    "        self.bn1 = nn.BatchNorm1d(768)\n",
    "        self.fc2 = nn.Linear(768, 512)\n",
    "        self.gelu2 = nn.GELU()\n",
    "        self.bn2 = nn.BatchNorm1d(512)\n",
    "        self.fc3 = nn.Linear(512, 32)\n",
    "        self.gelu3 = nn.GELU()\n",
    "        \n",
    "    def forward(self, x):\n",
    "        x = self.flatten(x)\n",
    "        x = self.fc1(x)\n",
    "        x = self.gelu1(x)\n",
    "        x = self.bn1(x)\n",
    "        x = self.fc2(x)\n",
    "        x = self.gelu2(x)\n",
    "        x = self.bn2(x)\n",
    "        x = self.fc3(x)\n",
    "        output = self.gelu3(x)\n",
    "        return output\n",
    "\n",
    "class MLPNetwork_final(nn.Module):\n",
    "    def __init__(self, input_length, input_width):\n",
    "        super().__init__()\n",
    "        self.flatten = nn.Flatten()\n",
    "        self.fc1 = nn.Linear(input_length*input_width, 256)\n",
    "        self.gelu1 = nn.GELU()\n",
    "        self.bn1 = nn.BatchNorm1d(256)\n",
    "        self.fc2 = nn.Linear(256, 64)\n",
    "        self.gelu2 = nn.GELU()\n",
    "        self.bn2 = nn.BatchNorm1d(64)\n",
    "        self.fc3 = nn.Linear(64, 14)\n",
    "        \n",
    "    def forward(self, x):\n",
    "        x = self.flatten(x)\n",
    "        x = self.fc1(x)\n",
    "        x = self.gelu1(x)\n",
    "        x = self.bn1(x)\n",
    "        x = self.fc2(x)\n",
    "        x = self.gelu2(x)\n",
    "        x = self.bn2(x)\n",
    "        output = self.fc3(x)\n",
    "        \n",
    "        return output\n"
   ]
  },
  {
   "cell_type": "code",
   "execution_count": 82,
   "metadata": {},
   "outputs": [
    {
     "name": "stdout",
     "output_type": "stream",
     "text": [
      "Let's use 4 GPUs!\n",
      "DataParallel(\n",
      "  (module): TensorFusionMixer(\n",
      "    (ModelA): MLPNetwork_pre(\n",
      "      (flatten): Flatten(start_dim=1, end_dim=-1)\n",
      "      (fc1): Linear(in_features=61440, out_features=768, bias=True)\n",
      "      (gelu1): GELU(approximate='none')\n",
      "      (bn1): BatchNorm1d(768, eps=1e-05, momentum=0.1, affine=True, track_running_stats=True)\n",
      "      (fc2): Linear(in_features=768, out_features=512, bias=True)\n",
      "      (gelu2): GELU(approximate='none')\n",
      "      (bn2): BatchNorm1d(512, eps=1e-05, momentum=0.1, affine=True, track_running_stats=True)\n",
      "      (fc3): Linear(in_features=512, out_features=32, bias=True)\n",
      "      (gelu3): GELU(approximate='none')\n",
      "    )\n",
      "    (ModelB): MLPNetwork_pre(\n",
      "      (flatten): Flatten(start_dim=1, end_dim=-1)\n",
      "      (fc1): Linear(in_features=37632, out_features=768, bias=True)\n",
      "      (gelu1): GELU(approximate='none')\n",
      "      (bn1): BatchNorm1d(768, eps=1e-05, momentum=0.1, affine=True, track_running_stats=True)\n",
      "      (fc2): Linear(in_features=768, out_features=512, bias=True)\n",
      "      (gelu2): GELU(approximate='none')\n",
      "      (bn2): BatchNorm1d(512, eps=1e-05, momentum=0.1, affine=True, track_running_stats=True)\n",
      "      (fc3): Linear(in_features=512, out_features=32, bias=True)\n",
      "      (gelu3): GELU(approximate='none')\n",
      "    )\n",
      "    (Model_mlp_final): MLPNetwork_final(\n",
      "      (flatten): Flatten(start_dim=1, end_dim=-1)\n",
      "      (fc1): Linear(in_features=1024, out_features=256, bias=True)\n",
      "      (gelu1): GELU(approximate='none')\n",
      "      (bn1): BatchNorm1d(256, eps=1e-05, momentum=0.1, affine=True, track_running_stats=True)\n",
      "      (fc2): Linear(in_features=256, out_features=64, bias=True)\n",
      "      (gelu2): GELU(approximate='none')\n",
      "      (bn2): BatchNorm1d(64, eps=1e-05, momentum=0.1, affine=True, track_running_stats=True)\n",
      "      (fc3): Linear(in_features=64, out_features=14, bias=True)\n",
      "    )\n",
      "    (softmax): Softmax(dim=1)\n",
      "  )\n",
      ")\n"
     ]
    }
   ],
   "source": [
    "class TensorFusionMixer(nn.Module):\n",
    "    def __init__(self, ModelA, ModelB):\n",
    "        super().__init__()\n",
    "        self.ModelA = ModelA\n",
    "        self.ModelB = ModelB\n",
    "        self.Model_mlp_final = MLPNetwork_final(32,32).to(device)\n",
    "        self.softmax = nn.Softmax(dim=1)\n",
    "        \n",
    "    def tensor_fusion(self, batch_arr1, batch_arr2):\n",
    "        fusion_matrix_lst = []\n",
    "        for i, (arr1, arr2) in enumerate(zip(batch_arr1, batch_arr2)):\n",
    "            outer_matrix = torch.outer(arr1, arr2)\n",
    "            l, w = outer_matrix.shape\n",
    "            outer_matrix = outer_matrix.view(1, l, w)\n",
    "            fusion_matrix_lst.append(outer_matrix)\n",
    "        fusion_matrix = torch.concat(fusion_matrix_lst)\n",
    "        # print(fusion_matrix.shape)\n",
    "        return fusion_matrix\n",
    "        \n",
    "    def forward(self, x1, x2):\n",
    "        x1 = self.ModelA(x1)\n",
    "        x2 = self.ModelB(x2)\n",
    "        fusion_matrix = self.tensor_fusion(x1, x2) \n",
    "        x = self.Model_mlp_final(fusion_matrix)\n",
    "        output = self.softmax(x)\n",
    "        return output     \n",
    "\n",
    "\n",
    "# txt_input_length, txt_input_width = raw_dataset[session]['text_embeddings'][0].shape | 마지막엔 지울 것\n",
    "# _, wav_input_length, wav_input_width = raw_dataset[session]['wav_embeddings'][0].shape\n",
    "txt_input_length, txt_input_width = merged_dataset['text_embeddings'][0].shape\n",
    "_, wav_input_length, wav_input_width = merged_dataset['wav_embeddings'][0].shape\n",
    "\n",
    "# tf_mixer에 들어갈 wav mlp, txt mlp 선언\n",
    "model_mlp_txt = MLPNetwork_pre(txt_input_length,txt_input_width).to(device)\n",
    "model_mlp_wav = MLPNetwork_pre(wav_input_length,wav_input_width).to(device)\n",
    "\n",
    "# 최종 모델 선언\n",
    "model_tf_mixer = TensorFusionMixer(ModelA = model_mlp_txt, ModelB = model_mlp_wav).to(device)\n",
    "\n",
    "# model 병렬 학습 처리\n",
    "if torch.cuda.device_count() > 1:\n",
    "    print(\"Let's use\", torch.cuda.device_count(), \"GPUs!\")\n",
    "    model_mlp_txt = nn.DataParallel(model_mlp_txt).to(device)\n",
    "    model_mlp_wav = nn.DataParallel(model_mlp_wav).to(device)\n",
    "    model_tf_mixer = nn.DataParallel(model_tf_mixer).to(device)\n",
    "print(model_tf_mixer)"
   ]
  },
  {
   "attachments": {},
   "cell_type": "markdown",
   "metadata": {},
   "source": [
    "# 학습을 위한 train, test method 만들기"
   ]
  },
  {
   "cell_type": "code",
   "execution_count": 83,
   "metadata": {},
   "outputs": [],
   "source": [
    "def train(dataloader, model, loss_fn, optimizer):\n",
    "    size = len(dataloader.dataset)\n",
    "    for batch, (X_txt, X_wav, y, _, _) in enumerate(dataloader): # data 순서: file_names, text_embeddings, wav_embeddings, label_emotion, label_arousal, label_valence\n",
    "        \n",
    "        # 예측 오류 계산\n",
    "        X_txt, X_wav, y = X_txt.to(device), X_wav.to(device),y.type(torch.LongTensor).to(device)\n",
    "        pred = model(X_txt, X_wav)\n",
    "        loss = loss_fn(pred, y)\n",
    "\n",
    "        # 역전파\n",
    "        optimizer.zero_grad()\n",
    "        loss.backward()\n",
    "        optimizer.step()\n",
    "        \n",
    "        if batch % 100 == 0:\n",
    "            loss, current = loss.item(), batch * len(X_txt)\n",
    "            print(f\"loss: {loss:>7f}  [{current:>5d}/{size:>5d}]\")"
   ]
  },
  {
   "cell_type": "code",
   "execution_count": 84,
   "metadata": {},
   "outputs": [],
   "source": [
    "def test(dataloader, model, loss_fn, mode = 'test'):\n",
    "    \n",
    "    size = len(dataloader.dataset)\n",
    "    num_batches = len(dataloader)\n",
    "    model.eval()\n",
    "    test_loss, correct = 0, 0\n",
    "    \n",
    "    f1 = F1Score(task= 'multiclass', num_classes=14).to(device)   \n",
    "    preds = []\n",
    "    targets = []\n",
    "    with torch.no_grad():\n",
    "        for batch, (X_txt, X_wav, y, _, _) in enumerate(dataloader): # text_embeddings, wav_embeddings, label_emotion, label_arousal, label_valence\n",
    "            # 예측 오류 계산\n",
    "            X_txt, X_wav, y = X_txt.to(device), X_wav.to(device),y.type(torch.LongTensor).to(device)\n",
    "            pred = model(X_txt, X_wav)\n",
    "            preds.append(pred)\n",
    "            targets.append(y)\n",
    "            test_loss += loss_fn(pred, y).item()\n",
    "            correct += (pred.argmax(1) == y).type(torch.float).sum().item()\n",
    "            \n",
    "            \n",
    "            \n",
    "    test_loss /= num_batches\n",
    "    correct /= size\n",
    "    if mode == 'test':\n",
    "        print(torch.cat(preds), torch.cat(preds).shape)\n",
    "        print(\"f1 score: \", f1(torch.cat(preds).to(device), torch.cat(targets).to(device)))\n",
    "        print(f\"Test Error: Accuracy: {(100*correct):>0.1f}%, Avg loss: {test_loss:>8f}\\n\")\n",
    "    elif mode == 'val':\n",
    "        print(f\"Validation Error: Accuracy: {(100*correct):>0.1f}%, Avg loss: {test_loss:>8f} \\n\")"
   ]
  },
  {
   "attachments": {},
   "cell_type": "markdown",
   "metadata": {},
   "source": [
    "# 학습시키기"
   ]
  },
  {
   "cell_type": "code",
   "execution_count": 85,
   "metadata": {},
   "outputs": [
    {
     "name": "stdout",
     "output_type": "stream",
     "text": [
      "---------------Epoch 1----------------\n",
      "loss: 2.645760  [    0/  641]\n",
      "Validation Error: Accuracy: 1.5%, Avg loss: 2.640900 \n",
      "\n",
      "---------------Epoch 2----------------\n",
      "loss: 2.640558  [    0/  641]\n",
      "Validation Error: Accuracy: 1.5%, Avg loss: 2.640751 \n",
      "\n",
      "---------------Epoch 3----------------\n",
      "loss: 2.640400  [    0/  641]\n",
      "Validation Error: Accuracy: 1.5%, Avg loss: 2.640806 \n",
      "\n",
      "---------------Epoch 4----------------\n",
      "loss: 2.640406  [    0/  641]\n",
      "Validation Error: Accuracy: 1.5%, Avg loss: 2.640808 \n",
      "\n",
      "---------------Epoch 5----------------\n",
      "loss: 2.640128  [    0/  641]\n",
      "Validation Error: Accuracy: 1.5%, Avg loss: 2.640778 \n",
      "\n",
      "---------------Epoch 6----------------\n",
      "loss: 2.640275  [    0/  641]\n",
      "Validation Error: Accuracy: 0.7%, Avg loss: 2.640784 \n",
      "\n",
      "---------------Epoch 7----------------\n",
      "loss: 2.640244  [    0/  641]\n",
      "Validation Error: Accuracy: 1.5%, Avg loss: 2.640738 \n",
      "\n",
      "---------------Epoch 8----------------\n",
      "loss: 2.640614  [    0/  641]\n",
      "Validation Error: Accuracy: 1.5%, Avg loss: 2.640616 \n",
      "\n",
      "---------------Epoch 9----------------\n",
      "loss: 2.640315  [    0/  641]\n",
      "Validation Error: Accuracy: 0.7%, Avg loss: 2.640722 \n",
      "\n",
      "---------------Epoch 10----------------\n",
      "loss: 2.640419  [    0/  641]\n",
      "Validation Error: Accuracy: 1.5%, Avg loss: 2.640644 \n",
      "\n",
      "Done!\n"
     ]
    }
   ],
   "source": [
    "# Set the Training Parameters\n",
    "lr = 1e-3\n",
    "loss_fn = nn.CrossEntropyLoss().to(device)\n",
    "optimizer = optim.SGD(model_tf_mixer.parameters(), lr=lr)\n",
    "\n",
    "epochs = 10\n",
    "for epoch in range(epochs):\n",
    "    print(f\"---------------Epoch {epoch+1}----------------\")\n",
    "    train(train_dataloader, model_tf_mixer, loss_fn, optimizer)\n",
    "    test(validation_dataloader, model_tf_mixer, loss_fn, mode = 'val')\n",
    "print(\"Done!\")"
   ]
  },
  {
   "attachments": {},
   "cell_type": "markdown",
   "metadata": {},
   "source": [
    "## 검증"
   ]
  },
  {
   "cell_type": "code",
   "execution_count": 86,
   "metadata": {},
   "outputs": [
    {
     "name": "stdout",
     "output_type": "stream",
     "text": [
      "tensor([[0.0790, 0.0697, 0.0661,  ..., 0.0743, 0.0656, 0.0721],\n",
      "        [0.0790, 0.0697, 0.0661,  ..., 0.0743, 0.0656, 0.0721],\n",
      "        [0.0790, 0.0697, 0.0661,  ..., 0.0743, 0.0656, 0.0721],\n",
      "        ...,\n",
      "        [0.0790, 0.0697, 0.0661,  ..., 0.0743, 0.0656, 0.0721],\n",
      "        [0.0790, 0.0697, 0.0661,  ..., 0.0743, 0.0656, 0.0721],\n",
      "        [0.0790, 0.0697, 0.0661,  ..., 0.0743, 0.0656, 0.0721]],\n",
      "       device='cuda:0') torch.Size([128, 14])\n",
      "f1 score:  tensor(0.0078, device='cuda:0')\n",
      "Test Error: Accuracy: 0.7%, Avg loss: 2.640086\n",
      "\n"
     ]
    }
   ],
   "source": [
    "test(test_dataloader, model_tf_mixer, loss_fn, mode = 'test')"
   ]
  },
  {
   "cell_type": "code",
   "execution_count": null,
   "metadata": {},
   "outputs": [],
   "source": [
    " for batch, (txt,wav,target_E, _, _) in list(enumerate(test_dataloader))[:3]:\n",
    "     print(txt,wav,target_E, _, _)"
   ]
  },
  {
   "cell_type": "code",
   "execution_count": null,
   "metadata": {},
   "outputs": [],
   "source": [
    "probs = model_tf_mixer(txt.to(device), wav.to(device))\n",
    "print(probs)\n",
    "for i in torch.argmax(probs, dim=1):\n",
    "    print(decode_dict[int(i)])"
   ]
  }
 ],
 "metadata": {
  "kernelspec": {
   "display_name": ".venv",
   "language": "python",
   "name": "python3"
  },
  "language_info": {
   "codemirror_mode": {
    "name": "ipython",
    "version": 3
   },
   "file_extension": ".py",
   "mimetype": "text/x-python",
   "name": "python",
   "nbconvert_exporter": "python",
   "pygments_lexer": "ipython3",
   "version": "3.10.4"
  },
  "orig_nbformat": 4,
  "vscode": {
   "interpreter": {
    "hash": "bdc1fd12ca460d5768d71e9df3d9063ef832ce64a62e55a1a523c8c99752868e"
   }
  }
 },
 "nbformat": 4,
 "nbformat_minor": 2
}
