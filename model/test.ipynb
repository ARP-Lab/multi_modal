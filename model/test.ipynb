{
 "cells": [
  {
   "cell_type": "code",
   "execution_count": 1,
   "metadata": {},
   "outputs": [
    {
     "name": "stderr",
     "output_type": "stream",
     "text": [
      "/home/arplab/project/juwon/multi_modal/.venv/lib/python3.10/site-packages/tqdm/auto.py:21: TqdmWarning: IProgress not found. Please update jupyter and ipywidgets. See https://ipywidgets.readthedocs.io/en/stable/user_install.html\n",
      "  from .autonotebook import tqdm as notebook_tqdm\n"
     ]
    }
   ],
   "source": [
    "import torch\n",
    "import pandas as pd\n",
    "import numpy as np\n",
    "from datasets import Dataset, Audio, load_dataset"
   ]
  },
  {
   "cell_type": "code",
   "execution_count": 11,
   "metadata": {},
   "outputs": [],
   "source": [
    "annotation_path ='/home/arplab/project/juwon/multi_modal/org_KEMDy20/annotation/'\n",
    "annotaion_list = []\n",
    "for i in range(1,41):\n",
    "    annotaion_list.append(pd.read_csv(annotation_path+'Sess{0:0>2}_eval.csv'.format(i)))"
   ]
  },
  {
   "cell_type": "code",
   "execution_count": 14,
   "metadata": {},
   "outputs": [],
   "source": [
    "segment_id_list = []\n",
    "for annotation in annotaion_list:\n",
    "    segment_id_list.append(annotation[\"Segment ID\"][1:])"
   ]
  },
  {
   "cell_type": "code",
   "execution_count": 21,
   "metadata": {},
   "outputs": [],
   "source": [
    "file_path = \"/home/arplab/project/juwon/multi_modal/org_KEMDy20/\"\n",
    "\n",
    "audio_path_list = []\n",
    "for i, segment_ids in enumerate(segment_id_list):\n",
    "    for segment_id in segment_ids:\n",
    "        audio_path_list.append(file_path + \"Session{0:0>2}\".format(i+1)+ \"/\" + \"{}.wav\".format(segment_id))\n",
    "\n",
    "audio_path = {\"audio\" : audio_path_list}"
   ]
  },
  {
   "cell_type": "code",
   "execution_count": 22,
   "metadata": {},
   "outputs": [],
   "source": [
    "audio_dataset = Dataset.from_dict(audio_path).cast_column(\"audio\", Audio())"
   ]
  },
  {
   "cell_type": "code",
   "execution_count": 30,
   "metadata": {},
   "outputs": [
    {
     "data": {
      "text/plain": [
       "{'path': '/home/arplab/project/juwon/multi_modal/org_KEMDy20/Session01/Sess01_script01_User002M_001.wav',\n",
       " 'array': array([ 0.0526123 ,  0.05267334,  0.05197144, ..., -0.00387573,\n",
       "        -0.00244141, -0.00137329], dtype=float32),\n",
       " 'sampling_rate': 16000}"
      ]
     },
     "execution_count": 30,
     "metadata": {},
     "output_type": "execute_result"
    }
   ],
   "source": [
    "audio_dataset[0][\"audio\"]"
   ]
  },
  {
   "cell_type": "code",
   "execution_count": 27,
   "metadata": {},
   "outputs": [],
   "source": [
    "text_path_list = []\n",
    "for i, segment_ids in enumerate(segment_id_list):\n",
    "    for segment_id in segment_ids:\n",
    "        text_path_list.append(file_path + \"Session{0:0>2}\".format(i) + \"/\" + \"{}.txt\".format(segment_id))\n",
    "text_path = {\"text\" : text_path_list}"
   ]
  },
  {
   "cell_type": "code",
   "execution_count": null,
   "metadata": {},
   "outputs": [],
   "source": [
    "text_dataset = load_dataset(file_path+'Sess{}'.format)"
   ]
  }
 ],
 "metadata": {
  "kernelspec": {
   "display_name": ".venv",
   "language": "python",
   "name": "python3"
  },
  "language_info": {
   "codemirror_mode": {
    "name": "ipython",
    "version": 3
   },
   "file_extension": ".py",
   "mimetype": "text/x-python",
   "name": "python",
   "nbconvert_exporter": "python",
   "pygments_lexer": "ipython3",
   "version": "3.10.4"
  },
  "orig_nbformat": 4
 },
 "nbformat": 4,
 "nbformat_minor": 2
}
