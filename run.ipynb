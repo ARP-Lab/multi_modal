{
 "cells": [
  {
   "attachments": {},
   "cell_type": "markdown",
   "metadata": {},
   "source": [
    "# Run with Jupyter Notebook"
   ]
  },
  {
   "attachments": {},
   "cell_type": "markdown",
   "metadata": {},
   "source": [
    "## 1. init"
   ]
  },
  {
   "cell_type": "code",
   "execution_count": null,
   "metadata": {},
   "outputs": [],
   "source": [
    "from preprocessing.pp import PreProcessing\n",
    "\n",
    "from model.AudioTextProcessor import AudioTextProcessor\n",
    "from model.TimeSeriesProcessor import TimeSeriesProcessor\n",
    "\n",
    "from model.ModelExec import ModelExec"
   ]
  },
  {
   "attachments": {},
   "cell_type": "markdown",
   "metadata": {},
   "source": [
    "## 2. Data Pre-Processing"
   ]
  },
  {
   "attachments": {},
   "cell_type": "markdown",
   "metadata": {},
   "source": [
    "* 유의할 점\n",
    "    - 대략 30분 정도 걸립니다."
   ]
  },
  {
   "cell_type": "code",
   "execution_count": null,
   "metadata": {},
   "outputs": [],
   "source": [
    "_pp = PreProcessing()\n",
    "_pp.organize_data(root=\"./data\")"
   ]
  },
  {
   "attachments": {},
   "cell_type": "markdown",
   "metadata": {},
   "source": [
    "## 3. Make Data"
   ]
  },
  {
   "attachments": {},
   "cell_type": "markdown",
   "metadata": {},
   "source": [
    "* 유의할 점\n",
    "    - 대략 3시간 정도 걸립니다."
   ]
  },
  {
   "cell_type": "code",
   "execution_count": null,
   "metadata": {},
   "outputs": [],
   "source": [
    "_atp = AudioTextProcessor()\n",
    "_tsp = TimeSeriesProcessor()\n",
    "\n",
    "emb_data_19 = _atp.make_data(year=19)\n",
    "emb_data_20 = _atp.make_data(year=20)\n",
    "anno_data_19 = _tsp.make_data(year=19)\n",
    "anno_data_20 = _tsp.make_data(year=20)"
   ]
  },
  {
   "attachments": {},
   "cell_type": "markdown",
   "metadata": {},
   "source": [
    "## 4. Run"
   ]
  },
  {
   "cell_type": "code",
   "execution_count": null,
   "metadata": {},
   "outputs": [],
   "source": [
    "_me = ModelExec()\n",
    "_me.proc(emb_data_19, emb_data_20, anno_data_19, anno_data_20)"
   ]
  }
 ],
 "metadata": {
  "kernelspec": {
   "display_name": ".venv",
   "language": "python",
   "name": "python3"
  },
  "language_info": {
   "name": "python",
   "version": "3.10.4"
  },
  "orig_nbformat": 4
 },
 "nbformat": 4,
 "nbformat_minor": 2
}
