{
 "cells": [
  {
   "cell_type": "code",
   "execution_count": 2,
   "metadata": {},
   "outputs": [],
   "source": [
    "import pandas as pd\n",
    "import numpy as np\n",
    "from glob import glob"
   ]
  },
  {
   "cell_type": "code",
   "execution_count": 6,
   "metadata": {},
   "outputs": [
    {
     "data": {
      "text/plain": [
       "['./KEMDy20/annotation/Sess01_eval.csv',\n",
       " './KEMDy20/annotation/Sess02_eval.csv',\n",
       " './KEMDy20/annotation/Sess03_eval.csv']"
      ]
     },
     "execution_count": 6,
     "metadata": {},
     "output_type": "execute_result"
    }
   ],
   "source": [
    "annot_file_lst = glob('./KEMDy20/annotation/*.csv')\n",
    "annot_file_lst = sorted(session_file_lst)\n",
    "annot_file_lst[:3]"
   ]
  },
  {
   "cell_type": "code",
   "execution_count": 15,
   "metadata": {},
   "outputs": [
    {
     "data": {
      "text/plain": [
       "<pandas.core.strings.accessor.StringMethods at 0x7f85b3ff2440>"
      ]
     },
     "execution_count": 15,
     "metadata": {},
     "output_type": "execute_result"
    }
   ],
   "source": [
    "file_lst['Session01'].str."
   ]
  },
  {
   "cell_type": "code",
   "execution_count": 14,
   "metadata": {},
   "outputs": [
    {
     "data": {
      "text/plain": [
       "{'Session01': 0      Sess01_script01_User002M_001\n",
       " 1      Sess01_script01_User002M_002\n",
       " 2      Sess01_script01_User002M_003\n",
       " 3      Sess01_script01_User002M_004\n",
       " 4      Sess01_script01_User001F_001\n",
       "                    ...             \n",
       " 306    Sess01_script06_User001F_016\n",
       " 307    Sess01_script06_User002M_041\n",
       " 308    Sess01_script06_User002M_042\n",
       " 309    Sess01_script06_User002M_043\n",
       " 310    Sess01_script06_User001F_017\n",
       " Name:  .1, Length: 311, dtype: object}"
      ]
     },
     "execution_count": 14,
     "metadata": {},
     "output_type": "execute_result"
    }
   ],
   "source": [
    "# session 1만 해보기\n",
    "# for i in annot_file_lst:\n",
    "#     file_lst = pd.read_csv(i, skiprows = 1)[' .1']\n",
    "import re\n",
    "\n",
    "file_lst = {}\n",
    "file_lst['Session01'] = {}\n",
    "file_lst['Session01'] = pd.read_csv(annot_file_lst[0], skiprows = 1)[' .1']\n",
    "file_lst['Session01']['EDA'] = file_lst['Session01'].str"
   ]
  }
 ],
 "metadata": {
  "kernelspec": {
   "display_name": ".venv",
   "language": "python",
   "name": "python3"
  },
  "language_info": {
   "codemirror_mode": {
    "name": "ipython",
    "version": 3
   },
   "file_extension": ".py",
   "mimetype": "text/x-python",
   "name": "python",
   "nbconvert_exporter": "python",
   "pygments_lexer": "ipython3",
   "version": "3.10.4"
  },
  "orig_nbformat": 4,
  "vscode": {
   "interpreter": {
    "hash": "bdc1fd12ca460d5768d71e9df3d9063ef832ce64a62e55a1a523c8c99752868e"
   }
  }
 },
 "nbformat": 4,
 "nbformat_minor": 2
}
